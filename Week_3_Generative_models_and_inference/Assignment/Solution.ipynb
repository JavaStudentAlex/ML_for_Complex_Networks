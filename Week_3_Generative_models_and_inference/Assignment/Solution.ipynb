{
 "cells": [
  {
   "attachments": {},
   "cell_type": "markdown",
   "metadata": {
    "pycharm": {
     "name": "#%% md\n"
    }
   },
   "source": [
    "## 1. Molloy-Reed model"
   ]
  },
  {
   "attachments": {},
   "cell_type": "markdown",
   "metadata": {
    "pycharm": {
     "name": "#%% md\n"
    }
   },
   "source": [
    "### (a) Given a random microstate generated based on the configuration model with degree distribution P(k), consider a random a random node v and followe a edge to a neighbour v of node v. What is the probability that node w has degree k?"
   ]
  },
  {
   "attachments": {},
   "cell_type": "markdown",
   "metadata": {
    "pycharm": {
     "name": "#%% md\n"
    }
   },
   "source": [
    "So we choose the arbitrary node from the network, follow one of the links and check the chance that the degree of the successor node will be k. First of all the degree distribution will not be $P(k)$ because that $\\langle k_{n} \\rangle \\geq 1$.\n",
    "So, we have randomly chosen a node and stub on it to start the link to the neighbour. The probability to come to the node with $k$ degree is $\\frac{k}{2m - 1}$. At the same time the degree distribution is calculated by formula: $P(k) = \\frac{n_{k}}{n}$, where $n_{k}$ - number of nodes with with $k$ degree. So, $n_{k} = P(k)n$. So, the chance to come to the node with $k$ degree is:\n",
    "$$P_{n}(k) = \\frac{k}{2m - 1} np_{k}$$\n",
    "At the same time for $n \\rightarrow \\infty$ we can neglect $-1$ in formula and simplify it:\n",
    "$$P_{n}(k) = \\frac{k}{2m}nP(k) = \\frac{kP(k)}{\\frac{2m}{n}} = \\frac{kP(k)}{\\langle k \\rangle}$$"
   ]
  },
  {
   "attachments": {},
   "cell_type": "markdown",
   "metadata": {
    "pycharm": {
     "name": "#%% md\n"
    }
   },
   "source": [
    "### (b) Using the expression obtained above compute the expected degree of the neighbours of a random node v. What do we see when calculate the difference between the expected degree of a random node and the expected degree of a random neighbout of such a node?"
   ]
  },
  {
   "attachments": {},
   "cell_type": "markdown",
   "metadata": {
    "pycharm": {
     "name": "#%% md\n"
    }
   },
   "source": [
    "The formula for calculating the mean degree:\n",
    "$$\\langle k \\rangle = \\sum_{k = 0}^{\\infty}kP(k)$$\n",
    "\n",
    "For the neighbour degree we can use previously discovered formula:\n",
    "$$P_{n}(k) = \\frac{kP(k)}{\\langle k \\rangle}$$\n",
    "$$\\langle k_{n} \\rangle = \\sum_{k = 0}^{\\infty} kP_{n}(k) = \\frac{\\sum_{k = 0}^{\\infty} k^{2} P(k)}{\\langle k \\rangle} = \\frac{\\langle k^{2} \\rangle}{\\langle k \\rangle}$$\n",
    "\n",
    "The difference:\n",
    "$$\\langle k_{n} \\rangle - \\langle k \\rangle = \\frac{\\langle k^{2} \\rangle}{\\langle k \\rangle} - \\langle k \\rangle = \\frac{\\langle k^{2} \\rangle - \\langle k \\rangle^{2}}{\\langle k \\rangle} = \\frac{Var(k)}{\\langle k \\rangle} \\geq 0$$\n",
    " It is called **Friendship paradox**"
   ]
  },
  {
   "attachments": {},
   "cell_type": "markdown",
   "metadata": {
    "pycharm": {
     "name": "#%% md\n"
    }
   },
   "source": [
    "### (c) Often, rather than the degree of a node at the end of an edge, we are interested in the number of edges attached to the node other than the one we arrived through. This number is called the excess degree of a node. What is the probability that the node at which you arrive has excess degree k?"
   ]
  },
  {
   "attachments": {},
   "cell_type": "markdown",
   "metadata": {
    "pycharm": {
     "name": "#%% md\n"
    }
   },
   "source": [
    "Access degree of the node is the usual neighbour degree without one more edge. So the node with $k$ excess degree will have $k + 1$ degree. So the probability is:\n",
    "$$Q(k) = \\frac{(k + 1)P(k +1)}{\\langle k \\rangle}$$"
   ]
  },
  {
   "attachments": {},
   "cell_type": "markdown",
   "metadata": {
    "pycharm": {
     "name": "#%% md\n"
    }
   },
   "source": [
    "### (d) Consider a Molloy-Reed model with no self-loops and where we allowe for the craetion of multiple edges between a single pair of nodes. What is the probability that two nodes v and w with degrees dv and dw are connected?"
   ]
  },
  {
   "attachments": {},
   "cell_type": "markdown",
   "metadata": {
    "pycharm": {
     "name": "#%% md\n"
    }
   },
   "source": [
    "So we start from the node we and need to calculate probability of the link between these two nodes. The v node has dv stubs and the w node has dw stubs. There are 2m stubs in the graph exclusing 1 stub already busy in the v node. So the probability that node in the same time will choose one stub from v and one stub from w nodes is:\n",
    "\n",
    "$$p_{v,w} = d_{v} * d_{w} / (2m - 1)$$\n",
    "\n",
    "But for the big m we can ignore -1 and the formula is:\n",
    "\n",
    "$$p_{v,w} = d_{v} * d_{w} / 2m$$"
   ]
  },
  {
   "attachments": {},
   "cell_type": "markdown",
   "metadata": {
    "pycharm": {
     "name": "#%% md\n"
    }
   },
   "source": [
    "## 2. Inference and Statistical Ensembles "
   ]
  },
  {
   "attachments": {},
   "cell_type": "markdown",
   "metadata": {
    "pycharm": {
     "name": "#%% md\n"
    }
   },
   "source": [
    "### (a) Consider the G(n, p) model for undirected random graphs with no self-lops. Show that for a given network Ge with n nodes and m links, a maximum likelihood estimate of parameter is given as\n",
    "$$\\hat p = m / (\\binom{n}{2})$$"
   ]
  },
  {
   "cell_type": "code",
   "execution_count": 2,
   "metadata": {
    "collapsed": false,
    "pycharm": {
     "name": "#%%\n"
    }
   },
   "outputs": [
    {
     "data": {
      "text/html": [
       "\n",
       "    <script charset=\"utf-8\">\n",
       "    // Load via requireJS if available (jupyter notebook environment)\n",
       "    try {\n",
       "    require.config({\n",
       "    paths: {\n",
       "    d3: \"https://d3js.org/d3.v5.min.js\".replace(\".js\", \"\")\n",
       "    }\n",
       "    });\n",
       "    console.log(\"OKAY: requireJS was detected\");\n",
       "    }\n",
       "    catch(err){\n",
       "    console.log(err);\n",
       "    console.log(\"ERROR: NO requireJS was detected\");\n",
       "    };\n",
       "    require(['d3'], function(d3){\n",
       "    console.log(\"OKAY: d3js was detected\");\n",
       "    });\n",
       "    </script>\n",
       "    "
      ],
      "text/plain": [
       "<IPython.core.display.HTML object>"
      ]
     },
     "metadata": {},
     "output_type": "display_data"
    }
   ],
   "source": [
    "from typing import Set\n",
    "from tqdm import tqdm\n",
    "from itertools import product\n",
    "from collections import defaultdict\n",
    "\n",
    "import scipy as sp\n",
    "import numpy as np\n",
    "import pandas as pd\n",
    "import pathpy as pp\n",
    "import seaborn as sns\n",
    "import plotly.express as px\n",
    "from scipy.spatial import KDTree\n",
    "from matplotlib import pyplot as plt\n",
    "from sklearn.datasets import make_moons\n",
    "\n",
    "plt.style.use('default')\n",
    "sns.set_style(\"whitegrid\")"
   ]
  },
  {
   "cell_type": "code",
   "execution_count": 3,
   "metadata": {
    "collapsed": false,
    "pycharm": {
     "name": "#%%\n"
    }
   },
   "outputs": [],
   "source": [
    "n_range = np.arange(20, 120, 20)\n",
    "p_range = np.arange(0.1, 1.0, 0.1)"
   ]
  },
  {
   "cell_type": "code",
   "execution_count": 4,
   "metadata": {},
   "outputs": [
    {
     "name": "stderr",
     "output_type": "stream",
     "text": [
      "45it [00:19,  2.28it/s]\n"
     ]
    }
   ],
   "source": [
    "measuremenst = []\n",
    "\n",
    "for n, p in tqdm(product(n_range, p_range)):\n",
    "    network = pp.generators.ER_np(n=n, p=p, directed=False)\n",
    "    m = len(network.edges)\n",
    "    calculated_p = m / sp.special.binom(n, 2)\n",
    "    measuremenst.append((n, m, p, calculated_p, np.abs(calculated_p - p)))"
   ]
  },
  {
   "cell_type": "code",
   "execution_count": 5,
   "metadata": {
    "collapsed": false,
    "pycharm": {
     "name": "#%%\n"
    }
   },
   "outputs": [
    {
     "data": {
      "text/html": [
       "<div>\n",
       "<style scoped>\n",
       "    .dataframe tbody tr th:only-of-type {\n",
       "        vertical-align: middle;\n",
       "    }\n",
       "\n",
       "    .dataframe tbody tr th {\n",
       "        vertical-align: top;\n",
       "    }\n",
       "\n",
       "    .dataframe thead th {\n",
       "        text-align: right;\n",
       "    }\n",
       "</style>\n",
       "<table border=\"1\" class=\"dataframe\">\n",
       "  <thead>\n",
       "    <tr style=\"text-align: right;\">\n",
       "      <th></th>\n",
       "      <th>n nodes</th>\n",
       "      <th>m links</th>\n",
       "      <th>p</th>\n",
       "      <th>p^</th>\n",
       "      <th>p delta</th>\n",
       "    </tr>\n",
       "  </thead>\n",
       "  <tbody>\n",
       "    <tr>\n",
       "      <th>0</th>\n",
       "      <td>20</td>\n",
       "      <td>17</td>\n",
       "      <td>0.1</td>\n",
       "      <td>0.089474</td>\n",
       "      <td>0.010526</td>\n",
       "    </tr>\n",
       "    <tr>\n",
       "      <th>1</th>\n",
       "      <td>20</td>\n",
       "      <td>47</td>\n",
       "      <td>0.2</td>\n",
       "      <td>0.247368</td>\n",
       "      <td>0.047368</td>\n",
       "    </tr>\n",
       "    <tr>\n",
       "      <th>2</th>\n",
       "      <td>20</td>\n",
       "      <td>75</td>\n",
       "      <td>0.3</td>\n",
       "      <td>0.394737</td>\n",
       "      <td>0.094737</td>\n",
       "    </tr>\n",
       "    <tr>\n",
       "      <th>3</th>\n",
       "      <td>20</td>\n",
       "      <td>83</td>\n",
       "      <td>0.4</td>\n",
       "      <td>0.436842</td>\n",
       "      <td>0.036842</td>\n",
       "    </tr>\n",
       "    <tr>\n",
       "      <th>4</th>\n",
       "      <td>20</td>\n",
       "      <td>91</td>\n",
       "      <td>0.5</td>\n",
       "      <td>0.478947</td>\n",
       "      <td>0.021053</td>\n",
       "    </tr>\n",
       "    <tr>\n",
       "      <th>5</th>\n",
       "      <td>20</td>\n",
       "      <td>109</td>\n",
       "      <td>0.6</td>\n",
       "      <td>0.573684</td>\n",
       "      <td>0.026316</td>\n",
       "    </tr>\n",
       "    <tr>\n",
       "      <th>6</th>\n",
       "      <td>20</td>\n",
       "      <td>137</td>\n",
       "      <td>0.7</td>\n",
       "      <td>0.721053</td>\n",
       "      <td>0.021053</td>\n",
       "    </tr>\n",
       "    <tr>\n",
       "      <th>7</th>\n",
       "      <td>20</td>\n",
       "      <td>148</td>\n",
       "      <td>0.8</td>\n",
       "      <td>0.778947</td>\n",
       "      <td>0.021053</td>\n",
       "    </tr>\n",
       "    <tr>\n",
       "      <th>8</th>\n",
       "      <td>20</td>\n",
       "      <td>165</td>\n",
       "      <td>0.9</td>\n",
       "      <td>0.868421</td>\n",
       "      <td>0.031579</td>\n",
       "    </tr>\n",
       "    <tr>\n",
       "      <th>9</th>\n",
       "      <td>40</td>\n",
       "      <td>88</td>\n",
       "      <td>0.1</td>\n",
       "      <td>0.112821</td>\n",
       "      <td>0.012821</td>\n",
       "    </tr>\n",
       "    <tr>\n",
       "      <th>10</th>\n",
       "      <td>40</td>\n",
       "      <td>152</td>\n",
       "      <td>0.2</td>\n",
       "      <td>0.194872</td>\n",
       "      <td>0.005128</td>\n",
       "    </tr>\n",
       "    <tr>\n",
       "      <th>11</th>\n",
       "      <td>40</td>\n",
       "      <td>237</td>\n",
       "      <td>0.3</td>\n",
       "      <td>0.303846</td>\n",
       "      <td>0.003846</td>\n",
       "    </tr>\n",
       "    <tr>\n",
       "      <th>12</th>\n",
       "      <td>40</td>\n",
       "      <td>309</td>\n",
       "      <td>0.4</td>\n",
       "      <td>0.396154</td>\n",
       "      <td>0.003846</td>\n",
       "    </tr>\n",
       "    <tr>\n",
       "      <th>13</th>\n",
       "      <td>40</td>\n",
       "      <td>391</td>\n",
       "      <td>0.5</td>\n",
       "      <td>0.501282</td>\n",
       "      <td>0.001282</td>\n",
       "    </tr>\n",
       "    <tr>\n",
       "      <th>14</th>\n",
       "      <td>40</td>\n",
       "      <td>445</td>\n",
       "      <td>0.6</td>\n",
       "      <td>0.570513</td>\n",
       "      <td>0.029487</td>\n",
       "    </tr>\n",
       "    <tr>\n",
       "      <th>15</th>\n",
       "      <td>40</td>\n",
       "      <td>531</td>\n",
       "      <td>0.7</td>\n",
       "      <td>0.680769</td>\n",
       "      <td>0.019231</td>\n",
       "    </tr>\n",
       "    <tr>\n",
       "      <th>16</th>\n",
       "      <td>40</td>\n",
       "      <td>608</td>\n",
       "      <td>0.8</td>\n",
       "      <td>0.779487</td>\n",
       "      <td>0.020513</td>\n",
       "    </tr>\n",
       "    <tr>\n",
       "      <th>17</th>\n",
       "      <td>40</td>\n",
       "      <td>708</td>\n",
       "      <td>0.9</td>\n",
       "      <td>0.907692</td>\n",
       "      <td>0.007692</td>\n",
       "    </tr>\n",
       "    <tr>\n",
       "      <th>18</th>\n",
       "      <td>60</td>\n",
       "      <td>184</td>\n",
       "      <td>0.1</td>\n",
       "      <td>0.103955</td>\n",
       "      <td>0.003955</td>\n",
       "    </tr>\n",
       "    <tr>\n",
       "      <th>19</th>\n",
       "      <td>60</td>\n",
       "      <td>347</td>\n",
       "      <td>0.2</td>\n",
       "      <td>0.196045</td>\n",
       "      <td>0.003955</td>\n",
       "    </tr>\n",
       "    <tr>\n",
       "      <th>20</th>\n",
       "      <td>60</td>\n",
       "      <td>546</td>\n",
       "      <td>0.3</td>\n",
       "      <td>0.308475</td>\n",
       "      <td>0.008475</td>\n",
       "    </tr>\n",
       "    <tr>\n",
       "      <th>21</th>\n",
       "      <td>60</td>\n",
       "      <td>710</td>\n",
       "      <td>0.4</td>\n",
       "      <td>0.401130</td>\n",
       "      <td>0.001130</td>\n",
       "    </tr>\n",
       "    <tr>\n",
       "      <th>22</th>\n",
       "      <td>60</td>\n",
       "      <td>848</td>\n",
       "      <td>0.5</td>\n",
       "      <td>0.479096</td>\n",
       "      <td>0.020904</td>\n",
       "    </tr>\n",
       "    <tr>\n",
       "      <th>23</th>\n",
       "      <td>60</td>\n",
       "      <td>1060</td>\n",
       "      <td>0.6</td>\n",
       "      <td>0.598870</td>\n",
       "      <td>0.001130</td>\n",
       "    </tr>\n",
       "    <tr>\n",
       "      <th>24</th>\n",
       "      <td>60</td>\n",
       "      <td>1232</td>\n",
       "      <td>0.7</td>\n",
       "      <td>0.696045</td>\n",
       "      <td>0.003955</td>\n",
       "    </tr>\n",
       "    <tr>\n",
       "      <th>25</th>\n",
       "      <td>60</td>\n",
       "      <td>1427</td>\n",
       "      <td>0.8</td>\n",
       "      <td>0.806215</td>\n",
       "      <td>0.006215</td>\n",
       "    </tr>\n",
       "    <tr>\n",
       "      <th>26</th>\n",
       "      <td>60</td>\n",
       "      <td>1582</td>\n",
       "      <td>0.9</td>\n",
       "      <td>0.893785</td>\n",
       "      <td>0.006215</td>\n",
       "    </tr>\n",
       "    <tr>\n",
       "      <th>27</th>\n",
       "      <td>80</td>\n",
       "      <td>338</td>\n",
       "      <td>0.1</td>\n",
       "      <td>0.106962</td>\n",
       "      <td>0.006962</td>\n",
       "    </tr>\n",
       "    <tr>\n",
       "      <th>28</th>\n",
       "      <td>80</td>\n",
       "      <td>654</td>\n",
       "      <td>0.2</td>\n",
       "      <td>0.206962</td>\n",
       "      <td>0.006962</td>\n",
       "    </tr>\n",
       "    <tr>\n",
       "      <th>29</th>\n",
       "      <td>80</td>\n",
       "      <td>958</td>\n",
       "      <td>0.3</td>\n",
       "      <td>0.303165</td>\n",
       "      <td>0.003165</td>\n",
       "    </tr>\n",
       "    <tr>\n",
       "      <th>30</th>\n",
       "      <td>80</td>\n",
       "      <td>1248</td>\n",
       "      <td>0.4</td>\n",
       "      <td>0.394937</td>\n",
       "      <td>0.005063</td>\n",
       "    </tr>\n",
       "    <tr>\n",
       "      <th>31</th>\n",
       "      <td>80</td>\n",
       "      <td>1588</td>\n",
       "      <td>0.5</td>\n",
       "      <td>0.502532</td>\n",
       "      <td>0.002532</td>\n",
       "    </tr>\n",
       "    <tr>\n",
       "      <th>32</th>\n",
       "      <td>80</td>\n",
       "      <td>1912</td>\n",
       "      <td>0.6</td>\n",
       "      <td>0.605063</td>\n",
       "      <td>0.005063</td>\n",
       "    </tr>\n",
       "    <tr>\n",
       "      <th>33</th>\n",
       "      <td>80</td>\n",
       "      <td>2198</td>\n",
       "      <td>0.7</td>\n",
       "      <td>0.695570</td>\n",
       "      <td>0.004430</td>\n",
       "    </tr>\n",
       "    <tr>\n",
       "      <th>34</th>\n",
       "      <td>80</td>\n",
       "      <td>2505</td>\n",
       "      <td>0.8</td>\n",
       "      <td>0.792722</td>\n",
       "      <td>0.007278</td>\n",
       "    </tr>\n",
       "    <tr>\n",
       "      <th>35</th>\n",
       "      <td>80</td>\n",
       "      <td>2852</td>\n",
       "      <td>0.9</td>\n",
       "      <td>0.902532</td>\n",
       "      <td>0.002532</td>\n",
       "    </tr>\n",
       "    <tr>\n",
       "      <th>36</th>\n",
       "      <td>100</td>\n",
       "      <td>497</td>\n",
       "      <td>0.1</td>\n",
       "      <td>0.100404</td>\n",
       "      <td>0.000404</td>\n",
       "    </tr>\n",
       "    <tr>\n",
       "      <th>37</th>\n",
       "      <td>100</td>\n",
       "      <td>962</td>\n",
       "      <td>0.2</td>\n",
       "      <td>0.194343</td>\n",
       "      <td>0.005657</td>\n",
       "    </tr>\n",
       "    <tr>\n",
       "      <th>38</th>\n",
       "      <td>100</td>\n",
       "      <td>1462</td>\n",
       "      <td>0.3</td>\n",
       "      <td>0.295354</td>\n",
       "      <td>0.004646</td>\n",
       "    </tr>\n",
       "    <tr>\n",
       "      <th>39</th>\n",
       "      <td>100</td>\n",
       "      <td>2028</td>\n",
       "      <td>0.4</td>\n",
       "      <td>0.409697</td>\n",
       "      <td>0.009697</td>\n",
       "    </tr>\n",
       "    <tr>\n",
       "      <th>40</th>\n",
       "      <td>100</td>\n",
       "      <td>2491</td>\n",
       "      <td>0.5</td>\n",
       "      <td>0.503232</td>\n",
       "      <td>0.003232</td>\n",
       "    </tr>\n",
       "    <tr>\n",
       "      <th>41</th>\n",
       "      <td>100</td>\n",
       "      <td>2988</td>\n",
       "      <td>0.6</td>\n",
       "      <td>0.603636</td>\n",
       "      <td>0.003636</td>\n",
       "    </tr>\n",
       "    <tr>\n",
       "      <th>42</th>\n",
       "      <td>100</td>\n",
       "      <td>3430</td>\n",
       "      <td>0.7</td>\n",
       "      <td>0.692929</td>\n",
       "      <td>0.007071</td>\n",
       "    </tr>\n",
       "    <tr>\n",
       "      <th>43</th>\n",
       "      <td>100</td>\n",
       "      <td>3964</td>\n",
       "      <td>0.8</td>\n",
       "      <td>0.800808</td>\n",
       "      <td>0.000808</td>\n",
       "    </tr>\n",
       "    <tr>\n",
       "      <th>44</th>\n",
       "      <td>100</td>\n",
       "      <td>4464</td>\n",
       "      <td>0.9</td>\n",
       "      <td>0.901818</td>\n",
       "      <td>0.001818</td>\n",
       "    </tr>\n",
       "  </tbody>\n",
       "</table>\n",
       "</div>"
      ],
      "text/plain": [
       "    n nodes  m links    p        p^   p delta\n",
       "0        20       17  0.1  0.089474  0.010526\n",
       "1        20       47  0.2  0.247368  0.047368\n",
       "2        20       75  0.3  0.394737  0.094737\n",
       "3        20       83  0.4  0.436842  0.036842\n",
       "4        20       91  0.5  0.478947  0.021053\n",
       "5        20      109  0.6  0.573684  0.026316\n",
       "6        20      137  0.7  0.721053  0.021053\n",
       "7        20      148  0.8  0.778947  0.021053\n",
       "8        20      165  0.9  0.868421  0.031579\n",
       "9        40       88  0.1  0.112821  0.012821\n",
       "10       40      152  0.2  0.194872  0.005128\n",
       "11       40      237  0.3  0.303846  0.003846\n",
       "12       40      309  0.4  0.396154  0.003846\n",
       "13       40      391  0.5  0.501282  0.001282\n",
       "14       40      445  0.6  0.570513  0.029487\n",
       "15       40      531  0.7  0.680769  0.019231\n",
       "16       40      608  0.8  0.779487  0.020513\n",
       "17       40      708  0.9  0.907692  0.007692\n",
       "18       60      184  0.1  0.103955  0.003955\n",
       "19       60      347  0.2  0.196045  0.003955\n",
       "20       60      546  0.3  0.308475  0.008475\n",
       "21       60      710  0.4  0.401130  0.001130\n",
       "22       60      848  0.5  0.479096  0.020904\n",
       "23       60     1060  0.6  0.598870  0.001130\n",
       "24       60     1232  0.7  0.696045  0.003955\n",
       "25       60     1427  0.8  0.806215  0.006215\n",
       "26       60     1582  0.9  0.893785  0.006215\n",
       "27       80      338  0.1  0.106962  0.006962\n",
       "28       80      654  0.2  0.206962  0.006962\n",
       "29       80      958  0.3  0.303165  0.003165\n",
       "30       80     1248  0.4  0.394937  0.005063\n",
       "31       80     1588  0.5  0.502532  0.002532\n",
       "32       80     1912  0.6  0.605063  0.005063\n",
       "33       80     2198  0.7  0.695570  0.004430\n",
       "34       80     2505  0.8  0.792722  0.007278\n",
       "35       80     2852  0.9  0.902532  0.002532\n",
       "36      100      497  0.1  0.100404  0.000404\n",
       "37      100      962  0.2  0.194343  0.005657\n",
       "38      100     1462  0.3  0.295354  0.004646\n",
       "39      100     2028  0.4  0.409697  0.009697\n",
       "40      100     2491  0.5  0.503232  0.003232\n",
       "41      100     2988  0.6  0.603636  0.003636\n",
       "42      100     3430  0.7  0.692929  0.007071\n",
       "43      100     3964  0.8  0.800808  0.000808\n",
       "44      100     4464  0.9  0.901818  0.001818"
      ]
     },
     "execution_count": 5,
     "metadata": {},
     "output_type": "execute_result"
    }
   ],
   "source": [
    "df = pd.DataFrame.from_records(\n",
    "    measuremenst,\n",
    "    columns=[\"n nodes\", \"m links\", \"p\", \"p^\", \"p delta\"]\n",
    ")\n",
    "df"
   ]
  },
  {
   "attachments": {},
   "cell_type": "markdown",
   "metadata": {},
   "source": [
    "As you see the delta between real p and calculated p is very small that is why the calculated value of p is close to predefined p value."
   ]
  },
  {
   "attachments": {},
   "cell_type": "markdown",
   "metadata": {},
   "source": [
    "From anther facet lets consider the G(n, m) model with n nodes and m generated links. For the undirected graph with no self-lops the maximum number of possible links is $\\binom{n}{2}$. So the probability of the link is \n",
    "\n",
    "$$p = m / \\binom{n}{2}$$\n",
    "\n",
    "As you see the formula is identical to the formula in the task."
   ]
  },
  {
   "attachments": {},
   "cell_type": "markdown",
   "metadata": {},
   "source": [
    "The analytical part:\n",
    "$$\n",
    "\\begin{align*}\n",
    "\\mathcal{L}(\\Theta | G) &= P(G | \\Theta) = \\\\\n",
    "&= P(G) = \\\\\n",
    "&= p^m (1 - p)^{\\binom{n}{2} - m} \\\\\n",
    "\n",
    "log \\mathcal{L}(\\Theta) &= m \\log p - \\left( \\binom{n}{2} - m \\right) \\log (1 - p) \\\\\n",
    "\\frac{\\partial{\\mathcal{L}}}{\\partial{p}} &= \\frac{m}{p} - \\frac{\\binom{n}{2} - m}{1 - p} = 0 \\\\\n",
    "\\frac{m}{p} &= \\frac{\\binom{n}{2} - m}{1 - p} \\\\\n",
    "m - mp &= p \\binom{n}{2} - mp \\\\\n",
    "p &= \\frac{m}{\\binom{n}{2}}\n",
    "\\end{align*}\n",
    "$$"
   ]
  },
  {
   "attachments": {},
   "cell_type": "markdown",
   "metadata": {},
   "source": [
    "### (b) Consider the microstates G1 and G2 with n = 100 and m1 = 300 and m2 = 350 edges respectively. What is the probability of these microstate within:  "
   ]
  },
  {
   "attachments": {},
   "cell_type": "markdown",
   "metadata": {},
   "source": [
    "#### - a G(n, p) model with n = 100 and p = 5 / 99? What is the expected number of edges in this model?"
   ]
  },
  {
   "attachments": {},
   "cell_type": "markdown",
   "metadata": {},
   "source": [
    "$$P(G) = \\binom{\\binom{n}{2}}{m} p^m (1 - p)^{\\binom{n}{2} - m}$$"
   ]
  },
  {
   "cell_type": "code",
   "execution_count": 13,
   "metadata": {},
   "outputs": [],
   "source": [
    "def calc_g_n_p_probability(n, m, p):\n",
    "    return sp.special.binom(sp.special.binom(n, 2), m) * p**m * (1 - p)**(sp.special.binom(n, 2) - m)"
   ]
  },
  {
   "cell_type": "code",
   "execution_count": 19,
   "metadata": {},
   "outputs": [
    {
     "name": "stderr",
     "output_type": "stream",
     "text": [
      "/tmp/ipykernel_25395/2774136188.py:2: RuntimeWarning: invalid value encountered in scalar multiply\n",
      "  return sp.special.binom(sp.special.binom(n, 2), m) * p**m * (1 - p)**(sp.special.binom(n, 2) - m)\n"
     ]
    },
    {
     "data": {
      "text/plain": [
       "nan"
      ]
     },
     "execution_count": 19,
     "metadata": {},
     "output_type": "execute_result"
    }
   ],
   "source": [
    "n, m, p = 100, 300, 5/99\n",
    "calc_g_n_p_probability(n, m, p)"
   ]
  },
  {
   "cell_type": "code",
   "execution_count": 20,
   "metadata": {},
   "outputs": [
    {
     "name": "stderr",
     "output_type": "stream",
     "text": [
      "/tmp/ipykernel_25395/2774136188.py:2: RuntimeWarning: invalid value encountered in scalar multiply\n",
      "  return sp.special.binom(sp.special.binom(n, 2), m) * p**m * (1 - p)**(sp.special.binom(n, 2) - m)\n"
     ]
    },
    {
     "data": {
      "text/plain": [
       "nan"
      ]
     },
     "execution_count": 20,
     "metadata": {},
     "output_type": "execute_result"
    }
   ],
   "source": [
    "n, m, p = 100, 350, 5/99\n",
    "calc_g_n_p_probability(n, m, p)"
   ]
  },
  {
   "attachments": {},
   "cell_type": "markdown",
   "metadata": {},
   "source": [
    "#### - a G(n, m) model with n = 100 and m = 300?"
   ]
  },
  {
   "attachments": {},
   "cell_type": "markdown",
   "metadata": {},
   "source": [
    "$$\n",
    "\\begin{align*}\n",
    "P(G_1) &= 1 \\\\\n",
    "P(G_0) &= 0\n",
    "\\end{align*}\n",
    "$$"
   ]
  }
 ],
 "metadata": {
  "interpreter": {
   "hash": "c2b2b72c904d5685e508ac1c269fcc0e24aa7421211b310f55c4b4b8564e2077"
  },
  "kernelspec": {
   "display_name": "Python 3.8.10 ('.venv': poetry)",
   "language": "python",
   "name": "python3"
  },
  "language_info": {
   "codemirror_mode": {
    "name": "ipython",
    "version": 3
   },
   "file_extension": ".py",
   "mimetype": "text/x-python",
   "name": "python",
   "nbconvert_exporter": "python",
   "pygments_lexer": "ipython3",
   "version": "3.10.9"
  },
  "orig_nbformat": 4
 },
 "nbformat": 4,
 "nbformat_minor": 2
}
