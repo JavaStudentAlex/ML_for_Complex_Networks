{
 "cells": [
  {
   "cell_type": "markdown",
   "source": [
    "## 1. Give an example of a walk, path, and cycle in a network?"
   ],
   "metadata": {
    "collapsed": false,
    "pycharm": {
     "name": "#%% md\n"
    }
   }
  },
  {
   "cell_type": "markdown",
   "source": [
    "If we have the network with {a, b, c, d, e, f}. The walk can be {a, b, a, c}. The cycle will be {a, b, a} and the path will be {a, b, c, d}."
   ],
   "metadata": {
    "collapsed": false,
    "pycharm": {
     "name": "#%% md\n"
    }
   }
  },
  {
   "cell_type": "markdown",
   "source": [
    "## 2. Why do the entries of the k -th power of an adjacency matrix count walks of length k?"
   ],
   "metadata": {
    "collapsed": false,
    "pycharm": {
     "name": "#%% md\n"
    }
   }
  },
  {
   "cell_type": "markdown",
   "source": [
    "Let's define the adjacency matrix as the counter of the walks with length 1(exactly direct links). By multiplication A matrices with each other for each sell ij we take ith row and jth column from the same matrix and add multiplied elements. If the elements fulfill transition properties so the path exists and we take one more path with length 2. When we multiply the A * A * A we still get the A ^ 2 as the matrix of walks with length 2 and A as the matrix of walks with length 1. So the same transition property works every multiplication round and at the end in each cell, we get the number of walks with length k from i to j."
   ],
   "metadata": {
    "collapsed": false,
    "pycharm": {
     "name": "#%% md\n"
    }
   }
  },
  {
   "cell_type": "markdown",
   "source": [
    "## 3. Explain how we can use adjacency matrix powers lk=1 A k to compute the diameter of a network?"
   ],
   "metadata": {
    "collapsed": false,
    "pycharm": {
     "name": "#%% md\n"
    }
   }
  },
  {
   "cell_type": "markdown",
   "source": [
    "Each power k of the matrix has in the cell Aij the number of walks from ith to jth node with exactly length k. So if we will take the sum of the matrices we will know at what power the resulting matrix will have no zeros(all nodes are connected) that is why that k is the length of the diameter."
   ],
   "metadata": {
    "collapsed": false,
    "pycharm": {
     "name": "#%% md\n"
    }
   }
  },
  {
   "cell_type": "markdown",
   "source": [
    "## 4. Investigate the DBSCAN algorithm. How are connected components used to detect clusters in Euclidean data?"
   ],
   "metadata": {
    "collapsed": false,
    "pycharm": {
     "name": "#%% md\n"
    }
   }
  },
  {
   "cell_type": "markdown",
   "source": [
    "The DBSCAN algorithm is used for searching clusters in spatial databases with noise. The algorithm can take Eps and MinPts global parameters or they are calculated for the thinnest cluster. The algorithm one by one takes the arbitrary point of the graph and checks it Eps-region. If it has less than MinPts points as neighbors then append it to the list of possible noises. In another way, we start searching for another point that can be reached from this one. If the point also fulfills the condition then recursively repeat an action. If not - it is the border point. After finishing finding all points in the Eps region we extract the cluster."
   ],
   "metadata": {
    "collapsed": false,
    "pycharm": {
     "name": "#%% md\n"
    }
   }
  },
  {
   "cell_type": "markdown",
   "source": [
    "## 5. How is the model selection problem in clustering reflected in the parameters of the DBSCAN algorithm?"
   ],
   "metadata": {
    "collapsed": false,
    "pycharm": {
     "name": "#%% md\n"
    }
   }
  },
  {
   "cell_type": "markdown",
   "source": [
    "Clustering algorithms are usually supposed to have a convex form and they try to define the center of the cluster or point that should approximate the center. In the DBSCAN algorithm, we can find a container with an arbitrary form, and usually, we get the thinnest container. Also, the density of the cluster plays a role."
   ],
   "metadata": {
    "collapsed": false,
    "pycharm": {
     "name": "#%% md\n"
    }
   }
  },
  {
   "cell_type": "markdown",
   "source": [
    "## 6. How is the definition of a community related to edge cuts?"
   ],
   "metadata": {
    "collapsed": false,
    "pycharm": {
     "name": "#%% md\n"
    }
   }
  },
  {
   "cell_type": "markdown",
   "source": [
    "The edge cut is the link that should be removed from the network to convert it into two highly-connected components. Usually, nodes in the community have more connections between each other than between those outside the container. So, the highly connected component in the graph is the community. The more links we need to cut, the more communicative this network is."
   ],
   "metadata": {
    "collapsed": false,
    "pycharm": {
     "name": "#%% md\n"
    }
   }
  },
  {
   "cell_type": "markdown",
   "source": [
    "## 7. Give an example for a network where the sizes of both the minimal vertex and edge cut are k = 5?"
   ],
   "metadata": {
    "collapsed": false,
    "pycharm": {
     "name": "#%% md\n"
    }
   }
  },
  {
   "cell_type": "markdown",
   "source": [
    "The graph with 6 nodes with 5 degrees each."
   ],
   "metadata": {
    "collapsed": false,
    "pycharm": {
     "name": "#%% md\n"
    }
   }
  },
  {
   "cell_type": "markdown",
   "source": [
    "## 8. Give an example of a network with two edge cuts with size two and different normalized cut sizes?"
   ],
   "metadata": {
    "collapsed": false,
    "pycharm": {
     "name": "#%% md\n"
    }
   }
  },
  {
   "cell_type": "markdown",
   "source": [
    "Nothing!!!"
   ],
   "metadata": {
    "collapsed": false,
    "pycharm": {
     "name": "#%% md\n"
    }
   }
  },
  {
   "cell_type": "markdown",
   "source": [
    "## 9. What is the multiplicity of zero in the eigenvalue sequence of the Laplacian for a graph with three connected components?"
   ],
   "metadata": {
    "collapsed": false,
    "pycharm": {
     "name": "#%% md\n"
    }
   }
  },
  {
   "cell_type": "markdown",
   "source": [
    "The number of zeros in the Laplacian matrix eigenvalues is equal to the number of connected components in the graph."
   ],
   "metadata": {
    "collapsed": false,
    "pycharm": {
     "name": "#%% md\n"
    }
   }
  },
  {
   "cell_type": "markdown",
   "source": [
    "## 10. What is the computational complexity of calculating the eigenvalues and eigenvectors of a Laplacian matrix?"
   ],
   "metadata": {
    "collapsed": false,
    "pycharm": {
     "name": "#%% md\n"
    }
   }
  },
  {
   "cell_type": "markdown",
   "source": [
    "O(n ^ 3)"
   ],
   "metadata": {
    "collapsed": false,
    "pycharm": {
     "name": "#%% md\n"
    }
   }
  }
 ],
 "metadata": {
  "kernelspec": {
   "display_name": "Python 3",
   "language": "python",
   "name": "python3"
  },
  "language_info": {
   "codemirror_mode": {
    "name": "ipython",
    "version": 2
   },
   "file_extension": ".py",
   "mimetype": "text/x-python",
   "name": "python",
   "nbconvert_exporter": "python",
   "pygments_lexer": "ipython2",
   "version": "2.7.6"
  }
 },
 "nbformat": 4,
 "nbformat_minor": 0
}