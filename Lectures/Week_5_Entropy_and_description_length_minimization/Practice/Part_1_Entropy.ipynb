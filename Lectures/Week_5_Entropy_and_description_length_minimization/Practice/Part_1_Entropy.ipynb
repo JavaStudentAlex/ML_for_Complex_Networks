{
 "cells": [
  {
   "attachments": {},
   "cell_type": "markdown",
   "metadata": {},
   "source": [
    "# 05-01 - Entropy and Information\n",
    "\n",
    "*May 22 2024*  \n",
    "\n",
    "We implement and explore the entropy of random variables and introduce the Kullback-Leibler divergence between to probability mass functions."
   ]
  },
  {
   "cell_type": "code",
   "execution_count": 1,
   "metadata": {},
   "outputs": [],
   "source": [
    "import numpy as np\n",
    "import seaborn as sns\n",
    "from matplotlib import pyplot as plt\n",
    "import scipy as sp\n",
    "\n",
    "from scipy.special import loggamma\n",
    "from scipy.special import binom\n",
    "\n",
    "plt.style.use('default')\n",
    "sns.set_style(\"whitegrid\")"
   ]
  },
  {
   "cell_type": "code",
   "execution_count": 2,
   "metadata": {},
   "outputs": [],
   "source": [
    "def log2(x):\n",
    "    if x == 0:\n",
    "        return 0\n",
    "    else:\n",
    "        return np.log2(x)\n",
    "\n",
    "def entropy(P):\n",
    "    \"\"\"calculates entropy in bits of a random variable \n",
    "    based on probability mass function P\"\"\"\n",
    "    entropy = 0.0\n",
    "    for x in P:\n",
    "        entropy -= P[x] * log2(P[x])\n",
    "    return entropy"
   ]
  },
  {
   "cell_type": "code",
   "execution_count": 3,
   "metadata": {},
   "outputs": [
    {
     "data": {
      "text/plain": [
       "1.0"
      ]
     },
     "execution_count": 3,
     "metadata": {},
     "output_type": "execute_result"
    }
   ],
   "source": [
    "P = {'Heads': 0.5, 'Tails': 0.5}\n",
    "entropy(P)"
   ]
  },
  {
   "cell_type": "code",
   "execution_count": 4,
   "metadata": {},
   "outputs": [
    {
     "data": {
      "text/plain": [
       "0.0"
      ]
     },
     "execution_count": 4,
     "metadata": {},
     "output_type": "execute_result"
    }
   ],
   "source": [
    "P = {'Heads': 0, 'Tails': 1}\n",
    "entropy(P)"
   ]
  },
  {
   "cell_type": "code",
   "execution_count": 5,
   "metadata": {},
   "outputs": [
    {
     "data": {
      "text/plain": [
       "0.4689955935892812"
      ]
     },
     "execution_count": 5,
     "metadata": {},
     "output_type": "execute_result"
    }
   ],
   "source": [
    "P = {'Heads': 0.1, 'Tails': 0.9}\n",
    "entropy(P)"
   ]
  },
  {
   "cell_type": "code",
   "execution_count": 6,
   "metadata": {},
   "outputs": [
    {
     "data": {
      "text/plain": [
       "Text(0, 0.5, 'H(p)')"
      ]
     },
     "execution_count": 6,
     "metadata": {},
     "output_type": "execute_result"
    },
    {
     "data": {
      "image/png": "[encoded data removed]",
      "text/plain": [
       "<Figure size 640x480 with 1 Axes>"
      ]
     },
     "metadata": {},
     "output_type": "display_data"
    }
   ],
   "source": [
    "entropies = [entropy({'A': p, 'B': 1-p}) for p in np.linspace(0,1,20)]\n",
    "probs = np.linspace(0,1,20)\n",
    "\n",
    "plt.plot(probs, entropies)\n",
    "plt.xlabel('p')\n",
    "plt.ylabel('H(p)')"
   ]
  },
  {
   "attachments": {},
   "cell_type": "markdown",
   "metadata": {},
   "source": [
    "### Relative entropy and Kullback–Leibler divergence\n",
    "\n",
    "As shown above, entropy can be thought as a measure for the expected \"surprise\" if we observe an outcome of a random event, or - equivalently - a measure for our lack of knowledge about the outcome of a random event. In general, our lack of knowledge is maximal if we have no prior knowledge whatsoever about the outcome, which is the case if all outcomes are equally probable. In this case, the entropy simply corresponds to the logarithm of the number of possible outcomes.\n",
    "\n",
    "So far, we have considered the entropy of a single probability distribution. However, we can also consider the entropy of a probability distribution, say $P(k)$, relative to another probability distribution $Q(k)$. The idea is that we want to capture the expected surprise about the outcome of random events with an actual probability distribution $P(k)$, when our model for the outcome of random events is given by $Q(k)$.\n",
    "\n",
    "The relative entropy (also called the Kullback-Leibler divergence) **from Q to P** for a discrete random variable with outcomes $i$ is given as: \n",
    "\n",
    "$$ D_{\\text{KL}}(P \\| Q) := - \\sum_{i} P(i) \\cdot \\log \\frac{Q(i)}{P(i)}$$\n",
    "\n",
    "We can implement it in python as follows:"
   ]
  },
  {
   "cell_type": "code",
   "execution_count": 11,
   "metadata": {},
   "outputs": [],
   "source": [
    "def relative_entropy(P, Q):\n",
    "    relative_ent = 0\n",
    "    for i in range(len(P)):\n",
    "        relative_ent -= P[i] * log2(Q[i]/(P[i] + 1e-10))\n",
    "    return relative_ent"
   ]
  },
  {
   "attachments": {},
   "cell_type": "markdown",
   "metadata": {},
   "source": [
    "Clearly, if $P$ and $Q$ are identical, the expected surprise is zero as the observed outcomes perfectly correspond to our model. "
   ]
  },
  {
   "cell_type": "code",
   "execution_count": 12,
   "metadata": {},
   "outputs": [
    {
     "data": {
      "text/plain": [
       "2.8853903208047116e-10"
      ]
     },
     "execution_count": 12,
     "metadata": {},
     "output_type": "execute_result"
    }
   ],
   "source": [
    "relative_entropy([0.5, 0.5], [0.5, 0.5])"
   ]
  },
  {
   "attachments": {},
   "cell_type": "markdown",
   "metadata": {},
   "source": [
    "If we use a model where the two outcomes are equiprobable ($Q$) but the actual probabilities are strongly concentrated on one of the events, we obtain a relative entropy that is close to one bit."
   ]
  },
  {
   "cell_type": "code",
   "execution_count": 9,
   "metadata": {},
   "outputs": [
    {
     "data": {
      "text/plain": [
       "0.9998194767169819"
      ]
     },
     "execution_count": 9,
     "metadata": {},
     "output_type": "execute_result"
    }
   ],
   "source": [
    "relative_entropy([0.99999, 0.00001], [0.5, 0.5])"
   ]
  },
  {
   "attachments": {},
   "cell_type": "markdown",
   "metadata": {},
   "source": [
    "Note that the relative entropy is not defined if we have $P(i)=0$ while $Q(i)$ is not zero (due to the fraction in the definition)."
   ]
  },
  {
   "cell_type": "code",
   "execution_count": 10,
   "metadata": {},
   "outputs": [
    {
     "ename": "ZeroDivisionError",
     "evalue": "float division by zero",
     "output_type": "error",
     "traceback": [
      "\u001b[0;31m---------------------------------------------------------------------------\u001b[0m",
      "\u001b[0;31mZeroDivisionError\u001b[0m                         Traceback (most recent call last)",
      "Cell \u001b[0;32mIn[10], line 1\u001b[0m\n\u001b[0;32m----> 1\u001b[0m \u001b[43mrelative_entropy\u001b[49m\u001b[43m(\u001b[49m\u001b[43m[\u001b[49m\u001b[38;5;241;43m1\u001b[39;49m\u001b[43m,\u001b[49m\u001b[43m \u001b[49m\u001b[38;5;241;43m0\u001b[39;49m\u001b[43m]\u001b[49m\u001b[43m,\u001b[49m\u001b[43m \u001b[49m\u001b[43m[\u001b[49m\u001b[38;5;241;43m0.5\u001b[39;49m\u001b[43m,\u001b[49m\u001b[43m \u001b[49m\u001b[38;5;241;43m0.5\u001b[39;49m\u001b[43m]\u001b[49m\u001b[43m)\u001b[49m\n",
      "Cell \u001b[0;32mIn[7], line 4\u001b[0m, in \u001b[0;36mrelative_entropy\u001b[0;34m(P, Q)\u001b[0m\n\u001b[1;32m      2\u001b[0m relative_ent \u001b[38;5;241m=\u001b[39m \u001b[38;5;241m0\u001b[39m\n\u001b[1;32m      3\u001b[0m \u001b[38;5;28;01mfor\u001b[39;00m i \u001b[38;5;129;01min\u001b[39;00m \u001b[38;5;28mrange\u001b[39m(\u001b[38;5;28mlen\u001b[39m(P)):\n\u001b[0;32m----> 4\u001b[0m     relative_ent \u001b[38;5;241m-\u001b[39m\u001b[38;5;241m=\u001b[39m P[i] \u001b[38;5;241m*\u001b[39m log2(\u001b[43mQ\u001b[49m\u001b[43m[\u001b[49m\u001b[43mi\u001b[49m\u001b[43m]\u001b[49m\u001b[38;5;241;43m/\u001b[39;49m\u001b[43mP\u001b[49m\u001b[43m[\u001b[49m\u001b[43mi\u001b[49m\u001b[43m]\u001b[49m)\n\u001b[1;32m      5\u001b[0m \u001b[38;5;28;01mreturn\u001b[39;00m relative_ent\n",
      "\u001b[0;31mZeroDivisionError\u001b[0m: float division by zero"
     ]
    }
   ],
   "source": [
    "relative_entropy([1, 0], [0.5, 0.5])"
   ]
  },
  {
   "attachments": {},
   "cell_type": "markdown",
   "metadata": {},
   "source": [
    "We also note that the relative entropy is not symmetric, i.e. we get a different value if we exchange $P$ and $Q$. This can be intuitively understood if we consider that our model for the event is given by $Q$. If our assumption is that one of the two events are almost impossible, our surprisal to actually see this (almost impossible) outcome is much larger than seeing an outcome more often than we would have expected based on a uniform assumption."
   ]
  },
  {
   "cell_type": "code",
   "execution_count": 13,
   "metadata": {},
   "outputs": [
    {
     "data": {
      "text/plain": [
       "7.304827451018217"
      ]
     },
     "execution_count": 13,
     "metadata": {},
     "output_type": "execute_result"
    }
   ],
   "source": [
    "relative_entropy([0.5, 0.5], [0.99999, 0.00001])"
   ]
  },
  {
   "attachments": {},
   "cell_type": "markdown",
   "metadata": {},
   "source": [
    "We can get even larger values if we make the event less likely in our model $Q$."
   ]
  },
  {
   "cell_type": "code",
   "execution_count": 14,
   "metadata": {},
   "outputs": [
    {
     "data": {
      "text/plain": [
       "48.82892142359897"
      ]
     },
     "execution_count": 14,
     "metadata": {},
     "output_type": "execute_result"
    }
   ],
   "source": [
    "relative_entropy([0.5, 0.5], [1-1e-30, 1e-30])"
   ]
  },
  {
   "attachments": {},
   "cell_type": "markdown",
   "metadata": {},
   "source": [
    "### Entropy and Kullback-Leibler Divergence in scipy\n",
    "\n",
    "We can use `scipy.stats.entropy` to compute the (relative) entropy for a given probability mass function. The probability mass function is passed as an array-like object:"
   ]
  },
  {
   "cell_type": "code",
   "execution_count": 15,
   "metadata": {},
   "outputs": [
    {
     "data": {
      "text/plain": [
       "0.6931471805599453"
      ]
     },
     "execution_count": 15,
     "metadata": {},
     "output_type": "execute_result"
    }
   ],
   "source": [
    "sp.stats.entropy([0.5, 0.5])"
   ]
  },
  {
   "attachments": {},
   "cell_type": "markdown",
   "metadata": {},
   "source": [
    "We note that `scipy` uses the natural logarithm for the entropy definition by default, which means that the function returns entropy in the unit `nats` rather than `bits`. We can pass `base=2` to return bits:"
   ]
  },
  {
   "cell_type": "code",
   "execution_count": 16,
   "metadata": {},
   "outputs": [
    {
     "data": {
      "text/plain": [
       "1.0"
      ]
     },
     "execution_count": 16,
     "metadata": {},
     "output_type": "execute_result"
    }
   ],
   "source": [
    "sp.stats.entropy([0.5, 0.5], base=2)"
   ]
  },
  {
   "attachments": {},
   "cell_type": "markdown",
   "metadata": {},
   "source": [
    "We we pass a second array, the entries will be interpreted as probabilities $Q$ and the function returns the relative entropy (Kullback-Leibler divergence) from $Q$ to $P$."
   ]
  },
  {
   "cell_type": "code",
   "execution_count": 17,
   "metadata": {},
   "outputs": [
    {
     "data": {
      "text/plain": [
       "0.9192068641040888"
      ]
     },
     "execution_count": 17,
     "metadata": {},
     "output_type": "execute_result"
    }
   ],
   "source": [
    "sp.stats.entropy([0.99, 0.01], [0.5, 0.5], base=2)"
   ]
  },
  {
   "cell_type": "code",
   "execution_count": 18,
   "metadata": {},
   "outputs": [
    {
     "data": {
      "text/plain": [
       "2.32917787973492"
      ]
     },
     "execution_count": 18,
     "metadata": {},
     "output_type": "execute_result"
    }
   ],
   "source": [
    "sp.stats.entropy([0.5, 0.5], [0.99, 0.01], base=2)"
   ]
  },
  {
   "cell_type": "code",
   "execution_count": null,
   "metadata": {},
   "outputs": [],
   "source": []
  }
 ],
 "metadata": {
  "kernelspec": {
   "display_name": "Python 3 (ipykernel)",
   "language": "python",
   "name": "python3"
  },
  "language_info": {
   "codemirror_mode": {
    "name": "ipython",
    "version": 3
   },
   "file_extension": ".py",
   "mimetype": "text/x-python",
   "name": "python",
   "nbconvert_exporter": "python",
   "pygments_lexer": "ipython3",
   "version": "3.10.14"
  },
  "orig_nbformat": 4,
  "vscode": {
   "interpreter": {
    "hash": "ad2bdc8ecc057115af97d19610ffacc2b4e99fae6737bb82f5d7fb13d2f2c186"
   }
  }
 },
 "nbformat": 4,
 "nbformat_minor": 2
}
