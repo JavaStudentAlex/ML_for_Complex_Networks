{
 "cells": [
  {
   "attachments": {},
   "cell_type": "markdown",
   "metadata": {},
   "source": [
    "# 05-02 - Huffman Coding of symbol sequences\n",
    "\n",
    "*May 22 2024*  \n",
    "\n",
    "We implement a function that generates a Huffman tree and and use it for the lossless compression of symbol sequences. We compare the average per symbol length of compressed sequences with the entropy of the sequence and explore the asymptotic optimality of the Huffman code."
   ]
  },
  {
   "cell_type": "code",
   "execution_count": 1,
   "metadata": {},
   "outputs": [],
   "source": [
    "import numpy as np\n",
    "import seaborn as sns\n",
    "from matplotlib import pyplot as plt\n",
    "\n",
    "import pathpyG as pp\n",
    "import scipy as sp\n",
    "\n",
    "import queue\n",
    "from collections import Counter\n",
    "\n",
    "plt.style.use('default')\n",
    "sns.set_style(\"whitegrid\")"
   ]
  },
  {
   "attachments": {},
   "cell_type": "markdown",
   "metadata": {},
   "source": [
    "In the following, we implement a simple algorithm that constructs a Huffman coding tree for a given sequence of symbols. This algorithm first calculates the frequency of all symbols in the input sequence and adds them to a priority queue, which retrieves the symbol with lowest frequency first. For each symbol that we need to encode, we also add one leaf node to a tree data structure. We then repeatedly remove two nodes with lowest frequency from the priority queue. We add an (internal) node to the tree that points to those two nodes. The two links are labeled with 0 and 1, where 0 is assigned to the link to the node with lower frequency and 1 to the link to the node with higher frequency. We then add the newly constructed internal node to the priority queue, using the combined frequency of the two nodes to which it points as priority. \n",
    "\n",
    "Starting from the leaf nodes, this approach iteratively constructs a coding tree. The algorithm terminates when there is only one node left in the queue, which is the root of the tree.\n",
    "\n",
    "Our implementation below uses `pathpy` to generate the coding tree, which has the advantage that we can nicely visualize the output:"
   ]
  },
  {
   "cell_type": "code",
   "execution_count": 2,
   "metadata": {},
   "outputs": [],
   "source": [
    "def huffman_tree(sequence):\n",
    "\n",
    "    counts = Counter(sequence).most_common()\n",
    "    seq_length = len(sequence)\n",
    "\n",
    "    # symbols with lowest frequency have highest priority\n",
    "    q = queue.PriorityQueue()\n",
    "    \n",
    "    labels = {}\n",
    "    node_type = {}\n",
    "    for (symbol, count) in counts:\n",
    "        # create leaf nodes and add to queue\n",
    "        labels[symbol]='{0} / {1:.3f}'.format(symbol, count/seq_length)\n",
    "        q.put((count, symbol))\n",
    "        node_type[symbol] = 'leaf'        \n",
    "    # Create huffman tree\n",
    "    i = 0\n",
    "    \n",
    "    edges = []\n",
    "    edge_symbols = []\n",
    "    \n",
    "    while q.qsize()>1:\n",
    "\n",
    "        # retrieve two symbols with minimal frequency\n",
    "        left = q.get()\n",
    "        right = q.get()\n",
    "\n",
    "        total_frequency = left[0] + right[0]\n",
    "\n",
    "        # create internal node v with total frequency as label\n",
    "        v = 'n_' + str(i)\n",
    "        label = '{:.2f}'.format(total_frequency/seq_length)\n",
    "        labels[v] = label\n",
    "        node_type[v] = 'internal'\n",
    "        edges.append((v,left[1]))\n",
    "        edge_symbols.append('0')\n",
    "        edges.append((v,right[1]))\n",
    "        edge_symbols.append('1')\n",
    "\n",
    "        q.put((left[0] + right[0], v))\n",
    "        i += 1\n",
    "\n",
    "    # the remaining entry corresponds to the root node\n",
    "    root = q.get()\n",
    "    huffman_tree=pp.Graph.from_edge_list(edges)\n",
    "    huffman_tree.data.node_labels = [labels[v] for v in huffman_tree.nodes]\n",
    "    huffman_tree.data.node_type = [node_type[v] for v in huffman_tree.nodes]\n",
    "    huffman_tree.data.edge_symbols = edge_symbols\n",
    "    return huffman_tree, root[1]"
   ]
  },
  {
   "attachments": {},
   "cell_type": "markdown",
   "metadata": {},
   "source": [
    "Let us try this in an example sequence that consists of four letters `a`, `b`, `c` and `d`."
   ]
  },
  {
   "cell_type": "code",
   "execution_count": 3,
   "metadata": {},
   "outputs": [
    {
     "name": "stdout",
     "output_type": "stream",
     "text": [
      "Directed graph with 7 nodes and 6 edges\n",
      "\n",
      "Node attributes\n",
      "\tnode_labels\t\t<class 'list'>\n",
      "\tnode_type\t\t<class 'list'>\n",
      "\n",
      "Edge attributes\n",
      "\tedge_symbols\t\t<class 'list'>\n",
      "\n",
      "Graph attributes\n",
      "\tnum_nodes\t\t<class 'int'>\n",
      "\n"
     ]
    },
    {
     "data": {
      "text/html": [
       "<style>\n",
       "svg circle.node {\n",
       "  fill: #3b5998;\n",
       "  stroke: #1b3978;\n",
       "  stroke-width: 2.5px;\n",
       "  r: 15px;\n",
       "  opacity: 1;\n",
       "}\n",
       "\n",
       ".link {\n",
       "  stroke: #969595;\n",
       "  stroke-opacity: .75;\n",
       "  stroke-width: 2.5px;\n",
       "}\n",
       "\n",
       ".arrow {\n",
       "  fill: #969595;\n",
       "}\n",
       "\n",
       "\n",
       ".label-text {\n",
       "    fill: #969595;\n",
       "    font-size: 16px;\n",
       "    font-family: sans-serif;\n",
       "}\n",
       "\n",
       "</style>\n",
       "\n",
       "<div id = \"x62add38163234063bbde77cfd06fc5c8\"> </div>\n",
       "<script charset=\"utf-8\" src=\"https://d3js.org/d3.v5.min.js\"></script>\n",
       "<script charset=\"utf-8\">\n",
       "// Load via requireJS if available (jupyter notebook environment)\n",
       "try {\n",
       "    // Problem: require.config will raise an exception when called for the second time \n",
       "    require.config({\n",
       "        paths: {\n",
       "            d3: \"https://d3js.org/d3.v5.min.js\".replace(\".js\", \"\")\n",
       "        }\n",
       "    });\n",
       "    console.log(\"OKAY: requireJS was detected.\");\n",
       "}\n",
       "catch(err){\n",
       "    // a reference error indicates that requireJS does not exist. \n",
       "    // other errors may occur due to multiple calls to config\n",
       "    if (err instanceof ReferenceError){\n",
       "        console.log(\"WARNING: NO requireJS was detected!\");\n",
       "\n",
       "        // Helper function that waits for d3js to be loaded\n",
       "        require = function require(symbols, callback) {\n",
       "            var ms = 10;\n",
       "            window.setTimeout(function(t) {\n",
       "                if (window[symbols[0]])\n",
       "                    callback(window[symbols[0]]);\n",
       "                else \n",
       "                    window.setTimeout(arguments.callee, ms);\n",
       "            }, ms);\n",
       "        }\n",
       "    }\n",
       "};\n",
       "require(['d3'], function(d3){ //START\n",
       "const data = {\"edges\": [{\"uid\": \"n_0-d\", \"source\": \"n_0\", \"target\": \"d\", \"color\": \"red\", \"weight\": 1}, {\"uid\": \"n_0-b\", \"source\": \"n_0\", \"target\": \"b\", \"color\": \"green\", \"weight\": 1}, {\"uid\": \"n_1-c\", \"source\": \"n_1\", \"target\": \"c\", \"color\": \"red\", \"weight\": 1}, {\"uid\": \"n_1-n_0\", \"source\": \"n_1\", \"target\": \"n_0\", \"color\": \"green\", \"weight\": 1}, {\"uid\": \"n_2-n_1\", \"source\": \"n_2\", \"target\": \"n_1\", \"color\": \"red\", \"weight\": 1}, {\"uid\": \"n_2-a\", \"source\": \"n_2\", \"target\": \"a\", \"color\": \"green\", \"weight\": 1}], \"nodes\": [{\"uid\": \"a\", \"color\": \"orange\", \"label\": \"a / 0.724\"}, {\"uid\": \"b\", \"color\": \"orange\", \"label\": \"b / 0.103\"}, {\"uid\": \"c\", \"color\": \"orange\", \"label\": \"c / 0.103\"}, {\"uid\": \"d\", \"color\": \"orange\", \"label\": \"d / 0.069\"}, {\"uid\": \"n_0\", \"color\": \"grey\", \"label\": \"0.17\"}, {\"uid\": \"n_1\", \"color\": \"grey\", \"label\": \"0.28\"}, {\"uid\": \"n_2\", \"color\": \"grey\", \"label\": \"1.00\"}]}\n",
       "const config = {\"node_label\": [\"a / 0.724\", \"b / 0.103\", \"c / 0.103\", \"d / 0.069\", \"0.17\", \"0.28\", \"1.00\"], \"edge_color\": [\"red\", \"green\", \"red\", \"green\", \"red\", \"green\"], \"node_color\": [\"orange\", \"orange\", \"orange\", \"orange\", \"grey\", \"grey\", \"grey\"], \"directed\": true, \"curved\": true, \"selector\": \"#x62add38163234063bbde77cfd06fc5c8\"}\n",
       "console.log(\"Static Network Template\");\n",
       "/* Resources\n",
       "   https://bl.ocks.org/mapio/53fed7d84cd1812d6a6639ed7aa83868\n",
       "   https://codepen.io/smlo/pen/JdMOej\n",
       "*/\n",
       "\n",
       "// variables from the config file\n",
       "const selector = config.selector;\n",
       "const width = config.width || 800;\n",
       "const height = config.height || 600;\n",
       "const charge_distance = config.charge_distance || 400;\n",
       "const charge_force = config.charge_force || -3000;\n",
       "const curved = config.curved || false;\n",
       "const directed = config.directed || false;\n",
       "// const weight = false;\n",
       "\n",
       "/* Create a svg element to display the network */\n",
       "var svg = d3.select(selector)\n",
       "    .append('svg')\n",
       "    .attr('width', width)\n",
       "    .attr('height', height)\n",
       "\n",
       "// add container to store the elements\n",
       "var container = svg.append(\"g\");\n",
       "\n",
       "/*Add zoom function to the container */\n",
       "svg.call(\n",
       "    d3.zoom()\n",
       "        .scaleExtent([.1, 4])\n",
       "        .on(\"zoom\", function() { container.attr(\"transform\", d3.event.transform); })\n",
       ");\n",
       "\n",
       "\n",
       "/*Load nodes and links from the data */\n",
       "var nodes = data.nodes\n",
       "var links = data.edges\n",
       "\n",
       "/*Create arrow head with same color as the edge */\n",
       "function marker (color) {\n",
       "       var reference;\n",
       "       svg.append(\"svg:defs\").selectAll(\"marker\")\n",
       "          .data([reference])\n",
       "          .enter().append(\"svg:marker\")\n",
       "          .attr(\"id\", \"arrow\"+color)\n",
       "          .attr(\"viewBox\", \"0 -5 10 10\")\n",
       "          .attr(\"refX\", 10)\n",
       "          .attr(\"refY\", -0)\n",
       "          .attr(\"markerWidth\", 6)\n",
       "          .attr(\"markerHeight\", 6)\n",
       "          .attr(\"orient\", \"auto\")\n",
       "          .append(\"svg:path\")\n",
       "          .attr('class','.arrow')\n",
       "          .attr(\"d\", \"M0,-5L10,0L0,5\")\n",
       "          .style('opacity',1)\n",
       "          .style(\"fill\", color);\n",
       "       return \"url(#\" + \"arrow\"+color + \")\";\n",
       "     };\n",
       "\n",
       "/*Link creation template */\n",
       "var link = container.append(\"g\").attr(\"class\", \"links\")\n",
       "    .selectAll(\".link\")\n",
       "    .data(links)\n",
       "    .enter()\n",
       "    .append(\"path\")\n",
       "    .attr(\"class\", \"link\")\n",
       "    .style(\"stroke\", function(d) { return d.color; })\n",
       "    .style(\"stroke-opacity\", function(d) { return d.opacity; })\n",
       "    .style(\"stroke-width\", function(d){  return d.size })\n",
       "    .style(\"fill\",\"none\")\n",
       "    .attr(\"marker-end\", function (d) {if(directed){return marker(d.color)}else{return null}; });\n",
       "\n",
       "    //.attr(\"marker-end\", function (d) { return marker(d.color); });\n",
       "    //.attr(\"marker-end\", \"url(#arrow)\");\n",
       "\n",
       "/*Node creation template */\n",
       "var node = container.append(\"g\").attr(\"class\", \"nodes\")\n",
       "    .selectAll(\"circle.node\")\n",
       "    .data(nodes)\n",
       "    .enter().append(\"circle\")\n",
       "    .attr(\"class\", \"node\")\n",
       "    .attr(\"x\", function(d) { return d.x; })\n",
       "    .attr(\"y\", function(d) { return d.y; })\n",
       "    .style(\"r\", function(d){  return d.size+\"px\"; })\n",
       "    .style(\"fill\", function(d) { return d.color; })\n",
       "    .style(\"opacity\", function(d) { return d.opacity; });\n",
       "\n",
       "/*Label creation template */\n",
       "var text = container.append(\"g\").attr(\"class\",\"labels\")\n",
       "    .selectAll(\"g\")\n",
       "    .data(nodes)\n",
       "    .enter().append(\"g\")\n",
       "\n",
       "text.append(\"text\")\n",
       "    .attr(\"class\", \"label-text\")\n",
       "    .attr(\"x\", function(d) {\n",
       "        var r = (d.size === undefined) ? 15 : d.size;\n",
       "        return 5 + r; })\n",
       "    .attr(\"dy\", \".31em\")\n",
       "    .text(function(d) { return d.label; });\n",
       "\n",
       "/*Scale weight for d3js */\n",
       "var weightScale = d3.scaleLinear()\n",
       "    .domain(d3.extent(links, function (d) { return d.weight }))\n",
       "    .range([.1, 1]);\n",
       "\n",
       "/*Simulation of the forces*/\n",
       "var simulation = d3.forceSimulation(nodes)\n",
       "    .force(\"links\", d3.forceLink(links)\n",
       "           .id(function(d) {return d.uid; })\n",
       "           .distance(50)\n",
       "           .strength(function(d){return weightScale(d.weight);})\n",
       "          )\n",
       "    .force(\"charge\", d3.forceManyBody()\n",
       "           .strength(charge_force)\n",
       "           .distanceMax(charge_distance)\n",
       "          )\n",
       "    .force(\"center\", d3.forceCenter(width / 2, height / 2))\n",
       "    .on(\"tick\", ticked);\n",
       "\n",
       "/*Update of the node and edge objects*/\n",
       "function ticked() {\n",
       "    node.call(updateNode);\n",
       "    link.call(updateLink);\n",
       "    text.call(updateText);\n",
       "};\n",
       "\n",
       "/*Update link positions */\n",
       "function updateLink(link) {\n",
       "    // link\n",
       "    //     .attr(\"x1\", function(d) { return d.source.x; })\n",
       "    //     .attr(\"y1\", function(d) { return d.source.y; })\n",
       "    //     .attr(\"x2\", function(d) { return d.target.x; })\n",
       "    //     .attr(\"y2\", function(d) { return d.target.y; });\n",
       "\n",
       "\n",
       "    link.attr(\"d\", function(d) {\n",
       "        var dx = d.target.x - d.source.x,\n",
       "            dy = d.target.y - d.source.y,\n",
       "            dr = Math.sqrt(dx * dx + dy * dy);\n",
       "        if(!curved)dr=0;\n",
       "        return \"M\" +\n",
       "            d.source.x + \",\" +\n",
       "            d.source.y + \"A\" +\n",
       "            dr + \",\" + dr + \" 0 0,1 \" +\n",
       "            d.target.x + \",\" +\n",
       "            d.target.y;\n",
       "    });\n",
       "\n",
       "    // recalculate and back off the distance\n",
       "    link.attr(\"d\", function (d, i) {\n",
       "        var pl = this.getTotalLength();\n",
       "        var r = (d.target.size === undefined) ? 15 : d.target.size;\n",
       "        var m = this.getPointAtLength(pl - r);\n",
       "        var dx = d.target.x - d.source.x,\n",
       "            dy = d.target.y - d.source.y,\n",
       "            dr = Math.sqrt(dx * dx + dy * dy);\n",
       "        if(!curved)dr=0;\n",
       "        var result = \"M\" + d.source.x + \",\" + d.source.y + \"A\" + dr + \",\" + dr + \" 0 0,1 \" + m.x + \",\" + m.y;\n",
       "        return result;\n",
       "    });\n",
       "};\n",
       "\n",
       "\n",
       "/*Update node positions */\n",
       "function updateNode(node) {\n",
       "    node.attr(\"transform\", function(d) {\n",
       "        return \"translate(\" + d.x + \",\" + d.y + \")\";\n",
       "    });\n",
       "    // node\n",
       "    //     .attr(\"cx\", function(d) { return d.x; })\n",
       "    //     .attr(\"cy\", function(d) { return d.y; });\n",
       "};\n",
       "\n",
       "/*Update text positions */\n",
       "function updateText(text) {\n",
       "    text.attr(\"transform\", function(d) {\n",
       "        return \"translate(\" + d.x + \",\" + d.y + \")\";\n",
       "    });\n",
       "};\n",
       "\n",
       "/*Add drag functionality to the node objects*/\n",
       "node.call(\n",
       "    d3.drag()\n",
       "        .on(\"start\", dragstarted)\n",
       "        .on(\"drag\", dragged)\n",
       "        .on(\"end\", dragended)\n",
       ");\n",
       "\n",
       "function dragstarted(d) {\n",
       "    d3.event.sourceEvent.stopPropagation();\n",
       "    if (!d3.event.active) simulation.alphaTarget(0.3).restart();\n",
       "    d.fx = d.x;\n",
       "    d.fy = d.y;\n",
       "};\n",
       "\n",
       "function dragged(d) {\n",
       "    d.fx = d3.event.x;\n",
       "    d.fy = d3.event.y;\n",
       "};\n",
       "\n",
       "function dragended(d) {\n",
       "    if (!d3.event.active) simulation.alphaTarget(0);\n",
       "    d.fx = null;\n",
       "    d.fy = null;\n",
       "};\n",
       "\n",
       "}); //END\n",
       "\n",
       "</script>"
      ]
     },
     "metadata": {},
     "output_type": "display_data"
    },
    {
     "data": {
      "text/plain": [
       "<pathpyG.visualisations.network_plots.StaticNetworkPlot at 0x7f615015dba0>"
      ]
     },
     "execution_count": 3,
     "metadata": {},
     "output_type": "execute_result"
    }
   ],
   "source": [
    "text = 'aaabaabaaaaabaaaccaaacaaadaad'\n",
    "tree, root = huffman_tree(text)\n",
    "print(tree)\n",
    "tree.data.node_colors = ['orange' if x == 'leaf' else 'grey' for x in tree.data.node_type]\n",
    "\n",
    "pp.plot(tree, node_label = tree.data.node_labels, edge_color= ['green' if x == '1' else 'red' for x in tree.data.edge_symbols], node_color = tree.data.node_colors)"
   ]
  },
  {
   "attachments": {},
   "cell_type": "markdown",
   "metadata": {},
   "source": [
    "Above, we have colored internal (i.e. non-leaf nodes) in gray, while leaf nodes that correspond to the encoded symbols are colored in orange. We also include the relative (aggregate) frequencies of the leaf nodes and the corresponding subtrees. In the example above, we obtain an imbalanced tree since the symbol `a` appears much more frequently than the other symbols. Due to this imbalance in the depth of the tree, we use a shorter one bit codeword for the symbol `a`, while all other symbols are encoded with two or three bits.\n",
    "\n",
    "In order to actually use the coding tree to compress a sequence, we can create a mapping dictionary that gives the codeword for each symbol in the input sequence. Such a mapping can be easily constructed by recursively traversing the coding tree, building up the codewords as we descend from the root and adding them to the mapping whenever we encounter a leaf node:"
   ]
  },
  {
   "cell_type": "code",
   "execution_count": 4,
   "metadata": {},
   "outputs": [],
   "source": [
    "def generate_mapping(tree, node, prefix='', lookup_table={}):\n",
    "    \"\"\"Recursively turns Huffman tree into a lookup dictionary\"\"\"\n",
    "    if tree.out_degrees[node] == 0:\n",
    "        lookup_table[node] = prefix\n",
    "    else:\n",
    "        for x in tree.successors(node):\n",
    "            generate_mapping(tree, x, prefix=prefix + tree['edge_symbols'][list(tree.edges).index((node, x))], lookup_table=lookup_table)\n",
    "\n",
    "    return lookup_table"
   ]
  },
  {
   "attachments": {},
   "cell_type": "markdown",
   "metadata": {},
   "source": [
    "Let's try this in our example:"
   ]
  },
  {
   "cell_type": "code",
   "execution_count": 5,
   "metadata": {},
   "outputs": [
    {
     "name": "stdout",
     "output_type": "stream",
     "text": [
      "{'c': '00', 'd': '010', 'b': '011', 'a': '1'}\n"
     ]
    }
   ],
   "source": [
    "lookup_table = generate_mapping(tree, root)\n",
    "print(lookup_table)"
   ]
  },
  {
   "attachments": {},
   "cell_type": "markdown",
   "metadata": {},
   "source": [
    "We can now compress the sequence and compare the length. Note that, to fairly compare the sequences, we must consider a binary encoding of the input sequence. Since we have four different symbols, a naive encoding would require two bits per symbol: "
   ]
  },
  {
   "cell_type": "code",
   "execution_count": 6,
   "metadata": {},
   "outputs": [
    {
     "name": "stdout",
     "output_type": "stream",
     "text": [
      "111011110111111101111100001110011101011010\n",
      "Original:   58 bits\n",
      "Compressed: 42 bits\n"
     ]
    }
   ],
   "source": [
    "compressed = ''.join([lookup_table[x] for x in text])\n",
    "print(compressed)\n",
    "print('Original:   {0} bits'.format(len(text)*2))\n",
    "print('Compressed: {0} bits'.format(len(compressed)))"
   ]
  },
  {
   "attachments": {},
   "cell_type": "markdown",
   "metadata": {},
   "source": [
    "To decompress the sequence we can parse the encoding bit by bit, while traversing the tree. Whenever we encounter a leaf node, we emit the corresponding symbol to the decoded sequence and continue the decoding of the next bit at the root node of the tree. This also explains why the Huffman code is a prefix-free code: The encoding of one symbol is implicitly terminated whenever we read a leaf in the coding tree."
   ]
  },
  {
   "cell_type": "code",
   "execution_count": 7,
   "metadata": {},
   "outputs": [],
   "source": [
    "def decompress(tree, root, compressed_sequence):\n",
    "\n",
    "    original_sequence = []\n",
    "    ptr = root\n",
    "\n",
    "    # traverse tree to recover original symbol\n",
    "    i = 0\n",
    "    while i<len(compressed_sequence):\n",
    "        if tree.out_degrees[ptr] > 0:\n",
    "            # move along left/right edge depending on symbol\n",
    "            edges = {tree['edge_symbols'][list(tree.edges).index((ptr, x))]:(ptr, x) for x in tree.successors(ptr)}\n",
    "            ptr = edges[compressed_sequence[i]][1]\n",
    "            i += 1\n",
    "        else: # leaf node: emit node name and restart in root for next symbol\n",
    "            original_sequence.append(ptr)\n",
    "            ptr = root\n",
    "    original_sequence.append(ptr)\n",
    "    return ''.join(original_sequence)"
   ]
  },
  {
   "attachments": {},
   "cell_type": "markdown",
   "metadata": {},
   "source": [
    "We can now recover our original sequence:"
   ]
  },
  {
   "cell_type": "code",
   "execution_count": 8,
   "metadata": {},
   "outputs": [
    {
     "name": "stdout",
     "output_type": "stream",
     "text": [
      "aaabaabaaaaabaaaccaaacaaadaad\n",
      "aaabaabaaaaabaaaccaaacaaadaad\n"
     ]
    }
   ],
   "source": [
    "print(text)\n",
    "print(decompress(tree, root, compressed))"
   ]
  },
  {
   "attachments": {},
   "cell_type": "markdown",
   "metadata": {},
   "source": [
    "We can explore this in another example, where we have variable length sequences with unequal symbol probabilities. To simplify the construction of such a sequence, we use the following function:"
   ]
  },
  {
   "cell_type": "code",
   "execution_count": 9,
   "metadata": {},
   "outputs": [],
   "source": [
    "def generate_sequence(sybols, probs, n):\n",
    "    return ''.join([x for x in np.random.choice(symbols, size=n, p=probs)])"
   ]
  },
  {
   "attachments": {},
   "cell_type": "markdown",
   "metadata": {},
   "source": [
    "We now use this to generate a sequence with 100 symbols, encode the sequence and calculate the average bits required per symbol in the sequence:"
   ]
  },
  {
   "cell_type": "code",
   "execution_count": 10,
   "metadata": {},
   "outputs": [
    {
     "name": "stdout",
     "output_type": "stream",
     "text": [
      "cacccdcdccdbcbcbdaccccccaabacdbddacbdccccdacacaccdcdcccccbccccccdcdccbccdbccdcdcacccacbacdcccccbadcd\n",
      "10111110010011000101010101000011111111011011010011100010000001110100011110001110111011110010011111010111111001001101011000101100100101111101110100111001111101001100100\n",
      "Original:   2.0 bits/symbol\n",
      "Compressed: 1.67 bits/symbol\n"
     ]
    }
   ],
   "source": [
    "symbols = ['a', 'b', 'c', 'd']\n",
    "probs = [0.125, 0.125, 0.5, 0.25]\n",
    "text = generate_sequence(symbols, probs, 100)\n",
    "print(text)\n",
    "\n",
    "tree, root = huffman_tree(text)\n",
    "lookup_table = generate_mapping(tree, root)\n",
    "compressed = ''.join([lookup_table[x] for x in text])\n",
    "print(compressed)\n",
    "\n",
    "print('Original:   {0} bits/symbol'.format(np.log2(len(set(text)))))\n",
    "print('Compressed: {0} bits/symbol'.format(len(compressed)/100))"
   ]
  },
  {
   "attachments": {},
   "cell_type": "markdown",
   "metadata": {},
   "source": [
    "In the lecture, we have discussed that a lower bound for the minimal expected number of bits per symbol is given by the entropy of the probability mass function of the symbols. Moreover, the Huffman code is asymptotically optimal for sequences of length $n$, i.e. for $n \\rightarrow \\infty$ the expected per-symbol code length required by the Huffman coding scheme converges to this lower bound. \n",
    "\n",
    "Let us explore this in practice. We will use `scipy.stats.entropy` to calculate the entropy of the symbol frequencies, i.e. the lower bound for the expected per-symbol length of a lossless coding scheme, for our example:"
   ]
  },
  {
   "cell_type": "code",
   "execution_count": 11,
   "metadata": {},
   "outputs": [
    {
     "data": {
      "text/plain": [
       "1.75"
      ]
     },
     "execution_count": 11,
     "metadata": {},
     "output_type": "execute_result"
    }
   ],
   "source": [
    "sp.stats.entropy(probs, base=2)"
   ]
  },
  {
   "attachments": {},
   "cell_type": "markdown",
   "metadata": {},
   "source": [
    "We can now generate random sequences of increasing length $n$ based on this probability distribution, generate a Huffman code, encode the sequence and calculate the bits per symbol. We can further use Shannon's source coding theorem to calculate the lower bound for the per-symbol code length of a lossless coding. We find that the per-symbol length of the Huffman encoded sequence converges to the limit given by the Shannon entropy."
   ]
  },
  {
   "cell_type": "code",
   "execution_count": 12,
   "metadata": {},
   "outputs": [],
   "source": [
    "samples = 1000\n",
    "avg_code_lengths = []\n",
    "for n in range(10, 1000, 50):\n",
    "    L = 0\n",
    "    for s in range(samples):    \n",
    "        text = generate_sequence(symbols, probs, n)\n",
    "        tree, root = huffman_tree(text)\n",
    "        lookup_table = generate_mapping(tree, root)\n",
    "        compressed = ''.join([lookup_table[x] for x in text])\n",
    "        L += len(compressed)/n\n",
    "    avg_code_lengths.append(L/samples)"
   ]
  },
  {
   "cell_type": "code",
   "execution_count": 13,
   "metadata": {},
   "outputs": [
    {
     "data": {
      "text/plain": [
       "<matplotlib.lines.Line2D at 0x7f605797f250>"
      ]
     },
     "execution_count": 13,
     "metadata": {},
     "output_type": "execute_result"
    },
    {
     "data": {
      "image/png": "[encoded data removed]",
      "text/plain": [
       "<Figure size 640x480 with 1 Axes>"
      ]
     },
     "metadata": {},
     "output_type": "display_data"
    }
   ],
   "source": [
    "plt.plot(range(10,1000, 50), avg_code_lengths)\n",
    "plt.axhline(y=sp.stats.entropy(probs, base=2), color='red')"
   ]
  },
  {
   "attachments": {},
   "cell_type": "markdown",
   "metadata": {},
   "source": [
    "We indeed find that the average per-symbol code length in the compressed sequences converges to the Shannon entropy of the underlying probability mass function that describes the symbol frequencies. Since this is the theoretical lower bound of a lossless encoding, we can say that the Huffman code provides an optimal compression (under the assumption that we are actually interested in a lossless compression and that the symbols are i.i.d.)."
   ]
  }
 ],
 "metadata": {
  "kernelspec": {
   "display_name": "Python 3 (ipykernel)",
   "language": "python",
   "name": "python3"
  },
  "language_info": {
   "codemirror_mode": {
    "name": "ipython",
    "version": 3
   },
   "file_extension": ".py",
   "mimetype": "text/x-python",
   "name": "python",
   "nbconvert_exporter": "python",
   "pygments_lexer": "ipython3",
   "version": "3.10.14"
  },
  "orig_nbformat": 4,
  "vscode": {
   "interpreter": {
    "hash": "ad2bdc8ecc057115af97d19610ffacc2b4e99fae6737bb82f5d7fb13d2f2c186"
   }
  }
 },
 "nbformat": 4,
 "nbformat_minor": 2
}
