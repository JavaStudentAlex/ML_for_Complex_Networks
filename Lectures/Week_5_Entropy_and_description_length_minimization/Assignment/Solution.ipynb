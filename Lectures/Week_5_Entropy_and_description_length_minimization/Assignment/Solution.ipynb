{
 "cells": [
  {
   "attachments": {},
   "cell_type": "markdown",
   "metadata": {
    "collapsed": false
   },
   "source": [
    "# 1. MDL with Degree-corrected SBM"
   ]
  },
  {
   "attachments": {},
   "cell_type": "markdown",
   "metadata": {
    "collapsed": false
   },
   "source": [
    "## In Lecture 04, you learned about the Degree-Corrected Stochastic Block Model(DCSBM). In the practice session, you saw an example of inferring communities using maximum likelihood estimation with the DCSBM in a Jupyter Notebook. However, nto specifying the number of communities can lead to trivial community assignments, as seen in Exercise 013 and Lecture 05. In Lecture 05`s practice session, you learned about using the Minimum Description Length(MDL) principle to detect communities in a toy network with the standard Stochastic Block Model(SBM). Now, we will explore detecting communities in the Zachary Karate Club network using MDL with the DCSBM."
   ]
  },
  {
   "attachments": {},
   "cell_type": "markdown",
   "metadata": {
    "collapsed": false
   },
   "source": [
    "### (a) For the undirected DCSBM with N nodes and B blocks, while the MDL equation takes the familiar form:\n",
    "\n",
    "$$\\sum  = S + L$$\n",
    "\n",
    "### where $\\sum$ is the description length, S is the entropy of the DCSBM, and L is the information necessary to describe the model with its parameters, S and L are modified to account for the degree distribution of the network. S can be expressed:\n",
    "\n",
    "$$S \\thickapprox - E - \\sum_{k} N_k \\ln k! - \\frac{1}{2} \\sum_{rs} e_{rs} \\ln \\left( \\frac{e_{rs}}{e_r e_s} \\right)$$\n",
    "\n",
    "### where $E = \\frac{1}{2} \\sum_{rs} e_{rs}$ s the total number of edges, $e_{rs}$ is the number of edges between blocks r and s, and $n_r$ are the number of nodes belonging to blocks r and s, respectively. $N_k$ is the total number of nodes with degree k, and the term - $\\sum_{k} N_k \\ln k!$ accounts for the degree distribution of the network. L can be expressed as\n",
    "\n",
    "$$L \\thickapprox E h \\left( \\frac{B(B + 1)}{2E} \\right) + N \\ln B - N \\sum_{k} p_k \\ln p_k$$\n",
    "\n",
    "### where $h(x) = (1 + x) \\ln (1 + x) - x \\ln x$ and $p_k$ is the fraction of nodes with degree k. As you may have noticed, term - $N \\sum_{k} p_k \\ln p_k$ modifies L o account for the degree distribution. Use this MDL equation to partition the Karate Club network into communities. The network can be obtained via Netzschleuder under the name karate. Plot the communities and the degree distributions of the nodes in each community. Compare these communities to communities inferred using MDL with the standard SBM."
   ]
  },
  {
   "cell_type": "code",
   "execution_count": 1,
   "metadata": {
    "ExecuteTime": {
     "end_time": "2023-06-01T21:48:28.130442766Z",
     "start_time": "2023-06-01T21:48:28.071915291Z"
    },
    "collapsed": true
   },
   "outputs": [],
   "source": [
    "import math\n",
    "import queue\n",
    "from typing import Callable\n",
    "from collections import Counter\n",
    "\n",
    "import numpy as np\n",
    "import scipy as sp\n",
    "import pathpyG as pp\n",
    "import seaborn as sns\n",
    "from tqdm import tqdm\n",
    "import matplotlib.pyplot as plt"
   ]
  },
  {
   "cell_type": "code",
   "execution_count": 2,
   "metadata": {
    "ExecuteTime": {
     "end_time": "2023-06-01T21:48:29.620569417Z",
     "start_time": "2023-06-01T21:48:29.073944291Z"
    },
    "collapsed": false
   },
   "outputs": [
    {
     "data": {
      "text/html": [
       "<style>\n",
       "svg circle.node {\n",
       "  fill: #3b5998;\n",
       "  stroke: #1b3978;\n",
       "  stroke-width: 2.5px;\n",
       "  r: 15px;\n",
       "  opacity: 1;\n",
       "}\n",
       "\n",
       ".link {\n",
       "  stroke: #969595;\n",
       "  stroke-opacity: .75;\n",
       "  stroke-width: 2.5px;\n",
       "}\n",
       "\n",
       ".arrow {\n",
       "  fill: #969595;\n",
       "}\n",
       "\n",
       "\n",
       ".label-text {\n",
       "    fill: #969595;\n",
       "    font-size: 16px;\n",
       "    font-family: sans-serif;\n",
       "}\n",
       "\n",
       "</style>\n",
       "\n",
       "<div id = \"xcca88270b844460fbf46edeef68a8a59\"> </div>\n",
       "<script charset=\"utf-8\" src=\"https://d3js.org/d3.v5.min.js\"></script>\n",
       "<script charset=\"utf-8\">\n",
       "// Load via requireJS if available (jupyter notebook environment)\n",
       "try {\n",
       "    // Problem: require.config will raise an exception when called for the second time \n",
       "    require.config({\n",
       "        paths: {\n",
       "            d3: \"https://d3js.org/d3.v5.min.js\".replace(\".js\", \"\")\n",
       "        }\n",
       "    });\n",
       "    console.log(\"OKAY: requireJS was detected.\");\n",
       "}\n",
       "catch(err){\n",
       "    // a reference error indicates that requireJS does not exist. \n",
       "    // other errors may occur due to multiple calls to config\n",
       "    if (err instanceof ReferenceError){\n",
       "        console.log(\"WARNING: NO requireJS was detected!\");\n",
       "\n",
       "        // Helper function that waits for d3js to be loaded\n",
       "        require = function require(symbols, callback) {\n",
       "            var ms = 10;\n",
       "            window.setTimeout(function(t) {\n",
       "                if (window[symbols[0]])\n",
       "                    callback(window[symbols[0]]);\n",
       "                else \n",
       "                    window.setTimeout(arguments.callee, ms);\n",
       "            }, ms);\n",
       "        }\n",
       "    }\n",
       "};\n",
       "require(['d3'], function(d3){ //START\n",
       "const data = {\"edges\": [{\"uid\": \"0-2\", \"source\": \"0\", \"target\": \"2\", \"weight\": 1}, {\"uid\": \"0-1\", \"source\": \"0\", \"target\": \"1\", \"weight\": 1}, {\"uid\": \"0-31\", \"source\": \"0\", \"target\": \"31\", \"weight\": 1}, {\"uid\": \"0-21\", \"source\": \"0\", \"target\": \"21\", \"weight\": 1}, {\"uid\": \"0-19\", \"source\": \"0\", \"target\": \"19\", \"weight\": 1}, {\"uid\": \"0-17\", \"source\": \"0\", \"target\": \"17\", \"weight\": 1}, {\"uid\": \"0-13\", \"source\": \"0\", \"target\": \"13\", \"weight\": 1}, {\"uid\": \"0-12\", \"source\": \"0\", \"target\": \"12\", \"weight\": 1}, {\"uid\": \"0-11\", \"source\": \"0\", \"target\": \"11\", \"weight\": 1}, {\"uid\": \"0-8\", \"source\": \"0\", \"target\": \"8\", \"weight\": 1}, {\"uid\": \"0-10\", \"source\": \"0\", \"target\": \"10\", \"weight\": 1}, {\"uid\": \"0-3\", \"source\": \"0\", \"target\": \"3\", \"weight\": 1}, {\"uid\": \"0-4\", \"source\": \"0\", \"target\": \"4\", \"weight\": 1}, {\"uid\": \"0-6\", \"source\": \"0\", \"target\": \"6\", \"weight\": 1}, {\"uid\": \"0-7\", \"source\": \"0\", \"target\": \"7\", \"weight\": 1}, {\"uid\": \"0-5\", \"source\": \"0\", \"target\": \"5\", \"weight\": 1}, {\"uid\": \"1-17\", \"source\": \"1\", \"target\": \"17\", \"weight\": 1}, {\"uid\": \"1-30\", \"source\": \"1\", \"target\": \"30\", \"weight\": 1}, {\"uid\": \"1-21\", \"source\": \"1\", \"target\": \"21\", \"weight\": 1}, {\"uid\": \"1-19\", \"source\": \"1\", \"target\": \"19\", \"weight\": 1}, {\"uid\": \"1-13\", \"source\": \"1\", \"target\": \"13\", \"weight\": 1}, {\"uid\": \"1-7\", \"source\": \"1\", \"target\": \"7\", \"weight\": 1}, {\"uid\": \"1-3\", \"source\": \"1\", \"target\": \"3\", \"weight\": 1}, {\"uid\": \"1-2\", \"source\": \"1\", \"target\": \"2\", \"weight\": 1}, {\"uid\": \"1-0\", \"source\": \"1\", \"target\": \"0\", \"weight\": 1}, {\"uid\": \"2-3\", \"source\": \"2\", \"target\": \"3\", \"weight\": 1}, {\"uid\": \"2-32\", \"source\": \"2\", \"target\": \"32\", \"weight\": 1}, {\"uid\": \"2-28\", \"source\": \"2\", \"target\": \"28\", \"weight\": 1}, {\"uid\": \"2-27\", \"source\": \"2\", \"target\": \"27\", \"weight\": 1}, {\"uid\": \"2-13\", \"source\": \"2\", \"target\": \"13\", \"weight\": 1}, {\"uid\": \"2-9\", \"source\": \"2\", \"target\": \"9\", \"weight\": 1}, {\"uid\": \"2-8\", \"source\": \"2\", \"target\": \"8\", \"weight\": 1}, {\"uid\": \"2-7\", \"source\": \"2\", \"target\": \"7\", \"weight\": 1}, {\"uid\": \"2-1\", \"source\": \"2\", \"target\": \"1\", \"weight\": 1}, {\"uid\": \"2-0\", \"source\": \"2\", \"target\": \"0\", \"weight\": 1}, {\"uid\": \"3-0\", \"source\": \"3\", \"target\": \"0\", \"weight\": 1}, {\"uid\": \"3-1\", \"source\": \"3\", \"target\": \"1\", \"weight\": 1}, {\"uid\": \"3-2\", \"source\": \"3\", \"target\": \"2\", \"weight\": 1}, {\"uid\": \"3-7\", \"source\": \"3\", \"target\": \"7\", \"weight\": 1}, {\"uid\": \"3-12\", \"source\": \"3\", \"target\": \"12\", \"weight\": 1}, {\"uid\": \"3-13\", \"source\": \"3\", \"target\": \"13\", \"weight\": 1}, {\"uid\": \"4-10\", \"source\": \"4\", \"target\": \"10\", \"weight\": 1}, {\"uid\": \"4-0\", \"source\": \"4\", \"target\": \"0\", \"weight\": 1}, {\"uid\": \"4-6\", \"source\": \"4\", \"target\": \"6\", \"weight\": 1}, {\"uid\": \"5-0\", \"source\": \"5\", \"target\": \"0\", \"weight\": 1}, {\"uid\": \"5-6\", \"source\": \"5\", \"target\": \"6\", \"weight\": 1}, {\"uid\": \"5-10\", \"source\": \"5\", \"target\": \"10\", \"weight\": 1}, {\"uid\": \"5-16\", \"source\": \"5\", \"target\": \"16\", \"weight\": 1}, {\"uid\": \"6-0\", \"source\": \"6\", \"target\": \"0\", \"weight\": 1}, {\"uid\": \"6-4\", \"source\": \"6\", \"target\": \"4\", \"weight\": 1}, {\"uid\": \"6-5\", \"source\": \"6\", \"target\": \"5\", \"weight\": 1}, {\"uid\": \"6-16\", \"source\": \"6\", \"target\": \"16\", \"weight\": 1}, {\"uid\": \"7-0\", \"source\": \"7\", \"target\": \"0\", \"weight\": 1}, {\"uid\": \"7-1\", \"source\": \"7\", \"target\": \"1\", \"weight\": 1}, {\"uid\": \"7-2\", \"source\": \"7\", \"target\": \"2\", \"weight\": 1}, {\"uid\": \"7-3\", \"source\": \"7\", \"target\": \"3\", \"weight\": 1}, {\"uid\": \"8-32\", \"source\": \"8\", \"target\": \"32\", \"weight\": 1}, {\"uid\": \"8-33\", \"source\": \"8\", \"target\": \"33\", \"weight\": 1}, {\"uid\": \"8-2\", \"source\": \"8\", \"target\": \"2\", \"weight\": 1}, {\"uid\": \"8-0\", \"source\": \"8\", \"target\": \"0\", \"weight\": 1}, {\"uid\": \"8-30\", \"source\": \"8\", \"target\": \"30\", \"weight\": 1}, {\"uid\": \"9-2\", \"source\": \"9\", \"target\": \"2\", \"weight\": 1}, {\"uid\": \"9-33\", \"source\": \"9\", \"target\": \"33\", \"weight\": 1}, {\"uid\": \"10-0\", \"source\": \"10\", \"target\": \"0\", \"weight\": 1}, {\"uid\": \"10-4\", \"source\": \"10\", \"target\": \"4\", \"weight\": 1}, {\"uid\": \"10-5\", \"source\": \"10\", \"target\": \"5\", \"weight\": 1}, {\"uid\": \"11-0\", \"source\": \"11\", \"target\": \"0\", \"weight\": 1}, {\"uid\": \"12-0\", \"source\": \"12\", \"target\": \"0\", \"weight\": 1}, {\"uid\": \"12-3\", \"source\": \"12\", \"target\": \"3\", \"weight\": 1}, {\"uid\": \"13-0\", \"source\": \"13\", \"target\": \"0\", \"weight\": 1}, {\"uid\": \"13-1\", \"source\": \"13\", \"target\": \"1\", \"weight\": 1}, {\"uid\": \"13-2\", \"source\": \"13\", \"target\": \"2\", \"weight\": 1}, {\"uid\": \"13-3\", \"source\": \"13\", \"target\": \"3\", \"weight\": 1}, {\"uid\": \"13-33\", \"source\": \"13\", \"target\": \"33\", \"weight\": 1}, {\"uid\": \"14-32\", \"source\": \"14\", \"target\": \"32\", \"weight\": 1}, {\"uid\": \"14-33\", \"source\": \"14\", \"target\": \"33\", \"weight\": 1}, {\"uid\": \"15-33\", \"source\": \"15\", \"target\": \"33\", \"weight\": 1}, {\"uid\": \"15-32\", \"source\": \"15\", \"target\": \"32\", \"weight\": 1}, {\"uid\": \"16-5\", \"source\": \"16\", \"target\": \"5\", \"weight\": 1}, {\"uid\": \"16-6\", \"source\": \"16\", \"target\": \"6\", \"weight\": 1}, {\"uid\": \"17-0\", \"source\": \"17\", \"target\": \"0\", \"weight\": 1}, {\"uid\": \"17-1\", \"source\": \"17\", \"target\": \"1\", \"weight\": 1}, {\"uid\": \"18-32\", \"source\": \"18\", \"target\": \"32\", \"weight\": 1}, {\"uid\": \"18-33\", \"source\": \"18\", \"target\": \"33\", \"weight\": 1}, {\"uid\": \"19-1\", \"source\": \"19\", \"target\": \"1\", \"weight\": 1}, {\"uid\": \"19-33\", \"source\": \"19\", \"target\": \"33\", \"weight\": 1}, {\"uid\": \"19-0\", \"source\": \"19\", \"target\": \"0\", \"weight\": 1}, {\"uid\": \"20-32\", \"source\": \"20\", \"target\": \"32\", \"weight\": 1}, {\"uid\": \"20-33\", \"source\": \"20\", \"target\": \"33\", \"weight\": 1}, {\"uid\": \"21-0\", \"source\": \"21\", \"target\": \"0\", \"weight\": 1}, {\"uid\": \"21-1\", \"source\": \"21\", \"target\": \"1\", \"weight\": 1}, {\"uid\": \"22-32\", \"source\": \"22\", \"target\": \"32\", \"weight\": 1}, {\"uid\": \"23-32\", \"source\": \"23\", \"target\": \"32\", \"weight\": 1}, {\"uid\": \"23-33\", \"source\": \"23\", \"target\": \"33\", \"weight\": 1}, {\"uid\": \"23-29\", \"source\": \"23\", \"target\": \"29\", \"weight\": 1}, {\"uid\": \"23-25\", \"source\": \"23\", \"target\": \"25\", \"weight\": 1}, {\"uid\": \"23-27\", \"source\": \"23\", \"target\": \"27\", \"weight\": 1}, {\"uid\": \"24-25\", \"source\": \"24\", \"target\": \"25\", \"weight\": 1}, {\"uid\": \"24-27\", \"source\": \"24\", \"target\": \"27\", \"weight\": 1}, {\"uid\": \"24-31\", \"source\": \"24\", \"target\": \"31\", \"weight\": 1}, {\"uid\": \"25-23\", \"source\": \"25\", \"target\": \"23\", \"weight\": 1}, {\"uid\": \"25-24\", \"source\": \"25\", \"target\": \"24\", \"weight\": 1}, {\"uid\": \"25-31\", \"source\": \"25\", \"target\": \"31\", \"weight\": 1}, {\"uid\": \"26-33\", \"source\": \"26\", \"target\": \"33\", \"weight\": 1}, {\"uid\": \"26-29\", \"source\": \"26\", \"target\": \"29\", \"weight\": 1}, {\"uid\": \"27-2\", \"source\": \"27\", \"target\": \"2\", \"weight\": 1}, {\"uid\": \"27-23\", \"source\": \"27\", \"target\": \"23\", \"weight\": 1}, {\"uid\": \"27-24\", \"source\": \"27\", \"target\": \"24\", \"weight\": 1}, {\"uid\": \"27-33\", \"source\": \"27\", \"target\": \"33\", \"weight\": 1}, {\"uid\": \"28-2\", \"source\": \"28\", \"target\": \"2\", \"weight\": 1}, {\"uid\": \"28-31\", \"source\": \"28\", \"target\": \"31\", \"weight\": 1}, {\"uid\": \"28-33\", \"source\": \"28\", \"target\": \"33\", \"weight\": 1}, {\"uid\": \"29-32\", \"source\": \"29\", \"target\": \"32\", \"weight\": 1}, {\"uid\": \"29-33\", \"source\": \"29\", \"target\": \"33\", \"weight\": 1}, {\"uid\": \"29-23\", \"source\": \"29\", \"target\": \"23\", \"weight\": 1}, {\"uid\": \"29-26\", \"source\": \"29\", \"target\": \"26\", \"weight\": 1}, {\"uid\": \"30-1\", \"source\": \"30\", \"target\": \"1\", \"weight\": 1}, {\"uid\": \"30-8\", \"source\": \"30\", \"target\": \"8\", \"weight\": 1}, {\"uid\": \"30-32\", \"source\": \"30\", \"target\": \"32\", \"weight\": 1}, {\"uid\": \"30-33\", \"source\": \"30\", \"target\": \"33\", \"weight\": 1}, {\"uid\": \"31-28\", \"source\": \"31\", \"target\": \"28\", \"weight\": 1}, {\"uid\": \"31-33\", \"source\": \"31\", \"target\": \"33\", \"weight\": 1}, {\"uid\": \"31-32\", \"source\": \"31\", \"target\": \"32\", \"weight\": 1}, {\"uid\": \"31-25\", \"source\": \"31\", \"target\": \"25\", \"weight\": 1}, {\"uid\": \"31-24\", \"source\": \"31\", \"target\": \"24\", \"weight\": 1}, {\"uid\": \"31-0\", \"source\": \"31\", \"target\": \"0\", \"weight\": 1}, {\"uid\": \"32-29\", \"source\": \"32\", \"target\": \"29\", \"weight\": 1}, {\"uid\": \"32-33\", \"source\": \"32\", \"target\": \"33\", \"weight\": 1}, {\"uid\": \"32-31\", \"source\": \"32\", \"target\": \"31\", \"weight\": 1}, {\"uid\": \"32-30\", \"source\": \"32\", \"target\": \"30\", \"weight\": 1}, {\"uid\": \"32-23\", \"source\": \"32\", \"target\": \"23\", \"weight\": 1}, {\"uid\": \"32-22\", \"source\": \"32\", \"target\": \"22\", \"weight\": 1}, {\"uid\": \"32-18\", \"source\": \"32\", \"target\": \"18\", \"weight\": 1}, {\"uid\": \"32-15\", \"source\": \"32\", \"target\": \"15\", \"weight\": 1}, {\"uid\": \"32-14\", \"source\": \"32\", \"target\": \"14\", \"weight\": 1}, {\"uid\": \"32-8\", \"source\": \"32\", \"target\": \"8\", \"weight\": 1}, {\"uid\": \"32-2\", \"source\": \"32\", \"target\": \"2\", \"weight\": 1}, {\"uid\": \"32-20\", \"source\": \"32\", \"target\": \"20\", \"weight\": 1}, {\"uid\": \"33-32\", \"source\": \"33\", \"target\": \"32\", \"weight\": 1}, {\"uid\": \"33-31\", \"source\": \"33\", \"target\": \"31\", \"weight\": 1}, {\"uid\": \"33-30\", \"source\": \"33\", \"target\": \"30\", \"weight\": 1}, {\"uid\": \"33-29\", \"source\": \"33\", \"target\": \"29\", \"weight\": 1}, {\"uid\": \"33-28\", \"source\": \"33\", \"target\": \"28\", \"weight\": 1}, {\"uid\": \"33-27\", \"source\": \"33\", \"target\": \"27\", \"weight\": 1}, {\"uid\": \"33-26\", \"source\": \"33\", \"target\": \"26\", \"weight\": 1}, {\"uid\": \"33-23\", \"source\": \"33\", \"target\": \"23\", \"weight\": 1}, {\"uid\": \"33-20\", \"source\": \"33\", \"target\": \"20\", \"weight\": 1}, {\"uid\": \"33-19\", \"source\": \"33\", \"target\": \"19\", \"weight\": 1}, {\"uid\": \"33-18\", \"source\": \"33\", \"target\": \"18\", \"weight\": 1}, {\"uid\": \"33-15\", \"source\": \"33\", \"target\": \"15\", \"weight\": 1}, {\"uid\": \"33-14\", \"source\": \"33\", \"target\": \"14\", \"weight\": 1}, {\"uid\": \"33-13\", \"source\": \"33\", \"target\": \"13\", \"weight\": 1}, {\"uid\": \"33-9\", \"source\": \"33\", \"target\": \"9\", \"weight\": 1}, {\"uid\": \"33-8\", \"source\": \"33\", \"target\": \"8\", \"weight\": 1}], \"nodes\": [{\"uid\": \"0\"}, {\"uid\": \"1\"}, {\"uid\": \"2\"}, {\"uid\": \"3\"}, {\"uid\": \"4\"}, {\"uid\": \"5\"}, {\"uid\": \"6\"}, {\"uid\": \"7\"}, {\"uid\": \"8\"}, {\"uid\": \"9\"}, {\"uid\": \"10\"}, {\"uid\": \"11\"}, {\"uid\": \"12\"}, {\"uid\": \"13\"}, {\"uid\": \"14\"}, {\"uid\": \"15\"}, {\"uid\": \"16\"}, {\"uid\": \"17\"}, {\"uid\": \"18\"}, {\"uid\": \"19\"}, {\"uid\": \"20\"}, {\"uid\": \"21\"}, {\"uid\": \"22\"}, {\"uid\": \"23\"}, {\"uid\": \"24\"}, {\"uid\": \"25\"}, {\"uid\": \"26\"}, {\"uid\": \"27\"}, {\"uid\": \"28\"}, {\"uid\": \"29\"}, {\"uid\": \"30\"}, {\"uid\": \"31\"}, {\"uid\": \"32\"}, {\"uid\": \"33\"}]}\n",
       "const config = {\"directed\": false, \"curved\": false, \"selector\": \"#xcca88270b844460fbf46edeef68a8a59\"}\n",
       "console.log(\"Static Network Template\");\n",
       "/* Resources\n",
       "   https://bl.ocks.org/mapio/53fed7d84cd1812d6a6639ed7aa83868\n",
       "   https://codepen.io/smlo/pen/JdMOej\n",
       "*/\n",
       "\n",
       "// variables from the config file\n",
       "const selector = config.selector;\n",
       "const width = config.width || 800;\n",
       "const height = config.height || 600;\n",
       "const charge_distance = config.charge_distance || 400;\n",
       "const charge_force = config.charge_force || -3000;\n",
       "const curved = config.curved || false;\n",
       "const directed = config.directed || false;\n",
       "// const weight = false;\n",
       "\n",
       "/* Create a svg element to display the network */\n",
       "var svg = d3.select(selector)\n",
       "    .append('svg')\n",
       "    .attr('width', width)\n",
       "    .attr('height', height)\n",
       "\n",
       "// add container to store the elements\n",
       "var container = svg.append(\"g\");\n",
       "\n",
       "/*Add zoom function to the container */\n",
       "svg.call(\n",
       "    d3.zoom()\n",
       "        .scaleExtent([.1, 4])\n",
       "        .on(\"zoom\", function() { container.attr(\"transform\", d3.event.transform); })\n",
       ");\n",
       "\n",
       "\n",
       "/*Load nodes and links from the data */\n",
       "var nodes = data.nodes\n",
       "var links = data.edges\n",
       "\n",
       "/*Create arrow head with same color as the edge */\n",
       "function marker (color) {\n",
       "       var reference;\n",
       "       svg.append(\"svg:defs\").selectAll(\"marker\")\n",
       "          .data([reference])\n",
       "          .enter().append(\"svg:marker\")\n",
       "          .attr(\"id\", \"arrow\"+color)\n",
       "          .attr(\"viewBox\", \"0 -5 10 10\")\n",
       "          .attr(\"refX\", 10)\n",
       "          .attr(\"refY\", -0)\n",
       "          .attr(\"markerWidth\", 6)\n",
       "          .attr(\"markerHeight\", 6)\n",
       "          .attr(\"orient\", \"auto\")\n",
       "          .append(\"svg:path\")\n",
       "          .attr('class','.arrow')\n",
       "          .attr(\"d\", \"M0,-5L10,0L0,5\")\n",
       "          .style('opacity',1)\n",
       "          .style(\"fill\", color);\n",
       "       return \"url(#\" + \"arrow\"+color + \")\";\n",
       "     };\n",
       "\n",
       "/*Link creation template */\n",
       "var link = container.append(\"g\").attr(\"class\", \"links\")\n",
       "    .selectAll(\".link\")\n",
       "    .data(links)\n",
       "    .enter()\n",
       "    .append(\"path\")\n",
       "    .attr(\"class\", \"link\")\n",
       "    .style(\"stroke\", function(d) { return d.color; })\n",
       "    .style(\"stroke-opacity\", function(d) { return d.opacity; })\n",
       "    .style(\"stroke-width\", function(d){  return d.size })\n",
       "    .style(\"fill\",\"none\")\n",
       "    .attr(\"marker-end\", function (d) {if(directed){return marker(d.color)}else{return null}; });\n",
       "\n",
       "    //.attr(\"marker-end\", function (d) { return marker(d.color); });\n",
       "    //.attr(\"marker-end\", \"url(#arrow)\");\n",
       "\n",
       "/*Node creation template */\n",
       "var node = container.append(\"g\").attr(\"class\", \"nodes\")\n",
       "    .selectAll(\"circle.node\")\n",
       "    .data(nodes)\n",
       "    .enter().append(\"circle\")\n",
       "    .attr(\"class\", \"node\")\n",
       "    .attr(\"x\", function(d) { return d.x; })\n",
       "    .attr(\"y\", function(d) { return d.y; })\n",
       "    .style(\"r\", function(d){  return d.size+\"px\"; })\n",
       "    .style(\"fill\", function(d) { return d.color; })\n",
       "    .style(\"opacity\", function(d) { return d.opacity; });\n",
       "\n",
       "/*Label creation template */\n",
       "var text = container.append(\"g\").attr(\"class\",\"labels\")\n",
       "    .selectAll(\"g\")\n",
       "    .data(nodes)\n",
       "    .enter().append(\"g\")\n",
       "\n",
       "text.append(\"text\")\n",
       "    .attr(\"class\", \"label-text\")\n",
       "    .attr(\"x\", function(d) {\n",
       "        var r = (d.size === undefined) ? 15 : d.size;\n",
       "        return 5 + r; })\n",
       "    .attr(\"dy\", \".31em\")\n",
       "    .text(function(d) { return d.label; });\n",
       "\n",
       "/*Scale weight for d3js */\n",
       "var weightScale = d3.scaleLinear()\n",
       "    .domain(d3.extent(links, function (d) { return d.weight }))\n",
       "    .range([.1, 1]);\n",
       "\n",
       "/*Simulation of the forces*/\n",
       "var simulation = d3.forceSimulation(nodes)\n",
       "    .force(\"links\", d3.forceLink(links)\n",
       "           .id(function(d) {return d.uid; })\n",
       "           .distance(50)\n",
       "           .strength(function(d){return weightScale(d.weight);})\n",
       "          )\n",
       "    .force(\"charge\", d3.forceManyBody()\n",
       "           .strength(charge_force)\n",
       "           .distanceMax(charge_distance)\n",
       "          )\n",
       "    .force(\"center\", d3.forceCenter(width / 2, height / 2))\n",
       "    .on(\"tick\", ticked);\n",
       "\n",
       "/*Update of the node and edge objects*/\n",
       "function ticked() {\n",
       "    node.call(updateNode);\n",
       "    link.call(updateLink);\n",
       "    text.call(updateText);\n",
       "};\n",
       "\n",
       "/*Update link positions */\n",
       "function updateLink(link) {\n",
       "    // link\n",
       "    //     .attr(\"x1\", function(d) { return d.source.x; })\n",
       "    //     .attr(\"y1\", function(d) { return d.source.y; })\n",
       "    //     .attr(\"x2\", function(d) { return d.target.x; })\n",
       "    //     .attr(\"y2\", function(d) { return d.target.y; });\n",
       "\n",
       "\n",
       "    link.attr(\"d\", function(d) {\n",
       "        var dx = d.target.x - d.source.x,\n",
       "            dy = d.target.y - d.source.y,\n",
       "            dr = Math.sqrt(dx * dx + dy * dy);\n",
       "        if(!curved)dr=0;\n",
       "        return \"M\" +\n",
       "            d.source.x + \",\" +\n",
       "            d.source.y + \"A\" +\n",
       "            dr + \",\" + dr + \" 0 0,1 \" +\n",
       "            d.target.x + \",\" +\n",
       "            d.target.y;\n",
       "    });\n",
       "\n",
       "    // recalculate and back off the distance\n",
       "    link.attr(\"d\", function (d, i) {\n",
       "        var pl = this.getTotalLength();\n",
       "        var r = (d.target.size === undefined) ? 15 : d.target.size;\n",
       "        var m = this.getPointAtLength(pl - r);\n",
       "        var dx = d.target.x - d.source.x,\n",
       "            dy = d.target.y - d.source.y,\n",
       "            dr = Math.sqrt(dx * dx + dy * dy);\n",
       "        if(!curved)dr=0;\n",
       "        var result = \"M\" + d.source.x + \",\" + d.source.y + \"A\" + dr + \",\" + dr + \" 0 0,1 \" + m.x + \",\" + m.y;\n",
       "        return result;\n",
       "    });\n",
       "};\n",
       "\n",
       "\n",
       "/*Update node positions */\n",
       "function updateNode(node) {\n",
       "    node.attr(\"transform\", function(d) {\n",
       "        return \"translate(\" + d.x + \",\" + d.y + \")\";\n",
       "    });\n",
       "    // node\n",
       "    //     .attr(\"cx\", function(d) { return d.x; })\n",
       "    //     .attr(\"cy\", function(d) { return d.y; });\n",
       "};\n",
       "\n",
       "/*Update text positions */\n",
       "function updateText(text) {\n",
       "    text.attr(\"transform\", function(d) {\n",
       "        return \"translate(\" + d.x + \",\" + d.y + \")\";\n",
       "    });\n",
       "};\n",
       "\n",
       "/*Add drag functionality to the node objects*/\n",
       "node.call(\n",
       "    d3.drag()\n",
       "        .on(\"start\", dragstarted)\n",
       "        .on(\"drag\", dragged)\n",
       "        .on(\"end\", dragended)\n",
       ");\n",
       "\n",
       "function dragstarted(d) {\n",
       "    d3.event.sourceEvent.stopPropagation();\n",
       "    if (!d3.event.active) simulation.alphaTarget(0.3).restart();\n",
       "    d.fx = d.x;\n",
       "    d.fy = d.y;\n",
       "};\n",
       "\n",
       "function dragged(d) {\n",
       "    d.fx = d3.event.x;\n",
       "    d.fy = d3.event.y;\n",
       "};\n",
       "\n",
       "function dragended(d) {\n",
       "    if (!d3.event.active) simulation.alphaTarget(0);\n",
       "    d.fx = null;\n",
       "    d.fy = null;\n",
       "};\n",
       "\n",
       "}); //END\n",
       "\n",
       "</script>"
      ]
     },
     "metadata": {},
     "output_type": "display_data"
    },
    {
     "data": {
      "text/plain": [
       "<pathpyG.visualisations.network_plots.StaticNetworkPlot at 0x7f2f101e1de0>"
      ]
     },
     "execution_count": 2,
     "metadata": {},
     "output_type": "execute_result"
    }
   ],
   "source": [
    "karate_network = pp.io.read_netzschleuder_network('karate', '77')\n",
    "pp.plot(karate_network)"
   ]
  },
  {
   "cell_type": "code",
   "execution_count": 3,
   "metadata": {
    "ExecuteTime": {
     "end_time": "2023-06-01T21:48:32.748851573Z",
     "start_time": "2023-06-01T21:48:32.711315113Z"
    }
   },
   "outputs": [],
   "source": [
    "def remap_communities(z):\n",
    "    z_new = np.zeros(len(z), dtype=int)\n",
    "    j = 0\n",
    "    mapping = {}\n",
    "    for i in range(len(z)):\n",
    "        if z[i] not in mapping:\n",
    "            mapping[z[i]] = j\n",
    "            j += 1\n",
    "    for i in range(len(z)):\n",
    "        z_new[i] = mapping[z[i]]\n",
    "    return z_new"
   ]
  },
  {
   "cell_type": "code",
   "execution_count": 4,
   "metadata": {
    "ExecuteTime": {
     "end_time": "2023-06-01T21:48:33.460307677Z",
     "start_time": "2023-06-01T21:48:33.429510697Z"
    }
   },
   "outputs": [
    {
     "name": "stdout",
     "output_type": "stream",
     "text": [
      "[0, 0, 0, 0, 0, 0, 0, 0, 0, 1, 0, 0, 0, 0, 1, 1, 0, 0, 1, 0, 1, 0, 1, 1, 1, 1, 1, 1, 1, 1, 1, 1, 1, 1]\n"
     ]
    }
   ],
   "source": [
    "ground_truth = [karate_network['node_groups', v][0]-1 for v in karate_network.nodes]\n",
    "print(ground_truth)"
   ]
  },
  {
   "cell_type": "code",
   "execution_count": 5,
   "metadata": {
    "ExecuteTime": {
     "end_time": "2023-06-01T21:48:35.604667897Z",
     "start_time": "2023-06-01T21:48:35.486302548Z"
    }
   },
   "outputs": [
    {
     "data": {
      "text/html": [
       "<style>\n",
       "svg circle.node {\n",
       "  fill: #3b5998;\n",
       "  stroke: #1b3978;\n",
       "  stroke-width: 2.5px;\n",
       "  r: 15px;\n",
       "  opacity: 1;\n",
       "}\n",
       "\n",
       ".link {\n",
       "  stroke: #969595;\n",
       "  stroke-opacity: .75;\n",
       "  stroke-width: 2.5px;\n",
       "}\n",
       "\n",
       ".arrow {\n",
       "  fill: #969595;\n",
       "}\n",
       "\n",
       "\n",
       ".label-text {\n",
       "    fill: #969595;\n",
       "    font-size: 16px;\n",
       "    font-family: sans-serif;\n",
       "}\n",
       "\n",
       "</style>\n",
       "\n",
       "<div id = \"x94ca4698e83c4b5ea2b817ef5f12d3e5\"> </div>\n",
       "<script charset=\"utf-8\" src=\"https://d3js.org/d3.v5.min.js\"></script>\n",
       "<script charset=\"utf-8\">\n",
       "// Load via requireJS if available (jupyter notebook environment)\n",
       "try {\n",
       "    // Problem: require.config will raise an exception when called for the second time \n",
       "    require.config({\n",
       "        paths: {\n",
       "            d3: \"https://d3js.org/d3.v5.min.js\".replace(\".js\", \"\")\n",
       "        }\n",
       "    });\n",
       "    console.log(\"OKAY: requireJS was detected.\");\n",
       "}\n",
       "catch(err){\n",
       "    // a reference error indicates that requireJS does not exist. \n",
       "    // other errors may occur due to multiple calls to config\n",
       "    if (err instanceof ReferenceError){\n",
       "        console.log(\"WARNING: NO requireJS was detected!\");\n",
       "\n",
       "        // Helper function that waits for d3js to be loaded\n",
       "        require = function require(symbols, callback) {\n",
       "            var ms = 10;\n",
       "            window.setTimeout(function(t) {\n",
       "                if (window[symbols[0]])\n",
       "                    callback(window[symbols[0]]);\n",
       "                else \n",
       "                    window.setTimeout(arguments.callee, ms);\n",
       "            }, ms);\n",
       "        }\n",
       "    }\n",
       "};\n",
       "require(['d3'], function(d3){ //START\n",
       "const data = {\"edges\": [{\"uid\": \"0-2\", \"source\": \"0\", \"target\": \"2\", \"weight\": 1}, {\"uid\": \"0-1\", \"source\": \"0\", \"target\": \"1\", \"weight\": 1}, {\"uid\": \"0-31\", \"source\": \"0\", \"target\": \"31\", \"weight\": 1}, {\"uid\": \"0-21\", \"source\": \"0\", \"target\": \"21\", \"weight\": 1}, {\"uid\": \"0-19\", \"source\": \"0\", \"target\": \"19\", \"weight\": 1}, {\"uid\": \"0-17\", \"source\": \"0\", \"target\": \"17\", \"weight\": 1}, {\"uid\": \"0-13\", \"source\": \"0\", \"target\": \"13\", \"weight\": 1}, {\"uid\": \"0-12\", \"source\": \"0\", \"target\": \"12\", \"weight\": 1}, {\"uid\": \"0-11\", \"source\": \"0\", \"target\": \"11\", \"weight\": 1}, {\"uid\": \"0-8\", \"source\": \"0\", \"target\": \"8\", \"weight\": 1}, {\"uid\": \"0-10\", \"source\": \"0\", \"target\": \"10\", \"weight\": 1}, {\"uid\": \"0-3\", \"source\": \"0\", \"target\": \"3\", \"weight\": 1}, {\"uid\": \"0-4\", \"source\": \"0\", \"target\": \"4\", \"weight\": 1}, {\"uid\": \"0-6\", \"source\": \"0\", \"target\": \"6\", \"weight\": 1}, {\"uid\": \"0-7\", \"source\": \"0\", \"target\": \"7\", \"weight\": 1}, {\"uid\": \"0-5\", \"source\": \"0\", \"target\": \"5\", \"weight\": 1}, {\"uid\": \"1-17\", \"source\": \"1\", \"target\": \"17\", \"weight\": 1}, {\"uid\": \"1-30\", \"source\": \"1\", \"target\": \"30\", \"weight\": 1}, {\"uid\": \"1-21\", \"source\": \"1\", \"target\": \"21\", \"weight\": 1}, {\"uid\": \"1-19\", \"source\": \"1\", \"target\": \"19\", \"weight\": 1}, {\"uid\": \"1-13\", \"source\": \"1\", \"target\": \"13\", \"weight\": 1}, {\"uid\": \"1-7\", \"source\": \"1\", \"target\": \"7\", \"weight\": 1}, {\"uid\": \"1-3\", \"source\": \"1\", \"target\": \"3\", \"weight\": 1}, {\"uid\": \"1-2\", \"source\": \"1\", \"target\": \"2\", \"weight\": 1}, {\"uid\": \"1-0\", \"source\": \"1\", \"target\": \"0\", \"weight\": 1}, {\"uid\": \"2-3\", \"source\": \"2\", \"target\": \"3\", \"weight\": 1}, {\"uid\": \"2-32\", \"source\": \"2\", \"target\": \"32\", \"weight\": 1}, {\"uid\": \"2-28\", \"source\": \"2\", \"target\": \"28\", \"weight\": 1}, {\"uid\": \"2-27\", \"source\": \"2\", \"target\": \"27\", \"weight\": 1}, {\"uid\": \"2-13\", \"source\": \"2\", \"target\": \"13\", \"weight\": 1}, {\"uid\": \"2-9\", \"source\": \"2\", \"target\": \"9\", \"weight\": 1}, {\"uid\": \"2-8\", \"source\": \"2\", \"target\": \"8\", \"weight\": 1}, {\"uid\": \"2-7\", \"source\": \"2\", \"target\": \"7\", \"weight\": 1}, {\"uid\": \"2-1\", \"source\": \"2\", \"target\": \"1\", \"weight\": 1}, {\"uid\": \"2-0\", \"source\": \"2\", \"target\": \"0\", \"weight\": 1}, {\"uid\": \"3-0\", \"source\": \"3\", \"target\": \"0\", \"weight\": 1}, {\"uid\": \"3-1\", \"source\": \"3\", \"target\": \"1\", \"weight\": 1}, {\"uid\": \"3-2\", \"source\": \"3\", \"target\": \"2\", \"weight\": 1}, {\"uid\": \"3-7\", \"source\": \"3\", \"target\": \"7\", \"weight\": 1}, {\"uid\": \"3-12\", \"source\": \"3\", \"target\": \"12\", \"weight\": 1}, {\"uid\": \"3-13\", \"source\": \"3\", \"target\": \"13\", \"weight\": 1}, {\"uid\": \"4-10\", \"source\": \"4\", \"target\": \"10\", \"weight\": 1}, {\"uid\": \"4-0\", \"source\": \"4\", \"target\": \"0\", \"weight\": 1}, {\"uid\": \"4-6\", \"source\": \"4\", \"target\": \"6\", \"weight\": 1}, {\"uid\": \"5-0\", \"source\": \"5\", \"target\": \"0\", \"weight\": 1}, {\"uid\": \"5-6\", \"source\": \"5\", \"target\": \"6\", \"weight\": 1}, {\"uid\": \"5-10\", \"source\": \"5\", \"target\": \"10\", \"weight\": 1}, {\"uid\": \"5-16\", \"source\": \"5\", \"target\": \"16\", \"weight\": 1}, {\"uid\": \"6-0\", \"source\": \"6\", \"target\": \"0\", \"weight\": 1}, {\"uid\": \"6-4\", \"source\": \"6\", \"target\": \"4\", \"weight\": 1}, {\"uid\": \"6-5\", \"source\": \"6\", \"target\": \"5\", \"weight\": 1}, {\"uid\": \"6-16\", \"source\": \"6\", \"target\": \"16\", \"weight\": 1}, {\"uid\": \"7-0\", \"source\": \"7\", \"target\": \"0\", \"weight\": 1}, {\"uid\": \"7-1\", \"source\": \"7\", \"target\": \"1\", \"weight\": 1}, {\"uid\": \"7-2\", \"source\": \"7\", \"target\": \"2\", \"weight\": 1}, {\"uid\": \"7-3\", \"source\": \"7\", \"target\": \"3\", \"weight\": 1}, {\"uid\": \"8-32\", \"source\": \"8\", \"target\": \"32\", \"weight\": 1}, {\"uid\": \"8-33\", \"source\": \"8\", \"target\": \"33\", \"weight\": 1}, {\"uid\": \"8-2\", \"source\": \"8\", \"target\": \"2\", \"weight\": 1}, {\"uid\": \"8-0\", \"source\": \"8\", \"target\": \"0\", \"weight\": 1}, {\"uid\": \"8-30\", \"source\": \"8\", \"target\": \"30\", \"weight\": 1}, {\"uid\": \"9-2\", \"source\": \"9\", \"target\": \"2\", \"weight\": 1}, {\"uid\": \"9-33\", \"source\": \"9\", \"target\": \"33\", \"weight\": 1}, {\"uid\": \"10-0\", \"source\": \"10\", \"target\": \"0\", \"weight\": 1}, {\"uid\": \"10-4\", \"source\": \"10\", \"target\": \"4\", \"weight\": 1}, {\"uid\": \"10-5\", \"source\": \"10\", \"target\": \"5\", \"weight\": 1}, {\"uid\": \"11-0\", \"source\": \"11\", \"target\": \"0\", \"weight\": 1}, {\"uid\": \"12-0\", \"source\": \"12\", \"target\": \"0\", \"weight\": 1}, {\"uid\": \"12-3\", \"source\": \"12\", \"target\": \"3\", \"weight\": 1}, {\"uid\": \"13-0\", \"source\": \"13\", \"target\": \"0\", \"weight\": 1}, {\"uid\": \"13-1\", \"source\": \"13\", \"target\": \"1\", \"weight\": 1}, {\"uid\": \"13-2\", \"source\": \"13\", \"target\": \"2\", \"weight\": 1}, {\"uid\": \"13-3\", \"source\": \"13\", \"target\": \"3\", \"weight\": 1}, {\"uid\": \"13-33\", \"source\": \"13\", \"target\": \"33\", \"weight\": 1}, {\"uid\": \"14-32\", \"source\": \"14\", \"target\": \"32\", \"weight\": 1}, {\"uid\": \"14-33\", \"source\": \"14\", \"target\": \"33\", \"weight\": 1}, {\"uid\": \"15-33\", \"source\": \"15\", \"target\": \"33\", \"weight\": 1}, {\"uid\": \"15-32\", \"source\": \"15\", \"target\": \"32\", \"weight\": 1}, {\"uid\": \"16-5\", \"source\": \"16\", \"target\": \"5\", \"weight\": 1}, {\"uid\": \"16-6\", \"source\": \"16\", \"target\": \"6\", \"weight\": 1}, {\"uid\": \"17-0\", \"source\": \"17\", \"target\": \"0\", \"weight\": 1}, {\"uid\": \"17-1\", \"source\": \"17\", \"target\": \"1\", \"weight\": 1}, {\"uid\": \"18-32\", \"source\": \"18\", \"target\": \"32\", \"weight\": 1}, {\"uid\": \"18-33\", \"source\": \"18\", \"target\": \"33\", \"weight\": 1}, {\"uid\": \"19-1\", \"source\": \"19\", \"target\": \"1\", \"weight\": 1}, {\"uid\": \"19-33\", \"source\": \"19\", \"target\": \"33\", \"weight\": 1}, {\"uid\": \"19-0\", \"source\": \"19\", \"target\": \"0\", \"weight\": 1}, {\"uid\": \"20-32\", \"source\": \"20\", \"target\": \"32\", \"weight\": 1}, {\"uid\": \"20-33\", \"source\": \"20\", \"target\": \"33\", \"weight\": 1}, {\"uid\": \"21-0\", \"source\": \"21\", \"target\": \"0\", \"weight\": 1}, {\"uid\": \"21-1\", \"source\": \"21\", \"target\": \"1\", \"weight\": 1}, {\"uid\": \"22-32\", \"source\": \"22\", \"target\": \"32\", \"weight\": 1}, {\"uid\": \"23-32\", \"source\": \"23\", \"target\": \"32\", \"weight\": 1}, {\"uid\": \"23-33\", \"source\": \"23\", \"target\": \"33\", \"weight\": 1}, {\"uid\": \"23-29\", \"source\": \"23\", \"target\": \"29\", \"weight\": 1}, {\"uid\": \"23-25\", \"source\": \"23\", \"target\": \"25\", \"weight\": 1}, {\"uid\": \"23-27\", \"source\": \"23\", \"target\": \"27\", \"weight\": 1}, {\"uid\": \"24-25\", \"source\": \"24\", \"target\": \"25\", \"weight\": 1}, {\"uid\": \"24-27\", \"source\": \"24\", \"target\": \"27\", \"weight\": 1}, {\"uid\": \"24-31\", \"source\": \"24\", \"target\": \"31\", \"weight\": 1}, {\"uid\": \"25-23\", \"source\": \"25\", \"target\": \"23\", \"weight\": 1}, {\"uid\": \"25-24\", \"source\": \"25\", \"target\": \"24\", \"weight\": 1}, {\"uid\": \"25-31\", \"source\": \"25\", \"target\": \"31\", \"weight\": 1}, {\"uid\": \"26-33\", \"source\": \"26\", \"target\": \"33\", \"weight\": 1}, {\"uid\": \"26-29\", \"source\": \"26\", \"target\": \"29\", \"weight\": 1}, {\"uid\": \"27-2\", \"source\": \"27\", \"target\": \"2\", \"weight\": 1}, {\"uid\": \"27-23\", \"source\": \"27\", \"target\": \"23\", \"weight\": 1}, {\"uid\": \"27-24\", \"source\": \"27\", \"target\": \"24\", \"weight\": 1}, {\"uid\": \"27-33\", \"source\": \"27\", \"target\": \"33\", \"weight\": 1}, {\"uid\": \"28-2\", \"source\": \"28\", \"target\": \"2\", \"weight\": 1}, {\"uid\": \"28-31\", \"source\": \"28\", \"target\": \"31\", \"weight\": 1}, {\"uid\": \"28-33\", \"source\": \"28\", \"target\": \"33\", \"weight\": 1}, {\"uid\": \"29-32\", \"source\": \"29\", \"target\": \"32\", \"weight\": 1}, {\"uid\": \"29-33\", \"source\": \"29\", \"target\": \"33\", \"weight\": 1}, {\"uid\": \"29-23\", \"source\": \"29\", \"target\": \"23\", \"weight\": 1}, {\"uid\": \"29-26\", \"source\": \"29\", \"target\": \"26\", \"weight\": 1}, {\"uid\": \"30-1\", \"source\": \"30\", \"target\": \"1\", \"weight\": 1}, {\"uid\": \"30-8\", \"source\": \"30\", \"target\": \"8\", \"weight\": 1}, {\"uid\": \"30-32\", \"source\": \"30\", \"target\": \"32\", \"weight\": 1}, {\"uid\": \"30-33\", \"source\": \"30\", \"target\": \"33\", \"weight\": 1}, {\"uid\": \"31-28\", \"source\": \"31\", \"target\": \"28\", \"weight\": 1}, {\"uid\": \"31-33\", \"source\": \"31\", \"target\": \"33\", \"weight\": 1}, {\"uid\": \"31-32\", \"source\": \"31\", \"target\": \"32\", \"weight\": 1}, {\"uid\": \"31-25\", \"source\": \"31\", \"target\": \"25\", \"weight\": 1}, {\"uid\": \"31-24\", \"source\": \"31\", \"target\": \"24\", \"weight\": 1}, {\"uid\": \"31-0\", \"source\": \"31\", \"target\": \"0\", \"weight\": 1}, {\"uid\": \"32-29\", \"source\": \"32\", \"target\": \"29\", \"weight\": 1}, {\"uid\": \"32-33\", \"source\": \"32\", \"target\": \"33\", \"weight\": 1}, {\"uid\": \"32-31\", \"source\": \"32\", \"target\": \"31\", \"weight\": 1}, {\"uid\": \"32-30\", \"source\": \"32\", \"target\": \"30\", \"weight\": 1}, {\"uid\": \"32-23\", \"source\": \"32\", \"target\": \"23\", \"weight\": 1}, {\"uid\": \"32-22\", \"source\": \"32\", \"target\": \"22\", \"weight\": 1}, {\"uid\": \"32-18\", \"source\": \"32\", \"target\": \"18\", \"weight\": 1}, {\"uid\": \"32-15\", \"source\": \"32\", \"target\": \"15\", \"weight\": 1}, {\"uid\": \"32-14\", \"source\": \"32\", \"target\": \"14\", \"weight\": 1}, {\"uid\": \"32-8\", \"source\": \"32\", \"target\": \"8\", \"weight\": 1}, {\"uid\": \"32-2\", \"source\": \"32\", \"target\": \"2\", \"weight\": 1}, {\"uid\": \"32-20\", \"source\": \"32\", \"target\": \"20\", \"weight\": 1}, {\"uid\": \"33-32\", \"source\": \"33\", \"target\": \"32\", \"weight\": 1}, {\"uid\": \"33-31\", \"source\": \"33\", \"target\": \"31\", \"weight\": 1}, {\"uid\": \"33-30\", \"source\": \"33\", \"target\": \"30\", \"weight\": 1}, {\"uid\": \"33-29\", \"source\": \"33\", \"target\": \"29\", \"weight\": 1}, {\"uid\": \"33-28\", \"source\": \"33\", \"target\": \"28\", \"weight\": 1}, {\"uid\": \"33-27\", \"source\": \"33\", \"target\": \"27\", \"weight\": 1}, {\"uid\": \"33-26\", \"source\": \"33\", \"target\": \"26\", \"weight\": 1}, {\"uid\": \"33-23\", \"source\": \"33\", \"target\": \"23\", \"weight\": 1}, {\"uid\": \"33-20\", \"source\": \"33\", \"target\": \"20\", \"weight\": 1}, {\"uid\": \"33-19\", \"source\": \"33\", \"target\": \"19\", \"weight\": 1}, {\"uid\": \"33-18\", \"source\": \"33\", \"target\": \"18\", \"weight\": 1}, {\"uid\": \"33-15\", \"source\": \"33\", \"target\": \"15\", \"weight\": 1}, {\"uid\": \"33-14\", \"source\": \"33\", \"target\": \"14\", \"weight\": 1}, {\"uid\": \"33-13\", \"source\": \"33\", \"target\": \"13\", \"weight\": 1}, {\"uid\": \"33-9\", \"source\": \"33\", \"target\": \"9\", \"weight\": 1}, {\"uid\": \"33-8\", \"source\": \"33\", \"target\": \"8\", \"weight\": 1}], \"nodes\": [{\"uid\": \"0\", \"color\": \"#00ff00\"}, {\"uid\": \"1\", \"color\": \"#00ff00\"}, {\"uid\": \"2\", \"color\": \"#00ff00\"}, {\"uid\": \"3\", \"color\": \"#00ff00\"}, {\"uid\": \"4\", \"color\": \"#00ff00\"}, {\"uid\": \"5\", \"color\": \"#00ff00\"}, {\"uid\": \"6\", \"color\": \"#00ff00\"}, {\"uid\": \"7\", \"color\": \"#00ff00\"}, {\"uid\": \"8\", \"color\": \"#00ff00\"}, {\"uid\": \"9\", \"color\": \"#ff0000\"}, {\"uid\": \"10\", \"color\": \"#00ff00\"}, {\"uid\": \"11\", \"color\": \"#00ff00\"}, {\"uid\": \"12\", \"color\": \"#00ff00\"}, {\"uid\": \"13\", \"color\": \"#00ff00\"}, {\"uid\": \"14\", \"color\": \"#ff0000\"}, {\"uid\": \"15\", \"color\": \"#ff0000\"}, {\"uid\": \"16\", \"color\": \"#00ff00\"}, {\"uid\": \"17\", \"color\": \"#00ff00\"}, {\"uid\": \"18\", \"color\": \"#ff0000\"}, {\"uid\": \"19\", \"color\": \"#00ff00\"}, {\"uid\": \"20\", \"color\": \"#ff0000\"}, {\"uid\": \"21\", \"color\": \"#00ff00\"}, {\"uid\": \"22\", \"color\": \"#ff0000\"}, {\"uid\": \"23\", \"color\": \"#ff0000\"}, {\"uid\": \"24\", \"color\": \"#ff0000\"}, {\"uid\": \"25\", \"color\": \"#ff0000\"}, {\"uid\": \"26\", \"color\": \"#ff0000\"}, {\"uid\": \"27\", \"color\": \"#ff0000\"}, {\"uid\": \"28\", \"color\": \"#ff0000\"}, {\"uid\": \"29\", \"color\": \"#ff0000\"}, {\"uid\": \"30\", \"color\": \"#ff0000\"}, {\"uid\": \"31\", \"color\": \"#ff0000\"}, {\"uid\": \"32\", \"color\": \"#ff0000\"}, {\"uid\": \"33\", \"color\": \"#ff0000\"}]}\n",
       "const config = {\"node_color\": [0, 0, 0, 0, 0, 0, 0, 0, 0, 1, 0, 0, 0, 0, 1, 1, 0, 0, 1, 0, 1, 0, 1, 1, 1, 1, 1, 1, 1, 1, 1, 1, 1, 1], \"directed\": false, \"curved\": false, \"selector\": \"#x94ca4698e83c4b5ea2b817ef5f12d3e5\"}\n",
       "console.log(\"Static Network Template\");\n",
       "/* Resources\n",
       "   https://bl.ocks.org/mapio/53fed7d84cd1812d6a6639ed7aa83868\n",
       "   https://codepen.io/smlo/pen/JdMOej\n",
       "*/\n",
       "\n",
       "// variables from the config file\n",
       "const selector = config.selector;\n",
       "const width = config.width || 800;\n",
       "const height = config.height || 600;\n",
       "const charge_distance = config.charge_distance || 400;\n",
       "const charge_force = config.charge_force || -3000;\n",
       "const curved = config.curved || false;\n",
       "const directed = config.directed || false;\n",
       "// const weight = false;\n",
       "\n",
       "/* Create a svg element to display the network */\n",
       "var svg = d3.select(selector)\n",
       "    .append('svg')\n",
       "    .attr('width', width)\n",
       "    .attr('height', height)\n",
       "\n",
       "// add container to store the elements\n",
       "var container = svg.append(\"g\");\n",
       "\n",
       "/*Add zoom function to the container */\n",
       "svg.call(\n",
       "    d3.zoom()\n",
       "        .scaleExtent([.1, 4])\n",
       "        .on(\"zoom\", function() { container.attr(\"transform\", d3.event.transform); })\n",
       ");\n",
       "\n",
       "\n",
       "/*Load nodes and links from the data */\n",
       "var nodes = data.nodes\n",
       "var links = data.edges\n",
       "\n",
       "/*Create arrow head with same color as the edge */\n",
       "function marker (color) {\n",
       "       var reference;\n",
       "       svg.append(\"svg:defs\").selectAll(\"marker\")\n",
       "          .data([reference])\n",
       "          .enter().append(\"svg:marker\")\n",
       "          .attr(\"id\", \"arrow\"+color)\n",
       "          .attr(\"viewBox\", \"0 -5 10 10\")\n",
       "          .attr(\"refX\", 10)\n",
       "          .attr(\"refY\", -0)\n",
       "          .attr(\"markerWidth\", 6)\n",
       "          .attr(\"markerHeight\", 6)\n",
       "          .attr(\"orient\", \"auto\")\n",
       "          .append(\"svg:path\")\n",
       "          .attr('class','.arrow')\n",
       "          .attr(\"d\", \"M0,-5L10,0L0,5\")\n",
       "          .style('opacity',1)\n",
       "          .style(\"fill\", color);\n",
       "       return \"url(#\" + \"arrow\"+color + \")\";\n",
       "     };\n",
       "\n",
       "/*Link creation template */\n",
       "var link = container.append(\"g\").attr(\"class\", \"links\")\n",
       "    .selectAll(\".link\")\n",
       "    .data(links)\n",
       "    .enter()\n",
       "    .append(\"path\")\n",
       "    .attr(\"class\", \"link\")\n",
       "    .style(\"stroke\", function(d) { return d.color; })\n",
       "    .style(\"stroke-opacity\", function(d) { return d.opacity; })\n",
       "    .style(\"stroke-width\", function(d){  return d.size })\n",
       "    .style(\"fill\",\"none\")\n",
       "    .attr(\"marker-end\", function (d) {if(directed){return marker(d.color)}else{return null}; });\n",
       "\n",
       "    //.attr(\"marker-end\", function (d) { return marker(d.color); });\n",
       "    //.attr(\"marker-end\", \"url(#arrow)\");\n",
       "\n",
       "/*Node creation template */\n",
       "var node = container.append(\"g\").attr(\"class\", \"nodes\")\n",
       "    .selectAll(\"circle.node\")\n",
       "    .data(nodes)\n",
       "    .enter().append(\"circle\")\n",
       "    .attr(\"class\", \"node\")\n",
       "    .attr(\"x\", function(d) { return d.x; })\n",
       "    .attr(\"y\", function(d) { return d.y; })\n",
       "    .style(\"r\", function(d){  return d.size+\"px\"; })\n",
       "    .style(\"fill\", function(d) { return d.color; })\n",
       "    .style(\"opacity\", function(d) { return d.opacity; });\n",
       "\n",
       "/*Label creation template */\n",
       "var text = container.append(\"g\").attr(\"class\",\"labels\")\n",
       "    .selectAll(\"g\")\n",
       "    .data(nodes)\n",
       "    .enter().append(\"g\")\n",
       "\n",
       "text.append(\"text\")\n",
       "    .attr(\"class\", \"label-text\")\n",
       "    .attr(\"x\", function(d) {\n",
       "        var r = (d.size === undefined) ? 15 : d.size;\n",
       "        return 5 + r; })\n",
       "    .attr(\"dy\", \".31em\")\n",
       "    .text(function(d) { return d.label; });\n",
       "\n",
       "/*Scale weight for d3js */\n",
       "var weightScale = d3.scaleLinear()\n",
       "    .domain(d3.extent(links, function (d) { return d.weight }))\n",
       "    .range([.1, 1]);\n",
       "\n",
       "/*Simulation of the forces*/\n",
       "var simulation = d3.forceSimulation(nodes)\n",
       "    .force(\"links\", d3.forceLink(links)\n",
       "           .id(function(d) {return d.uid; })\n",
       "           .distance(50)\n",
       "           .strength(function(d){return weightScale(d.weight);})\n",
       "          )\n",
       "    .force(\"charge\", d3.forceManyBody()\n",
       "           .strength(charge_force)\n",
       "           .distanceMax(charge_distance)\n",
       "          )\n",
       "    .force(\"center\", d3.forceCenter(width / 2, height / 2))\n",
       "    .on(\"tick\", ticked);\n",
       "\n",
       "/*Update of the node and edge objects*/\n",
       "function ticked() {\n",
       "    node.call(updateNode);\n",
       "    link.call(updateLink);\n",
       "    text.call(updateText);\n",
       "};\n",
       "\n",
       "/*Update link positions */\n",
       "function updateLink(link) {\n",
       "    // link\n",
       "    //     .attr(\"x1\", function(d) { return d.source.x; })\n",
       "    //     .attr(\"y1\", function(d) { return d.source.y; })\n",
       "    //     .attr(\"x2\", function(d) { return d.target.x; })\n",
       "    //     .attr(\"y2\", function(d) { return d.target.y; });\n",
       "\n",
       "\n",
       "    link.attr(\"d\", function(d) {\n",
       "        var dx = d.target.x - d.source.x,\n",
       "            dy = d.target.y - d.source.y,\n",
       "            dr = Math.sqrt(dx * dx + dy * dy);\n",
       "        if(!curved)dr=0;\n",
       "        return \"M\" +\n",
       "            d.source.x + \",\" +\n",
       "            d.source.y + \"A\" +\n",
       "            dr + \",\" + dr + \" 0 0,1 \" +\n",
       "            d.target.x + \",\" +\n",
       "            d.target.y;\n",
       "    });\n",
       "\n",
       "    // recalculate and back off the distance\n",
       "    link.attr(\"d\", function (d, i) {\n",
       "        var pl = this.getTotalLength();\n",
       "        var r = (d.target.size === undefined) ? 15 : d.target.size;\n",
       "        var m = this.getPointAtLength(pl - r);\n",
       "        var dx = d.target.x - d.source.x,\n",
       "            dy = d.target.y - d.source.y,\n",
       "            dr = Math.sqrt(dx * dx + dy * dy);\n",
       "        if(!curved)dr=0;\n",
       "        var result = \"M\" + d.source.x + \",\" + d.source.y + \"A\" + dr + \",\" + dr + \" 0 0,1 \" + m.x + \",\" + m.y;\n",
       "        return result;\n",
       "    });\n",
       "};\n",
       "\n",
       "\n",
       "/*Update node positions */\n",
       "function updateNode(node) {\n",
       "    node.attr(\"transform\", function(d) {\n",
       "        return \"translate(\" + d.x + \",\" + d.y + \")\";\n",
       "    });\n",
       "    // node\n",
       "    //     .attr(\"cx\", function(d) { return d.x; })\n",
       "    //     .attr(\"cy\", function(d) { return d.y; });\n",
       "};\n",
       "\n",
       "/*Update text positions */\n",
       "function updateText(text) {\n",
       "    text.attr(\"transform\", function(d) {\n",
       "        return \"translate(\" + d.x + \",\" + d.y + \")\";\n",
       "    });\n",
       "};\n",
       "\n",
       "/*Add drag functionality to the node objects*/\n",
       "node.call(\n",
       "    d3.drag()\n",
       "        .on(\"start\", dragstarted)\n",
       "        .on(\"drag\", dragged)\n",
       "        .on(\"end\", dragended)\n",
       ");\n",
       "\n",
       "function dragstarted(d) {\n",
       "    d3.event.sourceEvent.stopPropagation();\n",
       "    if (!d3.event.active) simulation.alphaTarget(0.3).restart();\n",
       "    d.fx = d.x;\n",
       "    d.fy = d.y;\n",
       "};\n",
       "\n",
       "function dragged(d) {\n",
       "    d.fx = d3.event.x;\n",
       "    d.fy = d3.event.y;\n",
       "};\n",
       "\n",
       "function dragended(d) {\n",
       "    if (!d3.event.active) simulation.alphaTarget(0);\n",
       "    d.fx = null;\n",
       "    d.fy = null;\n",
       "};\n",
       "\n",
       "}); //END\n",
       "\n",
       "</script>"
      ]
     },
     "metadata": {},
     "output_type": "display_data"
    },
    {
     "data": {
      "text/plain": [
       "<pathpyG.visualisations.network_plots.StaticNetworkPlot at 0x7f2e14b05450>"
      ]
     },
     "execution_count": 5,
     "metadata": {},
     "output_type": "execute_result"
    }
   ],
   "source": [
    "pp.plot(karate_network, node_color=ground_truth)"
   ]
  },
  {
   "cell_type": "code",
   "execution_count": 6,
   "metadata": {
    "ExecuteTime": {
     "end_time": "2023-06-01T21:48:36.278274882Z",
     "start_time": "2023-06-01T21:48:36.264474168Z"
    }
   },
   "outputs": [],
   "source": [
    "def log2(x):\n",
    "    if x == 0:\n",
    "        return 0\n",
    "    else:\n",
    "        return np.log2(x)"
   ]
  },
  {
   "cell_type": "code",
   "execution_count": 7,
   "metadata": {
    "ExecuteTime": {
     "end_time": "2023-06-01T21:50:33.634505944Z",
     "start_time": "2023-06-01T21:50:33.587069124Z"
    },
    "collapsed": false
   },
   "outputs": [],
   "source": [
    "def log(x):\n",
    "    if x == 0:\n",
    "        return 0\n",
    "    else:\n",
    "        return np.log(x)"
   ]
  },
  {
   "cell_type": "code",
   "execution_count": 8,
   "metadata": {
    "ExecuteTime": {
     "end_time": "2023-06-01T21:48:36.719787256Z",
     "start_time": "2023-06-01T21:48:36.678025490Z"
    }
   },
   "outputs": [],
   "source": [
    "def SBM_min_entropy(z, network: pp.Graph):\n",
    "    B = len(set(z))\n",
    "\n",
    "    # C[k] counts number of nodes in block k\n",
    "    C = Counter(z)\n",
    "\n",
    "    H = 0\n",
    "    \n",
    "    # E[k,l] counts how many links exist between nodes in block k and block l\n",
    "    E = np.zeros((B,B))\n",
    "\n",
    "    # N[k,l] counts how many links can possibly exist between nodes in block k and l\n",
    "    N = np.zeros((B,B))\n",
    "    \n",
    "    for k in range(B):\n",
    "        for l in range(B):\n",
    "            # calculate possible links\n",
    "            if k == l:\n",
    "                N[k,l] = sp.special.binom(C[k], 2)\n",
    "            else:\n",
    "                N[k,l]= C[k] * C[l]\n",
    "            for (v,w) in network.edges:\n",
    "                v_idx = network.mapping.to_idx(v)\n",
    "                w_idx = network.mapping.to_idx(w)\n",
    "                if v_idx < w_idx and ((z[v_idx] == k and z[w_idx] == l) or (z[v_idx] == l and z[w_idx] == k)):\n",
    "                    E[k,l] += 1    \n",
    "    for k in range(B):\n",
    "        for l in range(k+1):\n",
    "            H += np.log2(sp.special.binom(N[k,l], E[k,l]))\n",
    "    return H"
   ]
  },
  {
   "cell_type": "code",
   "execution_count": 9,
   "metadata": {
    "ExecuteTime": {
     "end_time": "2023-06-01T21:48:38.038446388Z",
     "start_time": "2023-06-01T21:48:37.995564022Z"
    }
   },
   "outputs": [],
   "source": [
    "def Delta(z, network: pp.Graph):\n",
    "    B = len(set(z))\n",
    "    m = network.M\n",
    "    n = network.N\n",
    "    x = (B*(B+1))/(2*m)\n",
    "    return m * ((1+x) * np.log(1+x) - x * np.log(x)) + n * np.log(B)"
   ]
  },
  {
   "cell_type": "code",
   "execution_count": 10,
   "metadata": {
    "ExecuteTime": {
     "end_time": "2023-06-01T21:48:38.612104095Z",
     "start_time": "2023-06-01T21:48:38.575095821Z"
    }
   },
   "outputs": [],
   "source": [
    "def description_length(z, network: pp.Graph, min_entropy: Callable, delta: Callable,):\n",
    "    return min_entropy(z, network) + delta(z, network)"
   ]
  },
  {
   "cell_type": "code",
   "execution_count": 11,
   "metadata": {
    "ExecuteTime": {
     "end_time": "2023-06-01T21:48:39.346839479Z",
     "start_time": "2023-06-01T21:48:39.284629067Z"
    }
   },
   "outputs": [],
   "source": [
    "def detect_communities_MDL(\n",
    "        network: pp.Graph,\n",
    "        min_entropy: Callable,\n",
    "        delta: Callable,\n",
    "        iterations = 1000,\n",
    "        cooling_slowness = 1,\n",
    "):\n",
    "    # initialization\n",
    "    z = np.array(np.arange(network.N))\n",
    "    mdls = []\n",
    "    for i in range(network.N):\n",
    "        z[i] = i\n",
    "    l = description_length(z, network, min_entropy, delta)\n",
    "    \n",
    "    # we want to output the cooling temperatures to see the cooling schedule\n",
    "    temperatures = []\n",
    "    \n",
    "    for i in tqdm(range(iterations)):\n",
    "        # the temperature:\n",
    "        t = (1+cooling_slowness)/(i+1+cooling_slowness)\n",
    "        temperatures.append(t)\n",
    "        \n",
    "        # randomly split/merge communities\n",
    "        if max(z)>0:\n",
    "            i,j = np.random.choice(max(z)+1, replace=False, size=2)\n",
    "            z_new = z.copy()\n",
    "            z_new[z_new == i] = j\n",
    "            z_new = remap_communities(z_new)\n",
    "            l_new = description_length(z_new, network, min_entropy, delta)\n",
    "        else:\n",
    "            x = np.random.choice(network.N, replace=False, size=int(network.N/2))\n",
    "            z_new = z.copy()\n",
    "            z_new[x] = 1\n",
    "            z_new = remap_communities(z_new)\n",
    "\n",
    "        if l_new <= l or np.random.random() <= np.exp(-(l_new-l)/t):\n",
    "            z = z_new\n",
    "            l = l_new\n",
    "        mdls.append(l)\n",
    "    return z, mdls, temperatures"
   ]
  },
  {
   "cell_type": "markdown",
   "metadata": {
    "collapsed": false
   },
   "source": [
    "First of all let`s find blocks by MLD with the standard SBM."
   ]
  },
  {
   "cell_type": "code",
   "execution_count": 12,
   "metadata": {
    "ExecuteTime": {
     "end_time": "2023-06-01T21:00:55.039372671Z",
     "start_time": "2023-06-01T20:59:41.409545783Z"
    }
   },
   "outputs": [
    {
     "name": "stderr",
     "output_type": "stream",
     "text": [
      "100%|██████████| 200/200 [00:15<00:00, 12.83it/s] \n"
     ]
    },
    {
     "data": {
      "text/plain": [
       "array([0, 1, 1, 1, 1, 0, 1, 1, 1, 1, 1, 1, 1, 1, 1, 1, 1, 1, 1, 1, 1, 1,\n",
       "       1, 1, 1, 1, 1, 1, 1, 1, 1, 1, 1, 0])"
      ]
     },
     "execution_count": 12,
     "metadata": {},
     "output_type": "execute_result"
    }
   ],
   "source": [
    "z_mdl, _, _ = detect_communities_MDL(karate_network, SBM_min_entropy, Delta, iterations=200, cooling_slowness=10)\n",
    "z_mdl"
   ]
  },
  {
   "cell_type": "code",
   "execution_count": 13,
   "metadata": {
    "ExecuteTime": {
     "end_time": "2023-06-01T21:48:45.227739499Z",
     "start_time": "2023-06-01T21:48:45.166605169Z"
    }
   },
   "outputs": [
    {
     "data": {
      "text/html": [
       "<style>\n",
       "svg circle.node {\n",
       "  fill: #3b5998;\n",
       "  stroke: #1b3978;\n",
       "  stroke-width: 2.5px;\n",
       "  r: 15px;\n",
       "  opacity: 1;\n",
       "}\n",
       "\n",
       ".link {\n",
       "  stroke: #969595;\n",
       "  stroke-opacity: .75;\n",
       "  stroke-width: 2.5px;\n",
       "}\n",
       "\n",
       ".arrow {\n",
       "  fill: #969595;\n",
       "}\n",
       "\n",
       "\n",
       ".label-text {\n",
       "    fill: #969595;\n",
       "    font-size: 16px;\n",
       "    font-family: sans-serif;\n",
       "}\n",
       "\n",
       "</style>\n",
       "\n",
       "<div id = \"x48b10643206a47b5a11be9111c4f5c03\"> </div>\n",
       "<script charset=\"utf-8\" src=\"https://d3js.org/d3.v5.min.js\"></script>\n",
       "<script charset=\"utf-8\">\n",
       "// Load via requireJS if available (jupyter notebook environment)\n",
       "try {\n",
       "    // Problem: require.config will raise an exception when called for the second time \n",
       "    require.config({\n",
       "        paths: {\n",
       "            d3: \"https://d3js.org/d3.v5.min.js\".replace(\".js\", \"\")\n",
       "        }\n",
       "    });\n",
       "    console.log(\"OKAY: requireJS was detected.\");\n",
       "}\n",
       "catch(err){\n",
       "    // a reference error indicates that requireJS does not exist. \n",
       "    // other errors may occur due to multiple calls to config\n",
       "    if (err instanceof ReferenceError){\n",
       "        console.log(\"WARNING: NO requireJS was detected!\");\n",
       "\n",
       "        // Helper function that waits for d3js to be loaded\n",
       "        require = function require(symbols, callback) {\n",
       "            var ms = 10;\n",
       "            window.setTimeout(function(t) {\n",
       "                if (window[symbols[0]])\n",
       "                    callback(window[symbols[0]]);\n",
       "                else \n",
       "                    window.setTimeout(arguments.callee, ms);\n",
       "            }, ms);\n",
       "        }\n",
       "    }\n",
       "};\n",
       "require(['d3'], function(d3){ //START\n",
       "const data = {\"edges\": [{\"uid\": \"0-2\", \"source\": \"0\", \"target\": \"2\", \"weight\": 1}, {\"uid\": \"0-1\", \"source\": \"0\", \"target\": \"1\", \"weight\": 1}, {\"uid\": \"0-31\", \"source\": \"0\", \"target\": \"31\", \"weight\": 1}, {\"uid\": \"0-21\", \"source\": \"0\", \"target\": \"21\", \"weight\": 1}, {\"uid\": \"0-19\", \"source\": \"0\", \"target\": \"19\", \"weight\": 1}, {\"uid\": \"0-17\", \"source\": \"0\", \"target\": \"17\", \"weight\": 1}, {\"uid\": \"0-13\", \"source\": \"0\", \"target\": \"13\", \"weight\": 1}, {\"uid\": \"0-12\", \"source\": \"0\", \"target\": \"12\", \"weight\": 1}, {\"uid\": \"0-11\", \"source\": \"0\", \"target\": \"11\", \"weight\": 1}, {\"uid\": \"0-8\", \"source\": \"0\", \"target\": \"8\", \"weight\": 1}, {\"uid\": \"0-10\", \"source\": \"0\", \"target\": \"10\", \"weight\": 1}, {\"uid\": \"0-3\", \"source\": \"0\", \"target\": \"3\", \"weight\": 1}, {\"uid\": \"0-4\", \"source\": \"0\", \"target\": \"4\", \"weight\": 1}, {\"uid\": \"0-6\", \"source\": \"0\", \"target\": \"6\", \"weight\": 1}, {\"uid\": \"0-7\", \"source\": \"0\", \"target\": \"7\", \"weight\": 1}, {\"uid\": \"0-5\", \"source\": \"0\", \"target\": \"5\", \"weight\": 1}, {\"uid\": \"1-17\", \"source\": \"1\", \"target\": \"17\", \"weight\": 1}, {\"uid\": \"1-30\", \"source\": \"1\", \"target\": \"30\", \"weight\": 1}, {\"uid\": \"1-21\", \"source\": \"1\", \"target\": \"21\", \"weight\": 1}, {\"uid\": \"1-19\", \"source\": \"1\", \"target\": \"19\", \"weight\": 1}, {\"uid\": \"1-13\", \"source\": \"1\", \"target\": \"13\", \"weight\": 1}, {\"uid\": \"1-7\", \"source\": \"1\", \"target\": \"7\", \"weight\": 1}, {\"uid\": \"1-3\", \"source\": \"1\", \"target\": \"3\", \"weight\": 1}, {\"uid\": \"1-2\", \"source\": \"1\", \"target\": \"2\", \"weight\": 1}, {\"uid\": \"1-0\", \"source\": \"1\", \"target\": \"0\", \"weight\": 1}, {\"uid\": \"2-3\", \"source\": \"2\", \"target\": \"3\", \"weight\": 1}, {\"uid\": \"2-32\", \"source\": \"2\", \"target\": \"32\", \"weight\": 1}, {\"uid\": \"2-28\", \"source\": \"2\", \"target\": \"28\", \"weight\": 1}, {\"uid\": \"2-27\", \"source\": \"2\", \"target\": \"27\", \"weight\": 1}, {\"uid\": \"2-13\", \"source\": \"2\", \"target\": \"13\", \"weight\": 1}, {\"uid\": \"2-9\", \"source\": \"2\", \"target\": \"9\", \"weight\": 1}, {\"uid\": \"2-8\", \"source\": \"2\", \"target\": \"8\", \"weight\": 1}, {\"uid\": \"2-7\", \"source\": \"2\", \"target\": \"7\", \"weight\": 1}, {\"uid\": \"2-1\", \"source\": \"2\", \"target\": \"1\", \"weight\": 1}, {\"uid\": \"2-0\", \"source\": \"2\", \"target\": \"0\", \"weight\": 1}, {\"uid\": \"3-0\", \"source\": \"3\", \"target\": \"0\", \"weight\": 1}, {\"uid\": \"3-1\", \"source\": \"3\", \"target\": \"1\", \"weight\": 1}, {\"uid\": \"3-2\", \"source\": \"3\", \"target\": \"2\", \"weight\": 1}, {\"uid\": \"3-7\", \"source\": \"3\", \"target\": \"7\", \"weight\": 1}, {\"uid\": \"3-12\", \"source\": \"3\", \"target\": \"12\", \"weight\": 1}, {\"uid\": \"3-13\", \"source\": \"3\", \"target\": \"13\", \"weight\": 1}, {\"uid\": \"4-10\", \"source\": \"4\", \"target\": \"10\", \"weight\": 1}, {\"uid\": \"4-0\", \"source\": \"4\", \"target\": \"0\", \"weight\": 1}, {\"uid\": \"4-6\", \"source\": \"4\", \"target\": \"6\", \"weight\": 1}, {\"uid\": \"5-0\", \"source\": \"5\", \"target\": \"0\", \"weight\": 1}, {\"uid\": \"5-6\", \"source\": \"5\", \"target\": \"6\", \"weight\": 1}, {\"uid\": \"5-10\", \"source\": \"5\", \"target\": \"10\", \"weight\": 1}, {\"uid\": \"5-16\", \"source\": \"5\", \"target\": \"16\", \"weight\": 1}, {\"uid\": \"6-0\", \"source\": \"6\", \"target\": \"0\", \"weight\": 1}, {\"uid\": \"6-4\", \"source\": \"6\", \"target\": \"4\", \"weight\": 1}, {\"uid\": \"6-5\", \"source\": \"6\", \"target\": \"5\", \"weight\": 1}, {\"uid\": \"6-16\", \"source\": \"6\", \"target\": \"16\", \"weight\": 1}, {\"uid\": \"7-0\", \"source\": \"7\", \"target\": \"0\", \"weight\": 1}, {\"uid\": \"7-1\", \"source\": \"7\", \"target\": \"1\", \"weight\": 1}, {\"uid\": \"7-2\", \"source\": \"7\", \"target\": \"2\", \"weight\": 1}, {\"uid\": \"7-3\", \"source\": \"7\", \"target\": \"3\", \"weight\": 1}, {\"uid\": \"8-32\", \"source\": \"8\", \"target\": \"32\", \"weight\": 1}, {\"uid\": \"8-33\", \"source\": \"8\", \"target\": \"33\", \"weight\": 1}, {\"uid\": \"8-2\", \"source\": \"8\", \"target\": \"2\", \"weight\": 1}, {\"uid\": \"8-0\", \"source\": \"8\", \"target\": \"0\", \"weight\": 1}, {\"uid\": \"8-30\", \"source\": \"8\", \"target\": \"30\", \"weight\": 1}, {\"uid\": \"9-2\", \"source\": \"9\", \"target\": \"2\", \"weight\": 1}, {\"uid\": \"9-33\", \"source\": \"9\", \"target\": \"33\", \"weight\": 1}, {\"uid\": \"10-0\", \"source\": \"10\", \"target\": \"0\", \"weight\": 1}, {\"uid\": \"10-4\", \"source\": \"10\", \"target\": \"4\", \"weight\": 1}, {\"uid\": \"10-5\", \"source\": \"10\", \"target\": \"5\", \"weight\": 1}, {\"uid\": \"11-0\", \"source\": \"11\", \"target\": \"0\", \"weight\": 1}, {\"uid\": \"12-0\", \"source\": \"12\", \"target\": \"0\", \"weight\": 1}, {\"uid\": \"12-3\", \"source\": \"12\", \"target\": \"3\", \"weight\": 1}, {\"uid\": \"13-0\", \"source\": \"13\", \"target\": \"0\", \"weight\": 1}, {\"uid\": \"13-1\", \"source\": \"13\", \"target\": \"1\", \"weight\": 1}, {\"uid\": \"13-2\", \"source\": \"13\", \"target\": \"2\", \"weight\": 1}, {\"uid\": \"13-3\", \"source\": \"13\", \"target\": \"3\", \"weight\": 1}, {\"uid\": \"13-33\", \"source\": \"13\", \"target\": \"33\", \"weight\": 1}, {\"uid\": \"14-32\", \"source\": \"14\", \"target\": \"32\", \"weight\": 1}, {\"uid\": \"14-33\", \"source\": \"14\", \"target\": \"33\", \"weight\": 1}, {\"uid\": \"15-33\", \"source\": \"15\", \"target\": \"33\", \"weight\": 1}, {\"uid\": \"15-32\", \"source\": \"15\", \"target\": \"32\", \"weight\": 1}, {\"uid\": \"16-5\", \"source\": \"16\", \"target\": \"5\", \"weight\": 1}, {\"uid\": \"16-6\", \"source\": \"16\", \"target\": \"6\", \"weight\": 1}, {\"uid\": \"17-0\", \"source\": \"17\", \"target\": \"0\", \"weight\": 1}, {\"uid\": \"17-1\", \"source\": \"17\", \"target\": \"1\", \"weight\": 1}, {\"uid\": \"18-32\", \"source\": \"18\", \"target\": \"32\", \"weight\": 1}, {\"uid\": \"18-33\", \"source\": \"18\", \"target\": \"33\", \"weight\": 1}, {\"uid\": \"19-1\", \"source\": \"19\", \"target\": \"1\", \"weight\": 1}, {\"uid\": \"19-33\", \"source\": \"19\", \"target\": \"33\", \"weight\": 1}, {\"uid\": \"19-0\", \"source\": \"19\", \"target\": \"0\", \"weight\": 1}, {\"uid\": \"20-32\", \"source\": \"20\", \"target\": \"32\", \"weight\": 1}, {\"uid\": \"20-33\", \"source\": \"20\", \"target\": \"33\", \"weight\": 1}, {\"uid\": \"21-0\", \"source\": \"21\", \"target\": \"0\", \"weight\": 1}, {\"uid\": \"21-1\", \"source\": \"21\", \"target\": \"1\", \"weight\": 1}, {\"uid\": \"22-32\", \"source\": \"22\", \"target\": \"32\", \"weight\": 1}, {\"uid\": \"23-32\", \"source\": \"23\", \"target\": \"32\", \"weight\": 1}, {\"uid\": \"23-33\", \"source\": \"23\", \"target\": \"33\", \"weight\": 1}, {\"uid\": \"23-29\", \"source\": \"23\", \"target\": \"29\", \"weight\": 1}, {\"uid\": \"23-25\", \"source\": \"23\", \"target\": \"25\", \"weight\": 1}, {\"uid\": \"23-27\", \"source\": \"23\", \"target\": \"27\", \"weight\": 1}, {\"uid\": \"24-25\", \"source\": \"24\", \"target\": \"25\", \"weight\": 1}, {\"uid\": \"24-27\", \"source\": \"24\", \"target\": \"27\", \"weight\": 1}, {\"uid\": \"24-31\", \"source\": \"24\", \"target\": \"31\", \"weight\": 1}, {\"uid\": \"25-23\", \"source\": \"25\", \"target\": \"23\", \"weight\": 1}, {\"uid\": \"25-24\", \"source\": \"25\", \"target\": \"24\", \"weight\": 1}, {\"uid\": \"25-31\", \"source\": \"25\", \"target\": \"31\", \"weight\": 1}, {\"uid\": \"26-33\", \"source\": \"26\", \"target\": \"33\", \"weight\": 1}, {\"uid\": \"26-29\", \"source\": \"26\", \"target\": \"29\", \"weight\": 1}, {\"uid\": \"27-2\", \"source\": \"27\", \"target\": \"2\", \"weight\": 1}, {\"uid\": \"27-23\", \"source\": \"27\", \"target\": \"23\", \"weight\": 1}, {\"uid\": \"27-24\", \"source\": \"27\", \"target\": \"24\", \"weight\": 1}, {\"uid\": \"27-33\", \"source\": \"27\", \"target\": \"33\", \"weight\": 1}, {\"uid\": \"28-2\", \"source\": \"28\", \"target\": \"2\", \"weight\": 1}, {\"uid\": \"28-31\", \"source\": \"28\", \"target\": \"31\", \"weight\": 1}, {\"uid\": \"28-33\", \"source\": \"28\", \"target\": \"33\", \"weight\": 1}, {\"uid\": \"29-32\", \"source\": \"29\", \"target\": \"32\", \"weight\": 1}, {\"uid\": \"29-33\", \"source\": \"29\", \"target\": \"33\", \"weight\": 1}, {\"uid\": \"29-23\", \"source\": \"29\", \"target\": \"23\", \"weight\": 1}, {\"uid\": \"29-26\", \"source\": \"29\", \"target\": \"26\", \"weight\": 1}, {\"uid\": \"30-1\", \"source\": \"30\", \"target\": \"1\", \"weight\": 1}, {\"uid\": \"30-8\", \"source\": \"30\", \"target\": \"8\", \"weight\": 1}, {\"uid\": \"30-32\", \"source\": \"30\", \"target\": \"32\", \"weight\": 1}, {\"uid\": \"30-33\", \"source\": \"30\", \"target\": \"33\", \"weight\": 1}, {\"uid\": \"31-28\", \"source\": \"31\", \"target\": \"28\", \"weight\": 1}, {\"uid\": \"31-33\", \"source\": \"31\", \"target\": \"33\", \"weight\": 1}, {\"uid\": \"31-32\", \"source\": \"31\", \"target\": \"32\", \"weight\": 1}, {\"uid\": \"31-25\", \"source\": \"31\", \"target\": \"25\", \"weight\": 1}, {\"uid\": \"31-24\", \"source\": \"31\", \"target\": \"24\", \"weight\": 1}, {\"uid\": \"31-0\", \"source\": \"31\", \"target\": \"0\", \"weight\": 1}, {\"uid\": \"32-29\", \"source\": \"32\", \"target\": \"29\", \"weight\": 1}, {\"uid\": \"32-33\", \"source\": \"32\", \"target\": \"33\", \"weight\": 1}, {\"uid\": \"32-31\", \"source\": \"32\", \"target\": \"31\", \"weight\": 1}, {\"uid\": \"32-30\", \"source\": \"32\", \"target\": \"30\", \"weight\": 1}, {\"uid\": \"32-23\", \"source\": \"32\", \"target\": \"23\", \"weight\": 1}, {\"uid\": \"32-22\", \"source\": \"32\", \"target\": \"22\", \"weight\": 1}, {\"uid\": \"32-18\", \"source\": \"32\", \"target\": \"18\", \"weight\": 1}, {\"uid\": \"32-15\", \"source\": \"32\", \"target\": \"15\", \"weight\": 1}, {\"uid\": \"32-14\", \"source\": \"32\", \"target\": \"14\", \"weight\": 1}, {\"uid\": \"32-8\", \"source\": \"32\", \"target\": \"8\", \"weight\": 1}, {\"uid\": \"32-2\", \"source\": \"32\", \"target\": \"2\", \"weight\": 1}, {\"uid\": \"32-20\", \"source\": \"32\", \"target\": \"20\", \"weight\": 1}, {\"uid\": \"33-32\", \"source\": \"33\", \"target\": \"32\", \"weight\": 1}, {\"uid\": \"33-31\", \"source\": \"33\", \"target\": \"31\", \"weight\": 1}, {\"uid\": \"33-30\", \"source\": \"33\", \"target\": \"30\", \"weight\": 1}, {\"uid\": \"33-29\", \"source\": \"33\", \"target\": \"29\", \"weight\": 1}, {\"uid\": \"33-28\", \"source\": \"33\", \"target\": \"28\", \"weight\": 1}, {\"uid\": \"33-27\", \"source\": \"33\", \"target\": \"27\", \"weight\": 1}, {\"uid\": \"33-26\", \"source\": \"33\", \"target\": \"26\", \"weight\": 1}, {\"uid\": \"33-23\", \"source\": \"33\", \"target\": \"23\", \"weight\": 1}, {\"uid\": \"33-20\", \"source\": \"33\", \"target\": \"20\", \"weight\": 1}, {\"uid\": \"33-19\", \"source\": \"33\", \"target\": \"19\", \"weight\": 1}, {\"uid\": \"33-18\", \"source\": \"33\", \"target\": \"18\", \"weight\": 1}, {\"uid\": \"33-15\", \"source\": \"33\", \"target\": \"15\", \"weight\": 1}, {\"uid\": \"33-14\", \"source\": \"33\", \"target\": \"14\", \"weight\": 1}, {\"uid\": \"33-13\", \"source\": \"33\", \"target\": \"13\", \"weight\": 1}, {\"uid\": \"33-9\", \"source\": \"33\", \"target\": \"9\", \"weight\": 1}, {\"uid\": \"33-8\", \"source\": \"33\", \"target\": \"8\", \"weight\": 1}], \"nodes\": [{\"uid\": \"0\", \"color\": \"#00ff00\"}, {\"uid\": \"1\", \"color\": \"#ff0000\"}, {\"uid\": \"2\", \"color\": \"#ff0000\"}, {\"uid\": \"3\", \"color\": \"#ff0000\"}, {\"uid\": \"4\", \"color\": \"#ff0000\"}, {\"uid\": \"5\", \"color\": \"#00ff00\"}, {\"uid\": \"6\", \"color\": \"#ff0000\"}, {\"uid\": \"7\", \"color\": \"#ff0000\"}, {\"uid\": \"8\", \"color\": \"#ff0000\"}, {\"uid\": \"9\", \"color\": \"#ff0000\"}, {\"uid\": \"10\", \"color\": \"#ff0000\"}, {\"uid\": \"11\", \"color\": \"#ff0000\"}, {\"uid\": \"12\", \"color\": \"#ff0000\"}, {\"uid\": \"13\", \"color\": \"#ff0000\"}, {\"uid\": \"14\", \"color\": \"#ff0000\"}, {\"uid\": \"15\", \"color\": \"#ff0000\"}, {\"uid\": \"16\", \"color\": \"#ff0000\"}, {\"uid\": \"17\", \"color\": \"#ff0000\"}, {\"uid\": \"18\", \"color\": \"#ff0000\"}, {\"uid\": \"19\", \"color\": \"#ff0000\"}, {\"uid\": \"20\", \"color\": \"#ff0000\"}, {\"uid\": \"21\", \"color\": \"#ff0000\"}, {\"uid\": \"22\", \"color\": \"#ff0000\"}, {\"uid\": \"23\", \"color\": \"#ff0000\"}, {\"uid\": \"24\", \"color\": \"#ff0000\"}, {\"uid\": \"25\", \"color\": \"#ff0000\"}, {\"uid\": \"26\", \"color\": \"#ff0000\"}, {\"uid\": \"27\", \"color\": \"#ff0000\"}, {\"uid\": \"28\", \"color\": \"#ff0000\"}, {\"uid\": \"29\", \"color\": \"#ff0000\"}, {\"uid\": \"30\", \"color\": \"#ff0000\"}, {\"uid\": \"31\", \"color\": \"#ff0000\"}, {\"uid\": \"32\", \"color\": \"#ff0000\"}, {\"uid\": \"33\", \"color\": \"#00ff00\"}]}\n",
       "const config = {\"node_color\": [0, 1, 1, 1, 1, 0, 1, 1, 1, 1, 1, 1, 1, 1, 1, 1, 1, 1, 1, 1, 1, 1, 1, 1, 1, 1, 1, 1, 1, 1, 1, 1, 1, 0], \"directed\": false, \"curved\": false, \"selector\": \"#x48b10643206a47b5a11be9111c4f5c03\"}\n",
       "console.log(\"Static Network Template\");\n",
       "/* Resources\n",
       "   https://bl.ocks.org/mapio/53fed7d84cd1812d6a6639ed7aa83868\n",
       "   https://codepen.io/smlo/pen/JdMOej\n",
       "*/\n",
       "\n",
       "// variables from the config file\n",
       "const selector = config.selector;\n",
       "const width = config.width || 800;\n",
       "const height = config.height || 600;\n",
       "const charge_distance = config.charge_distance || 400;\n",
       "const charge_force = config.charge_force || -3000;\n",
       "const curved = config.curved || false;\n",
       "const directed = config.directed || false;\n",
       "// const weight = false;\n",
       "\n",
       "/* Create a svg element to display the network */\n",
       "var svg = d3.select(selector)\n",
       "    .append('svg')\n",
       "    .attr('width', width)\n",
       "    .attr('height', height)\n",
       "\n",
       "// add container to store the elements\n",
       "var container = svg.append(\"g\");\n",
       "\n",
       "/*Add zoom function to the container */\n",
       "svg.call(\n",
       "    d3.zoom()\n",
       "        .scaleExtent([.1, 4])\n",
       "        .on(\"zoom\", function() { container.attr(\"transform\", d3.event.transform); })\n",
       ");\n",
       "\n",
       "\n",
       "/*Load nodes and links from the data */\n",
       "var nodes = data.nodes\n",
       "var links = data.edges\n",
       "\n",
       "/*Create arrow head with same color as the edge */\n",
       "function marker (color) {\n",
       "       var reference;\n",
       "       svg.append(\"svg:defs\").selectAll(\"marker\")\n",
       "          .data([reference])\n",
       "          .enter().append(\"svg:marker\")\n",
       "          .attr(\"id\", \"arrow\"+color)\n",
       "          .attr(\"viewBox\", \"0 -5 10 10\")\n",
       "          .attr(\"refX\", 10)\n",
       "          .attr(\"refY\", -0)\n",
       "          .attr(\"markerWidth\", 6)\n",
       "          .attr(\"markerHeight\", 6)\n",
       "          .attr(\"orient\", \"auto\")\n",
       "          .append(\"svg:path\")\n",
       "          .attr('class','.arrow')\n",
       "          .attr(\"d\", \"M0,-5L10,0L0,5\")\n",
       "          .style('opacity',1)\n",
       "          .style(\"fill\", color);\n",
       "       return \"url(#\" + \"arrow\"+color + \")\";\n",
       "     };\n",
       "\n",
       "/*Link creation template */\n",
       "var link = container.append(\"g\").attr(\"class\", \"links\")\n",
       "    .selectAll(\".link\")\n",
       "    .data(links)\n",
       "    .enter()\n",
       "    .append(\"path\")\n",
       "    .attr(\"class\", \"link\")\n",
       "    .style(\"stroke\", function(d) { return d.color; })\n",
       "    .style(\"stroke-opacity\", function(d) { return d.opacity; })\n",
       "    .style(\"stroke-width\", function(d){  return d.size })\n",
       "    .style(\"fill\",\"none\")\n",
       "    .attr(\"marker-end\", function (d) {if(directed){return marker(d.color)}else{return null}; });\n",
       "\n",
       "    //.attr(\"marker-end\", function (d) { return marker(d.color); });\n",
       "    //.attr(\"marker-end\", \"url(#arrow)\");\n",
       "\n",
       "/*Node creation template */\n",
       "var node = container.append(\"g\").attr(\"class\", \"nodes\")\n",
       "    .selectAll(\"circle.node\")\n",
       "    .data(nodes)\n",
       "    .enter().append(\"circle\")\n",
       "    .attr(\"class\", \"node\")\n",
       "    .attr(\"x\", function(d) { return d.x; })\n",
       "    .attr(\"y\", function(d) { return d.y; })\n",
       "    .style(\"r\", function(d){  return d.size+\"px\"; })\n",
       "    .style(\"fill\", function(d) { return d.color; })\n",
       "    .style(\"opacity\", function(d) { return d.opacity; });\n",
       "\n",
       "/*Label creation template */\n",
       "var text = container.append(\"g\").attr(\"class\",\"labels\")\n",
       "    .selectAll(\"g\")\n",
       "    .data(nodes)\n",
       "    .enter().append(\"g\")\n",
       "\n",
       "text.append(\"text\")\n",
       "    .attr(\"class\", \"label-text\")\n",
       "    .attr(\"x\", function(d) {\n",
       "        var r = (d.size === undefined) ? 15 : d.size;\n",
       "        return 5 + r; })\n",
       "    .attr(\"dy\", \".31em\")\n",
       "    .text(function(d) { return d.label; });\n",
       "\n",
       "/*Scale weight for d3js */\n",
       "var weightScale = d3.scaleLinear()\n",
       "    .domain(d3.extent(links, function (d) { return d.weight }))\n",
       "    .range([.1, 1]);\n",
       "\n",
       "/*Simulation of the forces*/\n",
       "var simulation = d3.forceSimulation(nodes)\n",
       "    .force(\"links\", d3.forceLink(links)\n",
       "           .id(function(d) {return d.uid; })\n",
       "           .distance(50)\n",
       "           .strength(function(d){return weightScale(d.weight);})\n",
       "          )\n",
       "    .force(\"charge\", d3.forceManyBody()\n",
       "           .strength(charge_force)\n",
       "           .distanceMax(charge_distance)\n",
       "          )\n",
       "    .force(\"center\", d3.forceCenter(width / 2, height / 2))\n",
       "    .on(\"tick\", ticked);\n",
       "\n",
       "/*Update of the node and edge objects*/\n",
       "function ticked() {\n",
       "    node.call(updateNode);\n",
       "    link.call(updateLink);\n",
       "    text.call(updateText);\n",
       "};\n",
       "\n",
       "/*Update link positions */\n",
       "function updateLink(link) {\n",
       "    // link\n",
       "    //     .attr(\"x1\", function(d) { return d.source.x; })\n",
       "    //     .attr(\"y1\", function(d) { return d.source.y; })\n",
       "    //     .attr(\"x2\", function(d) { return d.target.x; })\n",
       "    //     .attr(\"y2\", function(d) { return d.target.y; });\n",
       "\n",
       "\n",
       "    link.attr(\"d\", function(d) {\n",
       "        var dx = d.target.x - d.source.x,\n",
       "            dy = d.target.y - d.source.y,\n",
       "            dr = Math.sqrt(dx * dx + dy * dy);\n",
       "        if(!curved)dr=0;\n",
       "        return \"M\" +\n",
       "            d.source.x + \",\" +\n",
       "            d.source.y + \"A\" +\n",
       "            dr + \",\" + dr + \" 0 0,1 \" +\n",
       "            d.target.x + \",\" +\n",
       "            d.target.y;\n",
       "    });\n",
       "\n",
       "    // recalculate and back off the distance\n",
       "    link.attr(\"d\", function (d, i) {\n",
       "        var pl = this.getTotalLength();\n",
       "        var r = (d.target.size === undefined) ? 15 : d.target.size;\n",
       "        var m = this.getPointAtLength(pl - r);\n",
       "        var dx = d.target.x - d.source.x,\n",
       "            dy = d.target.y - d.source.y,\n",
       "            dr = Math.sqrt(dx * dx + dy * dy);\n",
       "        if(!curved)dr=0;\n",
       "        var result = \"M\" + d.source.x + \",\" + d.source.y + \"A\" + dr + \",\" + dr + \" 0 0,1 \" + m.x + \",\" + m.y;\n",
       "        return result;\n",
       "    });\n",
       "};\n",
       "\n",
       "\n",
       "/*Update node positions */\n",
       "function updateNode(node) {\n",
       "    node.attr(\"transform\", function(d) {\n",
       "        return \"translate(\" + d.x + \",\" + d.y + \")\";\n",
       "    });\n",
       "    // node\n",
       "    //     .attr(\"cx\", function(d) { return d.x; })\n",
       "    //     .attr(\"cy\", function(d) { return d.y; });\n",
       "};\n",
       "\n",
       "/*Update text positions */\n",
       "function updateText(text) {\n",
       "    text.attr(\"transform\", function(d) {\n",
       "        return \"translate(\" + d.x + \",\" + d.y + \")\";\n",
       "    });\n",
       "};\n",
       "\n",
       "/*Add drag functionality to the node objects*/\n",
       "node.call(\n",
       "    d3.drag()\n",
       "        .on(\"start\", dragstarted)\n",
       "        .on(\"drag\", dragged)\n",
       "        .on(\"end\", dragended)\n",
       ");\n",
       "\n",
       "function dragstarted(d) {\n",
       "    d3.event.sourceEvent.stopPropagation();\n",
       "    if (!d3.event.active) simulation.alphaTarget(0.3).restart();\n",
       "    d.fx = d.x;\n",
       "    d.fy = d.y;\n",
       "};\n",
       "\n",
       "function dragged(d) {\n",
       "    d.fx = d3.event.x;\n",
       "    d.fy = d3.event.y;\n",
       "};\n",
       "\n",
       "function dragended(d) {\n",
       "    if (!d3.event.active) simulation.alphaTarget(0);\n",
       "    d.fx = null;\n",
       "    d.fy = null;\n",
       "};\n",
       "\n",
       "}); //END\n",
       "\n",
       "</script>"
      ]
     },
     "metadata": {},
     "output_type": "display_data"
    },
    {
     "data": {
      "text/plain": [
       "<pathpyG.visualisations.network_plots.StaticNetworkPlot at 0x7f2e14a220e0>"
      ]
     },
     "execution_count": 13,
     "metadata": {},
     "output_type": "execute_result"
    }
   ],
   "source": [
    "pp.plot(karate_network, node_color=z_mdl.tolist())"
   ]
  },
  {
   "cell_type": "markdown",
   "metadata": {
    "collapsed": false
   },
   "source": [
    "Here is the degree distributions by communities."
   ]
  },
  {
   "cell_type": "code",
   "execution_count": 14,
   "metadata": {},
   "outputs": [
    {
     "data": {
      "text/plain": [
       "{0: 16,\n",
       " 1: 9,\n",
       " 2: 10,\n",
       " 3: 6,\n",
       " 4: 3,\n",
       " 5: 4,\n",
       " 6: 4,\n",
       " 7: 4,\n",
       " 8: 5,\n",
       " 9: 2,\n",
       " 10: 3,\n",
       " 11: 1,\n",
       " 12: 2,\n",
       " 13: 5,\n",
       " 14: 2,\n",
       " 15: 2,\n",
       " 16: 2,\n",
       " 17: 2,\n",
       " 18: 2,\n",
       " 19: 3,\n",
       " 20: 2,\n",
       " 21: 2,\n",
       " 22: 1,\n",
       " 23: 5,\n",
       " 24: 3,\n",
       " 25: 3,\n",
       " 26: 2,\n",
       " 27: 4,\n",
       " 28: 3,\n",
       " 29: 4,\n",
       " 30: 4,\n",
       " 31: 6,\n",
       " 32: 12,\n",
       " 33: 16}"
      ]
     },
     "execution_count": 14,
     "metadata": {},
     "output_type": "execute_result"
    }
   ],
   "source": [
    "karate_network.degrees()"
   ]
  },
  {
   "cell_type": "code",
   "execution_count": 15,
   "metadata": {
    "ExecuteTime": {
     "end_time": "2023-06-01T21:48:48.715498427Z",
     "start_time": "2023-06-01T21:48:47.529486074Z"
    }
   },
   "outputs": [
    {
     "data": {
      "image/png": "[encoded data removed]",
      "text/plain": [
       "<Figure size 640x480 with 1 Axes>"
      ]
     },
     "metadata": {},
     "output_type": "display_data"
    }
   ],
   "source": [
    "degrees = np.array([\n",
    "    i[1] \n",
    "    for i in sorted\n",
    "    (karate_network.degrees().items(), key=lambda x: int(x[0]))]\n",
    ")\n",
    "\n",
    "data = [degrees[z_mdl == block] for block in np.unique(z_mdl)]\n",
    "plt.hist(data, alpha=0.5, label=np.unique(z_mdl), histtype=\"bar\", density=True)\n",
    "plt.legend()\n",
    "plt.show()"
   ]
  },
  {
   "cell_type": "markdown",
   "metadata": {
    "collapsed": false
   },
   "source": [
    "Let`s code the DCSBM entropy and describing information."
   ]
  },
  {
   "cell_type": "markdown",
   "metadata": {
    "collapsed": false
   },
   "source": [
    "Formula:\n",
    "$$S \\thickapprox - E - \\sum_{k} N_k \\ln k! - \\frac{1}{2} \\sum_{rs} e_{rs} \\ln \\left( \\frac{e_{rs}}{e_r e_s} \\right)$$\n",
    "\n",
    "The first term consists of number of links in the whole network:\n",
    "$$-E$$\n",
    "\n",
    "The second term accounts for the degree distribution:\n",
    "$$- \\sum_{k} N_k \\ln k!$$\n",
    "\n",
    "The third term:\n",
    "$$- \\frac{1}{2} \\sum_{rs} e_{rs} \\ln \\left( \\frac{e_{rs}}{e_r e_s} \\right)$$"
   ]
  },
  {
   "cell_type": "code",
   "execution_count": 21,
   "metadata": {},
   "outputs": [
    {
     "data": {
      "text/plain": [
       "0"
      ]
     },
     "execution_count": 21,
     "metadata": {},
     "output_type": "execute_result"
    }
   ],
   "source": [
    "karate_network.mapping.to_idx(0)"
   ]
  },
  {
   "cell_type": "code",
   "execution_count": 27,
   "metadata": {
    "ExecuteTime": {
     "end_time": "2023-06-01T21:50:41.010120693Z",
     "start_time": "2023-06-01T21:50:40.957785271Z"
    },
    "collapsed": false
   },
   "outputs": [],
   "source": [
    "def DCSBM_min_entropy(z, network: pp.Graph):\n",
    "\n",
    "    E = network.M\n",
    "    first_term = -1 * E\n",
    "\n",
    "    second_term = 0\n",
    "    degrees = np.array([\n",
    "        i[1] \n",
    "        for i in sorted\n",
    "        (network.degrees().items(), key=lambda x: int(x[0]))]\n",
    "    )\n",
    "    for each_degree in np.unique(degrees):\n",
    "        second_term -= np.sum(degrees == each_degree) * log(math.factorial(each_degree))\n",
    "\n",
    "    third_term = 0\n",
    "    for k in np.unique(z):\n",
    "        for l in np.unique(z):\n",
    "            e_kl = 0\n",
    "            for v, w in network.edges:\n",
    "                if (z[network.mapping.to_idx(v)] == k and z[network.mapping.to_idx(w)] == l) or (z[network.mapping.to_idx(v)] == l and z[network.mapping.to_idx(w)] == k):\n",
    "                    e_kl += 1\n",
    "            e_k = np.sum(degrees[z == k])\n",
    "            e_l = np.sum(degrees[z == l])\n",
    "            third_term -= 1/2 * e_kl * log(e_kl / (e_k * e_l))\n",
    "\n",
    "    return first_term + second_term + third_term"
   ]
  },
  {
   "cell_type": "code",
   "execution_count": 28,
   "metadata": {
    "ExecuteTime": {
     "end_time": "2023-06-01T21:50:41.919698710Z",
     "start_time": "2023-06-01T21:50:41.834460522Z"
    },
    "collapsed": false
   },
   "outputs": [],
   "source": [
    "def dc_delta(z, network: pp.Graph):\n",
    "    degrees = np.array([i[1] for i in sorted(karate_network.degrees().items(), key=lambda x: int(x[0]))])\n",
    "\n",
    "    B = len(set(z))\n",
    "    m = network.M\n",
    "    n = network.N\n",
    "    x = (B*(B+1))/(2*m)\n",
    "\n",
    "    third_term = 0\n",
    "    for each_degree in degrees:\n",
    "        p_k = np.sum(degrees == each_degree) / len(degrees)\n",
    "        third_term -= p_k * log(p_k)\n",
    "    return m * ((1+x) * np.log(1+x) - x * np.log(x)) + n * np.log(B) + n * third_term"
   ]
  },
  {
   "cell_type": "code",
   "execution_count": 29,
   "metadata": {
    "ExecuteTime": {
     "end_time": "2023-06-01T21:55:00.598514959Z",
     "start_time": "2023-06-01T21:54:17.643971308Z"
    },
    "collapsed": false
   },
   "outputs": [
    {
     "name": "stderr",
     "output_type": "stream",
     "text": [
      "100%|██████████| 200/200 [00:14<00:00, 14.14it/s] \n"
     ]
    },
    {
     "data": {
      "text/plain": [
       "array([0, 0, 1, 1, 0, 0, 0, 1, 1, 0, 1, 1, 0, 0, 1, 1, 1, 1, 1, 0, 1, 1,\n",
       "       0, 1, 0, 0, 0, 0, 1, 1, 0, 1, 0, 0])"
      ]
     },
     "execution_count": 29,
     "metadata": {},
     "output_type": "execute_result"
    }
   ],
   "source": [
    "z_dcsbm, _, _ = detect_communities_MDL(karate_network, DCSBM_min_entropy, dc_delta, iterations=200, cooling_slowness=10)\n",
    "z_dcsbm"
   ]
  },
  {
   "cell_type": "code",
   "execution_count": 30,
   "metadata": {
    "ExecuteTime": {
     "end_time": "2023-06-01T21:58:21.573883350Z",
     "start_time": "2023-06-01T21:58:20.847056942Z"
    },
    "collapsed": false
   },
   "outputs": [
    {
     "data": {
      "image/png": "[encoded data removed]",
      "text/plain": [
       "<Figure size 640x480 with 1 Axes>"
      ]
     },
     "metadata": {},
     "output_type": "display_data"
    }
   ],
   "source": [
    "data = [degrees[z_dcsbm == block] for block in np.unique(z_dcsbm)]\n",
    "plt.hist(data, alpha=0.5, label=np.unique(z_dcsbm), histtype=\"bar\", density=True)\n",
    "plt.legend()\n",
    "plt.show()"
   ]
  },
  {
   "cell_type": "markdown",
   "metadata": {
    "collapsed": false
   },
   "source": [
    "So the network was devided into two communities and degrees in each community are quite different for the DCSSBM model. For the simple SBM model the degrees are pretty same."
   ]
  },
  {
   "cell_type": "markdown",
   "metadata": {
    "collapsed": false
   },
   "source": [
    "### (b) The above approximate expression for the entropy SS only holds when\n",
    "$$e_{rs} \\frac{ \\left< k^2 \\right>_k - \\left< k \\right>_k }{\\left< k \\right>_k^2} \\frac{ \\left< k^2 \\right>_r - \\left< k \\right>_r }{\\left< k \\right>_r^2} \\ll n_k n_r$$"
   ]
  },
  {
   "cell_type": "code",
   "execution_count": 31,
   "metadata": {
    "ExecuteTime": {
     "end_time": "2023-06-01T22:22:15.047551905Z",
     "start_time": "2023-06-01T22:22:14.975457820Z"
    },
    "collapsed": false
   },
   "outputs": [
    {
     "name": "stdout",
     "output_type": "stream",
     "text": [
      "Sparsity works!\n"
     ]
    }
   ],
   "source": [
    "for k in np.unique(z_dcsbm):\n",
    "    for l in np.unique(z_dcsbm):\n",
    "\n",
    "        e_kl = 0\n",
    "        for v, w in karate_network.edges:\n",
    "            if (z_dcsbm[karate_network.mapping.to_idx(v)] == k and z_dcsbm[karate_network.mapping.to_idx(w)] == l) or (z_dcsbm[karate_network.mapping.to_idx(v)] == l and z_dcsbm[karate_network.mapping.to_idx(w)] == k):\n",
    "                    e_kl += 1\n",
    "\n",
    "        k_block_degrees = degrees[z_dcsbm == k]\n",
    "        mean_degree_k = np.mean(k_block_degrees)\n",
    "        mean_degree_k_2 = np.mean(np.power(k_block_degrees, 2))\n",
    "        mean_degree_k_squared = np.power(mean_degree_k, 2)\n",
    "        n_k = np.sum(z_dcsbm == k)\n",
    "\n",
    "        l_block_degrees = degrees[z_dcsbm == l]\n",
    "        mean_degree_l = np.mean(l_block_degrees)\n",
    "        mean_degree_l_2 = np.mean(np.power(l_block_degrees, 2))\n",
    "        mean_degree_l_squared = np.power(mean_degree_l, 2)\n",
    "        n_l = np.sum(z_dcsbm == l)\n",
    "\n",
    "        if e_kl * ((mean_degree_k_2 - mean_degree_k)/mean_degree_k_squared) * ((mean_degree_l_2 - mean_degree_l)/mean_degree_l_squared) > n_k * n_l:\n",
    "            raise ValueError(\"Sparsity does not work!\")\n",
    "\n",
    "print(\"Sparsity works!\")"
   ]
  },
  {
   "cell_type": "markdown",
   "metadata": {
    "collapsed": false
   },
   "source": [
    "### (c) How is the entropy S related to the number of microstates of the DCSBM? What is the Probability P(G) of each microstate G?"
   ]
  },
  {
   "cell_type": "markdown",
   "metadata": {
    "collapsed": false
   },
   "source": [
    "The probability is\n",
    "$$P(G) = \\frac{1}{\\Omega}$$\n",
    "where $\\Omega$ is the number of microstates."
   ]
  },
  {
   "cell_type": "markdown",
   "metadata": {
    "collapsed": false
   },
   "source": [
    "The entropy S is:\n",
    "\n",
    "$$S = \\ln \\Omega$$\n",
    "\n",
    "The higher number of microstates the higher the entropy."
   ]
  },
  {
   "cell_type": "markdown",
   "metadata": {
    "collapsed": false
   },
   "source": [
    "# 2. Kullback Leiber Divergence"
   ]
  },
  {
   "cell_type": "markdown",
   "metadata": {
    "collapsed": false
   },
   "source": [
    "## For two discrete probability mass functions Q and P defined on the same sample space Ω with events i, the Kullback-Leibler divergence (which is also called relative entropy) from Q to P is defined as:\n",
    "$$D_{KL}(P||Q) := - \\sum_{i Є  \\Omega} P(i) * log\\frac{Q(i)}{P(i)}$$"
   ]
  },
  {
   "cell_type": "markdown",
   "metadata": {
    "collapsed": false
   },
   "source": [
    "### (a) Consider a dice X with six faces and two different probability mass functions $$Q(X = 1) = \\frac{1}{6}, Q(X = 2) = \\frac{1}{6}, Q(X = 3) = \\frac{1}{6}, Q(X = 4) = \\frac{1}{6}, Q(X = 5) = \\frac{1}{6}. Q(X = 6) = \\frac{1}{6}$$ and $$Q(X = 1) = \\frac{1}{3}, Q(X = 2) = \\frac{1}{3}, Q(X = 3) = \\frac{1}{12}, Q(X = 4) = \\frac{1}{12}, Q(X = 5) = \\frac{1}{12}. Q(X = 6) = \\frac{1}{12}$$ Use python to compute two sequences of 1000 dice rolls with probabilities according to P and Q respectively. Use a binary Huffman code to encode the sequence and compute the number of bits required per symbol."
   ]
  },
  {
   "cell_type": "code",
   "execution_count": 90,
   "metadata": {
    "ExecuteTime": {
     "end_time": "2023-06-01T22:22:28.949916307Z",
     "start_time": "2023-06-01T22:22:28.914269601Z"
    },
    "collapsed": false
   },
   "outputs": [],
   "source": [
    "def generate_sequence(symbols, probs, n):\n",
    "    return ''.join([x for x in np.random.choice(symbols, size=n, p=probs)])\n",
    "\n",
    "\n",
    "def huffman_tree(sequence):\n",
    "\n",
    "    huffman_tree = pp.Network()\n",
    "\n",
    "    counts = Counter(sequence).most_common()\n",
    "    seq_length = len(sequence)\n",
    "\n",
    "    # symbols with lowest frequency have highest priority\n",
    "    q = queue.PriorityQueue()\n",
    "    for (symbol, count) in counts:\n",
    "        # create leaf nodes and add to queue\n",
    "        huffman_tree.add_node(symbol, color='orange', label='{0} / {1:.2f}'.format(symbol, count/seq_length))\n",
    "        q.put((count, symbol))\n",
    "\n",
    "    # Create huffman tree\n",
    "    i = 0\n",
    "    while q.qsize()>1:\n",
    "\n",
    "        # retrieve two symbols with minimal frequency\n",
    "        left = q.get()\n",
    "        right = q.get()\n",
    "\n",
    "        total_frequency = left[0] + right[0]\n",
    "\n",
    "        # create internal node v with total frequency as label\n",
    "\n",
    "        # prefix \"n_\" avoids ID conflicts if sequence to be encoded consists of numbers\n",
    "        v = 'n_' + str(i)\n",
    "        label = '{:.2f}'.format(total_frequency/seq_length)\n",
    "        huffman_tree.add_node(v, label=label, color='gray')\n",
    "\n",
    "        huffman_tree.add_edge(v, left[1], symbol='0', color='red')\n",
    "        huffman_tree.add_edge(v, right[1], symbol='1', color='green')\n",
    "\n",
    "        huffman_tree.nodes[v]['frequency'] = total_frequency\n",
    "\n",
    "        q.put((left[0] + right[0], v))\n",
    "        i += 1\n",
    "\n",
    "    # generate the symbol to huffman code mapping\n",
    "    root = q.get()\n",
    "    return huffman_tree, root[1]\n",
    "\n",
    "\n",
    "def generate_mapping(tree, node, prefix='', lookup_table={}):\n",
    "    \"\"\"Recursively turns Huffman tree into a lookup dictionary\"\"\"\n",
    "    if tree.outdegrees()[node] == 0:\n",
    "        lookup_table[tree.nodes[node].uid] = prefix\n",
    "    else:\n",
    "        for x in tree.successors[node]:\n",
    "            generate_mapping(tree, x.uid, prefix=prefix + tree.edges[(node, x.uid)]['symbol'], lookup_table=lookup_table)\n",
    "\n",
    "    return lookup_table\n",
    "\n",
    "\n",
    "def calc_bit_per_symbol_for_prob(probable_symbols, probs, n):\n",
    "    symbols_sequence = generate_sequence(probable_symbols, probs, n)\n",
    "    haff_tree, root = huffman_tree(symbols_sequence)\n",
    "    lookup_table = generate_mapping(haff_tree, root)\n",
    "    compressed_symbols = ''.join([lookup_table[x] for x in symbols_sequence])\n",
    "    return len(compressed_symbols) / n"
   ]
  },
  {
   "cell_type": "code",
   "execution_count": 91,
   "metadata": {
    "ExecuteTime": {
     "end_time": "2023-06-01T22:22:29.782073500Z",
     "start_time": "2023-06-01T22:22:29.614571487Z"
    },
    "collapsed": false
   },
   "outputs": [
    {
     "data": {
      "text/plain": [
       "['1', '2', '3', '4', '5', '6']"
      ]
     },
     "execution_count": 91,
     "metadata": {},
     "output_type": "execute_result"
    }
   ],
   "source": [
    "dice_numbers = [\"1\", \"2\", \"3\", \"4\", \"5\", \"6\"]\n",
    "dice_numbers"
   ]
  },
  {
   "cell_type": "code",
   "execution_count": 92,
   "metadata": {
    "ExecuteTime": {
     "end_time": "2023-06-01T22:22:30.257794026Z",
     "start_time": "2023-06-01T22:22:30.171550365Z"
    },
    "collapsed": false
   },
   "outputs": [
    {
     "name": "stdout",
     "output_type": "stream",
     "text": [
      "The bits per symbol for Q(X) probability mass function 2.641\n"
     ]
    }
   ],
   "source": [
    "q_probs = [1/6] * 6\n",
    "q_bits_pear_symbol = calc_bit_per_symbol_for_prob(dice_numbers, q_probs, 1000)\n",
    "print(f\"The bits per symbol for Q(X) probability mass function {q_bits_pear_symbol}\")"
   ]
  },
  {
   "cell_type": "code",
   "execution_count": 93,
   "metadata": {
    "ExecuteTime": {
     "end_time": "2023-06-01T22:22:31.142654953Z",
     "start_time": "2023-06-01T22:22:31.030874645Z"
    },
    "collapsed": false
   },
   "outputs": [
    {
     "name": "stdout",
     "output_type": "stream",
     "text": [
      "The bits per symbol for Q(X) probability mass function 2.246\n"
     ]
    }
   ],
   "source": [
    "p_probs = [1/3, 1/3, 1/12, 1/12, 1/12, 1/12]\n",
    "p_bits_pear_symbol = calc_bit_per_symbol_for_prob(dice_numbers, p_probs, 1000)\n",
    "print(f\"The bits per symbol for Q(X) probability mass function {p_bits_pear_symbol}\")"
   ]
  },
  {
   "cell_type": "markdown",
   "metadata": {
    "collapsed": false
   },
   "source": [
    "As you see for the sequence where the more frequent symbols exist we can use less bits pear symbol for compressing the sequence."
   ]
  },
  {
   "cell_type": "markdown",
   "metadata": {
    "collapsed": false
   },
   "source": [
    "### (b) Calculate the difference between the bits required for both sequences and compare it with the Kullback-Leibler divergence from Q to P . Interpret and explain your finding."
   ]
  },
  {
   "cell_type": "code",
   "execution_count": 94,
   "metadata": {
    "ExecuteTime": {
     "end_time": "2023-06-01T22:22:33.542963230Z",
     "start_time": "2023-06-01T22:22:33.529056859Z"
    },
    "collapsed": false
   },
   "outputs": [
    {
     "name": "stdout",
     "output_type": "stream",
     "text": [
      "The difference between the bits pear symbol is: 0.395\n"
     ]
    }
   ],
   "source": [
    "bits_pear_symbol_delta = np.abs(q_bits_pear_symbol - p_bits_pear_symbol)\n",
    "print(f\"The difference between the bits pear symbol is: {bits_pear_symbol_delta}\")"
   ]
  },
  {
   "cell_type": "code",
   "execution_count": 95,
   "metadata": {
    "ExecuteTime": {
     "end_time": "2023-06-01T22:22:34.159409964Z",
     "start_time": "2023-06-01T22:22:34.104677943Z"
    },
    "collapsed": false
   },
   "outputs": [],
   "source": [
    "def log2(x):\n",
    "    if x == 0:\n",
    "        return 0\n",
    "    else:\n",
    "        return np.log2(x)\n",
    "\n",
    "\n",
    "def relative_entropy(P, Q):\n",
    "    relative_ent = 0\n",
    "    for i in range(len(P)):\n",
    "        relative_ent -= P[i] * log2(Q[i]/P[i])\n",
    "    return relative_ent"
   ]
  },
  {
   "cell_type": "code",
   "execution_count": 96,
   "metadata": {
    "ExecuteTime": {
     "end_time": "2023-06-01T22:22:34.920812394Z",
     "start_time": "2023-06-01T22:22:34.864843927Z"
    },
    "collapsed": false
   },
   "outputs": [
    {
     "name": "stdout",
     "output_type": "stream",
     "text": [
      "The Kullback-Leibler divergence is 0.3333333333333333\n"
     ]
    }
   ],
   "source": [
    "rel_entrp = relative_entropy(p_probs, q_probs)\n",
    "print(f\"The Kullback-Leibler divergence is {rel_entrp}\")"
   ]
  },
  {
   "cell_type": "markdown",
   "metadata": {
    "collapsed": false
   },
   "source": [
    "The Kullback-Leibler divergence can be interpreted as an average difference between the number of bits which we need to use to encode P and Q sequences with different probability mass functions."
   ]
  },
  {
   "cell_type": "code",
   "execution_count": null,
   "metadata": {
    "collapsed": false
   },
   "outputs": [],
   "source": []
  }
 ],
 "metadata": {
  "kernelspec": {
   "display_name": "Python 3 (ipykernel)",
   "language": "python",
   "name": "python3"
  }
 },
 "nbformat": 4,
 "nbformat_minor": 0
}
