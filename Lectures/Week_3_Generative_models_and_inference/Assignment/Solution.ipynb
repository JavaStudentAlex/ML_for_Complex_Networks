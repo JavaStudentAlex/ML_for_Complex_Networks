{
 "cells": [
  {
   "attachments": {},
   "cell_type": "markdown",
   "metadata": {
    "pycharm": {
     "name": "#%% md\n"
    }
   },
   "source": [
    "## 1. Molloy-Reed model"
   ]
  },
  {
   "attachments": {},
   "cell_type": "markdown",
   "metadata": {
    "pycharm": {
     "name": "#%% md\n"
    }
   },
   "source": [
    "### (a) Given a random microstate generated based on the configuration model with degree distribution P(k), consider a random node v and followe a edge to a neighbour v of node v. What is the probability that node w has degree k?"
   ]
  },
  {
   "attachments": {},
   "cell_type": "markdown",
   "metadata": {
    "pycharm": {
     "name": "#%% md\n"
    }
   },
   "source": [
    "So we choose the arbitrary node from the network, follow one of the links and check the chance that the degree of the successor node will be k. First of all the degree distribution will not be $P(k)$ because that $\\langle k_{n} \\rangle \\geq 1$.\n",
    "So, we have randomly chosen a node and stub on it to start the link to the neighbour. The probability to come to the node with $k$ degree is $\\frac{k}{2m - 1}$. At the same time the degree distribution is calculated by formula: $P(k) = \\frac{n_{k}}{n}$, where $n_{k}$ - number of nodes with with $k$ degree. So, $n_{k} = P(k)n$. So, the chance to come to the node with $k$ degree is:\n",
    "$$P_{n}(k) = \\frac{k}{2m - 1} np_{k}$$\n",
    "At the same time for $n \\rightarrow \\infty$ we can neglect $-1$ in formula and simplify it:\n",
    "$$P_{n}(k) = \\frac{k}{2m}nP(k) = \\frac{kP(k)}{\\frac{2m}{n}} = \\frac{kP(k)}{\\langle k \\rangle}$$\n",
    "\n",
    "We can also explain it from the probabilistic perspective. $kP(k)$ value can be explained as number of edges all k-degree nodes controbute to the pool. So the probability can be explained as edges controbution of the k-degree nodes to the whole edges pull - $\\sum_{i=0}^{\\infty} i P(i)$. So:\n",
    "\n",
    "$$\n",
    "\\begin{align*}\n",
    "P_n(k) = \\frac{kP(k)}{\\sum_{i=0}^{\\infty})} = \\frac{kP(k)}{\\langle k \\rangle}\n",
    "\\end{align*}\n",
    "$$"
   ]
  },
  {
   "attachments": {},
   "cell_type": "markdown",
   "metadata": {
    "pycharm": {
     "name": "#%% md\n"
    }
   },
   "source": [
    "### (b) Using the expression obtained above compute the expected degree of the neighbours of a random node v. What do we see when calculate the difference between the expected degree of a random node and the expected degree of a random neighbout of such a node?"
   ]
  },
  {
   "attachments": {},
   "cell_type": "markdown",
   "metadata": {
    "pycharm": {
     "name": "#%% md\n"
    }
   },
   "source": [
    "The formula for calculating the mean degree:\n",
    "$$\\langle k \\rangle = \\sum_{k = 0}^{\\infty}kP(k)$$\n",
    "\n",
    "For the neighbour degree we can use previously discovered formula:\n",
    "$$P_{n}(k) = \\frac{kP(k)}{\\langle k \\rangle}$$\n",
    "$$\\langle k_{n} \\rangle = \\sum_{k = 0}^{\\infty} kP_{n}(k) = \\frac{\\sum_{k = 0}^{\\infty} k^{2} P(k)}{\\langle k \\rangle} = \\frac{\\langle k^{2} \\rangle}{\\langle k \\rangle}$$\n",
    "\n",
    "The difference:\n",
    "$$\\langle k_{n} \\rangle - \\langle k \\rangle = \\frac{\\langle k^{2} \\rangle}{\\langle k \\rangle} - \\langle k \\rangle = \\frac{\\langle k^{2} \\rangle - \\langle k \\rangle^{2}}{\\langle k \\rangle} = \\frac{Var(k)}{\\langle k \\rangle} \\geq 0$$\n",
    " It is called **Friendship paradox**"
   ]
  },
  {
   "attachments": {},
   "cell_type": "markdown",
   "metadata": {
    "pycharm": {
     "name": "#%% md\n"
    }
   },
   "source": [
    "### (c) Often, rather than the degree of a node at the end of an edge, we are interested in the number of edges attached to the node other than the one we arrived through. This number is called the excess degree of a node. What is the probability that the node at which you arrive has excess degree k?"
   ]
  },
  {
   "attachments": {},
   "cell_type": "markdown",
   "metadata": {
    "pycharm": {
     "name": "#%% md\n"
    }
   },
   "source": [
    "Access degree of the node is the usual neighbour degree without one more edge. So the node with $k$ excess degree will have $k + 1$ degree. So the probability is:\n",
    "$$Q(k) = \\frac{(k + 1)P(k +1)}{\\langle k \\rangle}$$"
   ]
  },
  {
   "attachments": {},
   "cell_type": "markdown",
   "metadata": {
    "pycharm": {
     "name": "#%% md\n"
    }
   },
   "source": [
    "### (d) Consider a Molloy-Reed model with no self-loops and where we allowe for the creation of multiple edges between a single pair of nodes. What is the probability that two nodes v and w with degrees dv and dw are connected?"
   ]
  },
  {
   "attachments": {},
   "cell_type": "markdown",
   "metadata": {
    "pycharm": {
     "name": "#%% md\n"
    }
   },
   "source": [
    "So we start from the node we and need to calculate probability of the link between these two nodes. The v node has dv stubs and the w node has dw stubs. There are 2m stubs in the graph exclusing 1 stub already busy in the v node. So the probability that node in the same time will choose one stub from v and one stub from w nodes is:\n",
    "\n",
    "$$p_{v,w} = d_{v} * d_{w} / (2m - 1)$$\n",
    "\n",
    "But for the big m we can ignore -1 and the formula is:\n",
    "\n",
    "$$p_{v,w} = d_{v} * d_{w} / 2m$$"
   ]
  },
  {
   "attachments": {},
   "cell_type": "markdown",
   "metadata": {
    "pycharm": {
     "name": "#%% md\n"
    }
   },
   "source": [
    "## 2. Inference and Statistical Ensembles "
   ]
  },
  {
   "attachments": {},
   "cell_type": "markdown",
   "metadata": {
    "pycharm": {
     "name": "#%% md\n"
    }
   },
   "source": [
    "### (a) Consider the G(n, p) model for undirected random graphs with no self-lops. Show that for a given network Ge with n nodes and m links, a maximum likelihood estimate of parameter is given as\n",
    "$$\\hat p = m / (\\binom{n}{2})$$"
   ]
  },
  {
   "cell_type": "code",
   "execution_count": 6,
   "metadata": {
    "collapsed": false,
    "pycharm": {
     "name": "#%%\n"
    }
   },
   "outputs": [
    {
     "data": {
      "text/html": [
       "\n",
       "    <script charset=\"utf-8\">\n",
       "    // Load via requireJS if available (jupyter notebook environment)\n",
       "    try {\n",
       "    require.config({\n",
       "    paths: {\n",
       "    d3: \"https://d3js.org/d3.v5.min.js\".replace(\".js\", \"\")\n",
       "    }\n",
       "    });\n",
       "    console.log(\"OKAY: requireJS was detected\");\n",
       "    }\n",
       "    catch(err){\n",
       "    console.log(err);\n",
       "    console.log(\"ERROR: NO requireJS was detected\");\n",
       "    };\n",
       "    require(['d3'], function(d3){\n",
       "    console.log(\"OKAY: d3js was detected\");\n",
       "    });\n",
       "    </script>\n",
       "    "
      ],
      "text/plain": [
       "<IPython.core.display.HTML object>"
      ]
     },
     "metadata": {},
     "output_type": "display_data"
    }
   ],
   "source": [
    "from tqdm import tqdm\n",
    "from itertools import product\n",
    "\n",
    "import scipy as sp\n",
    "import numpy as np\n",
    "import pandas as pd\n",
    "import pathpy as pp\n",
    "import seaborn as sns\n",
    "import plotly.express as px\n",
    "from scipy.spatial import KDTree\n",
    "from matplotlib import pyplot as plt\n",
    "from sklearn.datasets import make_moons\n",
    "\n",
    "plt.style.use('default')\n",
    "sns.set_style(\"whitegrid\")"
   ]
  },
  {
   "cell_type": "code",
   "execution_count": 7,
   "metadata": {
    "collapsed": false,
    "pycharm": {
     "name": "#%%\n"
    }
   },
   "outputs": [],
   "source": [
    "n_range = np.arange(20, 120, 20)\n",
    "p_range = np.arange(0.1, 1.0, 0.1)"
   ]
  },
  {
   "cell_type": "code",
   "execution_count": 8,
   "metadata": {},
   "outputs": [
    {
     "name": "stderr",
     "output_type": "stream",
     "text": [
      "45it [00:06,  7.04it/s] \n"
     ]
    }
   ],
   "source": [
    "measuremenst = []\n",
    "\n",
    "for n, p in tqdm(product(n_range, p_range)):\n",
    "    network = pp.generators.ER_np(n=n, p=p, directed=False)\n",
    "    m = len(network.edges)\n",
    "    calculated_p = m / sp.special.binom(n, 2)\n",
    "    measuremenst.append((n, m, p, calculated_p, np.abs(calculated_p - p)))"
   ]
  },
  {
   "cell_type": "code",
   "execution_count": 9,
   "metadata": {
    "collapsed": false,
    "pycharm": {
     "name": "#%%\n"
    }
   },
   "outputs": [
    {
     "data": {
      "text/html": [
       "<div>\n",
       "<style scoped>\n",
       "    .dataframe tbody tr th:only-of-type {\n",
       "        vertical-align: middle;\n",
       "    }\n",
       "\n",
       "    .dataframe tbody tr th {\n",
       "        vertical-align: top;\n",
       "    }\n",
       "\n",
       "    .dataframe thead th {\n",
       "        text-align: right;\n",
       "    }\n",
       "</style>\n",
       "<table border=\"1\" class=\"dataframe\">\n",
       "  <thead>\n",
       "    <tr style=\"text-align: right;\">\n",
       "      <th></th>\n",
       "      <th>n nodes</th>\n",
       "      <th>m links</th>\n",
       "      <th>p</th>\n",
       "      <th>p^</th>\n",
       "      <th>p delta</th>\n",
       "    </tr>\n",
       "  </thead>\n",
       "  <tbody>\n",
       "    <tr>\n",
       "      <th>0</th>\n",
       "      <td>20</td>\n",
       "      <td>10</td>\n",
       "      <td>0.1</td>\n",
       "      <td>0.052632</td>\n",
       "      <td>0.047368</td>\n",
       "    </tr>\n",
       "    <tr>\n",
       "      <th>1</th>\n",
       "      <td>20</td>\n",
       "      <td>43</td>\n",
       "      <td>0.2</td>\n",
       "      <td>0.226316</td>\n",
       "      <td>0.026316</td>\n",
       "    </tr>\n",
       "    <tr>\n",
       "      <th>2</th>\n",
       "      <td>20</td>\n",
       "      <td>54</td>\n",
       "      <td>0.3</td>\n",
       "      <td>0.284211</td>\n",
       "      <td>0.015789</td>\n",
       "    </tr>\n",
       "    <tr>\n",
       "      <th>3</th>\n",
       "      <td>20</td>\n",
       "      <td>66</td>\n",
       "      <td>0.4</td>\n",
       "      <td>0.347368</td>\n",
       "      <td>0.052632</td>\n",
       "    </tr>\n",
       "    <tr>\n",
       "      <th>4</th>\n",
       "      <td>20</td>\n",
       "      <td>100</td>\n",
       "      <td>0.5</td>\n",
       "      <td>0.526316</td>\n",
       "      <td>0.026316</td>\n",
       "    </tr>\n",
       "    <tr>\n",
       "      <th>5</th>\n",
       "      <td>20</td>\n",
       "      <td>104</td>\n",
       "      <td>0.6</td>\n",
       "      <td>0.547368</td>\n",
       "      <td>0.052632</td>\n",
       "    </tr>\n",
       "    <tr>\n",
       "      <th>6</th>\n",
       "      <td>20</td>\n",
       "      <td>135</td>\n",
       "      <td>0.7</td>\n",
       "      <td>0.710526</td>\n",
       "      <td>0.010526</td>\n",
       "    </tr>\n",
       "    <tr>\n",
       "      <th>7</th>\n",
       "      <td>20</td>\n",
       "      <td>155</td>\n",
       "      <td>0.8</td>\n",
       "      <td>0.815789</td>\n",
       "      <td>0.015789</td>\n",
       "    </tr>\n",
       "    <tr>\n",
       "      <th>8</th>\n",
       "      <td>20</td>\n",
       "      <td>173</td>\n",
       "      <td>0.9</td>\n",
       "      <td>0.910526</td>\n",
       "      <td>0.010526</td>\n",
       "    </tr>\n",
       "    <tr>\n",
       "      <th>9</th>\n",
       "      <td>40</td>\n",
       "      <td>68</td>\n",
       "      <td>0.1</td>\n",
       "      <td>0.087179</td>\n",
       "      <td>0.012821</td>\n",
       "    </tr>\n",
       "    <tr>\n",
       "      <th>10</th>\n",
       "      <td>40</td>\n",
       "      <td>150</td>\n",
       "      <td>0.2</td>\n",
       "      <td>0.192308</td>\n",
       "      <td>0.007692</td>\n",
       "    </tr>\n",
       "    <tr>\n",
       "      <th>11</th>\n",
       "      <td>40</td>\n",
       "      <td>246</td>\n",
       "      <td>0.3</td>\n",
       "      <td>0.315385</td>\n",
       "      <td>0.015385</td>\n",
       "    </tr>\n",
       "    <tr>\n",
       "      <th>12</th>\n",
       "      <td>40</td>\n",
       "      <td>321</td>\n",
       "      <td>0.4</td>\n",
       "      <td>0.411538</td>\n",
       "      <td>0.011538</td>\n",
       "    </tr>\n",
       "    <tr>\n",
       "      <th>13</th>\n",
       "      <td>40</td>\n",
       "      <td>394</td>\n",
       "      <td>0.5</td>\n",
       "      <td>0.505128</td>\n",
       "      <td>0.005128</td>\n",
       "    </tr>\n",
       "    <tr>\n",
       "      <th>14</th>\n",
       "      <td>40</td>\n",
       "      <td>472</td>\n",
       "      <td>0.6</td>\n",
       "      <td>0.605128</td>\n",
       "      <td>0.005128</td>\n",
       "    </tr>\n",
       "    <tr>\n",
       "      <th>15</th>\n",
       "      <td>40</td>\n",
       "      <td>553</td>\n",
       "      <td>0.7</td>\n",
       "      <td>0.708974</td>\n",
       "      <td>0.008974</td>\n",
       "    </tr>\n",
       "    <tr>\n",
       "      <th>16</th>\n",
       "      <td>40</td>\n",
       "      <td>619</td>\n",
       "      <td>0.8</td>\n",
       "      <td>0.793590</td>\n",
       "      <td>0.006410</td>\n",
       "    </tr>\n",
       "    <tr>\n",
       "      <th>17</th>\n",
       "      <td>40</td>\n",
       "      <td>705</td>\n",
       "      <td>0.9</td>\n",
       "      <td>0.903846</td>\n",
       "      <td>0.003846</td>\n",
       "    </tr>\n",
       "    <tr>\n",
       "      <th>18</th>\n",
       "      <td>60</td>\n",
       "      <td>169</td>\n",
       "      <td>0.1</td>\n",
       "      <td>0.095480</td>\n",
       "      <td>0.004520</td>\n",
       "    </tr>\n",
       "    <tr>\n",
       "      <th>19</th>\n",
       "      <td>60</td>\n",
       "      <td>365</td>\n",
       "      <td>0.2</td>\n",
       "      <td>0.206215</td>\n",
       "      <td>0.006215</td>\n",
       "    </tr>\n",
       "    <tr>\n",
       "      <th>20</th>\n",
       "      <td>60</td>\n",
       "      <td>507</td>\n",
       "      <td>0.3</td>\n",
       "      <td>0.286441</td>\n",
       "      <td>0.013559</td>\n",
       "    </tr>\n",
       "    <tr>\n",
       "      <th>21</th>\n",
       "      <td>60</td>\n",
       "      <td>738</td>\n",
       "      <td>0.4</td>\n",
       "      <td>0.416949</td>\n",
       "      <td>0.016949</td>\n",
       "    </tr>\n",
       "    <tr>\n",
       "      <th>22</th>\n",
       "      <td>60</td>\n",
       "      <td>863</td>\n",
       "      <td>0.5</td>\n",
       "      <td>0.487571</td>\n",
       "      <td>0.012429</td>\n",
       "    </tr>\n",
       "    <tr>\n",
       "      <th>23</th>\n",
       "      <td>60</td>\n",
       "      <td>1073</td>\n",
       "      <td>0.6</td>\n",
       "      <td>0.606215</td>\n",
       "      <td>0.006215</td>\n",
       "    </tr>\n",
       "    <tr>\n",
       "      <th>24</th>\n",
       "      <td>60</td>\n",
       "      <td>1235</td>\n",
       "      <td>0.7</td>\n",
       "      <td>0.697740</td>\n",
       "      <td>0.002260</td>\n",
       "    </tr>\n",
       "    <tr>\n",
       "      <th>25</th>\n",
       "      <td>60</td>\n",
       "      <td>1414</td>\n",
       "      <td>0.8</td>\n",
       "      <td>0.798870</td>\n",
       "      <td>0.001130</td>\n",
       "    </tr>\n",
       "    <tr>\n",
       "      <th>26</th>\n",
       "      <td>60</td>\n",
       "      <td>1592</td>\n",
       "      <td>0.9</td>\n",
       "      <td>0.899435</td>\n",
       "      <td>0.000565</td>\n",
       "    </tr>\n",
       "    <tr>\n",
       "      <th>27</th>\n",
       "      <td>80</td>\n",
       "      <td>306</td>\n",
       "      <td>0.1</td>\n",
       "      <td>0.096835</td>\n",
       "      <td>0.003165</td>\n",
       "    </tr>\n",
       "    <tr>\n",
       "      <th>28</th>\n",
       "      <td>80</td>\n",
       "      <td>648</td>\n",
       "      <td>0.2</td>\n",
       "      <td>0.205063</td>\n",
       "      <td>0.005063</td>\n",
       "    </tr>\n",
       "    <tr>\n",
       "      <th>29</th>\n",
       "      <td>80</td>\n",
       "      <td>939</td>\n",
       "      <td>0.3</td>\n",
       "      <td>0.297152</td>\n",
       "      <td>0.002848</td>\n",
       "    </tr>\n",
       "    <tr>\n",
       "      <th>30</th>\n",
       "      <td>80</td>\n",
       "      <td>1261</td>\n",
       "      <td>0.4</td>\n",
       "      <td>0.399051</td>\n",
       "      <td>0.000949</td>\n",
       "    </tr>\n",
       "    <tr>\n",
       "      <th>31</th>\n",
       "      <td>80</td>\n",
       "      <td>1563</td>\n",
       "      <td>0.5</td>\n",
       "      <td>0.494620</td>\n",
       "      <td>0.005380</td>\n",
       "    </tr>\n",
       "    <tr>\n",
       "      <th>32</th>\n",
       "      <td>80</td>\n",
       "      <td>1920</td>\n",
       "      <td>0.6</td>\n",
       "      <td>0.607595</td>\n",
       "      <td>0.007595</td>\n",
       "    </tr>\n",
       "    <tr>\n",
       "      <th>33</th>\n",
       "      <td>80</td>\n",
       "      <td>2229</td>\n",
       "      <td>0.7</td>\n",
       "      <td>0.705380</td>\n",
       "      <td>0.005380</td>\n",
       "    </tr>\n",
       "    <tr>\n",
       "      <th>34</th>\n",
       "      <td>80</td>\n",
       "      <td>2534</td>\n",
       "      <td>0.8</td>\n",
       "      <td>0.801899</td>\n",
       "      <td>0.001899</td>\n",
       "    </tr>\n",
       "    <tr>\n",
       "      <th>35</th>\n",
       "      <td>80</td>\n",
       "      <td>2833</td>\n",
       "      <td>0.9</td>\n",
       "      <td>0.896519</td>\n",
       "      <td>0.003481</td>\n",
       "    </tr>\n",
       "    <tr>\n",
       "      <th>36</th>\n",
       "      <td>100</td>\n",
       "      <td>486</td>\n",
       "      <td>0.1</td>\n",
       "      <td>0.098182</td>\n",
       "      <td>0.001818</td>\n",
       "    </tr>\n",
       "    <tr>\n",
       "      <th>37</th>\n",
       "      <td>100</td>\n",
       "      <td>975</td>\n",
       "      <td>0.2</td>\n",
       "      <td>0.196970</td>\n",
       "      <td>0.003030</td>\n",
       "    </tr>\n",
       "    <tr>\n",
       "      <th>38</th>\n",
       "      <td>100</td>\n",
       "      <td>1484</td>\n",
       "      <td>0.3</td>\n",
       "      <td>0.299798</td>\n",
       "      <td>0.000202</td>\n",
       "    </tr>\n",
       "    <tr>\n",
       "      <th>39</th>\n",
       "      <td>100</td>\n",
       "      <td>2043</td>\n",
       "      <td>0.4</td>\n",
       "      <td>0.412727</td>\n",
       "      <td>0.012727</td>\n",
       "    </tr>\n",
       "    <tr>\n",
       "      <th>40</th>\n",
       "      <td>100</td>\n",
       "      <td>2455</td>\n",
       "      <td>0.5</td>\n",
       "      <td>0.495960</td>\n",
       "      <td>0.004040</td>\n",
       "    </tr>\n",
       "    <tr>\n",
       "      <th>41</th>\n",
       "      <td>100</td>\n",
       "      <td>2965</td>\n",
       "      <td>0.6</td>\n",
       "      <td>0.598990</td>\n",
       "      <td>0.001010</td>\n",
       "    </tr>\n",
       "    <tr>\n",
       "      <th>42</th>\n",
       "      <td>100</td>\n",
       "      <td>3428</td>\n",
       "      <td>0.7</td>\n",
       "      <td>0.692525</td>\n",
       "      <td>0.007475</td>\n",
       "    </tr>\n",
       "    <tr>\n",
       "      <th>43</th>\n",
       "      <td>100</td>\n",
       "      <td>3943</td>\n",
       "      <td>0.8</td>\n",
       "      <td>0.796566</td>\n",
       "      <td>0.003434</td>\n",
       "    </tr>\n",
       "    <tr>\n",
       "      <th>44</th>\n",
       "      <td>100</td>\n",
       "      <td>4469</td>\n",
       "      <td>0.9</td>\n",
       "      <td>0.902828</td>\n",
       "      <td>0.002828</td>\n",
       "    </tr>\n",
       "  </tbody>\n",
       "</table>\n",
       "</div>"
      ],
      "text/plain": [
       "    n nodes  m links    p        p^   p delta\n",
       "0        20       10  0.1  0.052632  0.047368\n",
       "1        20       43  0.2  0.226316  0.026316\n",
       "2        20       54  0.3  0.284211  0.015789\n",
       "3        20       66  0.4  0.347368  0.052632\n",
       "4        20      100  0.5  0.526316  0.026316\n",
       "5        20      104  0.6  0.547368  0.052632\n",
       "6        20      135  0.7  0.710526  0.010526\n",
       "7        20      155  0.8  0.815789  0.015789\n",
       "8        20      173  0.9  0.910526  0.010526\n",
       "9        40       68  0.1  0.087179  0.012821\n",
       "10       40      150  0.2  0.192308  0.007692\n",
       "11       40      246  0.3  0.315385  0.015385\n",
       "12       40      321  0.4  0.411538  0.011538\n",
       "13       40      394  0.5  0.505128  0.005128\n",
       "14       40      472  0.6  0.605128  0.005128\n",
       "15       40      553  0.7  0.708974  0.008974\n",
       "16       40      619  0.8  0.793590  0.006410\n",
       "17       40      705  0.9  0.903846  0.003846\n",
       "18       60      169  0.1  0.095480  0.004520\n",
       "19       60      365  0.2  0.206215  0.006215\n",
       "20       60      507  0.3  0.286441  0.013559\n",
       "21       60      738  0.4  0.416949  0.016949\n",
       "22       60      863  0.5  0.487571  0.012429\n",
       "23       60     1073  0.6  0.606215  0.006215\n",
       "24       60     1235  0.7  0.697740  0.002260\n",
       "25       60     1414  0.8  0.798870  0.001130\n",
       "26       60     1592  0.9  0.899435  0.000565\n",
       "27       80      306  0.1  0.096835  0.003165\n",
       "28       80      648  0.2  0.205063  0.005063\n",
       "29       80      939  0.3  0.297152  0.002848\n",
       "30       80     1261  0.4  0.399051  0.000949\n",
       "31       80     1563  0.5  0.494620  0.005380\n",
       "32       80     1920  0.6  0.607595  0.007595\n",
       "33       80     2229  0.7  0.705380  0.005380\n",
       "34       80     2534  0.8  0.801899  0.001899\n",
       "35       80     2833  0.9  0.896519  0.003481\n",
       "36      100      486  0.1  0.098182  0.001818\n",
       "37      100      975  0.2  0.196970  0.003030\n",
       "38      100     1484  0.3  0.299798  0.000202\n",
       "39      100     2043  0.4  0.412727  0.012727\n",
       "40      100     2455  0.5  0.495960  0.004040\n",
       "41      100     2965  0.6  0.598990  0.001010\n",
       "42      100     3428  0.7  0.692525  0.007475\n",
       "43      100     3943  0.8  0.796566  0.003434\n",
       "44      100     4469  0.9  0.902828  0.002828"
      ]
     },
     "execution_count": 9,
     "metadata": {},
     "output_type": "execute_result"
    }
   ],
   "source": [
    "df = pd.DataFrame.from_records(\n",
    "    measuremenst,\n",
    "    columns=[\"n nodes\", \"m links\", \"p\", \"p^\", \"p delta\"]\n",
    ")\n",
    "df"
   ]
  },
  {
   "attachments": {},
   "cell_type": "markdown",
   "metadata": {},
   "source": [
    "As you see the delta between real p and calculated p is very small that is why the calculated value of p is close to predefined p value."
   ]
  },
  {
   "attachments": {},
   "cell_type": "markdown",
   "metadata": {},
   "source": [
    "From anther facet lets consider the G(n, m) model with n nodes and m generated links. For the undirected graph with no self-lops the maximum number of possible links is $\\binom{n}{2}$. So the probability of the link is \n",
    "\n",
    "$$p = m / \\binom{n}{2}$$\n",
    "\n",
    "As you see the formula is identical to the formula in the task."
   ]
  },
  {
   "attachments": {},
   "cell_type": "markdown",
   "metadata": {},
   "source": [
    "The analytical part:\n",
    "$$\n",
    "\\begin{align*}\n",
    "\\mathcal{L}(\\Theta | G) &= P(G | \\Theta) = \\\\\n",
    "&= P(G) = \\\\\n",
    "&= p^m (1 - p)^{\\binom{n}{2} - m} \\\\\n",
    "\n",
    "log \\mathcal{L}(\\Theta) &= m \\log p - \\left( \\binom{n}{2} - m \\right) \\log (1 - p) \\\\\n",
    "\\frac{\\partial{\\mathcal{L}}}{\\partial{p}} &= \\frac{m}{p} - \\frac{\\binom{n}{2} - m}{1 - p} = 0 \\\\\n",
    "\\frac{m}{p} &= \\frac{\\binom{n}{2} - m}{1 - p} \\\\\n",
    "m - mp &= p \\binom{n}{2} - mp \\\\\n",
    "p &= \\frac{m}{\\binom{n}{2}}\n",
    "\\end{align*}\n",
    "$$"
   ]
  },
  {
   "attachments": {},
   "cell_type": "markdown",
   "metadata": {},
   "source": [
    "### (b) Consider the microstates G1 and G2 with n = 100 and m1 = 300 and m2 = 350 edges respectively. What is the probability of these microstate within:  "
   ]
  },
  {
   "attachments": {},
   "cell_type": "markdown",
   "metadata": {},
   "source": [
    "#### - a G(n, p) model with $n = 100$ and $p = \\frac{5}{99}$? What is the expected number of edges in this model?\n",
    "For the microstate probability we will use formula:\n",
    "$$\n",
    "\\begin{align*}\n",
    "P(G) &= \\binom{\\binom{n}{2}}{m} p^m (1 - p)^{\\binom{n}{2} - m} \\\\\n",
    "P(G_1) &= \\binom{\\binom{100}{2}}{300} \\left( \\frac{5}{99} \\right)^{300} \\left(1 - \\frac{5}{99} \\right)^{\\binom{100}{2} - 300} \\\\\n",
    "P(G_2) &= \\binom{\\binom{100}{2}}{350} \\left( \\frac{5}{99} \\right)^{350} \\left(1 - \\frac{5}{99} \\right)^{\\binom{100}{2} - 350} \\\\\n",
    "\\langle m \\rangle &= \\frac{5}{99} \\binom{100}{2}\n",
    "\\end{align*}\n",
    "$$\n",
    "\n"
   ]
  },
  {
   "attachments": {},
   "cell_type": "markdown",
   "metadata": {},
   "source": [
    "#### - a G(n, m) model with n = 100 and m = 300?"
   ]
  },
  {
   "attachments": {},
   "cell_type": "markdown",
   "metadata": {},
   "source": [
    "$$\n",
    "\\begin{align*}\n",
    "P(G_1) &= \\frac{1}{\\binom{\\binom{100}{2}}{300}} \\\\\n",
    "P(G_0) &= 0\n",
    "\\end{align*}\n",
    "$$"
   ]
  }
 ],
 "metadata": {
  "interpreter": {
   "hash": "c2b2b72c904d5685e508ac1c269fcc0e24aa7421211b310f55c4b4b8564e2077"
  },
  "kernelspec": {
   "display_name": "Python 3 (ipykernel)",
   "language": "python",
   "name": "python3"
  },
  "language_info": {
   "codemirror_mode": {
    "name": "ipython",
    "version": 3
   },
   "file_extension": ".py",
   "mimetype": "text/x-python",
   "name": "python",
   "nbconvert_exporter": "python",
   "pygments_lexer": "ipython3",
   "version": "3.10.14"
  },
  "orig_nbformat": 4
 },
 "nbformat": 4,
 "nbformat_minor": 2
}
