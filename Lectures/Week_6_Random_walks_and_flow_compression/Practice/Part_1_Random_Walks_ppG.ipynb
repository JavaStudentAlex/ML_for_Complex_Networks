{
 "cells": [
  {
   "attachments": {},
   "cell_type": "markdown",
   "metadata": {},
   "source": [
    "# 06-01 - Random Walks in Graphs\n",
    "\n",
    "*June 3 2024*  \n",
    "\n",
    "In the first notebook we explore random walks in graphs. Random walk models are important as a study diffusion processes and their stationary distribution can be used to define centrality measures like, e.g., PageRank. In the first notebook, we show how we can calculate transition matrices and visitation probabilities and how we can use `pathpyG` to simulate and visualize random walks in complex networks."
   ]
  },
  {
   "cell_type": "code",
   "execution_count": 1,
   "metadata": {},
   "outputs": [],
   "source": [
    "import pathpyG as pp\n",
    "import numpy as np\n",
    "\n",
    "import seaborn as sns\n",
    "import matplotlib.pyplot as plt\n",
    "\n",
    "from numpy import linalg as npl\n",
    "import scipy as sp\n",
    "import torch\n",
    "\n",
    "plt.style.use('default')\n",
    "sns.set_style(\"whitegrid\")\n",
    "\n",
    "pp.config['torch']['device']='cpu'"
   ]
  },
  {
   "cell_type": "markdown",
   "metadata": {},
   "source": [
    "## Transition matrices\n",
    "\n",
    "We first write a function that computes a (row- or right-stochastic) transition matrix of a random walk process for a given network. The method should work for weighted, unweighted, directed, and undirected networks represented by a `pathpy.Network` object."
   ]
  },
  {
   "cell_type": "code",
   "execution_count": 2,
   "metadata": {},
   "outputs": [],
   "source": [
    "def transition_matrix(network, weight=True):\n",
    "    # we first create an adjacency matrix that also considers weights\n",
    "    if weight:\n",
    "        A = network.get_sparse_adj_matrix(edge_attr='edge_weight').todense()\n",
    "    else:\n",
    "        A = network.get_sparse_adj_matrix().todense()\n",
    "    # we compute the (weighted) node degrees for the purpose of normalization\n",
    "    D = A.sum(axis=1)\n",
    "    # we generate an empty sparse transition matrix, we use the sparse \"list of lists\" format,\n",
    "    # which allows for a more efficient change of entries in the following loop\n",
    "    T = sp.sparse.lil_matrix((network.N, network.N))\n",
    "    # we calculate transition probabilities\n",
    "    for i in range(network.N):\n",
    "        T[i,:] = A[i,:]/D[i]\n",
    "    return T"
   ]
  },
  {
   "cell_type": "code",
   "execution_count": 3,
   "metadata": {},
   "outputs": [],
   "source": [
    "g = pp.Graph.from_edge_list([['a','b'],['a','c'],['b','c'],['b','a'],['c','a']])"
   ]
  },
  {
   "cell_type": "code",
   "execution_count": 4,
   "metadata": {},
   "outputs": [],
   "source": [
    "g.data['edge_weight'] = torch.tensor([[2],[1],[1],[2],[5]],device=pp.config['torch']['device'])"
   ]
  },
  {
   "cell_type": "code",
   "execution_count": 5,
   "metadata": {},
   "outputs": [
    {
     "name": "stdout",
     "output_type": "stream",
     "text": [
      "Directed graph with 3 nodes and 5 edges\n",
      "\n",
      "Edge attributes\n",
      "\tedge_weight\t\t<class 'torch.Tensor'> -> torch.Size([5, 1])\n",
      "\n",
      "Graph attributes\n",
      "\tnum_nodes\t\t<class 'int'>\n",
      "\n"
     ]
    }
   ],
   "source": [
    "print(g)"
   ]
  },
  {
   "cell_type": "code",
   "execution_count": 6,
   "metadata": {},
   "outputs": [
    {
     "data": {
      "text/plain": [
       "matrix([[0.        , 0.66666667, 0.33333333],\n",
       "        [0.66666667, 0.        , 0.33333333],\n",
       "        [1.        , 0.        , 0.        ]])"
      ]
     },
     "execution_count": 6,
     "metadata": {},
     "output_type": "execute_result"
    }
   ],
   "source": [
    "transition_matrix(g).todense()"
   ]
  },
  {
   "cell_type": "markdown",
   "metadata": {},
   "source": [
    "We can write a function that computes the visitation probability $\\pi^{(t)}$ of a random walk after $t$ steps, for a given network and initial distribution $\\pi^{(0)}$. We use the built-in `numpy.linalg.matrix_power` function to calculate the power of the transition matrix."
   ]
  },
  {
   "cell_type": "code",
   "execution_count": 7,
   "metadata": {},
   "outputs": [],
   "source": [
    "def visitation_probabilities(network, initial_dist, t):\n",
    "    T = transition_matrix(network).todense()\n",
    "    p_t = np.dot(initial_dist, npl.matrix_power(T,t))\n",
    "    return p_t"
   ]
  },
  {
   "cell_type": "markdown",
   "metadata": {},
   "source": [
    "If we start in node $a$, naturally after zero steps we are in the same node."
   ]
  },
  {
   "cell_type": "code",
   "execution_count": 14,
   "metadata": {},
   "outputs": [
    {
     "data": {
      "text/plain": [
       "matrix([[1., 0., 0.]])"
      ]
     },
     "execution_count": 14,
     "metadata": {},
     "output_type": "execute_result"
    }
   ],
   "source": [
    "visitation_probabilities(g, np.array([1, 0, 0]), 0)"
   ]
  },
  {
   "cell_type": "markdown",
   "metadata": {},
   "source": [
    "After one step, due to the edge weights, we have a $\\frac{2}{3}$ probability to be in node $b$ and a $\\frac{1}{3}$ probability to be in node $c$."
   ]
  },
  {
   "cell_type": "code",
   "execution_count": 15,
   "metadata": {},
   "outputs": [
    {
     "data": {
      "text/plain": [
       "matrix([[0.        , 0.66666667, 0.33333333]])"
      ]
     },
     "execution_count": 15,
     "metadata": {},
     "output_type": "execute_result"
    }
   ],
   "source": [
    "visitation_probabilities(g, np.array([1, 0, 0]), 1)"
   ]
  },
  {
   "cell_type": "markdown",
   "metadata": {},
   "source": [
    "After 100 steps, the probability that we have returned to node $a$ is $0.45$, while we have a $0.3$ and $0.25$ probability to be in nodes $b$ and $c$ respectively."
   ]
  },
  {
   "cell_type": "code",
   "execution_count": 16,
   "metadata": {},
   "outputs": [
    {
     "data": {
      "text/plain": [
       "matrix([[0.45, 0.3 , 0.25]])"
      ]
     },
     "execution_count": 16,
     "metadata": {},
     "output_type": "execute_result"
    }
   ],
   "source": [
    "visitation_probabilities(g, np.array([1, 0, 0]), 100)"
   ]
  },
  {
   "cell_type": "markdown",
   "metadata": {},
   "source": [
    "We note that those visitation probabilities do not change if we consider 500 steps of a random walk."
   ]
  },
  {
   "cell_type": "code",
   "execution_count": 17,
   "metadata": {},
   "outputs": [
    {
     "data": {
      "text/plain": [
       "matrix([[0.45, 0.3 , 0.25]])"
      ]
     },
     "execution_count": 17,
     "metadata": {},
     "output_type": "execute_result"
    }
   ],
   "source": [
    "visitation_probabilities(g, np.array([1, 0, 0]), 500)"
   ]
  },
  {
   "cell_type": "markdown",
   "metadata": {},
   "source": [
    "`pathpyG` offers direct support for the simulation of random walk processes in a network, as well as for the calculation of transition matrices, stationary states and total variation distance. To create a random walk in a given network (including weight-based biases of transition probabilities), we can simply write:"
   ]
  },
  {
   "cell_type": "code",
   "execution_count": 18,
   "metadata": {},
   "outputs": [],
   "source": [
    "rw = pp.processes.RandomWalk(g, weight=True)"
   ]
  },
  {
   "cell_type": "markdown",
   "metadata": {},
   "source": [
    "We can print the transition matrix of the random walk as follows:"
   ]
  },
  {
   "cell_type": "code",
   "execution_count": 19,
   "metadata": {
    "tags": []
   },
   "outputs": [
    {
     "name": "stdout",
     "output_type": "stream",
     "text": [
      "<Compressed Sparse Row sparse matrix of dtype 'float64'\n",
      "\twith 5 stored elements and shape (3, 3)>\n",
      "  Coords\tValues\n",
      "  (0, 1)\t0.6666666666666666\n",
      "  (0, 2)\t0.3333333333333333\n",
      "  (1, 0)\t0.6666666666666666\n",
      "  (1, 2)\t0.3333333333333333\n",
      "  (2, 0)\t1.0\n"
     ]
    }
   ],
   "source": [
    "print(rw.transition_matrix)"
   ]
  },
  {
   "cell_type": "markdown",
   "metadata": {},
   "source": [
    "By default, the transition matrix is returned as a sparse matrix. If we want to inspect it, we can return it as a nicely-formatted `pandas` `DataFrame`:"
   ]
  },
  {
   "cell_type": "code",
   "execution_count": 20,
   "metadata": {
    "tags": []
   },
   "outputs": [
    {
     "data": {
      "text/html": [
       "<div>\n",
       "<style scoped>\n",
       "    .dataframe tbody tr th:only-of-type {\n",
       "        vertical-align: middle;\n",
       "    }\n",
       "\n",
       "    .dataframe tbody tr th {\n",
       "        vertical-align: top;\n",
       "    }\n",
       "\n",
       "    .dataframe thead th {\n",
       "        text-align: right;\n",
       "    }\n",
       "</style>\n",
       "<table border=\"1\" class=\"dataframe\">\n",
       "  <thead>\n",
       "    <tr style=\"text-align: right;\">\n",
       "      <th></th>\n",
       "      <th>a</th>\n",
       "      <th>b</th>\n",
       "      <th>c</th>\n",
       "    </tr>\n",
       "  </thead>\n",
       "  <tbody>\n",
       "    <tr>\n",
       "      <th>a</th>\n",
       "      <td>0.000000</td>\n",
       "      <td>0.666667</td>\n",
       "      <td>0.333333</td>\n",
       "    </tr>\n",
       "    <tr>\n",
       "      <th>b</th>\n",
       "      <td>0.666667</td>\n",
       "      <td>0.000000</td>\n",
       "      <td>0.333333</td>\n",
       "    </tr>\n",
       "    <tr>\n",
       "      <th>c</th>\n",
       "      <td>1.000000</td>\n",
       "      <td>0.000000</td>\n",
       "      <td>0.000000</td>\n",
       "    </tr>\n",
       "  </tbody>\n",
       "</table>\n",
       "</div>"
      ],
      "text/plain": [
       "          a         b         c\n",
       "a  0.000000  0.666667  0.333333\n",
       "b  0.666667  0.000000  0.333333\n",
       "c  1.000000  0.000000  0.000000"
      ]
     },
     "execution_count": 20,
     "metadata": {},
     "output_type": "execute_result"
    }
   ],
   "source": [
    "rw.transition_matrix_pd()"
   ]
  },
  {
   "cell_type": "markdown",
   "metadata": {},
   "source": [
    "We can use the function `rw.visitation_probabilities` to compute the node visitation probabilities after $t$ steps of a random walk starting in a specific `seed` node:"
   ]
  },
  {
   "cell_type": "code",
   "execution_count": 21,
   "metadata": {},
   "outputs": [
    {
     "data": {
      "text/plain": [
       "matrix([[0.45, 0.3 , 0.25]])"
      ]
     },
     "execution_count": 21,
     "metadata": {},
     "output_type": "execute_result"
    }
   ],
   "source": [
    "rw.visitation_probabilities(t=100, seed='a')"
   ]
  },
  {
   "cell_type": "markdown",
   "metadata": {},
   "source": [
    "We can simulate a given number of steps of a random walk sequence, starting in a given `seed` node. The following loop outputs ten steps of a random walk starting in node `a`. After each step, the observed visitation frequencies are computed:"
   ]
  },
  {
   "cell_type": "code",
   "execution_count": 22,
   "metadata": {},
   "outputs": [
    {
     "name": "stdout",
     "output_type": "stream",
     "text": [
      "time = 1, current node = b\n",
      "[0.5 0.5 0. ]\n",
      "time = 2, current node = a\n",
      "[0.66666667 0.33333333 0.        ]\n",
      "time = 3, current node = b\n",
      "[0.5 0.5 0. ]\n",
      "time = 4, current node = a\n",
      "[0.6 0.4 0. ]\n",
      "time = 5, current node = b\n",
      "[0.5 0.5 0. ]\n",
      "time = 6, current node = a\n",
      "[0.57142857 0.42857143 0.        ]\n",
      "time = 7, current node = b\n",
      "[0.5 0.5 0. ]\n",
      "time = 8, current node = c\n",
      "[0.44444444 0.44444444 0.11111111]\n",
      "time = 9, current node = a\n",
      "[0.5 0.4 0.1]\n",
      "time = 10, current node = b\n",
      "[0.45454545 0.45454545 0.09090909]\n",
      "time = 11, current node = a\n",
      "[0.5        0.41666667 0.08333333]\n",
      "time = 12, current node = b\n",
      "[0.46153846 0.46153846 0.07692308]\n",
      "time = 13, current node = a\n",
      "[0.5        0.42857143 0.07142857]\n",
      "time = 14, current node = b\n",
      "[0.46666667 0.46666667 0.06666667]\n",
      "time = 15, current node = a\n",
      "[0.5    0.4375 0.0625]\n",
      "time = 16, current node = c\n",
      "[0.47058824 0.41176471 0.11764706]\n",
      "time = 17, current node = a\n",
      "[0.5        0.38888889 0.11111111]\n",
      "time = 18, current node = b\n",
      "[0.47368421 0.42105263 0.10526316]\n",
      "time = 19, current node = a\n",
      "[0.5 0.4 0.1]\n",
      "time = 20, current node = b\n",
      "[0.47619048 0.42857143 0.0952381 ]\n",
      "time = 21, current node = a\n",
      "[0.5        0.40909091 0.09090909]\n",
      "time = 22, current node = b\n",
      "[0.47826087 0.43478261 0.08695652]\n",
      "time = 23, current node = a\n",
      "[0.5        0.41666667 0.08333333]\n",
      "time = 24, current node = b\n",
      "[0.48 0.44 0.08]\n",
      "time = 25, current node = a\n",
      "[0.5        0.42307692 0.07692308]\n",
      "time = 26, current node = b\n",
      "[0.48148148 0.44444444 0.07407407]\n",
      "time = 27, current node = c\n",
      "[0.46428571 0.42857143 0.10714286]\n",
      "time = 28, current node = a\n",
      "[0.48275862 0.4137931  0.10344828]\n",
      "time = 29, current node = b\n",
      "[0.46666667 0.43333333 0.1       ]\n",
      "time = 30, current node = a\n",
      "[0.48387097 0.41935484 0.09677419]\n",
      "time = 31, current node = b\n",
      "[0.46875 0.4375  0.09375]\n",
      "time = 32, current node = c\n",
      "[0.45454545 0.42424242 0.12121212]\n",
      "time = 33, current node = a\n",
      "[0.47058824 0.41176471 0.11764706]\n",
      "time = 34, current node = b\n",
      "[0.45714286 0.42857143 0.11428571]\n",
      "time = 35, current node = a\n",
      "[0.47222222 0.41666667 0.11111111]\n",
      "time = 36, current node = b\n",
      "[0.45945946 0.43243243 0.10810811]\n",
      "time = 37, current node = a\n",
      "[0.47368421 0.42105263 0.10526316]\n",
      "time = 38, current node = b\n",
      "[0.46153846 0.43589744 0.1025641 ]\n",
      "time = 39, current node = a\n",
      "[0.475 0.425 0.1  ]\n",
      "time = 40, current node = c\n",
      "[0.46341463 0.41463415 0.12195122]\n",
      "time = 41, current node = a\n",
      "[0.47619048 0.4047619  0.11904762]\n",
      "time = 42, current node = b\n",
      "[0.46511628 0.41860465 0.11627907]\n",
      "time = 43, current node = c\n",
      "[0.45454545 0.40909091 0.13636364]\n",
      "time = 44, current node = a\n",
      "[0.46666667 0.4        0.13333333]\n",
      "time = 45, current node = b\n",
      "[0.45652174 0.41304348 0.13043478]\n",
      "time = 46, current node = c\n",
      "[0.44680851 0.40425532 0.14893617]\n",
      "time = 47, current node = a\n",
      "[0.45833333 0.39583333 0.14583333]\n",
      "time = 48, current node = b\n",
      "[0.44897959 0.40816327 0.14285714]\n",
      "time = 49, current node = a\n",
      "[0.46 0.4  0.14]\n",
      "time = 50, current node = b\n",
      "[0.45098039 0.41176471 0.1372549 ]\n",
      "time = 51, current node = a\n",
      "[0.46153846 0.40384615 0.13461538]\n",
      "time = 52, current node = b\n",
      "[0.45283019 0.41509434 0.13207547]\n",
      "time = 53, current node = a\n",
      "[0.46296296 0.40740741 0.12962963]\n",
      "time = 54, current node = b\n",
      "[0.45454545 0.41818182 0.12727273]\n",
      "time = 55, current node = c\n",
      "[0.44642857 0.41071429 0.14285714]\n",
      "time = 56, current node = a\n",
      "[0.45614035 0.40350877 0.14035088]\n",
      "time = 57, current node = b\n",
      "[0.44827586 0.4137931  0.13793103]\n",
      "time = 58, current node = a\n",
      "[0.45762712 0.40677966 0.13559322]\n",
      "time = 59, current node = b\n",
      "[0.45       0.41666667 0.13333333]\n",
      "time = 60, current node = c\n",
      "[0.44262295 0.40983607 0.14754098]\n",
      "time = 61, current node = a\n",
      "[0.4516129  0.40322581 0.14516129]\n",
      "time = 62, current node = b\n",
      "[0.44444444 0.41269841 0.14285714]\n",
      "time = 63, current node = a\n",
      "[0.453125 0.40625  0.140625]\n",
      "time = 64, current node = b\n",
      "[0.44615385 0.41538462 0.13846154]\n",
      "time = 65, current node = a\n",
      "[0.45454545 0.40909091 0.13636364]\n",
      "time = 66, current node = b\n",
      "[0.44776119 0.41791045 0.13432836]\n",
      "time = 67, current node = a\n",
      "[0.45588235 0.41176471 0.13235294]\n",
      "time = 68, current node = b\n",
      "[0.44927536 0.42028986 0.13043478]\n",
      "time = 69, current node = a\n",
      "[0.45714286 0.41428571 0.12857143]\n",
      "time = 70, current node = b\n",
      "[0.45070423 0.42253521 0.12676056]\n",
      "time = 71, current node = a\n",
      "[0.45833333 0.41666667 0.125     ]\n",
      "time = 72, current node = c\n",
      "[0.45205479 0.4109589  0.1369863 ]\n",
      "time = 73, current node = a\n",
      "[0.45945946 0.40540541 0.13513514]\n",
      "time = 74, current node = c\n",
      "[0.45333333 0.4        0.14666667]\n",
      "time = 75, current node = a\n",
      "[0.46052632 0.39473684 0.14473684]\n",
      "time = 76, current node = b\n",
      "[0.45454545 0.4025974  0.14285714]\n",
      "time = 77, current node = a\n",
      "[0.46153846 0.3974359  0.14102564]\n",
      "time = 78, current node = b\n",
      "[0.4556962  0.40506329 0.13924051]\n",
      "time = 79, current node = a\n",
      "[0.4625 0.4    0.1375]\n",
      "time = 80, current node = b\n",
      "[0.45679012 0.40740741 0.13580247]\n",
      "time = 81, current node = a\n",
      "[0.46341463 0.40243902 0.13414634]\n",
      "time = 82, current node = b\n",
      "[0.45783133 0.40963855 0.13253012]\n",
      "time = 83, current node = a\n",
      "[0.46428571 0.4047619  0.13095238]\n",
      "time = 84, current node = b\n",
      "[0.45882353 0.41176471 0.12941176]\n",
      "time = 85, current node = c\n",
      "[0.45348837 0.40697674 0.13953488]\n",
      "time = 86, current node = a\n",
      "[0.45977011 0.40229885 0.13793103]\n",
      "time = 87, current node = b\n",
      "[0.45454545 0.40909091 0.13636364]\n",
      "time = 88, current node = a\n",
      "[0.46067416 0.40449438 0.13483146]\n",
      "time = 89, current node = b\n",
      "[0.45555556 0.41111111 0.13333333]\n",
      "time = 90, current node = a\n",
      "[0.46153846 0.40659341 0.13186813]\n",
      "time = 91, current node = b\n",
      "[0.45652174 0.41304348 0.13043478]\n",
      "time = 92, current node = c\n",
      "[0.4516129  0.40860215 0.13978495]\n",
      "time = 93, current node = a\n",
      "[0.45744681 0.40425532 0.13829787]\n",
      "time = 94, current node = c\n",
      "[0.45263158 0.4        0.14736842]\n",
      "time = 95, current node = a\n",
      "[0.45833333 0.39583333 0.14583333]\n",
      "time = 96, current node = c\n",
      "[0.45360825 0.39175258 0.15463918]\n",
      "time = 97, current node = a\n",
      "[0.45918367 0.3877551  0.15306122]\n",
      "time = 98, current node = b\n",
      "[0.45454545 0.39393939 0.15151515]\n",
      "time = 99, current node = a\n",
      "[0.46 0.39 0.15]\n",
      "time = 100, current node = c\n",
      "[0.45544554 0.38613861 0.15841584]\n"
     ]
    }
   ],
   "source": [
    "for time, updated_nodes in rw.simulation_run(steps=100, seed='a'):\n",
    "    print('time = {0}, current node = {1}'.format(time, updated_nodes[0]))\n",
    "    print(rw.visitation_frequencies)"
   ]
  },
  {
   "cell_type": "markdown",
   "metadata": {},
   "source": [
    "We note that the observed visitation frequencies after 100 steps closely resemble the visitation probabilities that we have computed above. \n",
    "\n",
    "The `RandomWalk` class is implemented based on `pathpy`'s capabilities to simulate general discrete-time dynamical processes that change the state of nodes. For a random walk, we have binary node states that capture whether a node is currently visited by the random walker or not. We can use the `run_experiment` function to generate multiple simulation runs for a given number of steps, starting from different `seed` states. To simulate two random walks with ten steps, one starting from node `a` and a second one starting from node `b` we can write:"
   ]
  },
  {
   "cell_type": "code",
   "execution_count": 23,
   "metadata": {},
   "outputs": [
    {
     "data": {
      "text/html": [
       "<style>\n",
       "svg circle.node {\n",
       "  fill: #3b5998;\n",
       "  stroke: #1b3978;\n",
       "  stroke-width: 2.5px;\n",
       "  r: 15px;\n",
       "  opacity: 1;\n",
       "}\n",
       "\n",
       ".link {\n",
       "  stroke: #969595;\n",
       "  stroke-opacity: .75;\n",
       "  stroke-width: 2.5px;\n",
       "}\n",
       "\n",
       ".arrow {\n",
       "  fill: #969595;\n",
       "}\n",
       "\n",
       "\n",
       ".label-text {\n",
       "    fill: #969595;\n",
       "    font-size: 16px;\n",
       "    font-family: sans-serif;\n",
       "}\n",
       "\n",
       "</style>\n",
       "\n",
       "<div id = \"xfdada71f3b2b483ebfb2e87bc9ea60d5\"> </div>\n",
       "<script charset=\"utf-8\" src=\"https://d3js.org/d3.v5.min.js\"></script>\n",
       "<script charset=\"utf-8\">\n",
       "// Load via requireJS if available (jupyter notebook environment)\n",
       "try {\n",
       "    // Problem: require.config will raise an exception when called for the second time \n",
       "    require.config({\n",
       "        paths: {\n",
       "            d3: \"https://d3js.org/d3.v5.min.js\".replace(\".js\", \"\")\n",
       "        }\n",
       "    });\n",
       "    console.log(\"OKAY: requireJS was detected.\");\n",
       "}\n",
       "catch(err){\n",
       "    // a reference error indicates that requireJS does not exist. \n",
       "    // other errors may occur due to multiple calls to config\n",
       "    if (err instanceof ReferenceError){\n",
       "        console.log(\"WARNING: NO requireJS was detected!\");\n",
       "\n",
       "        // Helper function that waits for d3js to be loaded\n",
       "        require = function require(symbols, callback) {\n",
       "            var ms = 10;\n",
       "            window.setTimeout(function(t) {\n",
       "                if (window[symbols[0]])\n",
       "                    callback(window[symbols[0]]);\n",
       "                else \n",
       "                    window.setTimeout(arguments.callee, ms);\n",
       "            }, ms);\n",
       "        }\n",
       "    }\n",
       "};\n",
       "require(['d3'], function(d3){ //START\n",
       "const data = {\"edges\": [{\"uid\": \"a-b\", \"source\": \"a\", \"target\": \"b\", \"weight\": 2}, {\"uid\": \"a-c\", \"source\": \"a\", \"target\": \"c\", \"weight\": 1}, {\"uid\": \"b-c\", \"source\": \"b\", \"target\": \"c\", \"weight\": 1}, {\"uid\": \"b-a\", \"source\": \"b\", \"target\": \"a\", \"weight\": 2}, {\"uid\": \"c-a\", \"source\": \"c\", \"target\": \"a\", \"weight\": 5}], \"nodes\": [{\"uid\": \"a\", \"label\": \"a\"}, {\"uid\": \"b\", \"label\": \"b\"}, {\"uid\": \"c\", \"label\": \"c\"}]}\n",
       "const config = {\"node_label\": [\"a\", \"b\", \"c\"], \"directed\": true, \"curved\": true, \"selector\": \"#xfdada71f3b2b483ebfb2e87bc9ea60d5\"}\n",
       "console.log(\"Static Network Template\");\n",
       "/* Resources\n",
       "   https://bl.ocks.org/mapio/53fed7d84cd1812d6a6639ed7aa83868\n",
       "   https://codepen.io/smlo/pen/JdMOej\n",
       "*/\n",
       "\n",
       "// variables from the config file\n",
       "const selector = config.selector;\n",
       "const width = config.width || 800;\n",
       "const height = config.height || 600;\n",
       "const charge_distance = config.charge_distance || 400;\n",
       "const charge_force = config.charge_force || -3000;\n",
       "const curved = config.curved || false;\n",
       "const directed = config.directed || false;\n",
       "// const weight = false;\n",
       "\n",
       "/* Create a svg element to display the network */\n",
       "var svg = d3.select(selector)\n",
       "    .append('svg')\n",
       "    .attr('width', width)\n",
       "    .attr('height', height)\n",
       "\n",
       "// add container to store the elements\n",
       "var container = svg.append(\"g\");\n",
       "\n",
       "/*Add zoom function to the container */\n",
       "svg.call(\n",
       "    d3.zoom()\n",
       "        .scaleExtent([.1, 4])\n",
       "        .on(\"zoom\", function() { container.attr(\"transform\", d3.event.transform); })\n",
       ");\n",
       "\n",
       "\n",
       "/*Load nodes and links from the data */\n",
       "var nodes = data.nodes\n",
       "var links = data.edges\n",
       "\n",
       "/*Create arrow head with same color as the edge */\n",
       "function marker (color) {\n",
       "       var reference;\n",
       "       svg.append(\"svg:defs\").selectAll(\"marker\")\n",
       "          .data([reference])\n",
       "          .enter().append(\"svg:marker\")\n",
       "          .attr(\"id\", \"arrow\"+color)\n",
       "          .attr(\"viewBox\", \"0 -5 10 10\")\n",
       "          .attr(\"refX\", 10)\n",
       "          .attr(\"refY\", -0)\n",
       "          .attr(\"markerWidth\", 6)\n",
       "          .attr(\"markerHeight\", 6)\n",
       "          .attr(\"orient\", \"auto\")\n",
       "          .append(\"svg:path\")\n",
       "          .attr('class','.arrow')\n",
       "          .attr(\"d\", \"M0,-5L10,0L0,5\")\n",
       "          .style('opacity',1)\n",
       "          .style(\"fill\", color);\n",
       "       return \"url(#\" + \"arrow\"+color + \")\";\n",
       "     };\n",
       "\n",
       "/*Link creation template */\n",
       "var link = container.append(\"g\").attr(\"class\", \"links\")\n",
       "    .selectAll(\".link\")\n",
       "    .data(links)\n",
       "    .enter()\n",
       "    .append(\"path\")\n",
       "    .attr(\"class\", \"link\")\n",
       "    .style(\"stroke\", function(d) { return d.color; })\n",
       "    .style(\"stroke-opacity\", function(d) { return d.opacity; })\n",
       "    .style(\"stroke-width\", function(d){  return d.size })\n",
       "    .style(\"fill\",\"none\")\n",
       "    .attr(\"marker-end\", function (d) {if(directed){return marker(d.color)}else{return null}; });\n",
       "\n",
       "    //.attr(\"marker-end\", function (d) { return marker(d.color); });\n",
       "    //.attr(\"marker-end\", \"url(#arrow)\");\n",
       "\n",
       "/*Node creation template */\n",
       "var node = container.append(\"g\").attr(\"class\", \"nodes\")\n",
       "    .selectAll(\"circle.node\")\n",
       "    .data(nodes)\n",
       "    .enter().append(\"circle\")\n",
       "    .attr(\"class\", \"node\")\n",
       "    .attr(\"x\", function(d) { return d.x; })\n",
       "    .attr(\"y\", function(d) { return d.y; })\n",
       "    .style(\"r\", function(d){  return d.size+\"px\"; })\n",
       "    .style(\"fill\", function(d) { return d.color; })\n",
       "    .style(\"opacity\", function(d) { return d.opacity; });\n",
       "\n",
       "/*Label creation template */\n",
       "var text = container.append(\"g\").attr(\"class\",\"labels\")\n",
       "    .selectAll(\"g\")\n",
       "    .data(nodes)\n",
       "    .enter().append(\"g\")\n",
       "\n",
       "text.append(\"text\")\n",
       "    .attr(\"class\", \"label-text\")\n",
       "    .attr(\"x\", function(d) {\n",
       "        var r = (d.size === undefined) ? 15 : d.size;\n",
       "        return 5 + r; })\n",
       "    .attr(\"dy\", \".31em\")\n",
       "    .text(function(d) { return d.label; });\n",
       "\n",
       "/*Scale weight for d3js */\n",
       "var weightScale = d3.scaleLinear()\n",
       "    .domain(d3.extent(links, function (d) { return d.weight }))\n",
       "    .range([.1, 1]);\n",
       "\n",
       "/*Simulation of the forces*/\n",
       "var simulation = d3.forceSimulation(nodes)\n",
       "    .force(\"links\", d3.forceLink(links)\n",
       "           .id(function(d) {return d.uid; })\n",
       "           .distance(50)\n",
       "           .strength(function(d){return weightScale(d.weight);})\n",
       "          )\n",
       "    .force(\"charge\", d3.forceManyBody()\n",
       "           .strength(charge_force)\n",
       "           .distanceMax(charge_distance)\n",
       "          )\n",
       "    .force(\"center\", d3.forceCenter(width / 2, height / 2))\n",
       "    .on(\"tick\", ticked);\n",
       "\n",
       "/*Update of the node and edge objects*/\n",
       "function ticked() {\n",
       "    node.call(updateNode);\n",
       "    link.call(updateLink);\n",
       "    text.call(updateText);\n",
       "};\n",
       "\n",
       "/*Update link positions */\n",
       "function updateLink(link) {\n",
       "    // link\n",
       "    //     .attr(\"x1\", function(d) { return d.source.x; })\n",
       "    //     .attr(\"y1\", function(d) { return d.source.y; })\n",
       "    //     .attr(\"x2\", function(d) { return d.target.x; })\n",
       "    //     .attr(\"y2\", function(d) { return d.target.y; });\n",
       "\n",
       "\n",
       "    link.attr(\"d\", function(d) {\n",
       "        var dx = d.target.x - d.source.x,\n",
       "            dy = d.target.y - d.source.y,\n",
       "            dr = Math.sqrt(dx * dx + dy * dy);\n",
       "        if(!curved)dr=0;\n",
       "        return \"M\" +\n",
       "            d.source.x + \",\" +\n",
       "            d.source.y + \"A\" +\n",
       "            dr + \",\" + dr + \" 0 0,1 \" +\n",
       "            d.target.x + \",\" +\n",
       "            d.target.y;\n",
       "    });\n",
       "\n",
       "    // recalculate and back off the distance\n",
       "    link.attr(\"d\", function (d, i) {\n",
       "        var pl = this.getTotalLength();\n",
       "        var r = (d.target.size === undefined) ? 15 : d.target.size;\n",
       "        var m = this.getPointAtLength(pl - r);\n",
       "        var dx = d.target.x - d.source.x,\n",
       "            dy = d.target.y - d.source.y,\n",
       "            dr = Math.sqrt(dx * dx + dy * dy);\n",
       "        if(!curved)dr=0;\n",
       "        var result = \"M\" + d.source.x + \",\" + d.source.y + \"A\" + dr + \",\" + dr + \" 0 0,1 \" + m.x + \",\" + m.y;\n",
       "        return result;\n",
       "    });\n",
       "};\n",
       "\n",
       "\n",
       "/*Update node positions */\n",
       "function updateNode(node) {\n",
       "    node.attr(\"transform\", function(d) {\n",
       "        return \"translate(\" + d.x + \",\" + d.y + \")\";\n",
       "    });\n",
       "    // node\n",
       "    //     .attr(\"cx\", function(d) { return d.x; })\n",
       "    //     .attr(\"cy\", function(d) { return d.y; });\n",
       "};\n",
       "\n",
       "/*Update text positions */\n",
       "function updateText(text) {\n",
       "    text.attr(\"transform\", function(d) {\n",
       "        return \"translate(\" + d.x + \",\" + d.y + \")\";\n",
       "    });\n",
       "};\n",
       "\n",
       "/*Add drag functionality to the node objects*/\n",
       "node.call(\n",
       "    d3.drag()\n",
       "        .on(\"start\", dragstarted)\n",
       "        .on(\"drag\", dragged)\n",
       "        .on(\"end\", dragended)\n",
       ");\n",
       "\n",
       "function dragstarted(d) {\n",
       "    d3.event.sourceEvent.stopPropagation();\n",
       "    if (!d3.event.active) simulation.alphaTarget(0.3).restart();\n",
       "    d.fx = d.x;\n",
       "    d.fy = d.y;\n",
       "};\n",
       "\n",
       "function dragged(d) {\n",
       "    d.fx = d3.event.x;\n",
       "    d.fy = d3.event.y;\n",
       "};\n",
       "\n",
       "function dragended(d) {\n",
       "    if (!d3.event.active) simulation.alphaTarget(0);\n",
       "    d.fx = null;\n",
       "    d.fy = null;\n",
       "};\n",
       "\n",
       "}); //END\n",
       "\n",
       "</script>"
      ]
     },
     "metadata": {},
     "output_type": "display_data"
    }
   ],
   "source": [
    "pp.plot(g, node_label=[v for v in g.mapping.node_ids]);"
   ]
  },
  {
   "cell_type": "code",
   "execution_count": 24,
   "metadata": {},
   "outputs": [
    {
     "name": "stderr",
     "output_type": "stream",
     "text": [
      "100%|██████████| 2/2 [00:00<00:00, 4017.53it/s]"
     ]
    },
    {
     "name": "stdout",
     "output_type": "stream",
     "text": [
      "    run_id seed  time node  state\n",
      "0        0    a     0    a   True\n",
      "1        0    a     0    b  False\n",
      "2        0    a     0    c  False\n",
      "3        0    a     1    b   True\n",
      "4        0    a     1    a  False\n",
      "5        0    a     2    a   True\n",
      "6        0    a     2    b  False\n",
      "7        0    a     3    b   True\n",
      "8        0    a     3    a  False\n",
      "9        0    a     4    a   True\n",
      "10       0    a     4    b  False\n",
      "11       0    a     5    b   True\n",
      "12       0    a     5    a  False\n",
      "13       0    a     6    a   True\n",
      "14       0    a     6    b  False\n",
      "15       0    a     7    c   True\n",
      "16       0    a     7    a  False\n",
      "17       0    a     8    a   True\n",
      "18       0    a     8    c  False\n",
      "19       0    a     9    b   True\n",
      "20       0    a     9    a  False\n",
      "21       0    a    10    a   True\n",
      "22       0    a    10    b  False\n",
      "23       1    b     0    a  False\n",
      "24       1    b     0    b   True\n",
      "25       1    b     0    c  False\n",
      "26       1    b     1    c   True\n",
      "27       1    b     1    b  False\n",
      "28       1    b     2    a   True\n",
      "29       1    b     2    c  False\n",
      "30       1    b     3    c   True\n",
      "31       1    b     3    a  False\n",
      "32       1    b     4    a   True\n",
      "33       1    b     4    c  False\n",
      "34       1    b     5    c   True\n",
      "35       1    b     5    a  False\n",
      "36       1    b     6    a   True\n",
      "37       1    b     6    c  False\n",
      "38       1    b     7    b   True\n",
      "39       1    b     7    a  False\n",
      "40       1    b     8    a   True\n",
      "41       1    b     8    b  False\n",
      "42       1    b     9    b   True\n",
      "43       1    b     9    a  False\n",
      "44       1    b    10    a   True\n",
      "45       1    b    10    b  False\n"
     ]
    },
    {
     "name": "stderr",
     "output_type": "stream",
     "text": [
      "\n"
     ]
    }
   ],
   "source": [
    "data = rw.run_experiment(steps=10, runs=['a', 'b'])\n",
    "print(data)"
   ]
  },
  {
   "cell_type": "code",
   "execution_count": 25,
   "metadata": {},
   "outputs": [
    {
     "name": "stdout",
     "output_type": "stream",
     "text": [
      "a -> 0\n",
      "b -> 1\n",
      "c -> 2\n",
      "\n"
     ]
    }
   ],
   "source": [
    "print(g.mapping)"
   ]
  },
  {
   "cell_type": "markdown",
   "metadata": {},
   "source": [
    "This generates a `pandas` `DataFrame` that stores all node state changes generated by the process. Each run of the simulation has a numerical identifier (here run\\_id `0` for the walk starting in node `a` and run\\_id `1` for the walk starting in node `b`). Each row in the data frame captures a state change of one node at a given time step `time`. In the first step, the visitation state of all nodes based on the initial distribution is recorded. For each subsequent time step, we see two state changes, one corresponding to the node from which the random walker moved away (setting the visitation state to `False`) and one to which the random walker moved (setting the visitation state to `True`). The beauty of this approach is that we can simulate many other processes (like, e.g., epidemic spreading) that generate exactly the same output, so we can analyze and visualize the output of various discrete-time simulations in a unified way. \n",
    "\n",
    "We can, for instance, use the `get_path` function to extract the `path` (in this case the walk) that a process has taken through the graph. For this, we have to specify the `run_id` corresponding to the walk that we want to return. This returns a `PathData` object that can be used for further analysis."
   ]
  },
  {
   "cell_type": "code",
   "execution_count": 26,
   "metadata": {},
   "outputs": [
    {
     "name": "stdout",
     "output_type": "stream",
     "text": [
      "('a', 'b', 'a', 'b', 'a', 'b', 'a', 'c', 'a', 'b', 'a')\n"
     ]
    }
   ],
   "source": [
    "p = rw.get_path(data, run_id=0)\n",
    "print(p.get_walk(0))"
   ]
  },
  {
   "cell_type": "markdown",
   "metadata": {},
   "source": [
    "We can also return a ``PathData` object that contains all paths generated by the runs of our experiment:"
   ]
  },
  {
   "cell_type": "code",
   "execution_count": 27,
   "metadata": {},
   "outputs": [
    {
     "name": "stdout",
     "output_type": "stream",
     "text": [
      "PathData with 2 paths with total weight 2.0\n"
     ]
    }
   ],
   "source": [
    "path_data = rw.get_paths(data)\n",
    "print(path_data)"
   ]
  }
 ],
 "metadata": {
  "interpreter": {
   "hash": "7636f2d114212ae27b52622e6b89e09cf504cf8142b2110d22f6f70e26cfddd4"
  },
  "kernelspec": {
   "display_name": "Python 3 (ipykernel)",
   "language": "python",
   "name": "python3"
  },
  "vscode": {
   "interpreter": {
    "hash": "ad2bdc8ecc057115af97d19610ffacc2b4e99fae6737bb82f5d7fb13d2f2c186"
   }
  }
 },
 "nbformat": 4,
 "nbformat_minor": 1
}
