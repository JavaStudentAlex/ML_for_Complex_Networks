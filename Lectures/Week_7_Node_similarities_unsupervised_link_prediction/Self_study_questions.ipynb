{
 "cells": [
  {
   "cell_type": "markdown",
   "metadata": {},
   "source": [
    "### 1. Find a network where the Leicht-Holme-Newman index performs better than the Katz index. Which characteristics should such networks have?\n",
    "\n",
    "Networks with hight heterogeity inside communities. Sparse networks."
   ]
  },
  {
   "cell_type": "markdown",
   "metadata": {},
   "source": [
    "### 2. Construct an example for a network, where walk-based similarities perform better than neighbour-based similarity scores.\n",
    "Any network with indirect connections between nodes."
   ]
  },
  {
   "cell_type": "markdown",
   "metadata": {},
   "source": [
    "### 3. Prove that the cosine similarity corresponds to the number of common neighbours divided by the geometric mean of the degrees of the nodes.\n",
    "Homework task B."
   ]
  },
  {
   "cell_type": "markdown",
   "metadata": {},
   "source": [
    "### 4. Give an example for an evaluation metric where class imbalance can make a classifier appear to perform better or worse than it actually does.\n",
    "Accuracy."
   ]
  },
  {
   "cell_type": "markdown",
   "metadata": {},
   "source": [
    "### 5. In link prediction, what is the sensitivity/specificity of a TOPk similarity-based classifier for $k = |V|^2$?\n",
    "We will have all possible links in the rate, so specificity/recall would be 0, because no link would be discarded. And sensitivity is 1, because all links we need will be there."
   ]
  },
  {
   "cell_type": "markdown",
   "metadata": {},
   "source": [
    "### 6. Investigate how the Katz index can be used to assess the centrality of a node in a network.\n",
    "Originally the Katz index was defined as a status index $s = t(\\frac{1}{a}I - C)$."
   ]
  },
  {
   "cell_type": "markdown",
   "metadata": {},
   "source": [
    "### 7. Create a network in which the Adamic-Adar index performs than the Szymkiewicz-Simpson coefficient.\n",
    "Homework 1a."
   ]
  },
  {
   "cell_type": "markdown",
   "metadata": {},
   "source": [
    "### 8. Explain how the Area Under Curve (AUC) score is defined for link prediction. Give examples for similarity scores for which we can expect AUC values close to zero, 0.5 and one.\n",
    "\n",
    "The AUC score was defined as $\\frac{n\\prime + 0.5 n\\prime\\prime}{n}$, where $n\\prime$ is number of cases missing links have higher score and $n\\prime\\prime$ if they have same score as it is expected. Close to 1 - ranks positive instances better than negative, Adamic-Adar. 0.5 - rnadom scores. Close to 0 - common neighbours."
   ]
  }
 ],
 "metadata": {
  "language_info": {
   "name": "python"
  }
 },
 "nbformat": 4,
 "nbformat_minor": 2
}
