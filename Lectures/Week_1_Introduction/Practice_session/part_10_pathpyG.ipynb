{
 "cells": [
  {
   "attachments": {},
   "cell_type": "markdown",
   "metadata": {
    "slideshow": {
     "slide_type": "slide"
    }
   },
   "source": [
    "# 01-10 - Representing Graphs with `pathpyG`\n",
    "\n",
    "*April 17 2024*\n",
    "\n",
    "We have covered the basics of data science with `python`. With this out of the way, we now introduce `pathpyG`, a network analysis and visualization package that is being developed at my chair. If you are interested to participate in the development of this OpenSource project, you can sign up for one of our labs or apply for a position as student assistant in our group. For more information, please refer to our website.\n",
    "\n",
    "`pathpyG` has a couple of advantages compared to many other network analysis packages. First, it is easy to install since it is a pure `python` package that does not require compilation. Second, `pathpy` has a user-friendly API that makes it easy to handle directed and undirected networks, networks where nodes or edges have attributes as well as temporal networks. Third, it provides interactive HTML visualizations that can be directly displayed inside `jupyter` notebooks, making it particularly suitable for educational settings. And finally, different from other packages it directly supports the analysis and visualization of time series data on networked systems, such as time-stamped edges or data on paths in networks.\n",
    "\n",
    "Most importantly, `pathpyG` is based on `pyTorch` and `torch-geometric` and uses tensors as internal data representation. This facilitates the analysis of large data sets and makes it easy to apply graph neural networks in later chapters of the course.\n",
    "\n",
    "To get started, we first import `pathpyG` and assign the local alias `pp`:"
   ]
  },
  {
   "cell_type": "code",
   "execution_count": 3,
   "metadata": {},
   "outputs": [],
   "source": [
    "import pathpyG as pp\n",
    "import numpy as np"
   ]
  },
  {
   "cell_type": "markdown",
   "metadata": {},
   "source": [
    "If the `import` statement completes without error message, the installation was successful and we can now use `pathpyG` to generate, analyse, and visualise networks. \n",
    "\n",
    "## Creating networks\n",
    "\n",
    "`pathpyG` provides the `Graph` class. The constructor takes a `pyG` Data object that can be used to pass an edge-index that captures the edges of a graph, as well as arbitrary node-, edge- or graph-level attributes. To simplify the creation of small example networks, you can use a static function that create a `Graph` object based on a list of edges represented as tuples of integers or strings.\n",
    "\n",
    "Printing the `Graph` object will give a short string summary which tells whether the network is directed or undirected, as well as the number of unique nodes and links."
   ]
  },
  {
   "cell_type": "code",
   "execution_count": 7,
   "metadata": {},
   "outputs": [
    {
     "name": "stdout",
     "output_type": "stream",
     "text": [
      "Directed graph with 3 nodes and 3 edges\n",
      "\n",
      "Graph attributes\n",
      "\tnum_nodes\t\t<class 'int'>\n",
      "\n"
     ]
    }
   ],
   "source": [
    "g1 = pp.Graph.from_edge_list([(0, 1), (1, 2), (2, 0)])\n",
    "print(g1)"
   ]
  },
  {
   "cell_type": "markdown",
   "metadata": {},
   "source": [
    "A network is directed by default, but we can create an undirected network by calling the function `to_undirected` of the `Graph` instance. This will internally generate edges for all directions, i.e. for the example above it will additionally generate the edges that connect nodes in the opposite direction."
   ]
  },
  {
   "cell_type": "code",
   "execution_count": 9,
   "metadata": {},
   "outputs": [
    {
     "name": "stdout",
     "output_type": "stream",
     "text": [
      "Undirected graph with 3 nodes and 6 (directed) edges\n",
      "\n",
      "Graph attributes\n",
      "\tnum_nodes\t\t<class 'int'>\n",
      "\n"
     ]
    }
   ],
   "source": [
    "g2 = g1.to_undirected()\n",
    "print(g2)"
   ]
  },
  {
   "cell_type": "markdown",
   "metadata": {},
   "source": [
    "In the example above, we have used integer numbers to refer to different nodes. Internally, this will create a `pyG` Data object with an edge index, where nodes are always represented by integer indices. Let us have a look at this internal data structure:"
   ]
  },
  {
   "cell_type": "code",
   "execution_count": 11,
   "metadata": {},
   "outputs": [
    {
     "name": "stdout",
     "output_type": "stream",
     "text": [
      "EdgeIndex([[0, 0, 1, 1, 2, 2],\n",
      "           [1, 2, 0, 2, 0, 1]], sparse_size=(3, 3), nnz=6, sort_order=row,\n",
      "          is_undirected=True)\n"
     ]
    }
   ],
   "source": [
    "print(g2.data.edge_index)"
   ]
  },
  {
   "cell_type": "markdown",
   "metadata": {},
   "source": [
    "We see that this edge index contains all edges for both directions, where the first tensor contains all source nodes (ordered by their index) while the second tensor contains all target nodes. This sorted tensor representation allows us to easy convert the edge index tensor to sparse matrix representations, that can be used e.g. to calculate matrix-based measures or Laplacian operators.\n",
    "\n",
    "While the approach to use integers is easy to understand, it is often more convenient to use string-based node labels. Different from `pyG`, this is supported in `pathpyG`, i.e. we can create a network as follows:"
   ]
  },
  {
   "cell_type": "code",
   "execution_count": 15,
   "metadata": {},
   "outputs": [
    {
     "name": "stdout",
     "output_type": "stream",
     "text": [
      "Undirected graph with 3 nodes and 6 (directed) edges\n",
      "\n",
      "Graph attributes\n",
      "\tnum_nodes\t\t<class 'int'>\n",
      "\n"
     ]
    }
   ],
   "source": [
    "n = pp.Graph.from_edge_list([('Tom', 'Bert'), ('Bert', 'Bill'), ('Bill', 'Tom')]).to_undirected()\n",
    "print(n)"
   ]
  },
  {
   "cell_type": "markdown",
   "metadata": {},
   "source": [
    "Checking the edge index, we find that we again have integer-based node indices:"
   ]
  },
  {
   "cell_type": "code",
   "execution_count": 16,
   "metadata": {},
   "outputs": [
    {
     "data": {
      "text/plain": [
       "EdgeIndex([[0, 0, 1, 1, 2, 2],\n",
       "           [1, 2, 0, 2, 0, 1]], sparse_size=(3, 3), nnz=6, sort_order=row,\n",
       "          is_undirected=True)"
      ]
     },
     "execution_count": 16,
     "metadata": {},
     "output_type": "execute_result"
    }
   ],
   "source": [
    "n.data.edge_index"
   ]
  },
  {
   "cell_type": "markdown",
   "metadata": {},
   "source": [
    "However, `pathpyG` automatically generates a ID to index mapping object that is automatically applied when we e.g. enumerate through nodes. We can manually check this mapping and use it to resolve IDs to integer indices and vice-versa:"
   ]
  },
  {
   "cell_type": "code",
   "execution_count": 19,
   "metadata": {},
   "outputs": [
    {
     "name": "stdout",
     "output_type": "stream",
     "text": [
      "Tom -> 0\n",
      "Bert -> 1\n",
      "Bill -> 2\n",
      "\n"
     ]
    }
   ],
   "source": [
    "print(n.mapping)"
   ]
  },
  {
   "cell_type": "code",
   "execution_count": 22,
   "metadata": {},
   "outputs": [
    {
     "data": {
      "text/plain": [
       "'Tom'"
      ]
     },
     "execution_count": 22,
     "metadata": {},
     "output_type": "execute_result"
    }
   ],
   "source": [
    "n.mapping.to_id(0)"
   ]
  },
  {
   "cell_type": "code",
   "execution_count": 23,
   "metadata": {},
   "outputs": [
    {
     "data": {
      "text/plain": [
       "1"
      ]
     },
     "execution_count": 23,
     "metadata": {},
     "output_type": "execute_result"
    }
   ],
   "source": [
    "n.mapping.to_idx('Bert')"
   ]
  },
  {
   "cell_type": "markdown",
   "metadata": {},
   "source": [
    "If we want to check explicitly whether a node exists before creating and edge, we can test this with the `in` operator on the set of nodes available via `Graph.nodes`:"
   ]
  },
  {
   "cell_type": "code",
   "execution_count": 25,
   "metadata": {},
   "outputs": [
    {
     "name": "stdout",
     "output_type": "stream",
     "text": [
      "True\n"
     ]
    }
   ],
   "source": [
    "print('Tom' in n.nodes)"
   ]
  },
  {
   "cell_type": "markdown",
   "metadata": {},
   "source": [
    "To count the number of nodes and (directed) edges in a network we can use the `N` and `M` functions:"
   ]
  },
  {
   "cell_type": "code",
   "execution_count": 27,
   "metadata": {},
   "outputs": [
    {
     "name": "stdout",
     "output_type": "stream",
     "text": [
      "Network has 3 nodes and 6 edges\n"
     ]
    }
   ],
   "source": [
    "print('Network has {0} nodes and {1} edges'.format(n.N, n.M))"
   ]
  },
  {
   "cell_type": "markdown",
   "metadata": {},
   "source": [
    "### Enumerating nodes and edges\n",
    "\n",
    "We can iterate through nodes via the nodes iterator as follows. If the Graph object includes an index-ID mapping, this will be applied automatically:"
   ]
  },
  {
   "cell_type": "code",
   "execution_count": 28,
   "metadata": {},
   "outputs": [
    {
     "name": "stdout",
     "output_type": "stream",
     "text": [
      "Tom\n",
      "Bert\n",
      "Bill\n"
     ]
    }
   ],
   "source": [
    "for v in n.nodes:\n",
    "    print(v)"
   ]
  },
  {
   "cell_type": "markdown",
   "metadata": {},
   "source": [
    "Similar to `nodes`, the `edges` iterator of the network contains all edges of a network. Each edge is returned as a tuple and the id-index mapping is applied automatically if such a mapping exists (otherwise we obtain a tuple of node indices):"
   ]
  },
  {
   "cell_type": "code",
   "execution_count": 29,
   "metadata": {},
   "outputs": [
    {
     "name": "stdout",
     "output_type": "stream",
     "text": [
      "('Tom', 'Bert')\n",
      "('Tom', 'Bill')\n",
      "('Bert', 'Tom')\n",
      "('Bert', 'Bill')\n",
      "('Bill', 'Tom')\n",
      "('Bill', 'Bert')\n"
     ]
    }
   ],
   "source": [
    "for e in n.edges:\n",
    "    print(e)"
   ]
  },
  {
   "cell_type": "markdown",
   "metadata": {},
   "source": [
    "We often want to check whether an edge exists between a specific pair of nodes. We can do this by using the `is_edge` function:"
   ]
  },
  {
   "cell_type": "code",
   "execution_count": 35,
   "metadata": {},
   "outputs": [
    {
     "name": "stdout",
     "output_type": "stream",
     "text": [
      "True\n"
     ]
    }
   ],
   "source": [
    "print(n.is_edge('Tom', 'Bert'))"
   ]
  },
  {
   "cell_type": "markdown",
   "metadata": {},
   "source": [
    "We can access the degrees of nodes, i.e. the number of other nodes to which a node is connected, via the `degrees()` function of the Network. For an undirected network, the degrees() function gives the undirected degrees (i.e. irrespective of the directionality of an edge). For directed networks we can use the mode parameter to calculate the in- or out-degree of of ndoes in a directed network (i.e. to how many other nodes the edges of a node point of from how many other nodes edges point to the given node).\n",
    "\n",
    "All of those functions return a dictionary that can be indexed via the node ids."
   ]
  },
  {
   "cell_type": "code",
   "execution_count": 44,
   "metadata": {},
   "outputs": [
    {
     "data": {
      "text/plain": [
       "2"
      ]
     },
     "execution_count": 44,
     "metadata": {},
     "output_type": "execute_result"
    }
   ],
   "source": [
    "n.degrees(mode='in')['Tom']"
   ]
  },
  {
   "cell_type": "code",
   "execution_count": 45,
   "metadata": {},
   "outputs": [
    {
     "data": {
      "text/plain": [
       "2"
      ]
     },
     "execution_count": 45,
     "metadata": {},
     "output_type": "execute_result"
    }
   ],
   "source": [
    "n.degrees(mode='in')['Tom']"
   ]
  },
  {
   "cell_type": "markdown",
   "metadata": {},
   "source": [
    "## Networks, Nodes and Edges with attributes\n",
    "\n",
    "We often want to use networks to model relational data that contain additional information on nodes, edges, or networks. To support this, `pathpyG` stores data in terms of a pyG data frame, which allows to store arbitrary additional information at the level of nodes, edges or the graph in terms of torch.tensors."
   ]
  },
  {
   "cell_type": "code",
   "execution_count": 76,
   "metadata": {},
   "outputs": [
    {
     "name": "stdout",
     "output_type": "stream",
     "text": [
      "Directed graph with 3 nodes and 3 edges\n",
      "\n",
      "Graph attributes\n",
      "\tnum_nodes\t\t<class 'int'>\n",
      "\n"
     ]
    }
   ],
   "source": [
    "n = pp.Graph.from_edge_list([('Tom', 'Bert'), ('Bert', 'Bill'), ('Bill', 'Tom')])\n",
    "print(n)"
   ]
  },
  {
   "cell_type": "markdown",
   "metadata": {},
   "source": [
    "In the following example, we add an attribute to the modes of the graph. We can directly assing this to the underylying `pyG` data object. All node attributes must be prefixed with `node_`:"
   ]
  },
  {
   "cell_type": "code",
   "execution_count": 77,
   "metadata": {},
   "outputs": [],
   "source": [
    "import torch\n",
    "n.data.node_age = torch.tensor([[44], [28], [125]])"
   ]
  },
  {
   "cell_type": "markdown",
   "metadata": {},
   "source": [
    "The assignment of these values to the nodes is based on the indices of nodes, which we can check via the mapping object. We can now use the following code to access the properties of individual nodes:"
   ]
  },
  {
   "cell_type": "code",
   "execution_count": 80,
   "metadata": {},
   "outputs": [
    {
     "data": {
      "text/plain": [
       "tensor([125])"
      ]
     },
     "execution_count": 80,
     "metadata": {},
     "output_type": "execute_result"
    }
   ],
   "source": [
    "n['node_age', 'Bill']"
   ]
  },
  {
   "cell_type": "markdown",
   "metadata": {},
   "source": [
    "To retrieve the tensor containing the ages of all nodes, we can do the following:"
   ]
  },
  {
   "cell_type": "code",
   "execution_count": 82,
   "metadata": {},
   "outputs": [
    {
     "data": {
      "text/plain": [
       "tensor([[ 44],\n",
       "        [ 28],\n",
       "        [125]])"
      ]
     },
     "execution_count": 82,
     "metadata": {},
     "output_type": "execute_result"
    }
   ],
   "source": [
    "n['node_age']"
   ]
  },
  {
   "cell_type": "markdown",
   "metadata": {},
   "source": [
    "Just like nodes, `Edge` objects can store arbitrary attributes that we can add as a tensor. The name of the attribute must be prefixed by `edge_`"
   ]
  },
  {
   "cell_type": "code",
   "execution_count": 90,
   "metadata": {},
   "outputs": [],
   "source": [
    "n.data.edge_type = torch.tensor([[1], [2], [1]])"
   ]
  },
  {
   "cell_type": "markdown",
   "metadata": {},
   "source": [
    "We can access those as follows:"
   ]
  },
  {
   "cell_type": "code",
   "execution_count": 91,
   "metadata": {},
   "outputs": [
    {
     "name": "stdout",
     "output_type": "stream",
     "text": [
      "tensor([[1],\n",
      "        [2],\n",
      "        [1]])\n",
      "tensor([1])\n"
     ]
    }
   ],
   "source": [
    "print(n['edge_type'])\n",
    "print(n['edge_type', 'Tom', 'Bert'])"
   ]
  },
  {
   "cell_type": "markdown",
   "metadata": {},
   "source": [
    "## Adjacency matrices\n",
    "\n",
    "Adjacency matrices are an important mathematical representation of graphs and networks. The topology of a graph can be represented in the entries of a matrix $A$, where an entry $A[i,j]=1$ indicates that an edge exists from the i-th to the j-th node of the network. The absence of edges is encoded by zero entries. The size of an adjacency matrix representation of a network with n nodes is generally $n^2$, which is not suitable for networks with thousands or millions of nodes. `pathpy` nevertheless supports efficient adjacency matrix calculation for *sparse* networks, i.e. networks where the majority of node pairs are not connected by an edge. Instead of a fully populated matrix, a call to `Grapoh.get_sparse_adj_matrix()` returns a *sparse matrix object*, which is an efficient adjacency-list representation capturing the indices and values of non-zero entries:"
   ]
  },
  {
   "cell_type": "code",
   "execution_count": 92,
   "metadata": {},
   "outputs": [
    {
     "name": "stdout",
     "output_type": "stream",
     "text": [
      "  (0, 1)\t1.0\n",
      "  (1, 2)\t1.0\n",
      "  (2, 0)\t1.0\n"
     ]
    }
   ],
   "source": [
    "print(n.get_sparse_adj_matrix())"
   ]
  },
  {
   "cell_type": "markdown",
   "metadata": {},
   "source": [
    "This enables us to directly apply matrix algebra operations from the sparse linear algebra module that is contained in `scipy`. If we instead want a dense matrix that includes zero entries, we can write:"
   ]
  },
  {
   "cell_type": "code",
   "execution_count": 93,
   "metadata": {},
   "outputs": [
    {
     "name": "stdout",
     "output_type": "stream",
     "text": [
      "[[0. 1. 0.]\n",
      " [0. 0. 1.]\n",
      " [1. 0. 0.]]\n"
     ]
    }
   ],
   "source": [
    "print(n.get_sparse_adj_matrix().todense())"
   ]
  },
  {
   "cell_type": "markdown",
   "metadata": {},
   "source": [
    "The fact that the matrix is assymetric tells us that this is a directed network. By default, a binary matrix representation is returned where entries store the presence or absence of edges as 0 or 1 entries. If we want to use numerical attributes of edges instead, we can pass the name of a numerical attribute that should be used:"
   ]
  },
  {
   "cell_type": "code",
   "execution_count": 96,
   "metadata": {},
   "outputs": [
    {
     "name": "stdout",
     "output_type": "stream",
     "text": [
      "[[0 1 0]\n",
      " [0 0 2]\n",
      " [1 0 0]]\n"
     ]
    }
   ],
   "source": [
    "print(n.get_sparse_adj_matrix(edge_attr='edge_type').todense())"
   ]
  },
  {
   "cell_type": "markdown",
   "metadata": {},
   "source": [
    "How does `pathpy` populate adjaecency matrices if the network contains multiple edges between the same pair of nodes? Let's try this by creating another edge between Tom and Bert, and let's further add a strength attribute:"
   ]
  },
  {
   "cell_type": "code",
   "execution_count": 101,
   "metadata": {},
   "outputs": [
    {
     "name": "stdout",
     "output_type": "stream",
     "text": [
      "Directed graph with 3 nodes and 4 edges\n",
      "\n",
      "Edge attributes\n",
      "\tedge_weight\t\t<class 'torch.Tensor'> -> torch.Size([4, 1])\n",
      "\n",
      "Graph attributes\n",
      "\tnum_nodes\t\t<class 'int'>\n",
      "\n"
     ]
    }
   ],
   "source": [
    "n = pp.Graph.from_edge_list([('Tom', 'Bert'), ('Bert', 'Bill'), ('Bill', 'Tom'), ('Tom', 'Bert')])\n",
    "n.data.edge_weight=torch.tensor([[2],[0.5],[1.2],[3.7]])\n",
    "print(n)"
   ]
  },
  {
   "cell_type": "markdown",
   "metadata": {},
   "source": [
    "If we now generate an adjacency matrix, the entries contain the *number of different edge objects* between pairs of nodes:"
   ]
  },
  {
   "cell_type": "code",
   "execution_count": 102,
   "metadata": {},
   "outputs": [
    {
     "data": {
      "text/plain": [
       "matrix([[0., 2., 0.],\n",
       "        [0., 0., 1.],\n",
       "        [1., 0., 0.]], dtype=float32)"
      ]
     },
     "execution_count": 102,
     "metadata": {},
     "output_type": "execute_result"
    }
   ],
   "source": [
    "n.get_sparse_adj_matrix().todense()"
   ]
  },
  {
   "cell_type": "markdown",
   "metadata": {},
   "source": [
    "If we use a numerical attribute to calculate the matrix entries in such a network, the attributes of all edges between the same pair of nodes is automatically summed:"
   ]
  },
  {
   "cell_type": "code",
   "execution_count": 104,
   "metadata": {},
   "outputs": [
    {
     "data": {
      "text/plain": [
       "matrix([[0. , 2.5, 0. ],\n",
       "        [0. , 0. , 1.2],\n",
       "        [3.7, 0. , 0. ]], dtype=float32)"
      ]
     },
     "execution_count": 104,
     "metadata": {},
     "output_type": "execute_result"
    }
   ],
   "source": [
    "n.get_sparse_adj_matrix(edge_attr='edge_weight').todense()"
   ]
  }
 ],
 "metadata": {
  "interpreter": {
   "hash": "52aa0e2b95504bbc17c43da6f291deef2c892ed740ca6dd5f795071c64d0eb86"
  },
  "kernelspec": {
   "display_name": "Python 3.8.5 64-bit ('anaconda3': conda)",
   "name": "python3"
  },
  "language_info": {
   "codemirror_mode": {
    "name": "ipython",
    "version": 3
   },
   "file_extension": ".py",
   "mimetype": "text/x-python",
   "name": "python",
   "nbconvert_exporter": "python",
   "pygments_lexer": "ipython3",
   "version": "3.10.13"
  }
 },
 "nbformat": 4,
 "nbformat_minor": 1
}
