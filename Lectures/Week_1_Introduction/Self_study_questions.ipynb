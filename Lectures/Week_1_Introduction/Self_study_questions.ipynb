{
 "cells": [
  {
   "cell_type": "markdown",
   "source": [
    "## 1. Give one example each for a system that can be modeled by a network with undirected or directed links?"
   ],
   "metadata": {
    "collapsed": false,
    "pycharm": {
     "name": "#%% md\n"
    }
   }
  },
  {
   "cell_type": "markdown",
   "source": [
    "Instagram - network with directed links. Electic grid - undirected network."
   ],
   "metadata": {
    "collapsed": false,
    "pycharm": {
     "name": "#%% md\n"
    }
   }
  },
  {
   "cell_type": "markdown",
   "source": [
    "## 2. Explain why we cannot directly apply standard machine learning techniques like k-means clustering or SVMs to data on networks?"
   ],
   "metadata": {
    "collapsed": false,
    "pycharm": {
     "name": "#%% md\n"
    }
   }
  },
  {
   "cell_type": "markdown",
   "source": [
    "Machine learning techniques try to find data patterns in the Euclidian space of features. But the data described in the graphs can have initial patterns in non-Euclidian space. Data points are reflected in the Euclidian graph with layout algorithms. So after applying ML algorithms directly to graph data nothing will be found because the real initial process is in non-Euclidian space."
   ],
   "metadata": {
    "collapsed": false,
    "pycharm": {
     "name": "#%% md\n"
    }
   }
  },
  {
   "cell_type": "markdown",
   "source": [
    "## 3. Can you define a distance measure for the nodes in a graph that fulfills the properties of a metric?"
   ],
   "metadata": {
    "collapsed": false,
    "pycharm": {
     "name": "#%% md\n"
    }
   }
  },
  {
   "cell_type": "markdown",
   "source": [
    "Sure, this distance measure will be the length of the shortest path between two nodes. Let`s talk about it point by point. First the length of the route is equal to 0 if we had no movements from that node. The second point of metric properties will be pivotal: in the undirected graph the route from x to y can be not the same as y to x, that is why such a metric will not work as a measure with all properties. The third point is that x to y is less than x to z + z to y because the metric is the exact shortest path. If not than x -> z -> y is the shortest path."
   ],
   "metadata": {
    "collapsed": false,
    "pycharm": {
     "name": "#%% md\n"
    }
   }
  },
  {
   "cell_type": "markdown",
   "source": [
    "## 4. Explain whether your definition of graph measure that fulfills metric properties works both for directed and undirected networks?"
   ],
   "metadata": {
    "collapsed": false,
    "pycharm": {
     "name": "#%% md\n"
    }
   }
  },
  {
   "cell_type": "markdown",
   "source": [
    "Directed graphs do not fulfill the second property of the network. Everything is OK with the undirected graphs."
   ],
   "metadata": {
    "collapsed": false,
    "pycharm": {
     "name": "#%% md\n"
    }
   }
  },
  {
   "cell_type": "markdown",
   "source": [
    "## 5. Explain how image data could be modeled in terms of a graph, where nodes have additional numerical features?"
   ],
   "metadata": {
    "collapsed": false,
    "pycharm": {
     "name": "#%% md\n"
    }
   }
  },
  {
   "cell_type": "markdown",
   "source": [
    "We can define the lattice where each node will imply one pixel from the image. The adjacent pixel coordinates are connected by the link."
   ],
   "metadata": {
    "collapsed": false,
    "pycharm": {
     "name": "#%% md\n"
    }
   }
  },
  {
   "cell_type": "markdown",
   "source": [
    "## 6. Give one example each for a problem that can be phrased as a node-, edge-, or graph-level machine learning task in a complex network?"
   ],
   "metadata": {
    "collapsed": false,
    "pycharm": {
     "name": "#%% md\n"
    }
   }
  },
  {
   "cell_type": "markdown",
   "source": [
    "- link prediction - new user in social networks\n",
    "- node classification - inside e-commerce system for advising products\n",
    "- cluster detection - protein-protein networks\n",
    "- node embedding or graph representation - citation network\n",
    "- link classification - knowledge graphs, drugs networks\n",
    "- graph classification - molecular networks\n",
    "- graph embedding - syntactic(code) tree"
   ],
   "metadata": {
    "collapsed": false,
    "pycharm": {
     "name": "#%% md\n"
    }
   }
  },
  {
   "cell_type": "markdown",
   "source": [
    "## 7. Explain and exemplify three key challenges in the application of machine learning to graph-structured data?"
   ],
   "metadata": {
    "collapsed": false,
    "pycharm": {
     "name": "#%% md\n"
    }
   }
  },
  {
   "cell_type": "markdown",
   "source": [
    "- different levels of applying euclidian features - nodes, links, graphs at all which can be a problem, for finding pairs (feature, problem)\n",
    "- small networks that give no information and huge networks that call computational challenge\n",
    "- unreliable data\n",
    "- generalization dimension of the data"
   ],
   "metadata": {
    "collapsed": false,
    "pycharm": {
     "name": "#%% md\n"
    }
   }
  }
 ],
 "metadata": {
  "kernelspec": {
   "display_name": "Python 3",
   "language": "python",
   "name": "python3"
  },
  "language_info": {
   "codemirror_mode": {
    "name": "ipython",
    "version": 2
   },
   "file_extension": ".py",
   "mimetype": "text/x-python",
   "name": "python",
   "nbconvert_exporter": "python",
   "pygments_lexer": "ipython2",
   "version": "2.7.6"
  }
 },
 "nbformat": 4,
 "nbformat_minor": 0
}