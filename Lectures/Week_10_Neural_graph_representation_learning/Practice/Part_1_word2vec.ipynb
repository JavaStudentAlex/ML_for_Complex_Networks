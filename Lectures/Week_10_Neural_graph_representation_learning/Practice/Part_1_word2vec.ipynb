{
 "cells": [
  {
   "attachments": {},
   "cell_type": "markdown",
   "metadata": {},
   "source": [
    "# 10-01: SkipGram Model and Word Embeddings\n",
    "\n",
    "*June 26 2024*  "
   ]
  },
  {
   "cell_type": "code",
   "execution_count": 1,
   "metadata": {},
   "outputs": [
    {
     "name": "stdout",
     "output_type": "stream",
     "text": [
      "Running on cuda\n"
     ]
    }
   ],
   "source": [
    "import torch\n",
    "import torch.nn.functional as F\n",
    "from torch.nn import Parameter\n",
    "from torch import autograd\n",
    "from torch import optim\n",
    "import numpy as np\n",
    "import matplotlib.pyplot as plt\n",
    "import pandas as pd\n",
    "import seaborn as sns\n",
    "from collections import Counter\n",
    "\n",
    "from sklearn.decomposition import TruncatedSVD\n",
    "\n",
    "plt.style.use('default')\n",
    "sns.set_style(\"whitegrid\")\n",
    "\n",
    "device = 'cuda' if torch.cuda.is_available() else 'cpu'\n",
    "print('Running on', device)"
   ]
  },
  {
   "cell_type": "code",
   "execution_count": 2,
   "metadata": {},
   "outputs": [],
   "source": [
    "text = [\n",
    "    'Gandalf is a Wizard',\n",
    "    'Frodo is a Hobbit',\n",
    "    'Sam is a Hobbit',\n",
    "    'Saruman is a Wizard',\n",
    "    'Sam lives in the Shire',\n",
    "    'Frodo lives in the Shire',\n",
    "    'Saruman lives in Isengard',\n",
    "    'Gandalf is imprisoned in Isengard'\n",
    "]"
   ]
  },
  {
   "cell_type": "code",
   "execution_count": 3,
   "metadata": {},
   "outputs": [],
   "source": [
    "stopwords = ['a', 'the', 'in', 'is']"
   ]
  },
  {
   "cell_type": "code",
   "execution_count": 4,
   "metadata": {},
   "outputs": [],
   "source": [
    "def tokenize(text, stopwords):\n",
    "    tokens =  [sentence.split() for sentence in text]\n",
    "    for s in tokens:\n",
    "        for x in stopwords:\n",
    "            if x in s:\n",
    "                s.remove(x)\n",
    "    return tokens"
   ]
  },
  {
   "cell_type": "code",
   "execution_count": 5,
   "metadata": {},
   "outputs": [
    {
     "name": "stdout",
     "output_type": "stream",
     "text": [
      "[['Gandalf', 'Wizard'], ['Frodo', 'Hobbit'], ['Sam', 'Hobbit'], ['Saruman', 'Wizard'], ['Sam', 'lives', 'Shire'], ['Frodo', 'lives', 'Shire'], ['Saruman', 'lives', 'Isengard'], ['Gandalf', 'imprisoned', 'Isengard']]\n"
     ]
    }
   ],
   "source": [
    "tokens = tokenize(text, stopwords)\n",
    "print(tokens)"
   ]
  },
  {
   "cell_type": "code",
   "execution_count": 6,
   "metadata": {},
   "outputs": [],
   "source": [
    "def build_vocabulary(tokens):\n",
    "    vocab = []\n",
    "    for sentence in tokens:\n",
    "        for word in sentence:\n",
    "            if word not in vocab:\n",
    "                vocab.append(word)\n",
    "    return vocab"
   ]
  },
  {
   "cell_type": "code",
   "execution_count": 7,
   "metadata": {},
   "outputs": [
    {
     "name": "stdout",
     "output_type": "stream",
     "text": [
      "['Gandalf', 'Wizard', 'Frodo', 'Hobbit', 'Sam', 'Saruman', 'lives', 'Shire', 'Isengard', 'imprisoned']\n"
     ]
    }
   ],
   "source": [
    "vocab = build_vocabulary(tokens)\n",
    "print(vocab)"
   ]
  },
  {
   "cell_type": "code",
   "execution_count": 8,
   "metadata": {},
   "outputs": [],
   "source": [
    "def build_word_context_pairs(tokens, window_size):\n",
    "    pairs = []\n",
    "    for sentence in tokens:\n",
    "        for center in range(len(sentence)):\n",
    "            for i in range(-window_size, window_size+1):\n",
    "                context_word = center + i\n",
    "                if context_word < 0 or context_word >= len(sentence) or center == context_word:\n",
    "                    continue\n",
    "                if sentence[center] in vocab and sentence[context_word] in vocab:\n",
    "                    pairs.append((sentence[center], sentence[context_word]))\n",
    "    return pairs"
   ]
  },
  {
   "cell_type": "code",
   "execution_count": 9,
   "metadata": {},
   "outputs": [
    {
     "name": "stdout",
     "output_type": "stream",
     "text": [
      "Counter({('lives', 'Shire'): 2, ('Shire', 'lives'): 2, ('Gandalf', 'Wizard'): 1, ('Wizard', 'Gandalf'): 1, ('Frodo', 'Hobbit'): 1, ('Hobbit', 'Frodo'): 1, ('Sam', 'Hobbit'): 1, ('Hobbit', 'Sam'): 1, ('Saruman', 'Wizard'): 1, ('Wizard', 'Saruman'): 1, ('Sam', 'lives'): 1, ('Sam', 'Shire'): 1, ('lives', 'Sam'): 1, ('Shire', 'Sam'): 1, ('Frodo', 'lives'): 1, ('Frodo', 'Shire'): 1, ('lives', 'Frodo'): 1, ('Shire', 'Frodo'): 1, ('Saruman', 'lives'): 1, ('Saruman', 'Isengard'): 1, ('lives', 'Saruman'): 1, ('lives', 'Isengard'): 1, ('Isengard', 'Saruman'): 1, ('Isengard', 'lives'): 1, ('Gandalf', 'imprisoned'): 1, ('Gandalf', 'Isengard'): 1, ('imprisoned', 'Gandalf'): 1, ('imprisoned', 'Isengard'): 1, ('Isengard', 'Gandalf'): 1, ('Isengard', 'imprisoned'): 1})\n"
     ]
    }
   ],
   "source": [
    "pairs = build_word_context_pairs(tokens, window_size=2)\n",
    "print(Counter(pairs))"
   ]
  },
  {
   "cell_type": "markdown",
   "metadata": {},
   "source": [
    "For all pairs $(w, c)$ of center words $w$ and context words $c$ we want to maximize the probability of the context word given the center word, i.e. \n",
    "\n",
    "$$P(c|w)$$\n",
    "\n",
    "for all pairs $(w, c)$ or\n",
    "\n",
    "$$max \\prod_{w \\in V} \\prod_{c \\in V} P(c|w)$$\n",
    "\n",
    "Using a logarithmic transformation this corresponds to the minimization of the following loss function:\n",
    "\n",
    "$$L = - \\sum_{w \\in V} \\sum_{c \\in V} \\log P(c|w)$$\n",
    "\n",
    "Let us now assume that each word $w$ is represented by a vector $\\vec{w} \\in \\mathbb{R}^V$. We can use the dot product $\\vec{w} \\cdot \\vec{c}$ to assess the similarity between center and context words. We can use use the softmax function to map the dot product between vectors to a probability, i.e. \n",
    "\n",
    "$$ P(c|w) = \\frac{e^{\\vec{c} \\cdot \\vec{w}}}{\\sum_{j=1}^V e^{\\vec{c_j} \\cdot \\vec{w}}} $$\n",
    "\n",
    "The softmax function simply turns the dot product between words into a probability that is normalized in (0,1). Like for logistic regression, we obtain a log-linear model, i.e. we use a linear model for the log of the probabilities of the different class labels $c_i$ that we assign for a given \"feature\" $x$.\n",
    "\n",
    "Our goal is to find a vector representation of center words $w$ that allow us to predict the context words. To achieve this, we can define a two-layer neural network, where (i) the center word $w$ is passed as a input, (ii) the hidden layer with $d$ dimensions contains the word embeddings, and (iii) a softmax layer transforms the dot product between word embeddings into probabilities.\n",
    "\n",
    "\n",
    "Since our input is categorical, we use a one-hot encoding of the center words:"
   ]
  },
  {
   "cell_type": "code",
   "execution_count": 10,
   "metadata": {},
   "outputs": [],
   "source": [
    "def get_ohe(word, vocab):\n",
    "    word_idx = vocab.index(word)\n",
    "    x = torch.zeros(1,len(vocab)).float()\n",
    "    x[:,word_idx] = 1.0\n",
    "    return x"
   ]
  },
  {
   "cell_type": "code",
   "execution_count": 11,
   "metadata": {},
   "outputs": [
    {
     "data": {
      "text/plain": [
       "tensor([[0., 0., 1., 0., 0., 0., 0., 0., 0., 0.]])"
      ]
     },
     "execution_count": 11,
     "metadata": {},
     "output_type": "execute_result"
    }
   ],
   "source": [
    "get_ohe('Frodo', vocab)"
   ]
  },
  {
   "cell_type": "code",
   "execution_count": 12,
   "metadata": {},
   "outputs": [
    {
     "data": {
      "text/plain": [
       "tensor([[1., 0., 0., 0., 0., 0., 0., 0., 0., 0.]])"
      ]
     },
     "execution_count": 12,
     "metadata": {},
     "output_type": "execute_result"
    }
   ],
   "source": [
    "get_ohe('Gandalf', vocab)"
   ]
  },
  {
   "cell_type": "markdown",
   "metadata": {},
   "source": [
    "We now specify the feed-forward neural network with two layers of linear perceptrons. For a vocabulary with $n$ words, we have $n$ inputs that take the one-hot-encodings of words. We add a first hidden layer with $d$ perceptrons. In this first layer we do not apply an activation function! We rather directly feed the outputs of the $d$ neurons in the first hidden layer into a second layer of $|V|$ neurons. The output of this linear layer is fed into a softmax activation function, which generates a normalized output. For a given input word $x$ passed as one-hot-encoding where the $i$-th component is one, we can now interpret the $j$-th output in the output layer as probability of the context word encoded in component $j$ given the center word encoded in component $i$.\n",
    "\n",
    "It is easy to implement this model in `pytorch`:"
   ]
  },
  {
   "cell_type": "code",
   "execution_count": 13,
   "metadata": {},
   "outputs": [],
   "source": [
    "class SkipGram(torch.nn.Module):\n",
    "    \n",
    "    # SkipGram model = predict context probabilities based on center word\n",
    "    # input = one-hot-encoding of center word \n",
    "    # outputs y_i = conditional probabilities of context words $j$ given center word\n",
    "    def __init__(self, embedding_dim, vocab_size):\n",
    "        super(SkipGram, self).__init__()\n",
    "\n",
    "        # The first layer has |V| * d learnable weights\n",
    "        self.embeddings = torch.nn.Linear(vocab_size, embedding_dim)\n",
    "\n",
    "        # The second layer has d * |V| learnable weights\n",
    "        self.linear = torch.nn.Linear(embedding_dim, vocab_size)\n",
    "        \n",
    "    def forward(self, x):\n",
    "\n",
    "        emb_x = self.embeddings(x)\n",
    "        y = self.linear(emb_x)\n",
    "        return F.softmax(y, dim=1)"
   ]
  },
  {
   "cell_type": "markdown",
   "metadata": {},
   "source": [
    "Let us now create a SkipGram model where words have five-dimensional embeddings:"
   ]
  },
  {
   "cell_type": "code",
   "execution_count": 14,
   "metadata": {},
   "outputs": [],
   "source": [
    "model = SkipGram(embedding_dim=5, vocab_size=len(vocab))"
   ]
  },
  {
   "cell_type": "markdown",
   "metadata": {},
   "source": [
    "Using the default params, we can input a one-hot encoding of a center word $x$. As output we get $V$ vectors $c_i \\in \\mathbb{R}^V$, where each vector $c_i$ captures the probabilities of all context words for a given center word $i$. Due to the one-hot encoding of our input, we are only interested in the output $c_i$ where $i$ corresponds to the non-zero index of our input vector."
   ]
  },
  {
   "cell_type": "code",
   "execution_count": 15,
   "metadata": {},
   "outputs": [
    {
     "data": {
      "text/plain": [
       "tensor([[0.0664, 0.0825, 0.1080, 0.1186, 0.1406, 0.1002, 0.1183, 0.1094, 0.0784,\n",
       "         0.0776]], grad_fn=<SoftmaxBackward0>)"
      ]
     },
     "execution_count": 15,
     "metadata": {},
     "output_type": "execute_result"
    }
   ],
   "source": [
    "x = get_ohe('Frodo', vocab)\n",
    "model.forward(x)"
   ]
  },
  {
   "cell_type": "markdown",
   "metadata": {},
   "source": [
    "As expected, due to the softmax normalization the outputs sum to one:"
   ]
  },
  {
   "cell_type": "code",
   "execution_count": 16,
   "metadata": {},
   "outputs": [
    {
     "data": {
      "text/plain": [
       "tensor(1., grad_fn=<AddBackward0>)"
      ]
     },
     "execution_count": 16,
     "metadata": {},
     "output_type": "execute_result"
    }
   ],
   "source": [
    "sum(model.forward(x)[0])"
   ]
  },
  {
   "cell_type": "markdown",
   "metadata": {},
   "source": [
    "Let's assume our actual context word for center word 'Frodo' is 'Hobbit'. We can compute a loss function for this specific (center, context) pair by calculating the Cross Entropy Loss with the one-hot encoding of the context word, i.e. "
   ]
  },
  {
   "cell_type": "code",
   "execution_count": 17,
   "metadata": {},
   "outputs": [
    {
     "name": "stdout",
     "output_type": "stream",
     "text": [
      "tensor([[0., 0., 0., 1., 0., 0., 0., 0., 0., 0.]])\n",
      "tensor([[0.0664, 0.0825, 0.1080, 0.1186, 0.1406, 0.1002, 0.1183, 0.1094, 0.0784,\n",
      "         0.0776]], grad_fn=<SoftmaxBackward0>)\n"
     ]
    },
    {
     "data": {
      "text/plain": [
       "tensor(0.3062, grad_fn=<BinaryCrossEntropyBackward0>)"
      ]
     },
     "execution_count": 17,
     "metadata": {},
     "output_type": "execute_result"
    }
   ],
   "source": [
    "loss_function = torch.nn.BCELoss()\n",
    "context_ohe = get_ohe('Hobbit', vocab).float()\n",
    "print(context_ohe)\n",
    "prob = model.forward(x)\n",
    "print(prob)\n",
    "loss_function(prob, context_ohe)"
   ]
  },
  {
   "cell_type": "markdown",
   "metadata": {},
   "source": [
    "To extract the embedding of a given center word, we can get the weights of the embedding layer that correspond to the index of the center word."
   ]
  },
  {
   "cell_type": "code",
   "execution_count": 18,
   "metadata": {},
   "outputs": [
    {
     "data": {
      "text/plain": [
       "tensor([ 0.1004, -0.0704,  0.0984,  0.2022, -0.0853])"
      ]
     },
     "execution_count": 18,
     "metadata": {},
     "output_type": "execute_result"
    }
   ],
   "source": [
    "model.embeddings.weight.data[:,vocab.index('Frodo')]"
   ]
  },
  {
   "cell_type": "markdown",
   "metadata": {},
   "source": [
    "The weight parameters of the second linear layer provide us with a vector space representation of the associated context words:"
   ]
  },
  {
   "cell_type": "code",
   "execution_count": 19,
   "metadata": {},
   "outputs": [
    {
     "data": {
      "text/plain": [
       "tensor([-0.3563, -0.1815, -0.3368,  0.0785, -0.1741])"
      ]
     },
     "execution_count": 19,
     "metadata": {},
     "output_type": "execute_result"
    }
   ],
   "source": [
    "model.linear.weight.data[vocab.index('Sam'),:]"
   ]
  },
  {
   "cell_type": "code",
   "execution_count": 20,
   "metadata": {},
   "outputs": [
    {
     "data": {
      "text/plain": [
       "tensor([ 0.2399, -0.2528,  0.4425, -0.2086,  0.2873])"
      ]
     },
     "execution_count": 20,
     "metadata": {},
     "output_type": "execute_result"
    }
   ],
   "source": [
    "model.linear.weight.data[vocab.index('Saruman'),:]"
   ]
  },
  {
   "cell_type": "markdown",
   "metadata": {},
   "source": [
    "We are now  ready to train our model, i.e. we use the gradients of the loss function for (center, context) pairs to update the model parameters, which gradually changes the weight parameters and thus the vector space embeddings of words."
   ]
  },
  {
   "cell_type": "code",
   "execution_count": 21,
   "metadata": {},
   "outputs": [
    {
     "data": {
      "text/plain": [
       "[<matplotlib.lines.Line2D at 0x7f6ac9eaeb60>]"
      ]
     },
     "execution_count": 21,
     "metadata": {},
     "output_type": "execute_result"
    },
    {
     "data": {
      "image/png": "[encoded data removed]",
      "text/plain": [
       "<Figure size 640x480 with 1 Axes>"
      ]
     },
     "metadata": {},
     "output_type": "display_data"
    }
   ],
   "source": [
    "optimizer = optim.SGD(model.parameters(), lr=0.1)\n",
    "epochs = 500\n",
    "losses = []\n",
    "for i in range(epochs):\n",
    "    l = 0\n",
    "    for center, context in pairs:\n",
    "        model.zero_grad()\n",
    "        prob = model.forward(get_ohe(center, vocab))\n",
    "        loss = loss_function(prob, get_ohe(context, vocab).float())\n",
    "        loss.backward()\n",
    "        optimizer.step()        \n",
    "        l += loss.data.to('cpu')\n",
    "\n",
    "    losses.append(l/len(pairs))\n",
    "plt.plot(range(epochs), losses)"
   ]
  },
  {
   "cell_type": "markdown",
   "metadata": {},
   "source": [
    "Let's get the conditional probabilities of context words given center word `Frodo`:"
   ]
  },
  {
   "cell_type": "code",
   "execution_count": 22,
   "metadata": {},
   "outputs": [
    {
     "data": {
      "text/plain": [
       "tensor([[1.3687e-04, 3.9180e-03, 4.2462e-03, 3.1599e-01, 3.6960e-03, 1.3789e-03,\n",
       "         3.2680e-01, 3.4156e-01, 7.6261e-04, 1.5094e-03]],\n",
       "       grad_fn=<SoftmaxBackward0>)"
      ]
     },
     "execution_count": 22,
     "metadata": {},
     "output_type": "execute_result"
    }
   ],
   "source": [
    "model.forward(get_ohe('Frodo', vocab))"
   ]
  },
  {
   "cell_type": "markdown",
   "metadata": {},
   "source": [
    "To simplify the interpretation of this vector, we use the following helper function:"
   ]
  },
  {
   "cell_type": "code",
   "execution_count": 23,
   "metadata": {},
   "outputs": [],
   "source": [
    "def context_probs(word, vocab, model):\n",
    "    return { x:p for x,p in zip(vocab, model.forward(get_ohe(word, vocab))[0].detach())}"
   ]
  },
  {
   "cell_type": "code",
   "execution_count": 24,
   "metadata": {},
   "outputs": [
    {
     "data": {
      "text/plain": [
       "{'Gandalf': tensor(0.0001),\n",
       " 'Wizard': tensor(0.0039),\n",
       " 'Frodo': tensor(0.0042),\n",
       " 'Hobbit': tensor(0.3160),\n",
       " 'Sam': tensor(0.0037),\n",
       " 'Saruman': tensor(0.0014),\n",
       " 'lives': tensor(0.3268),\n",
       " 'Shire': tensor(0.3416),\n",
       " 'Isengard': tensor(0.0008),\n",
       " 'imprisoned': tensor(0.0015)}"
      ]
     },
     "execution_count": 24,
     "metadata": {},
     "output_type": "execute_result"
    }
   ],
   "source": [
    "context_probs('Frodo', vocab, model)"
   ]
  },
  {
   "cell_type": "code",
   "execution_count": 25,
   "metadata": {},
   "outputs": [
    {
     "data": {
      "text/plain": [
       "{'Gandalf': tensor(0.0117),\n",
       " 'Wizard': tensor(0.3071),\n",
       " 'Frodo': tensor(0.0011),\n",
       " 'Hobbit': tensor(0.0043),\n",
       " 'Sam': tensor(0.0007),\n",
       " 'Saruman': tensor(0.0008),\n",
       " 'lives': tensor(0.3009),\n",
       " 'Shire': tensor(0.0079),\n",
       " 'Isengard': tensor(0.3603),\n",
       " 'imprisoned': tensor(0.0051)}"
      ]
     },
     "execution_count": 25,
     "metadata": {},
     "output_type": "execute_result"
    }
   ],
   "source": [
    "context_probs('Saruman', vocab, model)"
   ]
  },
  {
   "cell_type": "code",
   "execution_count": 26,
   "metadata": {},
   "outputs": [
    {
     "data": {
      "text/plain": [
       "{'Gandalf': tensor(0.0028),\n",
       " 'Wizard': tensor(0.0001),\n",
       " 'Frodo': tensor(0.2414),\n",
       " 'Hobbit': tensor(0.0024),\n",
       " 'Sam': tensor(0.2307),\n",
       " 'Saruman': tensor(0.0031),\n",
       " 'lives': tensor(0.5132),\n",
       " 'Shire': tensor(0.0049),\n",
       " 'Isengard': tensor(0.0012),\n",
       " 'imprisoned': tensor(0.0002)}"
      ]
     },
     "execution_count": 26,
     "metadata": {},
     "output_type": "execute_result"
    }
   ],
   "source": [
    "context_probs('Shire', vocab, model)"
   ]
  },
  {
   "cell_type": "markdown",
   "metadata": {},
   "source": [
    "We can use the following function to extract a vector space representation of a center word based on the learned weight parameters of the trained model:"
   ]
  },
  {
   "cell_type": "code",
   "execution_count": 27,
   "metadata": {},
   "outputs": [],
   "source": [
    "def get_embedding(word, model, vocab):\n",
    "    return model.embeddings.weight.data[:,vocab.index(word)]\n"
   ]
  },
  {
   "cell_type": "code",
   "execution_count": 28,
   "metadata": {},
   "outputs": [
    {
     "data": {
      "text/plain": [
       "tensor([-0.6744,  0.4642, -1.1193,  1.2132,  1.0570])"
      ]
     },
     "execution_count": 28,
     "metadata": {},
     "output_type": "execute_result"
    }
   ],
   "source": [
    "get_embedding('Frodo', model, vocab)"
   ]
  },
  {
   "cell_type": "code",
   "execution_count": 29,
   "metadata": {},
   "outputs": [
    {
     "data": {
      "text/plain": [
       "tensor([0.8934, 0.9299, 2.0147, 0.4526, 0.9149])"
      ]
     },
     "execution_count": 29,
     "metadata": {},
     "output_type": "execute_result"
    }
   ],
   "source": [
    "get_embedding('Gandalf', model, vocab)"
   ]
  },
  {
   "cell_type": "markdown",
   "metadata": {},
   "source": [
    "We can use cosine similarity to quantify the similarity between different words:"
   ]
  },
  {
   "cell_type": "code",
   "execution_count": 30,
   "metadata": {},
   "outputs": [],
   "source": [
    "cos = torch.nn.CosineSimilarity(dim=0, eps=1e-6)"
   ]
  },
  {
   "cell_type": "code",
   "execution_count": 31,
   "metadata": {},
   "outputs": [
    {
     "data": {
      "text/plain": [
       "tensor(0.0660)"
      ]
     },
     "execution_count": 31,
     "metadata": {},
     "output_type": "execute_result"
    }
   ],
   "source": [
    "cos(get_embedding('Frodo', model, vocab), get_embedding('Shire', model, vocab))"
   ]
  },
  {
   "cell_type": "code",
   "execution_count": 32,
   "metadata": {},
   "outputs": [
    {
     "data": {
      "text/plain": [
       "tensor(-0.2015)"
      ]
     },
     "execution_count": 32,
     "metadata": {},
     "output_type": "execute_result"
    }
   ],
   "source": [
    "cos(get_embedding('Frodo', model, vocab), get_embedding('Isengard', model, vocab))"
   ]
  },
  {
   "cell_type": "code",
   "execution_count": 33,
   "metadata": {},
   "outputs": [
    {
     "data": {
      "text/plain": [
       "tensor(0.9973)"
      ]
     },
     "execution_count": 33,
     "metadata": {},
     "output_type": "execute_result"
    }
   ],
   "source": [
    "cos(get_embedding('Frodo', model, vocab), get_embedding('Sam', model, vocab))"
   ]
  },
  {
   "cell_type": "code",
   "execution_count": 34,
   "metadata": {},
   "outputs": [
    {
     "data": {
      "text/plain": [
       "tensor(0.3325)"
      ]
     },
     "execution_count": 34,
     "metadata": {},
     "output_type": "execute_result"
    }
   ],
   "source": [
    "cos(get_embedding('Gandalf', model, vocab), get_embedding('Saruman', model, vocab))"
   ]
  },
  {
   "cell_type": "code",
   "execution_count": 35,
   "metadata": {},
   "outputs": [
    {
     "data": {
      "text/plain": [
       "tensor(-0.2054)"
      ]
     },
     "execution_count": 35,
     "metadata": {},
     "output_type": "execute_result"
    }
   ],
   "source": [
    "cos(get_embedding('Gandalf', model, vocab), get_embedding('Sam', model, vocab))"
   ]
  },
  {
   "cell_type": "markdown",
   "metadata": {},
   "source": [
    "Since we have learned word representations in a five-dimensional space, we need to apply additional dimensionality reduction techniques to obtain a meaningful two-dimensional visualization of the embedding:"
   ]
  },
  {
   "cell_type": "code",
   "execution_count": 36,
   "metadata": {},
   "outputs": [],
   "source": [
    "svd = TruncatedSVD()\n",
    "low_dim = svd.fit_transform(np.array([ get_embedding(w, model, vocab).detach().numpy() for w in vocab]))"
   ]
  },
  {
   "cell_type": "code",
   "execution_count": 37,
   "metadata": {},
   "outputs": [
    {
     "data": {
      "image/png": "[encoded data removed]",
      "text/plain": [
       "<Figure size 640x480 with 1 Axes>"
      ]
     },
     "metadata": {},
     "output_type": "display_data"
    }
   ],
   "source": [
    "fig, ax = plt.subplots()\n",
    "ax.scatter(low_dim[:,0], low_dim[:,1])\n",
    "\n",
    "for i, txt in enumerate(vocab):\n",
    "    plt.arrow(0, 0, low_dim[i,0], low_dim[i,1], color='orange', width=0.02, alpha=0.2)\n",
    "    ax.annotate(txt, (low_dim[i,0]+0.1, low_dim[i,1]+0.1))"
   ]
  },
  {
   "cell_type": "markdown",
   "metadata": {},
   "source": [
    "We can use the following function to obtain the word that is semantically closest to a given word:"
   ]
  },
  {
   "cell_type": "code",
   "execution_count": 38,
   "metadata": {},
   "outputs": [],
   "source": [
    "def closest_word(word, vocab, model):\n",
    "    max_u = None\n",
    "    max_sim = 0\n",
    "    for u in vocab:\n",
    "        sim = cos(get_embedding(word, model, vocab), get_embedding(u, model, vocab))\n",
    "        if sim>max_sim and u != word:\n",
    "            max_sim = sim\n",
    "            max_u = u\n",
    "    return max_u"
   ]
  },
  {
   "cell_type": "code",
   "execution_count": 39,
   "metadata": {},
   "outputs": [
    {
     "data": {
      "text/plain": [
       "'Sam'"
      ]
     },
     "execution_count": 39,
     "metadata": {},
     "output_type": "execute_result"
    }
   ],
   "source": [
    "closest_word('Frodo', vocab, model)"
   ]
  },
  {
   "cell_type": "code",
   "execution_count": 40,
   "metadata": {},
   "outputs": [
    {
     "data": {
      "text/plain": [
       "'imprisoned'"
      ]
     },
     "execution_count": 40,
     "metadata": {},
     "output_type": "execute_result"
    }
   ],
   "source": [
    "closest_word('Gandalf', vocab, model)"
   ]
  },
  {
   "cell_type": "code",
   "execution_count": 41,
   "metadata": {},
   "outputs": [],
   "source": [
    "def get_context_embedding(word, model, vocab):\n",
    "    return model.linear.weight.data[vocab.index(word),:]"
   ]
  },
  {
   "cell_type": "code",
   "execution_count": 42,
   "metadata": {},
   "outputs": [],
   "source": [
    "svd = TruncatedSVD()\n",
    "low_dim = svd.fit_transform(np.array([ get_context_embedding(w, model, vocab).detach().numpy() for w in vocab]))"
   ]
  },
  {
   "cell_type": "code",
   "execution_count": 43,
   "metadata": {},
   "outputs": [
    {
     "data": {
      "image/png": "[encoded data removed]",
      "text/plain": [
       "<Figure size 640x480 with 1 Axes>"
      ]
     },
     "metadata": {},
     "output_type": "display_data"
    }
   ],
   "source": [
    "fig, ax = plt.subplots()\n",
    "ax.scatter(low_dim[:,0], low_dim[:,1])\n",
    "\n",
    "for i, txt in enumerate(vocab):\n",
    "    plt.arrow(0, 0, low_dim[i,0], low_dim[i,1], color='orange', width=0.02, alpha=0.2)\n",
    "    ax.annotate(txt, (low_dim[i,0]+0.1, low_dim[i,1]+0.1))"
   ]
  },
  {
   "cell_type": "code",
   "execution_count": null,
   "metadata": {},
   "outputs": [],
   "source": []
  }
 ],
 "metadata": {
  "kernelspec": {
   "display_name": "Python 3 (ipykernel)",
   "language": "python",
   "name": "python3"
  },
  "orig_nbformat": 4,
  "vscode": {
   "interpreter": {
    "hash": "ad2bdc8ecc057115af97d19610ffacc2b4e99fae6737bb82f5d7fb13d2f2c186"
   }
  }
 },
 "nbformat": 4,
 "nbformat_minor": 2
}
