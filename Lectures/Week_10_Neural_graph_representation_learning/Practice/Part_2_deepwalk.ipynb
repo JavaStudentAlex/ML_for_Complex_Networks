{
 "cells": [
  {
   "attachments": {},
   "cell_type": "markdown",
   "metadata": {},
   "source": [
    "# 10-02 Neural Graph Embedding with DeepWalk\n",
    "\n",
    "*June 26 2024*  "
   ]
  },
  {
   "cell_type": "code",
   "execution_count": 17,
   "metadata": {},
   "outputs": [
    {
     "name": "stdout",
     "output_type": "stream",
     "text": [
      "Running on cuda\n"
     ]
    }
   ],
   "source": [
    "import torch\n",
    "import torch.nn.functional as F\n",
    "from torch.nn import Parameter\n",
    "from torch import autograd\n",
    "from torch import optim\n",
    "import numpy as np\n",
    "import matplotlib.pyplot as plt\n",
    "import pandas as pd\n",
    "import seaborn as sns\n",
    "from tqdm import tqdm\n",
    "\n",
    "from sklearn.decomposition import TruncatedSVD\n",
    "\n",
    "plt.style.use('default')\n",
    "sns.set_style(\"whitegrid\")\n",
    "\n",
    "import pathpyG as pp\n",
    "\n",
    "device = 'cuda' if torch.cuda.is_available() else 'cpu'\n",
    "\n",
    "pp.config['torch']['device'] = device\n",
    "print('Running on', pp.config['torch']['device'])"
   ]
  },
  {
   "cell_type": "markdown",
   "metadata": {},
   "source": [
    "We will now provide a simple from-scratch implementation of DeepWalk. We first need a network."
   ]
  },
  {
   "cell_type": "code",
   "execution_count": 2,
   "metadata": {},
   "outputs": [],
   "source": [
    "edges = [\n",
    "    ('a', 'b'),\n",
    "    ('b', 'c'),\n",
    "    ('a', 'c'),\n",
    "    ('b', 'd'),\n",
    "    ('d', 'f'),\n",
    "    ('d', 'g'),\n",
    "    ('d', 'e'),\n",
    "    ('e', 'f'),\n",
    "    ('f', 'g')\n",
    "]\n",
    "\n",
    "n = pp.Graph.from_edge_list(edges)\n",
    "n = n.to_undirected()"
   ]
  },
  {
   "cell_type": "code",
   "execution_count": 3,
   "metadata": {},
   "outputs": [
    {
     "data": {
      "text/html": [
       "<style>\n",
       "svg circle.node {\n",
       "  fill: #3b5998;\n",
       "  stroke: #1b3978;\n",
       "  stroke-width: 2.5px;\n",
       "  r: 15px;\n",
       "  opacity: 1;\n",
       "}\n",
       "\n",
       ".link {\n",
       "  stroke: #969595;\n",
       "  stroke-opacity: .75;\n",
       "  stroke-width: 2.5px;\n",
       "}\n",
       "\n",
       ".arrow {\n",
       "  fill: #969595;\n",
       "}\n",
       "\n",
       "\n",
       ".label-text {\n",
       "    fill: #969595;\n",
       "    font-size: 16px;\n",
       "    font-family: sans-serif;\n",
       "}\n",
       "\n",
       "</style>\n",
       "\n",
       "<div id = \"x38280b18362e40e995725a97b557a79d\"> </div>\n",
       "<script charset=\"utf-8\" src=\"https://d3js.org/d3.v5.min.js\"></script>\n",
       "<script charset=\"utf-8\">\n",
       "// Load via requireJS if available (jupyter notebook environment)\n",
       "try {\n",
       "    // Problem: require.config will raise an exception when called for the second time \n",
       "    require.config({\n",
       "        paths: {\n",
       "            d3: \"https://d3js.org/d3.v5.min.js\".replace(\".js\", \"\")\n",
       "        }\n",
       "    });\n",
       "    console.log(\"OKAY: requireJS was detected.\");\n",
       "}\n",
       "catch(err){\n",
       "    // a reference error indicates that requireJS does not exist. \n",
       "    // other errors may occur due to multiple calls to config\n",
       "    if (err instanceof ReferenceError){\n",
       "        console.log(\"WARNING: NO requireJS was detected!\");\n",
       "\n",
       "        // Helper function that waits for d3js to be loaded\n",
       "        require = function require(symbols, callback) {\n",
       "            var ms = 10;\n",
       "            window.setTimeout(function(t) {\n",
       "                if (window[symbols[0]])\n",
       "                    callback(window[symbols[0]]);\n",
       "                else \n",
       "                    window.setTimeout(arguments.callee, ms);\n",
       "            }, ms);\n",
       "        }\n",
       "    }\n",
       "};\n",
       "require(['d3'], function(d3){ //START\n",
       "const data = {\"edges\": [{\"uid\": \"a-c\", \"source\": \"a\", \"target\": \"c\", \"weight\": 1}, {\"uid\": \"a-b\", \"source\": \"a\", \"target\": \"b\", \"weight\": 1}, {\"uid\": \"b-d\", \"source\": \"b\", \"target\": \"d\", \"weight\": 1}, {\"uid\": \"b-c\", \"source\": \"b\", \"target\": \"c\", \"weight\": 1}, {\"uid\": \"b-a\", \"source\": \"b\", \"target\": \"a\", \"weight\": 1}, {\"uid\": \"c-b\", \"source\": \"c\", \"target\": \"b\", \"weight\": 1}, {\"uid\": \"c-a\", \"source\": \"c\", \"target\": \"a\", \"weight\": 1}, {\"uid\": \"d-f\", \"source\": \"d\", \"target\": \"f\", \"weight\": 1}, {\"uid\": \"d-e\", \"source\": \"d\", \"target\": \"e\", \"weight\": 1}, {\"uid\": \"d-g\", \"source\": \"d\", \"target\": \"g\", \"weight\": 1}, {\"uid\": \"d-b\", \"source\": \"d\", \"target\": \"b\", \"weight\": 1}, {\"uid\": \"e-f\", \"source\": \"e\", \"target\": \"f\", \"weight\": 1}, {\"uid\": \"e-d\", \"source\": \"e\", \"target\": \"d\", \"weight\": 1}, {\"uid\": \"f-e\", \"source\": \"f\", \"target\": \"e\", \"weight\": 1}, {\"uid\": \"f-g\", \"source\": \"f\", \"target\": \"g\", \"weight\": 1}, {\"uid\": \"f-d\", \"source\": \"f\", \"target\": \"d\", \"weight\": 1}, {\"uid\": \"g-d\", \"source\": \"g\", \"target\": \"d\", \"weight\": 1}, {\"uid\": \"g-f\", \"source\": \"g\", \"target\": \"f\", \"weight\": 1}], \"nodes\": [{\"uid\": \"a\"}, {\"uid\": \"b\"}, {\"uid\": \"c\"}, {\"uid\": \"d\"}, {\"uid\": \"e\"}, {\"uid\": \"f\"}, {\"uid\": \"g\"}]}\n",
       "const config = {\"directed\": false, \"curved\": false, \"selector\": \"#x38280b18362e40e995725a97b557a79d\"}\n",
       "console.log(\"Static Network Template\");\n",
       "/* Resources\n",
       "   https://bl.ocks.org/mapio/53fed7d84cd1812d6a6639ed7aa83868\n",
       "   https://codepen.io/smlo/pen/JdMOej\n",
       "*/\n",
       "\n",
       "// variables from the config file\n",
       "const selector = config.selector;\n",
       "const width = config.width || 800;\n",
       "const height = config.height || 600;\n",
       "const charge_distance = config.charge_distance || 400;\n",
       "const charge_force = config.charge_force || -3000;\n",
       "const curved = config.curved || false;\n",
       "const directed = config.directed || false;\n",
       "// const weight = false;\n",
       "\n",
       "/* Create a svg element to display the network */\n",
       "var svg = d3.select(selector)\n",
       "    .append('svg')\n",
       "    .attr('width', width)\n",
       "    .attr('height', height)\n",
       "\n",
       "// add container to store the elements\n",
       "var container = svg.append(\"g\");\n",
       "\n",
       "/*Add zoom function to the container */\n",
       "svg.call(\n",
       "    d3.zoom()\n",
       "        .scaleExtent([.1, 4])\n",
       "        .on(\"zoom\", function() { container.attr(\"transform\", d3.event.transform); })\n",
       ");\n",
       "\n",
       "\n",
       "/*Load nodes and links from the data */\n",
       "var nodes = data.nodes\n",
       "var links = data.edges\n",
       "\n",
       "/*Create arrow head with same color as the edge */\n",
       "function marker (color) {\n",
       "       var reference;\n",
       "       svg.append(\"svg:defs\").selectAll(\"marker\")\n",
       "          .data([reference])\n",
       "          .enter().append(\"svg:marker\")\n",
       "          .attr(\"id\", \"arrow\"+color)\n",
       "          .attr(\"viewBox\", \"0 -5 10 10\")\n",
       "          .attr(\"refX\", 10)\n",
       "          .attr(\"refY\", -0)\n",
       "          .attr(\"markerWidth\", 6)\n",
       "          .attr(\"markerHeight\", 6)\n",
       "          .attr(\"orient\", \"auto\")\n",
       "          .append(\"svg:path\")\n",
       "          .attr('class','.arrow')\n",
       "          .attr(\"d\", \"M0,-5L10,0L0,5\")\n",
       "          .style('opacity',1)\n",
       "          .style(\"fill\", color);\n",
       "       return \"url(#\" + \"arrow\"+color + \")\";\n",
       "     };\n",
       "\n",
       "/*Link creation template */\n",
       "var link = container.append(\"g\").attr(\"class\", \"links\")\n",
       "    .selectAll(\".link\")\n",
       "    .data(links)\n",
       "    .enter()\n",
       "    .append(\"path\")\n",
       "    .attr(\"class\", \"link\")\n",
       "    .style(\"stroke\", function(d) { return d.color; })\n",
       "    .style(\"stroke-opacity\", function(d) { return d.opacity; })\n",
       "    .style(\"stroke-width\", function(d){  return d.size })\n",
       "    .style(\"fill\",\"none\")\n",
       "    .attr(\"marker-end\", function (d) {if(directed){return marker(d.color)}else{return null}; });\n",
       "\n",
       "    //.attr(\"marker-end\", function (d) { return marker(d.color); });\n",
       "    //.attr(\"marker-end\", \"url(#arrow)\");\n",
       "\n",
       "/*Node creation template */\n",
       "var node = container.append(\"g\").attr(\"class\", \"nodes\")\n",
       "    .selectAll(\"circle.node\")\n",
       "    .data(nodes)\n",
       "    .enter().append(\"circle\")\n",
       "    .attr(\"class\", \"node\")\n",
       "    .attr(\"x\", function(d) { return d.x; })\n",
       "    .attr(\"y\", function(d) { return d.y; })\n",
       "    .style(\"r\", function(d){  return d.size+\"px\"; })\n",
       "    .style(\"fill\", function(d) { return d.color; })\n",
       "    .style(\"opacity\", function(d) { return d.opacity; });\n",
       "\n",
       "/*Label creation template */\n",
       "var text = container.append(\"g\").attr(\"class\",\"labels\")\n",
       "    .selectAll(\"g\")\n",
       "    .data(nodes)\n",
       "    .enter().append(\"g\")\n",
       "\n",
       "text.append(\"text\")\n",
       "    .attr(\"class\", \"label-text\")\n",
       "    .attr(\"x\", function(d) {\n",
       "        var r = (d.size === undefined) ? 15 : d.size;\n",
       "        return 5 + r; })\n",
       "    .attr(\"dy\", \".31em\")\n",
       "    .text(function(d) { return d.label; });\n",
       "\n",
       "/*Scale weight for d3js */\n",
       "var weightScale = d3.scaleLinear()\n",
       "    .domain(d3.extent(links, function (d) { return d.weight }))\n",
       "    .range([.1, 1]);\n",
       "\n",
       "/*Simulation of the forces*/\n",
       "var simulation = d3.forceSimulation(nodes)\n",
       "    .force(\"links\", d3.forceLink(links)\n",
       "           .id(function(d) {return d.uid; })\n",
       "           .distance(50)\n",
       "           .strength(function(d){return weightScale(d.weight);})\n",
       "          )\n",
       "    .force(\"charge\", d3.forceManyBody()\n",
       "           .strength(charge_force)\n",
       "           .distanceMax(charge_distance)\n",
       "          )\n",
       "    .force(\"center\", d3.forceCenter(width / 2, height / 2))\n",
       "    .on(\"tick\", ticked);\n",
       "\n",
       "/*Update of the node and edge objects*/\n",
       "function ticked() {\n",
       "    node.call(updateNode);\n",
       "    link.call(updateLink);\n",
       "    text.call(updateText);\n",
       "};\n",
       "\n",
       "/*Update link positions */\n",
       "function updateLink(link) {\n",
       "    // link\n",
       "    //     .attr(\"x1\", function(d) { return d.source.x; })\n",
       "    //     .attr(\"y1\", function(d) { return d.source.y; })\n",
       "    //     .attr(\"x2\", function(d) { return d.target.x; })\n",
       "    //     .attr(\"y2\", function(d) { return d.target.y; });\n",
       "\n",
       "\n",
       "    link.attr(\"d\", function(d) {\n",
       "        var dx = d.target.x - d.source.x,\n",
       "            dy = d.target.y - d.source.y,\n",
       "            dr = Math.sqrt(dx * dx + dy * dy);\n",
       "        if(!curved)dr=0;\n",
       "        return \"M\" +\n",
       "            d.source.x + \",\" +\n",
       "            d.source.y + \"A\" +\n",
       "            dr + \",\" + dr + \" 0 0,1 \" +\n",
       "            d.target.x + \",\" +\n",
       "            d.target.y;\n",
       "    });\n",
       "\n",
       "    // recalculate and back off the distance\n",
       "    link.attr(\"d\", function (d, i) {\n",
       "        var pl = this.getTotalLength();\n",
       "        var r = (d.target.size === undefined) ? 15 : d.target.size;\n",
       "        var m = this.getPointAtLength(pl - r);\n",
       "        var dx = d.target.x - d.source.x,\n",
       "            dy = d.target.y - d.source.y,\n",
       "            dr = Math.sqrt(dx * dx + dy * dy);\n",
       "        if(!curved)dr=0;\n",
       "        var result = \"M\" + d.source.x + \",\" + d.source.y + \"A\" + dr + \",\" + dr + \" 0 0,1 \" + m.x + \",\" + m.y;\n",
       "        return result;\n",
       "    });\n",
       "};\n",
       "\n",
       "\n",
       "/*Update node positions */\n",
       "function updateNode(node) {\n",
       "    node.attr(\"transform\", function(d) {\n",
       "        return \"translate(\" + d.x + \",\" + d.y + \")\";\n",
       "    });\n",
       "    // node\n",
       "    //     .attr(\"cx\", function(d) { return d.x; })\n",
       "    //     .attr(\"cy\", function(d) { return d.y; });\n",
       "};\n",
       "\n",
       "/*Update text positions */\n",
       "function updateText(text) {\n",
       "    text.attr(\"transform\", function(d) {\n",
       "        return \"translate(\" + d.x + \",\" + d.y + \")\";\n",
       "    });\n",
       "};\n",
       "\n",
       "/*Add drag functionality to the node objects*/\n",
       "node.call(\n",
       "    d3.drag()\n",
       "        .on(\"start\", dragstarted)\n",
       "        .on(\"drag\", dragged)\n",
       "        .on(\"end\", dragended)\n",
       ");\n",
       "\n",
       "function dragstarted(d) {\n",
       "    d3.event.sourceEvent.stopPropagation();\n",
       "    if (!d3.event.active) simulation.alphaTarget(0.3).restart();\n",
       "    d.fx = d.x;\n",
       "    d.fy = d.y;\n",
       "};\n",
       "\n",
       "function dragged(d) {\n",
       "    d.fx = d3.event.x;\n",
       "    d.fy = d3.event.y;\n",
       "};\n",
       "\n",
       "function dragended(d) {\n",
       "    if (!d3.event.active) simulation.alphaTarget(0);\n",
       "    d.fx = null;\n",
       "    d.fy = null;\n",
       "};\n",
       "\n",
       "}); //END\n",
       "\n",
       "</script>"
      ]
     },
     "metadata": {},
     "output_type": "display_data"
    },
    {
     "data": {
      "text/plain": [
       "<pathpyG.visualisations.network_plots.StaticNetworkPlot at 0x7f0f9735fee0>"
      ]
     },
     "execution_count": 3,
     "metadata": {},
     "output_type": "execute_result"
    }
   ],
   "source": [
    "pp.plot(n)"
   ]
  },
  {
   "cell_type": "markdown",
   "metadata": {},
   "source": [
    "We now simulate random walks. It is easy to do this using the `RandomWalk` class of the `pathpy.processes` module. We first initialize a random walk process on the network. This generates the transition matrix as well as the alias tables for the alias sampling method."
   ]
  },
  {
   "cell_type": "code",
   "execution_count": 4,
   "metadata": {},
   "outputs": [
    {
     "data": {
      "text/html": [
       "<div>\n",
       "<style scoped>\n",
       "    .dataframe tbody tr th:only-of-type {\n",
       "        vertical-align: middle;\n",
       "    }\n",
       "\n",
       "    .dataframe tbody tr th {\n",
       "        vertical-align: top;\n",
       "    }\n",
       "\n",
       "    .dataframe thead th {\n",
       "        text-align: right;\n",
       "    }\n",
       "</style>\n",
       "<table border=\"1\" class=\"dataframe\">\n",
       "  <thead>\n",
       "    <tr style=\"text-align: right;\">\n",
       "      <th></th>\n",
       "      <th>a</th>\n",
       "      <th>b</th>\n",
       "      <th>c</th>\n",
       "      <th>d</th>\n",
       "      <th>e</th>\n",
       "      <th>f</th>\n",
       "      <th>g</th>\n",
       "    </tr>\n",
       "  </thead>\n",
       "  <tbody>\n",
       "    <tr>\n",
       "      <th>a</th>\n",
       "      <td>0.000000</td>\n",
       "      <td>0.50</td>\n",
       "      <td>0.500000</td>\n",
       "      <td>0.000000</td>\n",
       "      <td>0.000000</td>\n",
       "      <td>0.00</td>\n",
       "      <td>0.000000</td>\n",
       "    </tr>\n",
       "    <tr>\n",
       "      <th>b</th>\n",
       "      <td>0.333333</td>\n",
       "      <td>0.00</td>\n",
       "      <td>0.333333</td>\n",
       "      <td>0.333333</td>\n",
       "      <td>0.000000</td>\n",
       "      <td>0.00</td>\n",
       "      <td>0.000000</td>\n",
       "    </tr>\n",
       "    <tr>\n",
       "      <th>c</th>\n",
       "      <td>0.500000</td>\n",
       "      <td>0.50</td>\n",
       "      <td>0.000000</td>\n",
       "      <td>0.000000</td>\n",
       "      <td>0.000000</td>\n",
       "      <td>0.00</td>\n",
       "      <td>0.000000</td>\n",
       "    </tr>\n",
       "    <tr>\n",
       "      <th>d</th>\n",
       "      <td>0.000000</td>\n",
       "      <td>0.25</td>\n",
       "      <td>0.000000</td>\n",
       "      <td>0.000000</td>\n",
       "      <td>0.250000</td>\n",
       "      <td>0.25</td>\n",
       "      <td>0.250000</td>\n",
       "    </tr>\n",
       "    <tr>\n",
       "      <th>e</th>\n",
       "      <td>0.000000</td>\n",
       "      <td>0.00</td>\n",
       "      <td>0.000000</td>\n",
       "      <td>0.500000</td>\n",
       "      <td>0.000000</td>\n",
       "      <td>0.50</td>\n",
       "      <td>0.000000</td>\n",
       "    </tr>\n",
       "    <tr>\n",
       "      <th>f</th>\n",
       "      <td>0.000000</td>\n",
       "      <td>0.00</td>\n",
       "      <td>0.000000</td>\n",
       "      <td>0.333333</td>\n",
       "      <td>0.333333</td>\n",
       "      <td>0.00</td>\n",
       "      <td>0.333333</td>\n",
       "    </tr>\n",
       "    <tr>\n",
       "      <th>g</th>\n",
       "      <td>0.000000</td>\n",
       "      <td>0.00</td>\n",
       "      <td>0.000000</td>\n",
       "      <td>0.500000</td>\n",
       "      <td>0.000000</td>\n",
       "      <td>0.50</td>\n",
       "      <td>0.000000</td>\n",
       "    </tr>\n",
       "  </tbody>\n",
       "</table>\n",
       "</div>"
      ],
      "text/plain": [
       "          a     b         c         d         e     f         g\n",
       "a  0.000000  0.50  0.500000  0.000000  0.000000  0.00  0.000000\n",
       "b  0.333333  0.00  0.333333  0.333333  0.000000  0.00  0.000000\n",
       "c  0.500000  0.50  0.000000  0.000000  0.000000  0.00  0.000000\n",
       "d  0.000000  0.25  0.000000  0.000000  0.250000  0.25  0.250000\n",
       "e  0.000000  0.00  0.000000  0.500000  0.000000  0.50  0.000000\n",
       "f  0.000000  0.00  0.000000  0.333333  0.333333  0.00  0.333333\n",
       "g  0.000000  0.00  0.000000  0.500000  0.000000  0.50  0.000000"
      ]
     },
     "execution_count": 4,
     "metadata": {},
     "output_type": "execute_result"
    }
   ],
   "source": [
    "rw = pp.processes.RandomWalk(n)\n",
    "rw.transition_matrix_pd()"
   ]
  },
  {
   "cell_type": "markdown",
   "metadata": {},
   "source": [
    "We can now simulate a number of random walks with given length $l$. Here we start a total of 100 random walks at random nodes, each walker walking for exactly 5 steps. This function returns a data frame that contains the trajectory of the random walk process. We can then use the `get_paths` function to extract the sequences of traversed nodes and we can add those sequences to a single list:"
   ]
  },
  {
   "cell_type": "code",
   "execution_count": 5,
   "metadata": {},
   "outputs": [
    {
     "name": "stderr",
     "output_type": "stream",
     "text": [
      "100%|██████████| 100/100 [00:00<00:00, 8544.28it/s]\n"
     ]
    }
   ],
   "source": [
    "data = rw.run_experiment(runs=100, steps=5)\n",
    "walks = rw.get_paths(data)"
   ]
  },
  {
   "cell_type": "code",
   "execution_count": 6,
   "metadata": {},
   "outputs": [],
   "source": [
    "walks = [walks.get_walk(i) for i in range(walks.num_paths)]"
   ]
  },
  {
   "cell_type": "code",
   "execution_count": 7,
   "metadata": {},
   "outputs": [],
   "source": [
    "# rw.plot(data, edge_color='gray')"
   ]
  },
  {
   "cell_type": "markdown",
   "metadata": {},
   "source": [
    "You see that we get the same data structure as in the previous notebook, i.e. here we have a list of walks, where each walk consists of a sequence of traversed nodes that we seek to embed. In the previous notebook, we have considered a list of sentences, where each sentence was a sequence of words that we wanted to embed. Treating nodes as words and walks as sentences, we can thus reuse the functions from the previous notebook:"
   ]
  },
  {
   "cell_type": "code",
   "execution_count": 31,
   "metadata": {},
   "outputs": [],
   "source": [
    "def build_vocabulary(tokens):\n",
    "    vocab = []\n",
    "    for sentence in tokens:\n",
    "        for word in sentence:\n",
    "            if word not in vocab:\n",
    "                vocab.append(word)\n",
    "    return vocab\n",
    "\n",
    "def build_word_context_pairs(tokens, window_size):\n",
    "    pairs = []\n",
    "    for sentence in tokens:\n",
    "        for center in range(len(sentence)):\n",
    "            for i in range(-window_size, window_size+1):\n",
    "                context_word = center + i\n",
    "                if context_word < 0 or context_word >= len(sentence) or center == context_word:\n",
    "                    continue\n",
    "                pairs.append((sentence[center], sentence[context_word]))\n",
    "    return pairs\n",
    "\n",
    "def get_ohe(word, vocab):\n",
    "    word_idx = vocab.index(word)\n",
    "    x = torch.zeros(1,len(vocab)).float()\n",
    "    x[:,word_idx] = 1.0\n",
    "    return x.to(device)"
   ]
  },
  {
   "cell_type": "markdown",
   "metadata": {},
   "source": [
    "Our vocabulary consists of the nodes in the network, and we can apply one-hot-encoding to represent each node:"
   ]
  },
  {
   "cell_type": "code",
   "execution_count": 12,
   "metadata": {},
   "outputs": [
    {
     "name": "stdout",
     "output_type": "stream",
     "text": [
      "['d', 'b', 'g', 'f', 'e', 'c', 'a']\n"
     ]
    }
   ],
   "source": [
    "vocab = build_vocabulary(walks)\n",
    "print(vocab)"
   ]
  },
  {
   "cell_type": "code",
   "execution_count": 13,
   "metadata": {},
   "outputs": [
    {
     "data": {
      "text/plain": [
       "tensor([[0., 0., 0., 1., 0., 0., 0.]])"
      ]
     },
     "execution_count": 13,
     "metadata": {},
     "output_type": "execute_result"
    }
   ],
   "source": [
    "get_ohe('f', vocab)"
   ]
  },
  {
   "cell_type": "markdown",
   "metadata": {},
   "source": [
    "We can now build the node-context pairs for a given window size. This yields a long list of node-context tuples:"
   ]
  },
  {
   "cell_type": "code",
   "execution_count": 14,
   "metadata": {},
   "outputs": [
    {
     "name": "stdout",
     "output_type": "stream",
     "text": [
      "1800\n"
     ]
    }
   ],
   "source": [
    "pairs = build_word_context_pairs(walks, window_size=2)\n",
    "print(len(pairs))"
   ]
  },
  {
   "cell_type": "markdown",
   "metadata": {},
   "source": [
    "We can now reuse the SkipGram model from the previous notebook:"
   ]
  },
  {
   "cell_type": "code",
   "execution_count": 15,
   "metadata": {},
   "outputs": [],
   "source": [
    "class SkipGram(torch.nn.Module):\n",
    "    \n",
    "    # SkipGram model = predict context probabilities based on center word\n",
    "    # input = one-hot-encoding of center word \n",
    "    # outputs y_i = conditional probabilities of context words $j$ given center word\n",
    "    def __init__(self, embedding_dim, vocab_size):\n",
    "        super(SkipGram, self).__init__()\n",
    "\n",
    "        # The first layer has |V| * d learnable weights\n",
    "        self.embeddings = torch.nn.Linear(vocab_size, embedding_dim)\n",
    "\n",
    "        # The second layer has d * |V| learnable weights\n",
    "        self.linear = torch.nn.Linear(embedding_dim, vocab_size)\n",
    "        \n",
    "    def forward(self, x):\n",
    "\n",
    "        emb_x = self.embeddings(x)\n",
    "        y = self.linear(emb_x)\n",
    "        return F.softmax(y, dim=1)"
   ]
  },
  {
   "cell_type": "markdown",
   "metadata": {},
   "source": [
    "Let us now train the model based on the node-context pairs observed in the random walk sequences:"
   ]
  },
  {
   "cell_type": "code",
   "execution_count": 18,
   "metadata": {},
   "outputs": [],
   "source": [
    "model = SkipGram(embedding_dim=5, vocab_size=len(vocab)).to(device)\n",
    "loss_function = torch.nn.BCELoss()\n",
    "\n",
    "optimizer = optim.SGD(model.parameters(), lr=0.1)"
   ]
  },
  {
   "cell_type": "code",
   "execution_count": 19,
   "metadata": {},
   "outputs": [
    {
     "name": "stderr",
     "output_type": "stream",
     "text": [
      "100%|██████████| 50/50 [00:57<00:00,  1.15s/it]\n"
     ]
    },
    {
     "data": {
      "text/plain": [
       "[<matplotlib.lines.Line2D at 0x7f0f6146ee60>]"
      ]
     },
     "execution_count": 19,
     "metadata": {},
     "output_type": "execute_result"
    },
    {
     "data": {
      "image/png": "[encoded data removed]",
      "text/plain": [
       "<Figure size 640x480 with 1 Axes>"
      ]
     },
     "metadata": {},
     "output_type": "display_data"
    }
   ],
   "source": [
    "epochs = 50\n",
    "losses = []\n",
    "for i in tqdm(range(epochs)):\n",
    "    l = 0\n",
    "    for center, context in pairs:\n",
    "        model.zero_grad()\n",
    "        prob = model.forward(get_ohe(center, vocab).to(device))\n",
    "        loss = loss_function(prob, get_ohe(context, vocab).to(device).float())\n",
    "        loss.backward()\n",
    "        optimizer.step()        \n",
    "        l += loss.data.to('cpu')\n",
    "\n",
    "    losses.append(l/len(pairs))\n",
    "plt.plot(range(epochs), losses)"
   ]
  },
  {
   "cell_type": "markdown",
   "metadata": {},
   "source": [
    "As before, the embeddings of nodes are given by the weight parameters in the first layer:"
   ]
  },
  {
   "cell_type": "code",
   "execution_count": 32,
   "metadata": {},
   "outputs": [],
   "source": [
    "def get_embedding(node, model, vocab):\n",
    "    return model.embeddings.weight.data[:,vocab.index(node)]\n",
    "\n",
    "def context_probs(word, vocab, model):\n",
    "    return { x:p.item() for x,p in zip(vocab, model.forward(get_ohe(word, vocab))[0].detach())}\n",
    "\n",
    "cos = torch.nn.CosineSimilarity(dim=0, eps=1e-6)        "
   ]
  },
  {
   "cell_type": "code",
   "execution_count": 33,
   "metadata": {},
   "outputs": [
    {
     "data": {
      "text/plain": [
       "tensor([ 0.3134,  0.8753,  0.5734, -0.6617, -1.5329], device='cuda:0')"
      ]
     },
     "execution_count": 33,
     "metadata": {},
     "output_type": "execute_result"
    }
   ],
   "source": [
    "get_embedding('a', model, vocab)"
   ]
  },
  {
   "cell_type": "code",
   "execution_count": 34,
   "metadata": {},
   "outputs": [
    {
     "data": {
      "text/plain": [
       "{'d': 0.10240631550550461,\n",
       " 'b': 0.5013812184333801,\n",
       " 'g': 0.0038241371512413025,\n",
       " 'f': 0.0032222738955169916,\n",
       " 'e': 0.0011402538511902094,\n",
       " 'c': 0.2881500720977783,\n",
       " 'a': 0.09987574070692062}"
      ]
     },
     "execution_count": 34,
     "metadata": {},
     "output_type": "execute_result"
    }
   ],
   "source": [
    "context_probs('a', vocab, model)"
   ]
  },
  {
   "cell_type": "code",
   "execution_count": 35,
   "metadata": {},
   "outputs": [
    {
     "data": {
      "text/plain": [
       "{'d': 0.47085851430892944,\n",
       " 'b': 0.06740677356719971,\n",
       " 'g': 0.14472992718219757,\n",
       " 'f': 0.12090042233467102,\n",
       " 'e': 0.18441154062747955,\n",
       " 'c': 0.0052184113301336765,\n",
       " 'a': 0.006474477704614401}"
      ]
     },
     "execution_count": 35,
     "metadata": {},
     "output_type": "execute_result"
    }
   ],
   "source": [
    "context_probs('f', vocab, model)"
   ]
  },
  {
   "cell_type": "code",
   "execution_count": 36,
   "metadata": {},
   "outputs": [
    {
     "data": {
      "text/plain": [
       "tensor(0.1685, device='cuda:0')"
      ]
     },
     "execution_count": 36,
     "metadata": {},
     "output_type": "execute_result"
    }
   ],
   "source": [
    "cos(get_embedding('a', model, vocab), get_embedding('b', model, vocab))"
   ]
  },
  {
   "cell_type": "code",
   "execution_count": 37,
   "metadata": {},
   "outputs": [
    {
     "data": {
      "text/plain": [
       "tensor(-0.6556, device='cuda:0')"
      ]
     },
     "execution_count": 37,
     "metadata": {},
     "output_type": "execute_result"
    }
   ],
   "source": [
    "cos(get_embedding('a', model, vocab), get_embedding('f', model, vocab))"
   ]
  },
  {
   "cell_type": "code",
   "execution_count": 38,
   "metadata": {},
   "outputs": [
    {
     "data": {
      "text/plain": [
       "tensor(0.4137, device='cuda:0')"
      ]
     },
     "execution_count": 38,
     "metadata": {},
     "output_type": "execute_result"
    }
   ],
   "source": [
    "cos(get_embedding('e', model, vocab), get_embedding('f', model, vocab))"
   ]
  },
  {
   "cell_type": "code",
   "execution_count": 39,
   "metadata": {},
   "outputs": [],
   "source": [
    "svd = TruncatedSVD()\n",
    "low_dim = svd.fit_transform(np.array([ get_embedding(w, model, vocab).detach().cpu().numpy() for w in vocab]))"
   ]
  },
  {
   "cell_type": "code",
   "execution_count": 40,
   "metadata": {},
   "outputs": [
    {
     "data": {
      "image/png": "[encoded data removed]",
      "text/plain": [
       "<Figure size 640x480 with 1 Axes>"
      ]
     },
     "metadata": {},
     "output_type": "display_data"
    }
   ],
   "source": [
    "fig, ax = plt.subplots()\n",
    "ax.scatter(low_dim[:,0], low_dim[:,1])\n",
    "\n",
    "for i, txt in enumerate(vocab):\n",
    "    plt.arrow(0, 0, low_dim[i,0], low_dim[i,1], color='orange', width=0.02, alpha=0.2)\n",
    "    ax.annotate(txt, (low_dim[i,0]+0.02, low_dim[i,1]+0.02), fontsize=14)"
   ]
  },
  {
   "cell_type": "markdown",
   "metadata": {},
   "source": [
    "## Application to empirical network"
   ]
  },
  {
   "cell_type": "code",
   "execution_count": 41,
   "metadata": {},
   "outputs": [
    {
     "data": {
      "text/html": [
       "<style>\n",
       "svg circle.node {\n",
       "  fill: #3b5998;\n",
       "  stroke: #1b3978;\n",
       "  stroke-width: 2.5px;\n",
       "  r: 15px;\n",
       "  opacity: 1;\n",
       "}\n",
       "\n",
       ".link {\n",
       "  stroke: #969595;\n",
       "  stroke-opacity: .75;\n",
       "  stroke-width: 2.5px;\n",
       "}\n",
       "\n",
       ".arrow {\n",
       "  fill: #969595;\n",
       "}\n",
       "\n",
       "\n",
       ".label-text {\n",
       "    fill: #969595;\n",
       "    font-size: 16px;\n",
       "    font-family: sans-serif;\n",
       "}\n",
       "\n",
       "</style>\n",
       "\n",
       "<div id = \"x0b8e4ba38493420aac351a30607d1354\"> </div>\n",
       "<script charset=\"utf-8\" src=\"https://d3js.org/d3.v5.min.js\"></script>\n",
       "<script charset=\"utf-8\">\n",
       "// Load via requireJS if available (jupyter notebook environment)\n",
       "try {\n",
       "    // Problem: require.config will raise an exception when called for the second time \n",
       "    require.config({\n",
       "        paths: {\n",
       "            d3: \"https://d3js.org/d3.v5.min.js\".replace(\".js\", \"\")\n",
       "        }\n",
       "    });\n",
       "    console.log(\"OKAY: requireJS was detected.\");\n",
       "}\n",
       "catch(err){\n",
       "    // a reference error indicates that requireJS does not exist. \n",
       "    // other errors may occur due to multiple calls to config\n",
       "    if (err instanceof ReferenceError){\n",
       "        console.log(\"WARNING: NO requireJS was detected!\");\n",
       "\n",
       "        // Helper function that waits for d3js to be loaded\n",
       "        require = function require(symbols, callback) {\n",
       "            var ms = 10;\n",
       "            window.setTimeout(function(t) {\n",
       "                if (window[symbols[0]])\n",
       "                    callback(window[symbols[0]]);\n",
       "                else \n",
       "                    window.setTimeout(arguments.callee, ms);\n",
       "            }, ms);\n",
       "        }\n",
       "    }\n",
       "};\n",
       "require(['d3'], function(d3){ //START\n",
       "const data = {\"edges\": [{\"uid\": \"0-1\", \"source\": \"0\", \"target\": \"1\", \"weight\": 1}, {\"uid\": \"0-2\", \"source\": \"0\", \"target\": \"2\", \"weight\": 1}, {\"uid\": \"0-3\", \"source\": \"0\", \"target\": \"3\", \"weight\": 1}, {\"uid\": \"0-4\", \"source\": \"0\", \"target\": \"4\", \"weight\": 1}, {\"uid\": \"0-5\", \"source\": \"0\", \"target\": \"5\", \"weight\": 1}, {\"uid\": \"0-6\", \"source\": \"0\", \"target\": \"6\", \"weight\": 1}, {\"uid\": \"0-7\", \"source\": \"0\", \"target\": \"7\", \"weight\": 1}, {\"uid\": \"0-8\", \"source\": \"0\", \"target\": \"8\", \"weight\": 1}, {\"uid\": \"0-10\", \"source\": \"0\", \"target\": \"10\", \"weight\": 1}, {\"uid\": \"0-11\", \"source\": \"0\", \"target\": \"11\", \"weight\": 1}, {\"uid\": \"0-12\", \"source\": \"0\", \"target\": \"12\", \"weight\": 1}, {\"uid\": \"0-13\", \"source\": \"0\", \"target\": \"13\", \"weight\": 1}, {\"uid\": \"0-17\", \"source\": \"0\", \"target\": \"17\", \"weight\": 1}, {\"uid\": \"0-19\", \"source\": \"0\", \"target\": \"19\", \"weight\": 1}, {\"uid\": \"0-21\", \"source\": \"0\", \"target\": \"21\", \"weight\": 1}, {\"uid\": \"0-31\", \"source\": \"0\", \"target\": \"31\", \"weight\": 1}, {\"uid\": \"1-0\", \"source\": \"1\", \"target\": \"0\", \"weight\": 1}, {\"uid\": \"1-2\", \"source\": \"1\", \"target\": \"2\", \"weight\": 1}, {\"uid\": \"1-3\", \"source\": \"1\", \"target\": \"3\", \"weight\": 1}, {\"uid\": \"1-7\", \"source\": \"1\", \"target\": \"7\", \"weight\": 1}, {\"uid\": \"1-13\", \"source\": \"1\", \"target\": \"13\", \"weight\": 1}, {\"uid\": \"1-17\", \"source\": \"1\", \"target\": \"17\", \"weight\": 1}, {\"uid\": \"1-19\", \"source\": \"1\", \"target\": \"19\", \"weight\": 1}, {\"uid\": \"1-21\", \"source\": \"1\", \"target\": \"21\", \"weight\": 1}, {\"uid\": \"1-30\", \"source\": \"1\", \"target\": \"30\", \"weight\": 1}, {\"uid\": \"2-0\", \"source\": \"2\", \"target\": \"0\", \"weight\": 1}, {\"uid\": \"2-1\", \"source\": \"2\", \"target\": \"1\", \"weight\": 1}, {\"uid\": \"2-3\", \"source\": \"2\", \"target\": \"3\", \"weight\": 1}, {\"uid\": \"2-7\", \"source\": \"2\", \"target\": \"7\", \"weight\": 1}, {\"uid\": \"2-8\", \"source\": \"2\", \"target\": \"8\", \"weight\": 1}, {\"uid\": \"2-9\", \"source\": \"2\", \"target\": \"9\", \"weight\": 1}, {\"uid\": \"2-13\", \"source\": \"2\", \"target\": \"13\", \"weight\": 1}, {\"uid\": \"2-27\", \"source\": \"2\", \"target\": \"27\", \"weight\": 1}, {\"uid\": \"2-28\", \"source\": \"2\", \"target\": \"28\", \"weight\": 1}, {\"uid\": \"2-32\", \"source\": \"2\", \"target\": \"32\", \"weight\": 1}, {\"uid\": \"3-0\", \"source\": \"3\", \"target\": \"0\", \"weight\": 1}, {\"uid\": \"3-1\", \"source\": \"3\", \"target\": \"1\", \"weight\": 1}, {\"uid\": \"3-2\", \"source\": \"3\", \"target\": \"2\", \"weight\": 1}, {\"uid\": \"3-7\", \"source\": \"3\", \"target\": \"7\", \"weight\": 1}, {\"uid\": \"3-12\", \"source\": \"3\", \"target\": \"12\", \"weight\": 1}, {\"uid\": \"3-13\", \"source\": \"3\", \"target\": \"13\", \"weight\": 1}, {\"uid\": \"4-0\", \"source\": \"4\", \"target\": \"0\", \"weight\": 1}, {\"uid\": \"4-6\", \"source\": \"4\", \"target\": \"6\", \"weight\": 1}, {\"uid\": \"4-10\", \"source\": \"4\", \"target\": \"10\", \"weight\": 1}, {\"uid\": \"5-0\", \"source\": \"5\", \"target\": \"0\", \"weight\": 1}, {\"uid\": \"5-6\", \"source\": \"5\", \"target\": \"6\", \"weight\": 1}, {\"uid\": \"5-10\", \"source\": \"5\", \"target\": \"10\", \"weight\": 1}, {\"uid\": \"5-16\", \"source\": \"5\", \"target\": \"16\", \"weight\": 1}, {\"uid\": \"6-0\", \"source\": \"6\", \"target\": \"0\", \"weight\": 1}, {\"uid\": \"6-4\", \"source\": \"6\", \"target\": \"4\", \"weight\": 1}, {\"uid\": \"6-5\", \"source\": \"6\", \"target\": \"5\", \"weight\": 1}, {\"uid\": \"6-16\", \"source\": \"6\", \"target\": \"16\", \"weight\": 1}, {\"uid\": \"7-0\", \"source\": \"7\", \"target\": \"0\", \"weight\": 1}, {\"uid\": \"7-1\", \"source\": \"7\", \"target\": \"1\", \"weight\": 1}, {\"uid\": \"7-2\", \"source\": \"7\", \"target\": \"2\", \"weight\": 1}, {\"uid\": \"7-3\", \"source\": \"7\", \"target\": \"3\", \"weight\": 1}, {\"uid\": \"8-0\", \"source\": \"8\", \"target\": \"0\", \"weight\": 1}, {\"uid\": \"8-2\", \"source\": \"8\", \"target\": \"2\", \"weight\": 1}, {\"uid\": \"8-30\", \"source\": \"8\", \"target\": \"30\", \"weight\": 1}, {\"uid\": \"8-32\", \"source\": \"8\", \"target\": \"32\", \"weight\": 1}, {\"uid\": \"8-33\", \"source\": \"8\", \"target\": \"33\", \"weight\": 1}, {\"uid\": \"9-2\", \"source\": \"9\", \"target\": \"2\", \"weight\": 1}, {\"uid\": \"9-33\", \"source\": \"9\", \"target\": \"33\", \"weight\": 1}, {\"uid\": \"10-0\", \"source\": \"10\", \"target\": \"0\", \"weight\": 1}, {\"uid\": \"10-4\", \"source\": \"10\", \"target\": \"4\", \"weight\": 1}, {\"uid\": \"10-5\", \"source\": \"10\", \"target\": \"5\", \"weight\": 1}, {\"uid\": \"11-0\", \"source\": \"11\", \"target\": \"0\", \"weight\": 1}, {\"uid\": \"12-0\", \"source\": \"12\", \"target\": \"0\", \"weight\": 1}, {\"uid\": \"12-3\", \"source\": \"12\", \"target\": \"3\", \"weight\": 1}, {\"uid\": \"13-0\", \"source\": \"13\", \"target\": \"0\", \"weight\": 1}, {\"uid\": \"13-1\", \"source\": \"13\", \"target\": \"1\", \"weight\": 1}, {\"uid\": \"13-2\", \"source\": \"13\", \"target\": \"2\", \"weight\": 1}, {\"uid\": \"13-3\", \"source\": \"13\", \"target\": \"3\", \"weight\": 1}, {\"uid\": \"13-33\", \"source\": \"13\", \"target\": \"33\", \"weight\": 1}, {\"uid\": \"14-32\", \"source\": \"14\", \"target\": \"32\", \"weight\": 1}, {\"uid\": \"14-33\", \"source\": \"14\", \"target\": \"33\", \"weight\": 1}, {\"uid\": \"15-32\", \"source\": \"15\", \"target\": \"32\", \"weight\": 1}, {\"uid\": \"15-33\", \"source\": \"15\", \"target\": \"33\", \"weight\": 1}, {\"uid\": \"16-5\", \"source\": \"16\", \"target\": \"5\", \"weight\": 1}, {\"uid\": \"16-6\", \"source\": \"16\", \"target\": \"6\", \"weight\": 1}, {\"uid\": \"17-0\", \"source\": \"17\", \"target\": \"0\", \"weight\": 1}, {\"uid\": \"17-1\", \"source\": \"17\", \"target\": \"1\", \"weight\": 1}, {\"uid\": \"18-32\", \"source\": \"18\", \"target\": \"32\", \"weight\": 1}, {\"uid\": \"18-33\", \"source\": \"18\", \"target\": \"33\", \"weight\": 1}, {\"uid\": \"19-0\", \"source\": \"19\", \"target\": \"0\", \"weight\": 1}, {\"uid\": \"19-1\", \"source\": \"19\", \"target\": \"1\", \"weight\": 1}, {\"uid\": \"19-33\", \"source\": \"19\", \"target\": \"33\", \"weight\": 1}, {\"uid\": \"20-32\", \"source\": \"20\", \"target\": \"32\", \"weight\": 1}, {\"uid\": \"20-33\", \"source\": \"20\", \"target\": \"33\", \"weight\": 1}, {\"uid\": \"21-0\", \"source\": \"21\", \"target\": \"0\", \"weight\": 1}, {\"uid\": \"21-1\", \"source\": \"21\", \"target\": \"1\", \"weight\": 1}, {\"uid\": \"22-32\", \"source\": \"22\", \"target\": \"32\", \"weight\": 1}, {\"uid\": \"23-25\", \"source\": \"23\", \"target\": \"25\", \"weight\": 1}, {\"uid\": \"23-27\", \"source\": \"23\", \"target\": \"27\", \"weight\": 1}, {\"uid\": \"23-29\", \"source\": \"23\", \"target\": \"29\", \"weight\": 1}, {\"uid\": \"23-32\", \"source\": \"23\", \"target\": \"32\", \"weight\": 1}, {\"uid\": \"23-33\", \"source\": \"23\", \"target\": \"33\", \"weight\": 1}, {\"uid\": \"24-25\", \"source\": \"24\", \"target\": \"25\", \"weight\": 1}, {\"uid\": \"24-27\", \"source\": \"24\", \"target\": \"27\", \"weight\": 1}, {\"uid\": \"24-31\", \"source\": \"24\", \"target\": \"31\", \"weight\": 1}, {\"uid\": \"25-23\", \"source\": \"25\", \"target\": \"23\", \"weight\": 1}, {\"uid\": \"25-24\", \"source\": \"25\", \"target\": \"24\", \"weight\": 1}, {\"uid\": \"25-31\", \"source\": \"25\", \"target\": \"31\", \"weight\": 1}, {\"uid\": \"26-29\", \"source\": \"26\", \"target\": \"29\", \"weight\": 1}, {\"uid\": \"26-33\", \"source\": \"26\", \"target\": \"33\", \"weight\": 1}, {\"uid\": \"27-2\", \"source\": \"27\", \"target\": \"2\", \"weight\": 1}, {\"uid\": \"27-23\", \"source\": \"27\", \"target\": \"23\", \"weight\": 1}, {\"uid\": \"27-24\", \"source\": \"27\", \"target\": \"24\", \"weight\": 1}, {\"uid\": \"27-33\", \"source\": \"27\", \"target\": \"33\", \"weight\": 1}, {\"uid\": \"28-2\", \"source\": \"28\", \"target\": \"2\", \"weight\": 1}, {\"uid\": \"28-31\", \"source\": \"28\", \"target\": \"31\", \"weight\": 1}, {\"uid\": \"28-33\", \"source\": \"28\", \"target\": \"33\", \"weight\": 1}, {\"uid\": \"29-23\", \"source\": \"29\", \"target\": \"23\", \"weight\": 1}, {\"uid\": \"29-26\", \"source\": \"29\", \"target\": \"26\", \"weight\": 1}, {\"uid\": \"29-32\", \"source\": \"29\", \"target\": \"32\", \"weight\": 1}, {\"uid\": \"29-33\", \"source\": \"29\", \"target\": \"33\", \"weight\": 1}, {\"uid\": \"30-1\", \"source\": \"30\", \"target\": \"1\", \"weight\": 1}, {\"uid\": \"30-8\", \"source\": \"30\", \"target\": \"8\", \"weight\": 1}, {\"uid\": \"30-32\", \"source\": \"30\", \"target\": \"32\", \"weight\": 1}, {\"uid\": \"30-33\", \"source\": \"30\", \"target\": \"33\", \"weight\": 1}, {\"uid\": \"31-0\", \"source\": \"31\", \"target\": \"0\", \"weight\": 1}, {\"uid\": \"31-24\", \"source\": \"31\", \"target\": \"24\", \"weight\": 1}, {\"uid\": \"31-25\", \"source\": \"31\", \"target\": \"25\", \"weight\": 1}, {\"uid\": \"31-28\", \"source\": \"31\", \"target\": \"28\", \"weight\": 1}, {\"uid\": \"31-32\", \"source\": \"31\", \"target\": \"32\", \"weight\": 1}, {\"uid\": \"31-33\", \"source\": \"31\", \"target\": \"33\", \"weight\": 1}, {\"uid\": \"32-2\", \"source\": \"32\", \"target\": \"2\", \"weight\": 1}, {\"uid\": \"32-8\", \"source\": \"32\", \"target\": \"8\", \"weight\": 1}, {\"uid\": \"32-14\", \"source\": \"32\", \"target\": \"14\", \"weight\": 1}, {\"uid\": \"32-15\", \"source\": \"32\", \"target\": \"15\", \"weight\": 1}, {\"uid\": \"32-18\", \"source\": \"32\", \"target\": \"18\", \"weight\": 1}, {\"uid\": \"32-20\", \"source\": \"32\", \"target\": \"20\", \"weight\": 1}, {\"uid\": \"32-22\", \"source\": \"32\", \"target\": \"22\", \"weight\": 1}, {\"uid\": \"32-23\", \"source\": \"32\", \"target\": \"23\", \"weight\": 1}, {\"uid\": \"32-29\", \"source\": \"32\", \"target\": \"29\", \"weight\": 1}, {\"uid\": \"32-30\", \"source\": \"32\", \"target\": \"30\", \"weight\": 1}, {\"uid\": \"32-31\", \"source\": \"32\", \"target\": \"31\", \"weight\": 1}, {\"uid\": \"32-33\", \"source\": \"32\", \"target\": \"33\", \"weight\": 1}, {\"uid\": \"33-8\", \"source\": \"33\", \"target\": \"8\", \"weight\": 1}, {\"uid\": \"33-9\", \"source\": \"33\", \"target\": \"9\", \"weight\": 1}, {\"uid\": \"33-13\", \"source\": \"33\", \"target\": \"13\", \"weight\": 1}, {\"uid\": \"33-14\", \"source\": \"33\", \"target\": \"14\", \"weight\": 1}, {\"uid\": \"33-15\", \"source\": \"33\", \"target\": \"15\", \"weight\": 1}, {\"uid\": \"33-18\", \"source\": \"33\", \"target\": \"18\", \"weight\": 1}, {\"uid\": \"33-19\", \"source\": \"33\", \"target\": \"19\", \"weight\": 1}, {\"uid\": \"33-20\", \"source\": \"33\", \"target\": \"20\", \"weight\": 1}, {\"uid\": \"33-23\", \"source\": \"33\", \"target\": \"23\", \"weight\": 1}, {\"uid\": \"33-26\", \"source\": \"33\", \"target\": \"26\", \"weight\": 1}, {\"uid\": \"33-27\", \"source\": \"33\", \"target\": \"27\", \"weight\": 1}, {\"uid\": \"33-28\", \"source\": \"33\", \"target\": \"28\", \"weight\": 1}, {\"uid\": \"33-29\", \"source\": \"33\", \"target\": \"29\", \"weight\": 1}, {\"uid\": \"33-30\", \"source\": \"33\", \"target\": \"30\", \"weight\": 1}, {\"uid\": \"33-31\", \"source\": \"33\", \"target\": \"31\", \"weight\": 1}, {\"uid\": \"33-32\", \"source\": \"33\", \"target\": \"32\", \"weight\": 1}], \"nodes\": [{\"uid\": \"0\"}, {\"uid\": \"1\"}, {\"uid\": \"2\"}, {\"uid\": \"3\"}, {\"uid\": \"4\"}, {\"uid\": \"5\"}, {\"uid\": \"6\"}, {\"uid\": \"7\"}, {\"uid\": \"8\"}, {\"uid\": \"9\"}, {\"uid\": \"10\"}, {\"uid\": \"11\"}, {\"uid\": \"12\"}, {\"uid\": \"13\"}, {\"uid\": \"14\"}, {\"uid\": \"15\"}, {\"uid\": \"16\"}, {\"uid\": \"17\"}, {\"uid\": \"18\"}, {\"uid\": \"19\"}, {\"uid\": \"20\"}, {\"uid\": \"21\"}, {\"uid\": \"22\"}, {\"uid\": \"23\"}, {\"uid\": \"24\"}, {\"uid\": \"25\"}, {\"uid\": \"26\"}, {\"uid\": \"27\"}, {\"uid\": \"28\"}, {\"uid\": \"29\"}, {\"uid\": \"30\"}, {\"uid\": \"31\"}, {\"uid\": \"32\"}, {\"uid\": \"33\"}]}\n",
       "const config = {\"directed\": false, \"curved\": false, \"selector\": \"#x0b8e4ba38493420aac351a30607d1354\"}\n",
       "console.log(\"Static Network Template\");\n",
       "/* Resources\n",
       "   https://bl.ocks.org/mapio/53fed7d84cd1812d6a6639ed7aa83868\n",
       "   https://codepen.io/smlo/pen/JdMOej\n",
       "*/\n",
       "\n",
       "// variables from the config file\n",
       "const selector = config.selector;\n",
       "const width = config.width || 800;\n",
       "const height = config.height || 600;\n",
       "const charge_distance = config.charge_distance || 400;\n",
       "const charge_force = config.charge_force || -3000;\n",
       "const curved = config.curved || false;\n",
       "const directed = config.directed || false;\n",
       "// const weight = false;\n",
       "\n",
       "/* Create a svg element to display the network */\n",
       "var svg = d3.select(selector)\n",
       "    .append('svg')\n",
       "    .attr('width', width)\n",
       "    .attr('height', height)\n",
       "\n",
       "// add container to store the elements\n",
       "var container = svg.append(\"g\");\n",
       "\n",
       "/*Add zoom function to the container */\n",
       "svg.call(\n",
       "    d3.zoom()\n",
       "        .scaleExtent([.1, 4])\n",
       "        .on(\"zoom\", function() { container.attr(\"transform\", d3.event.transform); })\n",
       ");\n",
       "\n",
       "\n",
       "/*Load nodes and links from the data */\n",
       "var nodes = data.nodes\n",
       "var links = data.edges\n",
       "\n",
       "/*Create arrow head with same color as the edge */\n",
       "function marker (color) {\n",
       "       var reference;\n",
       "       svg.append(\"svg:defs\").selectAll(\"marker\")\n",
       "          .data([reference])\n",
       "          .enter().append(\"svg:marker\")\n",
       "          .attr(\"id\", \"arrow\"+color)\n",
       "          .attr(\"viewBox\", \"0 -5 10 10\")\n",
       "          .attr(\"refX\", 10)\n",
       "          .attr(\"refY\", -0)\n",
       "          .attr(\"markerWidth\", 6)\n",
       "          .attr(\"markerHeight\", 6)\n",
       "          .attr(\"orient\", \"auto\")\n",
       "          .append(\"svg:path\")\n",
       "          .attr('class','.arrow')\n",
       "          .attr(\"d\", \"M0,-5L10,0L0,5\")\n",
       "          .style('opacity',1)\n",
       "          .style(\"fill\", color);\n",
       "       return \"url(#\" + \"arrow\"+color + \")\";\n",
       "     };\n",
       "\n",
       "/*Link creation template */\n",
       "var link = container.append(\"g\").attr(\"class\", \"links\")\n",
       "    .selectAll(\".link\")\n",
       "    .data(links)\n",
       "    .enter()\n",
       "    .append(\"path\")\n",
       "    .attr(\"class\", \"link\")\n",
       "    .style(\"stroke\", function(d) { return d.color; })\n",
       "    .style(\"stroke-opacity\", function(d) { return d.opacity; })\n",
       "    .style(\"stroke-width\", function(d){  return d.size })\n",
       "    .style(\"fill\",\"none\")\n",
       "    .attr(\"marker-end\", function (d) {if(directed){return marker(d.color)}else{return null}; });\n",
       "\n",
       "    //.attr(\"marker-end\", function (d) { return marker(d.color); });\n",
       "    //.attr(\"marker-end\", \"url(#arrow)\");\n",
       "\n",
       "/*Node creation template */\n",
       "var node = container.append(\"g\").attr(\"class\", \"nodes\")\n",
       "    .selectAll(\"circle.node\")\n",
       "    .data(nodes)\n",
       "    .enter().append(\"circle\")\n",
       "    .attr(\"class\", \"node\")\n",
       "    .attr(\"x\", function(d) { return d.x; })\n",
       "    .attr(\"y\", function(d) { return d.y; })\n",
       "    .style(\"r\", function(d){  return d.size+\"px\"; })\n",
       "    .style(\"fill\", function(d) { return d.color; })\n",
       "    .style(\"opacity\", function(d) { return d.opacity; });\n",
       "\n",
       "/*Label creation template */\n",
       "var text = container.append(\"g\").attr(\"class\",\"labels\")\n",
       "    .selectAll(\"g\")\n",
       "    .data(nodes)\n",
       "    .enter().append(\"g\")\n",
       "\n",
       "text.append(\"text\")\n",
       "    .attr(\"class\", \"label-text\")\n",
       "    .attr(\"x\", function(d) {\n",
       "        var r = (d.size === undefined) ? 15 : d.size;\n",
       "        return 5 + r; })\n",
       "    .attr(\"dy\", \".31em\")\n",
       "    .text(function(d) { return d.label; });\n",
       "\n",
       "/*Scale weight for d3js */\n",
       "var weightScale = d3.scaleLinear()\n",
       "    .domain(d3.extent(links, function (d) { return d.weight }))\n",
       "    .range([.1, 1]);\n",
       "\n",
       "/*Simulation of the forces*/\n",
       "var simulation = d3.forceSimulation(nodes)\n",
       "    .force(\"links\", d3.forceLink(links)\n",
       "           .id(function(d) {return d.uid; })\n",
       "           .distance(50)\n",
       "           .strength(function(d){return weightScale(d.weight);})\n",
       "          )\n",
       "    .force(\"charge\", d3.forceManyBody()\n",
       "           .strength(charge_force)\n",
       "           .distanceMax(charge_distance)\n",
       "          )\n",
       "    .force(\"center\", d3.forceCenter(width / 2, height / 2))\n",
       "    .on(\"tick\", ticked);\n",
       "\n",
       "/*Update of the node and edge objects*/\n",
       "function ticked() {\n",
       "    node.call(updateNode);\n",
       "    link.call(updateLink);\n",
       "    text.call(updateText);\n",
       "};\n",
       "\n",
       "/*Update link positions */\n",
       "function updateLink(link) {\n",
       "    // link\n",
       "    //     .attr(\"x1\", function(d) { return d.source.x; })\n",
       "    //     .attr(\"y1\", function(d) { return d.source.y; })\n",
       "    //     .attr(\"x2\", function(d) { return d.target.x; })\n",
       "    //     .attr(\"y2\", function(d) { return d.target.y; });\n",
       "\n",
       "\n",
       "    link.attr(\"d\", function(d) {\n",
       "        var dx = d.target.x - d.source.x,\n",
       "            dy = d.target.y - d.source.y,\n",
       "            dr = Math.sqrt(dx * dx + dy * dy);\n",
       "        if(!curved)dr=0;\n",
       "        return \"M\" +\n",
       "            d.source.x + \",\" +\n",
       "            d.source.y + \"A\" +\n",
       "            dr + \",\" + dr + \" 0 0,1 \" +\n",
       "            d.target.x + \",\" +\n",
       "            d.target.y;\n",
       "    });\n",
       "\n",
       "    // recalculate and back off the distance\n",
       "    link.attr(\"d\", function (d, i) {\n",
       "        var pl = this.getTotalLength();\n",
       "        var r = (d.target.size === undefined) ? 15 : d.target.size;\n",
       "        var m = this.getPointAtLength(pl - r);\n",
       "        var dx = d.target.x - d.source.x,\n",
       "            dy = d.target.y - d.source.y,\n",
       "            dr = Math.sqrt(dx * dx + dy * dy);\n",
       "        if(!curved)dr=0;\n",
       "        var result = \"M\" + d.source.x + \",\" + d.source.y + \"A\" + dr + \",\" + dr + \" 0 0,1 \" + m.x + \",\" + m.y;\n",
       "        return result;\n",
       "    });\n",
       "};\n",
       "\n",
       "\n",
       "/*Update node positions */\n",
       "function updateNode(node) {\n",
       "    node.attr(\"transform\", function(d) {\n",
       "        return \"translate(\" + d.x + \",\" + d.y + \")\";\n",
       "    });\n",
       "    // node\n",
       "    //     .attr(\"cx\", function(d) { return d.x; })\n",
       "    //     .attr(\"cy\", function(d) { return d.y; });\n",
       "};\n",
       "\n",
       "/*Update text positions */\n",
       "function updateText(text) {\n",
       "    text.attr(\"transform\", function(d) {\n",
       "        return \"translate(\" + d.x + \",\" + d.y + \")\";\n",
       "    });\n",
       "};\n",
       "\n",
       "/*Add drag functionality to the node objects*/\n",
       "node.call(\n",
       "    d3.drag()\n",
       "        .on(\"start\", dragstarted)\n",
       "        .on(\"drag\", dragged)\n",
       "        .on(\"end\", dragended)\n",
       ");\n",
       "\n",
       "function dragstarted(d) {\n",
       "    d3.event.sourceEvent.stopPropagation();\n",
       "    if (!d3.event.active) simulation.alphaTarget(0.3).restart();\n",
       "    d.fx = d.x;\n",
       "    d.fy = d.y;\n",
       "};\n",
       "\n",
       "function dragged(d) {\n",
       "    d.fx = d3.event.x;\n",
       "    d.fy = d3.event.y;\n",
       "};\n",
       "\n",
       "function dragended(d) {\n",
       "    if (!d3.event.active) simulation.alphaTarget(0);\n",
       "    d.fx = null;\n",
       "    d.fy = null;\n",
       "};\n",
       "\n",
       "}); //END\n",
       "\n",
       "</script>"
      ]
     },
     "metadata": {},
     "output_type": "display_data"
    },
    {
     "data": {
      "text/plain": [
       "<pathpyG.visualisations.network_plots.StaticNetworkPlot at 0x7f0f60b3c640>"
      ]
     },
     "execution_count": 41,
     "metadata": {},
     "output_type": "execute_result"
    }
   ],
   "source": [
    "karate = pp.io.read_netzschleuder_network('karate', '77')\n",
    "\n",
    "pp.plot(karate)"
   ]
  },
  {
   "cell_type": "code",
   "execution_count": 42,
   "metadata": {},
   "outputs": [
    {
     "name": "stderr",
     "output_type": "stream",
     "text": [
      "100%|██████████| 100/100 [00:00<00:00, 3909.39it/s]\n"
     ]
    }
   ],
   "source": [
    "rw = pp.processes.RandomWalk(karate)\n",
    "data = rw.run_experiment(runs=100, steps=5)\n",
    "walks = rw.get_paths(data)\n",
    "walks = [[j.item() for j in walks.get_walk(i)] for i in range(walks.num_paths)]"
   ]
  },
  {
   "cell_type": "code",
   "execution_count": 43,
   "metadata": {},
   "outputs": [],
   "source": [
    "vocab = build_vocabulary(walks)\n",
    "pairs = build_word_context_pairs(walks, window_size=2)"
   ]
  },
  {
   "cell_type": "code",
   "execution_count": 45,
   "metadata": {},
   "outputs": [],
   "source": [
    "model = SkipGram(embedding_dim=5, vocab_size=len(vocab)).to(device)\n",
    "loss_function = torch.nn.BCELoss()\n",
    "optimizer = optim.Adam(model.parameters())"
   ]
  },
  {
   "cell_type": "code",
   "execution_count": 47,
   "metadata": {},
   "outputs": [
    {
     "name": "stderr",
     "output_type": "stream",
     "text": [
      "100%|██████████| 50/50 [01:10<00:00,  1.42s/it]\n"
     ]
    },
    {
     "data": {
      "text/plain": [
       "[<matplotlib.lines.Line2D at 0x7f0f9735fca0>]"
      ]
     },
     "execution_count": 47,
     "metadata": {},
     "output_type": "execute_result"
    },
    {
     "data": {
      "image/png": "[encoded data removed]",
      "text/plain": [
       "<Figure size 640x480 with 1 Axes>"
      ]
     },
     "metadata": {},
     "output_type": "display_data"
    }
   ],
   "source": [
    "epochs = 50\n",
    "losses = []\n",
    "for i in tqdm(range(epochs)):\n",
    "    l = 0\n",
    "    for center, context in pairs:\n",
    "        model.zero_grad()\n",
    "        prob = model.forward(get_ohe(center, vocab))\n",
    "        loss = loss_function(prob, get_ohe(context, vocab).float())\n",
    "        loss.backward()\n",
    "        optimizer.step()        \n",
    "        l += loss.data.to('cpu')\n",
    "\n",
    "    losses.append(l/len(pairs))\n",
    "plt.plot(range(epochs), losses)"
   ]
  },
  {
   "cell_type": "code",
   "execution_count": 48,
   "metadata": {},
   "outputs": [],
   "source": [
    "svd = TruncatedSVD()\n",
    "low_dim = svd.fit_transform(np.array([ get_embedding(w, model, vocab).detach().cpu().numpy() for w in vocab]))"
   ]
  },
  {
   "cell_type": "code",
   "execution_count": 49,
   "metadata": {},
   "outputs": [],
   "source": [
    "colors = {}\n",
    "for v in vocab:\n",
    "    if karate.data.node_groups[v][0] == 1:\n",
    "        colors[v] = 'orange'\n",
    "    else:\n",
    "        colors[v] = 'blue'"
   ]
  },
  {
   "cell_type": "code",
   "execution_count": 50,
   "metadata": {},
   "outputs": [
    {
     "data": {
      "image/png": "[encoded data removed]",
      "text/plain": [
       "<Figure size 640x480 with 1 Axes>"
      ]
     },
     "metadata": {},
     "output_type": "display_data"
    }
   ],
   "source": [
    "fig, ax = plt.subplots()\n",
    "ax.scatter(low_dim[:,0], low_dim[:,1], c=[colors[v] for v in vocab])\n",
    "\n",
    "for i, txt in enumerate(vocab):\n",
    "    ax.annotate(txt, (low_dim[i,0], low_dim[i,1]))"
   ]
  }
 ],
 "metadata": {
  "kernelspec": {
   "display_name": "Python 3 (ipykernel)",
   "language": "python",
   "name": "python3"
  },
  "orig_nbformat": 4,
  "vscode": {
   "interpreter": {
    "hash": "ad2bdc8ecc057115af97d19610ffacc2b4e99fae6737bb82f5d7fb13d2f2c186"
   }
  }
 },
 "nbformat": 4,
 "nbformat_minor": 2
}
