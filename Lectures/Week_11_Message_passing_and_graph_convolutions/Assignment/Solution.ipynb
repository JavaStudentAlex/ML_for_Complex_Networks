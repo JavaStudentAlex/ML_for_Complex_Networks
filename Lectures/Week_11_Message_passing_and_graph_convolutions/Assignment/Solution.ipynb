{
 "cells": [
  {
   "cell_type": "markdown",
   "metadata": {},
   "source": [
    "## 1. Convolutional Neural Network\n",
    "\n",
    "#### Task a\n",
    "Implement a padding function that takes in a matrix of any size (representing a picture), the\n",
    "padding size and returns the padded matrix."
   ]
  },
  {
   "cell_type": "code",
   "execution_count": 1,
   "metadata": {},
   "outputs": [],
   "source": [
    "import torch\n",
    "import numpy as np\n",
    "from tqdm import tqdm\n",
    "import matplotlib.pyplot as plt\n",
    "from tqdm import tqdm\n",
    "from torchvision import datasets\n",
    "from torch.utils.data import DataLoader\n",
    "from torchvision.transforms import ToTensor"
   ]
  },
  {
   "cell_type": "code",
   "execution_count": 2,
   "metadata": {},
   "outputs": [],
   "source": [
    "def pad_matrix(matrix, padding_size):\n",
    "    rows, cols = matrix.shape\n",
    "    \n",
    "    padded_rows = rows + 2 * padding_size\n",
    "    padded_cols = cols + 2 * padding_size\n",
    "    \n",
    "    padded_matrix = np.zeros((padded_rows, padded_cols))\n",
    "    \n",
    "    padded_matrix[padding_size:padded_rows-padding_size, padding_size:padded_cols-padding_size] = matrix\n",
    "    \n",
    "    return padded_matrix"
   ]
  },
  {
   "cell_type": "code",
   "execution_count": 3,
   "metadata": {},
   "outputs": [
    {
     "data": {
      "text/plain": [
       "array([[0., 0., 0., 0., 0., 0., 0.],\n",
       "       [0., 0., 0., 0., 0., 0., 0.],\n",
       "       [0., 0., 1., 2., 3., 0., 0.],\n",
       "       [0., 0., 4., 5., 6., 0., 0.],\n",
       "       [0., 0., 7., 8., 9., 0., 0.],\n",
       "       [0., 0., 0., 0., 0., 0., 0.],\n",
       "       [0., 0., 0., 0., 0., 0., 0.]])"
      ]
     },
     "execution_count": 3,
     "metadata": {},
     "output_type": "execute_result"
    }
   ],
   "source": [
    "matrix = np.array([[1, 2, 3],\n",
    "                   [4, 5, 6],\n",
    "                   [7, 8, 9]])\n",
    "\n",
    "\n",
    "padding_size = 2\n",
    "\n",
    "\n",
    "padded_matrix = pad_matrix(matrix, padding_size)\n",
    "padded_matrix"
   ]
  },
  {
   "cell_type": "markdown",
   "metadata": {},
   "source": [
    "#### Task b\n",
    "\n",
    "Implement 2 different models and compare by visualising the loss function (all in the same plot). The data set to be used is the digit recognition MNIST dataset. Models to be compared are in subtasks a and b. The choice of activation and optimization functions are left to the student. The number of\n",
    "epochs for each model is 300.\n",
    "\n",
    "###### Subtask a\n",
    "Flatten all the pictures and feed them to an MLP model to classify the dataset. The MLP model should have 3 hidden layers of different sizes."
   ]
  },
  {
   "cell_type": "code",
   "execution_count": 5,
   "metadata": {},
   "outputs": [
    {
     "data": {
      "text/plain": [
       "device(type='cuda')"
      ]
     },
     "execution_count": 5,
     "metadata": {},
     "output_type": "execute_result"
    }
   ],
   "source": [
    "device = torch.device('cuda' if torch.cuda.is_available() else 'cpu')\n",
    "device"
   ]
  },
  {
   "cell_type": "code",
   "execution_count": 6,
   "metadata": {},
   "outputs": [
    {
     "name": "stdout",
     "output_type": "stream",
     "text": [
      "Downloading http://yann.lecun.com/exdb/mnist/train-images-idx3-ubyte.gz\n",
      "Downloading http://yann.lecun.com/exdb/mnist/train-images-idx3-ubyte.gz to data/MNIST/raw/train-images-idx3-ubyte.gz\n"
     ]
    },
    {
     "name": "stderr",
     "output_type": "stream",
     "text": [
      "100%|██████████| 9912422/9912422 [00:00<00:00, 100991831.51it/s]"
     ]
    },
    {
     "name": "stdout",
     "output_type": "stream",
     "text": [
      "Extracting data/MNIST/raw/train-images-idx3-ubyte.gz to data/MNIST/raw\n"
     ]
    },
    {
     "name": "stderr",
     "output_type": "stream",
     "text": [
      "\n"
     ]
    },
    {
     "name": "stdout",
     "output_type": "stream",
     "text": [
      "\n",
      "Downloading http://yann.lecun.com/exdb/mnist/train-labels-idx1-ubyte.gz\n",
      "Downloading http://yann.lecun.com/exdb/mnist/train-labels-idx1-ubyte.gz to data/MNIST/raw/train-labels-idx1-ubyte.gz\n"
     ]
    },
    {
     "name": "stderr",
     "output_type": "stream",
     "text": [
      "100%|██████████| 28881/28881 [00:00<00:00, 71847979.73it/s]"
     ]
    },
    {
     "name": "stdout",
     "output_type": "stream",
     "text": [
      "Extracting data/MNIST/raw/train-labels-idx1-ubyte.gz to data/MNIST/raw\n",
      "\n",
      "Downloading http://yann.lecun.com/exdb/mnist/t10k-images-idx3-ubyte.gz\n"
     ]
    },
    {
     "name": "stderr",
     "output_type": "stream",
     "text": [
      "\n"
     ]
    },
    {
     "name": "stdout",
     "output_type": "stream",
     "text": [
      "Downloading http://yann.lecun.com/exdb/mnist/t10k-images-idx3-ubyte.gz to data/MNIST/raw/t10k-images-idx3-ubyte.gz\n"
     ]
    },
    {
     "name": "stderr",
     "output_type": "stream",
     "text": [
      "100%|██████████| 1648877/1648877 [00:00<00:00, 58701779.05it/s]\n"
     ]
    },
    {
     "name": "stdout",
     "output_type": "stream",
     "text": [
      "Extracting data/MNIST/raw/t10k-images-idx3-ubyte.gz to data/MNIST/raw\n",
      "\n",
      "Downloading http://yann.lecun.com/exdb/mnist/t10k-labels-idx1-ubyte.gz\n",
      "Downloading http://yann.lecun.com/exdb/mnist/t10k-labels-idx1-ubyte.gz to data/MNIST/raw/t10k-labels-idx1-ubyte.gz\n"
     ]
    },
    {
     "name": "stderr",
     "output_type": "stream",
     "text": [
      "100%|██████████| 4542/4542 [00:00<00:00, 9714701.05it/s]"
     ]
    },
    {
     "name": "stdout",
     "output_type": "stream",
     "text": [
      "Extracting data/MNIST/raw/t10k-labels-idx1-ubyte.gz to data/MNIST/raw\n",
      "\n"
     ]
    },
    {
     "name": "stderr",
     "output_type": "stream",
     "text": [
      "\n"
     ]
    },
    {
     "data": {
      "text/plain": [
       "torch.Size([60000, 28, 28])"
      ]
     },
     "execution_count": 6,
     "metadata": {},
     "output_type": "execute_result"
    }
   ],
   "source": [
    "train_dataset = datasets.MNIST(\n",
    "    root = 'data',\n",
    "    train = True,                         \n",
    "    transform = ToTensor(), \n",
    "    download = True,            \n",
    ")\n",
    "train_dataset.data.size()"
   ]
  },
  {
   "cell_type": "code",
   "execution_count": 7,
   "metadata": {},
   "outputs": [
    {
     "data": {
      "image/png": "[encoded data removed]",
      "text/plain": [
       "<Figure size 1000x800 with 25 Axes>"
      ]
     },
     "metadata": {},
     "output_type": "display_data"
    }
   ],
   "source": [
    "figure = plt.figure(figsize=(10, 8))\n",
    "cols, rows = 5, 5\n",
    "for i in range(1, cols * rows + 1):\n",
    "    sample_idx = torch.randint(len(train_dataset), size=(1,)).item()\n",
    "    img, label = train_dataset[sample_idx]\n",
    "    figure.add_subplot(rows, cols, i)\n",
    "    plt.title(label)\n",
    "    plt.axis(\"off\")\n",
    "    plt.imshow(img.squeeze(), cmap=\"gray\")\n",
    "plt.show()"
   ]
  },
  {
   "cell_type": "code",
   "execution_count": 8,
   "metadata": {},
   "outputs": [
    {
     "data": {
      "text/plain": [
       "<torch.utils.data.dataloader.DataLoader at 0x7f1719dd36a0>"
      ]
     },
     "execution_count": 8,
     "metadata": {},
     "output_type": "execute_result"
    }
   ],
   "source": [
    "train_data = DataLoader(train_dataset, batch_size=64, shuffle=True)\n",
    "train_data"
   ]
  },
  {
   "cell_type": "code",
   "execution_count": 9,
   "metadata": {},
   "outputs": [
    {
     "data": {
      "text/plain": [
       "784"
      ]
     },
     "execution_count": 9,
     "metadata": {},
     "output_type": "execute_result"
    }
   ],
   "source": [
    "flatten_data_size = train_dataset.data.size(1) * train_dataset.data.size(2)\n",
    "flatten_data_size"
   ]
  },
  {
   "cell_type": "code",
   "execution_count": 10,
   "metadata": {},
   "outputs": [
    {
     "data": {
      "text/plain": [
       "Sequential(\n",
       "  (0): Flatten(start_dim=1, end_dim=-1)\n",
       "  (1): Linear(in_features=784, out_features=128, bias=True)\n",
       "  (2): ReLU()\n",
       "  (3): Linear(in_features=128, out_features=32, bias=True)\n",
       "  (4): ReLU()\n",
       "  (5): Linear(in_features=32, out_features=16, bias=True)\n",
       "  (6): ReLU()\n",
       "  (7): Linear(in_features=16, out_features=10, bias=True)\n",
       "  (8): Softmax(dim=1)\n",
       ")"
      ]
     },
     "execution_count": 10,
     "metadata": {},
     "output_type": "execute_result"
    }
   ],
   "source": [
    "network = torch.nn.Sequential(\n",
    "    torch.nn.Flatten(),\n",
    "    torch.nn.Linear(flatten_data_size, 128),\n",
    "    torch.nn.ReLU(),\n",
    "    torch.nn.Linear(128, 32),\n",
    "    torch.nn.ReLU(),\n",
    "    torch.nn.Linear(32, 16),\n",
    "    torch.nn.ReLU(),\n",
    "    torch.nn.Linear(16, 10),\n",
    "    torch.nn.Softmax(dim=1)\n",
    ").to(device)\n",
    "network"
   ]
  },
  {
   "cell_type": "code",
   "execution_count": 11,
   "metadata": {},
   "outputs": [],
   "source": [
    "loss = torch.nn.CrossEntropyLoss()\n",
    "optimizer = torch.optim.Adam(network.parameters(), lr=1e-3)"
   ]
  },
  {
   "cell_type": "code",
   "execution_count": 12,
   "metadata": {},
   "outputs": [
    {
     "name": "stderr",
     "output_type": "stream",
     "text": [
      "100%|██████████| 300/300 [29:15<00:00,  5.85s/it]\n"
     ]
    }
   ],
   "source": [
    "network.train()\n",
    "first_model_epochs_losses = []\n",
    "for epoch in tqdm(range(300)):\n",
    "    epoch_losses = []\n",
    "    for batch_idx, (data, target) in enumerate(train_data):\n",
    "        data = data.to(device)\n",
    "        target = target.to(device)\n",
    "        optimizer.zero_grad()\n",
    "        output = network(data)\n",
    "        loss_value = loss(output, target)\n",
    "        epoch_losses.append(loss_value.item())\n",
    "        loss_value.backward()\n",
    "        optimizer.step()\n",
    "    first_model_epochs_losses.append(np.mean(epoch_losses))"
   ]
  },
  {
   "cell_type": "markdown",
   "metadata": {},
   "source": [
    "###### Ssubtask b\n",
    "\n",
    "Make use of Conv2d layer to implement a model with 2 different hidden layers, a pooling\n",
    "layer after each conv layer and lastly flatten the pictures to be feed to a linear layer."
   ]
  },
  {
   "cell_type": "code",
   "execution_count": 19,
   "metadata": {},
   "outputs": [
    {
     "data": {
      "text/plain": [
       "Sequential(\n",
       "  (0): Conv2d(1, 16, kernel_size=(5, 5), stride=(1, 1), padding=(2, 2))\n",
       "  (1): ReLU()\n",
       "  (2): MaxPool2d(kernel_size=2, stride=2, padding=0, dilation=1, ceil_mode=False)\n",
       "  (3): Conv2d(16, 32, kernel_size=(5, 5), stride=(1, 1), padding=(2, 2))\n",
       "  (4): ReLU()\n",
       "  (5): MaxPool2d(kernel_size=2, stride=2, padding=0, dilation=1, ceil_mode=False)\n",
       "  (6): Flatten(start_dim=1, end_dim=-1)\n",
       "  (7): Linear(in_features=1568, out_features=10, bias=True)\n",
       "  (8): Softmax(dim=1)\n",
       ")"
      ]
     },
     "execution_count": 19,
     "metadata": {},
     "output_type": "execute_result"
    }
   ],
   "source": [
    "network_1 = torch.nn.Sequential(\n",
    "    torch.nn.Conv2d(1, 16, 5, 1, 2),\n",
    "    torch.nn.ReLU(),\n",
    "    torch.nn.MaxPool2d(2),\n",
    "    torch.nn.Conv2d(16, 32, 5, 1, 2),\n",
    "    torch.nn.ReLU(),\n",
    "    torch.nn.MaxPool2d(2),\n",
    "    torch.nn.Flatten(),\n",
    "    torch.nn.Linear(32 * 7 * 7, 10),\n",
    "    torch.nn.Softmax(dim=1)\n",
    ").to(device)\n",
    "network_1"
   ]
  },
  {
   "cell_type": "code",
   "execution_count": 20,
   "metadata": {},
   "outputs": [],
   "source": [
    "loss_1 = torch.nn.CrossEntropyLoss()\n",
    "optimizer_1 = torch.optim.Adam(network_1.parameters(), lr=1e-3)"
   ]
  },
  {
   "cell_type": "code",
   "execution_count": 21,
   "metadata": {},
   "outputs": [
    {
     "name": "stderr",
     "output_type": "stream",
     "text": [
      "100%|██████████| 300/300 [31:16<00:00,  6.26s/it]\n"
     ]
    }
   ],
   "source": [
    "network_1.train()\n",
    "second_model_epochs_losses = []\n",
    "for epoch in tqdm(range(300)):\n",
    "    epoch_losses = []\n",
    "    for batch_idx, (data, target) in enumerate(train_data):\n",
    "        data = data.to(device)\n",
    "        target = target.to(device)\n",
    "        optimizer_1.zero_grad()\n",
    "        output = network_1(data)\n",
    "        loss_value = loss_1(output, target)\n",
    "        epoch_losses.append(loss_value.item())\n",
    "        loss_value.backward()\n",
    "        optimizer_1.step()\n",
    "    second_model_epochs_losses.append(np.mean(epoch_losses))"
   ]
  },
  {
   "cell_type": "code",
   "execution_count": 38,
   "metadata": {},
   "outputs": [
    {
     "data": {
      "application/vnd.plotly.v1+json": {
       "config": {
        "plotlyServerURL": "https://plot.ly"
       },
       "data": [
        {
         "name": "Dense network",
         "type": "scatter",
         "x": [
          0,
          1,
          2,
          3,
          4,
          5,
          6,
          7,
          8,
          9,
          10,
          11,
          12,
          13,
          14,
          15,
          16,
          17,
          18,
          19,
          20,
          21,
          22,
          23,
          24,
          25,
          26,
          27,
          28,
          29,
          30,
          31,
          32,
          33,
          34,
          35,
          36,
          37,
          38,
          39,
          40,
          41,
          42,
          43,
          44,
          45,
          46,
          47,
          48,
          49,
          50,
          51,
          52,
          53,
          54,
          55,
          56,
          57,
          58,
          59,
          60,
          61,
          62,
          63,
          64,
          65,
          66,
          67,
          68,
          69,
          70,
          71,
          72,
          73,
          74,
          75,
          76,
          77,
          78,
          79,
          80,
          81,
          82,
          83,
          84,
          85,
          86,
          87,
          88,
          89,
          90,
          91,
          92,
          93,
          94,
          95,
          96,
          97,
          98,
          99,
          100,
          101,
          102,
          103,
          104,
          105,
          106,
          107,
          108,
          109,
          110,
          111,
          112,
          113,
          114,
          115,
          116,
          117,
          118,
          119,
          120,
          121,
          122,
          123,
          124,
          125,
          126,
          127,
          128,
          129,
          130,
          131,
          132,
          133,
          134,
          135,
          136,
          137,
          138,
          139,
          140,
          141,
          142,
          143,
          144,
          145,
          146,
          147,
          148,
          149,
          150,
          151,
          152,
          153,
          154,
          155,
          156,
          157,
          158,
          159,
          160,
          161,
          162,
          163,
          164,
          165,
          166,
          167,
          168,
          169,
          170,
          171,
          172,
          173,
          174,
          175,
          176,
          177,
          178,
          179,
          180,
          181,
          182,
          183,
          184,
          185,
          186,
          187,
          188,
          189,
          190,
          191,
          192,
          193,
          194,
          195,
          196,
          197,
          198,
          199,
          200,
          201,
          202,
          203,
          204,
          205,
          206,
          207,
          208,
          209,
          210,
          211,
          212,
          213,
          214,
          215,
          216,
          217,
          218,
          219,
          220,
          221,
          222,
          223,
          224,
          225,
          226,
          227,
          228,
          229,
          230,
          231,
          232,
          233,
          234,
          235,
          236,
          237,
          238,
          239,
          240,
          241,
          242,
          243,
          244,
          245,
          246,
          247,
          248,
          249,
          250,
          251,
          252,
          253,
          254,
          255,
          256,
          257,
          258,
          259,
          260,
          261,
          262,
          263,
          264,
          265,
          266,
          267,
          268,
          269,
          270,
          271,
          272,
          273,
          274,
          275,
          276,
          277,
          278,
          279,
          280,
          281,
          282,
          283,
          284,
          285,
          286,
          287,
          288,
          289,
          290,
          291,
          292,
          293,
          294,
          295,
          296,
          297,
          298,
          299
         ],
         "y": [
          1.7000184182419198,
          1.5977501561646776,
          1.5304801556855632,
          1.5135071032337035,
          1.5046250145318412,
          1.4992376529077478,
          1.4953341583199085,
          1.4914459206147996,
          1.4885778636820535,
          1.4867041225372346,
          1.484506061971823,
          1.4834775759467185,
          1.4811163589135925,
          1.4807783184783545,
          1.4801454709282815,
          1.4788956774323225,
          1.4776912370978643,
          1.477742002208604,
          1.4770904869667247,
          1.475894399924573,
          1.4754001449928609,
          1.4753743806627513,
          1.4748565705854502,
          1.4749581737558979,
          1.4748583537683304,
          1.4737388795372774,
          1.4740393550665394,
          1.473620418927817,
          1.4730693189574202,
          1.4735557126846395,
          1.4731761789016886,
          1.472997444016593,
          1.4727458653927865,
          1.4723199893162449,
          1.4733138336047436,
          1.472421420154287,
          1.4720070941615968,
          1.4714547480855669,
          1.4717319830140072,
          1.4716227041887069,
          1.470899641259647,
          1.471309432978315,
          1.4720628682230072,
          1.4717674733224961,
          1.471998360111261,
          1.4708490337390128,
          1.4705761610063663,
          1.4709921852866215,
          1.470538528107885,
          1.4705626170264123,
          1.4700557214619001,
          1.470456387696744,
          1.4698087954317838,
          1.4702454388522899,
          1.4709441020036302,
          1.4704787433782875,
          1.4697023051888196,
          1.4700143286414238,
          1.4697370126303324,
          1.4702490232646592,
          1.470152578374216,
          1.4690037466315573,
          1.4697615640249841,
          1.4708340653478464,
          1.46915217147453,
          1.4697757979700052,
          1.4699241314361344,
          1.4697566658957426,
          1.469523482231189,
          1.4695238882798884,
          1.4695013426005967,
          1.4705801048258473,
          1.4685655209555555,
          1.4693220023915712,
          1.468489400994803,
          1.4697110665632462,
          1.4693173461123061,
          1.4690599525406924,
          1.4692932127127007,
          1.469498848610087,
          1.4688689460886566,
          1.4696535821408352,
          1.4697093019353302,
          1.4688757200485099,
          1.4691316646807737,
          1.4688926346774802,
          1.4688637152409503,
          1.4687879850615317,
          1.4698844147897732,
          1.4693704950275706,
          1.4683924280504175,
          1.4685256270203255,
          1.4680370603288924,
          1.4686441164789423,
          1.4680756427077597,
          1.4681856913098903,
          1.4687524149412794,
          1.4683885734472701,
          1.4689254211718594,
          1.4691992332177883,
          1.4680213818926293,
          1.4688173556632833,
          1.4686735000437512,
          1.468016111901574,
          1.468556782838378,
          1.4677943467839694,
          1.469168517126966,
          1.4690524367635438,
          1.4682328770918125,
          1.4684580085374146,
          1.4677894246349457,
          1.4677603721364474,
          1.4693775920471404,
          1.4683119854184865,
          1.4701486725542845,
          1.4679028309230358,
          1.4675650379296814,
          1.4688861254435868,
          1.4670575163257655,
          1.4681461182738673,
          1.4696029174302432,
          1.4676017135953598,
          1.4685545005778005,
          1.4681696182629194,
          1.4690586345028014,
          1.4691812163477005,
          1.468590270608727,
          1.4688582364430052,
          1.4674292222014877,
          1.4688215318010813,
          1.468378787101713,
          1.4675877832654696,
          1.4674955603918796,
          1.4682567668621982,
          1.4680473242741403,
          1.4689786315981004,
          1.4680374701902557,
          1.4682701382555687,
          1.4669576167806124,
          1.468459437269646,
          1.4676693090751989,
          1.4681129046340486,
          1.4685075495288824,
          1.468243697558893,
          1.4681933709044954,
          1.467232557120862,
          1.4678349164503215,
          1.468366222468012,
          1.467211883586607,
          1.4692641731772595,
          1.4681764162425548,
          1.4704027036105647,
          1.4693425475661435,
          1.469233239764598,
          1.4684713595965777,
          1.4679684839777347,
          1.4689112111195317,
          1.4676335320543887,
          1.467772504032802,
          1.4686473710958892,
          1.4679810020969366,
          1.4678483994276539,
          1.4678912687657484,
          1.4672087367409583,
          1.4687237520970262,
          1.4690139821089152,
          1.4681771341671568,
          1.4683656925077377,
          1.4672619767788886,
          1.4681235542937892,
          1.4677945844400158,
          1.4676700217891603,
          1.466923721690676,
          1.4677430410374965,
          1.4670960976879226,
          1.4678013159522116,
          1.4679820683719254,
          1.4674040108347244,
          1.467304512890163,
          1.4681385566176637,
          1.468442287653494,
          1.468187298347701,
          1.467744139593039,
          1.4667685294964674,
          1.467095221537771,
          1.4678911824724568,
          1.4681449962068978,
          1.4673694287027632,
          1.468524728502546,
          1.4687561202150927,
          1.4675221638893015,
          1.4675343065882034,
          1.4678087725059819,
          1.4691148998894925,
          1.467642679651663,
          1.4693871226900421,
          1.4689089568184892,
          1.469553268794566,
          1.4681884260065774,
          1.4688991140455072,
          1.46816263930884,
          1.4691707274552857,
          1.467343861741552,
          1.4691564461061442,
          1.4680092648656637,
          1.467673169905697,
          1.4671107322168249,
          1.468287007005484,
          1.4684773553917403,
          1.4689335708679168,
          1.468557820518388,
          1.4699372594544629,
          1.4680996765968388,
          1.4684676250923416,
          1.4681927092802296,
          1.4679876365132931,
          1.4688139485397826,
          1.4689168548787326,
          1.4686858041454225,
          1.4679022655049876,
          1.4698044470886686,
          1.4682707955588157,
          1.4670405654764886,
          1.4674533932193765,
          1.4680280009312416,
          1.468547848877368,
          1.467862268500745,
          1.4683175083162434,
          1.4697478295389268,
          1.4677377339365132,
          1.4696840984480721,
          1.4694117307662964,
          1.4676707855928173,
          1.469740289106552,
          1.4685671543007466,
          1.46825677194575,
          1.4695445226707946,
          1.4702064158565709,
          1.4700964494808904,
          1.4686121175538247,
          1.4689318231428101,
          1.4697056806672102,
          1.4684052691022471,
          1.4687175746919758,
          1.469218251928846,
          1.4694289792575308,
          1.4689117489593115,
          1.4691409072133779,
          1.4680606879150944,
          1.4692085065058809,
          1.4677293130329676,
          1.4680990790253254,
          1.4678531996985233,
          1.4677700260554805,
          1.4671373814662128,
          1.468049651015796,
          1.4682520312795253,
          1.4705438926530037,
          1.4680458816892303,
          1.4697619778261002,
          1.4673185179482644,
          1.4690839696540507,
          1.4691709704490612,
          1.468491878209592,
          1.4684567121046184,
          1.468424991249784,
          1.468406405784428,
          1.4676373241298488,
          1.4677508664029493,
          1.4706737724448573,
          1.4681256310517854,
          1.4681727705733862,
          1.4680956295812562,
          1.467284310092804,
          1.46790589808401,
          1.4673660998659601,
          1.468440273296096,
          1.469425160239246,
          1.4695219641555346,
          1.4671320322988384,
          1.4673885356134444,
          1.46857016566974,
          1.468458696977416,
          1.4690806581013238,
          1.4682959848121284,
          1.4680226044868356,
          1.4678668729277815,
          1.468659238901728,
          1.4683605088099743,
          1.4682473103120637,
          1.4674421228579622,
          1.4668482900428366,
          1.4676176999677728,
          1.4669887654816927,
          1.4670293760706368,
          1.46955180257114,
          1.4698045378300681,
          1.4680859845584389,
          1.4688028768181547,
          1.4687399350758046
         ]
        },
        {
         "name": "CNN",
         "type": "scatter",
         "x": [
          0,
          1,
          2,
          3,
          4,
          5,
          6,
          7,
          8,
          9,
          10,
          11,
          12,
          13,
          14,
          15,
          16,
          17,
          18,
          19,
          20,
          21,
          22,
          23,
          24,
          25,
          26,
          27,
          28,
          29,
          30,
          31,
          32,
          33,
          34,
          35,
          36,
          37,
          38,
          39,
          40,
          41,
          42,
          43,
          44,
          45,
          46,
          47,
          48,
          49,
          50,
          51,
          52,
          53,
          54,
          55,
          56,
          57,
          58,
          59,
          60,
          61,
          62,
          63,
          64,
          65,
          66,
          67,
          68,
          69,
          70,
          71,
          72,
          73,
          74,
          75,
          76,
          77,
          78,
          79,
          80,
          81,
          82,
          83,
          84,
          85,
          86,
          87,
          88,
          89,
          90,
          91,
          92,
          93,
          94,
          95,
          96,
          97,
          98,
          99,
          100,
          101,
          102,
          103,
          104,
          105,
          106,
          107,
          108,
          109,
          110,
          111,
          112,
          113,
          114,
          115,
          116,
          117,
          118,
          119,
          120,
          121,
          122,
          123,
          124,
          125,
          126,
          127,
          128,
          129,
          130,
          131,
          132,
          133,
          134,
          135,
          136,
          137,
          138,
          139,
          140,
          141,
          142,
          143,
          144,
          145,
          146,
          147,
          148,
          149,
          150,
          151,
          152,
          153,
          154,
          155,
          156,
          157,
          158,
          159,
          160,
          161,
          162,
          163,
          164,
          165,
          166,
          167,
          168,
          169,
          170,
          171,
          172,
          173,
          174,
          175,
          176,
          177,
          178,
          179,
          180,
          181,
          182,
          183,
          184,
          185,
          186,
          187,
          188,
          189,
          190,
          191,
          192,
          193,
          194,
          195,
          196,
          197,
          198,
          199,
          200,
          201,
          202,
          203,
          204,
          205,
          206,
          207,
          208,
          209,
          210,
          211,
          212,
          213,
          214,
          215,
          216,
          217,
          218,
          219,
          220,
          221,
          222,
          223,
          224,
          225,
          226,
          227,
          228,
          229,
          230,
          231,
          232,
          233,
          234,
          235,
          236,
          237,
          238,
          239,
          240,
          241,
          242,
          243,
          244,
          245,
          246,
          247,
          248,
          249,
          250,
          251,
          252,
          253,
          254,
          255,
          256,
          257,
          258,
          259,
          260,
          261,
          262,
          263,
          264,
          265,
          266,
          267,
          268,
          269,
          270,
          271,
          272,
          273,
          274,
          275,
          276,
          277,
          278,
          279,
          280,
          281,
          282,
          283,
          284,
          285,
          286,
          287,
          288,
          289,
          290,
          291,
          292,
          293,
          294,
          295,
          296,
          297,
          298,
          299
         ],
         "y": [
          1.6129431119605677,
          1.4890446978083043,
          1.4822788873969366,
          1.4782983837351362,
          1.4756496045381022,
          1.473650854660758,
          1.4722660473669007,
          1.4719360125090268,
          1.4707009843163399,
          1.4702663893130288,
          1.4687921018488626,
          1.4682103431046898,
          1.4677812773535754,
          1.4677265217817668,
          1.467206336541979,
          1.467350428927936,
          1.4665912162266306,
          1.4658463963313397,
          1.4658353729034537,
          1.4662689520860277,
          1.4658094432308222,
          1.4654579682390827,
          1.4654040559014279,
          1.4648447851382338,
          1.4650850618826046,
          1.4650390924675378,
          1.4648574710146451,
          1.4646988873288576,
          1.4647968356797436,
          1.4645212534139913,
          1.4641028012293997,
          1.4644852928769614,
          1.464913620623444,
          1.4642960529591738,
          1.4639037907250654,
          1.4650240282514202,
          1.4641273067449965,
          1.4642598886988056,
          1.4638118948509444,
          1.4643535929193883,
          1.4640971494636048,
          1.4640883920289307,
          1.463961843488567,
          1.463890624961365,
          1.463630774890436,
          1.463683055662143,
          1.4635542389680583,
          1.464140648399589,
          1.4639364263650452,
          1.463599073607276,
          1.4638528657366219,
          1.463879564423551,
          1.463338951566326,
          1.4635327506675395,
          1.4636748408966227,
          1.463380910821561,
          1.4634183753273888,
          1.463366740675115,
          1.4637024528436315,
          1.4634563878401001,
          1.4633937392915999,
          1.463251827749362,
          1.4638367402019785,
          1.4635261844978658,
          1.4632095914405545,
          1.46339398076031,
          1.4634929191329078,
          1.4636190226083117,
          1.4633265703217562,
          1.4637885722778499,
          1.4635741400566182,
          1.4636753544624426,
          1.46303317427381,
          1.4631997140994204,
          1.463027525049791,
          1.463190525071199,
          1.4631103452588958,
          1.4634043440889957,
          1.4633578595830434,
          1.4631686122941057,
          1.4633336514552264,
          1.4630567742817437,
          1.4631906616916535,
          1.4633029482003723,
          1.4632190936155665,
          1.4630226977090084,
          1.463222098248854,
          1.4630566668917122,
          1.463288356373305,
          1.463230397909689,
          1.462727117131768,
          1.4627862657819475,
          1.4633826166073651,
          1.4631025716185824,
          1.4628944660046461,
          1.4632127433697553,
          1.4629279672464073,
          1.4629280867098746,
          1.4633308391072857,
          1.4633601460375512,
          1.4633203569505768,
          1.463034907510794,
          1.4634471331069718,
          1.4632037966998654,
          1.4630369165304626,
          1.462895044639929,
          1.4626308069554472,
          1.4626607723327587,
          1.463398249800017,
          1.4631515802350887,
          1.4627735975708789,
          1.4630190797451972,
          1.4631032487476812,
          1.4629178350922396,
          1.4629968592861313,
          1.4633462657806462,
          1.4631400513750659,
          1.4628126435696698,
          1.4631421675305885,
          1.4631858245650333,
          1.462910676561693,
          1.4629546158603515,
          1.4631560354598805,
          1.4630234237672932,
          1.463218358533977,
          1.463022171434309,
          1.4627606347679838,
          1.462665755484404,
          1.4630218162211275,
          1.4626882200810447,
          1.4629850874323327,
          1.4627743086326859,
          1.4625563555434822,
          1.4628097908074922,
          1.463256985266834,
          1.4627994493380794,
          1.4627638919267065,
          1.4630126714198066,
          1.4627577039732862,
          1.4628734828820869,
          1.4630971014626752,
          1.4631248438027875,
          1.46263311399834,
          1.4626590294370265,
          1.4631847459624316,
          1.462751835521096,
          1.4627631859484511,
          1.4627126935702652,
          1.4630595680747205,
          1.4629641883154667,
          1.4629610727336615,
          1.463124491004293,
          1.4628426224183935,
          1.4625610176688317,
          1.4630315109356633,
          1.4631250087640433,
          1.4627051034461716,
          1.4626216807090906,
          1.4626523108878877,
          1.46291582721637,
          1.4626697421328092,
          1.4628962552877887,
          1.4627552749251507,
          1.4626814733181934,
          1.4624785244591962,
          1.4626427217841402,
          1.4631616675269121,
          1.4629525650284692,
          1.4626857790865624,
          1.4628251227997005,
          1.4629410157071503,
          1.4629842487733755,
          1.4625640697062396,
          1.4625948873410093,
          1.4630035644909467,
          1.4632095247189374,
          1.4628147658254547,
          1.4627752304077148,
          1.4627979878169388,
          1.462473761171166,
          1.462854642222431,
          1.4627619101040399,
          1.4626047195656213,
          1.462732326501468,
          1.4632861808673152,
          1.4630153901033056,
          1.4625174828938075,
          1.4634858743468326,
          1.4630096240846842,
          1.462884474664863,
          1.4626937856806366,
          1.462685268316696,
          1.4623173182961275,
          1.4622665248445865,
          1.4632164041624902,
          1.4632543022952862,
          1.462715996989309,
          1.4631250340547135,
          1.4627230382168979,
          1.4632366636414518,
          1.4627130711510745,
          1.4628517613736296,
          1.462918378015571,
          1.4627790945425216,
          1.462800191028286,
          1.46317433370456,
          1.4629137297429002,
          1.4630041931992146,
          1.4628659571920122,
          1.4625907331895727,
          1.462782145054864,
          1.4629588000047435,
          1.4628419948539246,
          1.462880975401986,
          1.4626607217514185,
          1.4624840885337227,
          1.4624915280575945,
          1.4624339653484857,
          1.4632332626182134,
          1.4633659345508894,
          1.463022958113949,
          1.4629202059337072,
          1.4623321926415855,
          1.4623473712376185,
          1.4630508065732049,
          1.462606521684732,
          1.462751183936845,
          1.4630726953305162,
          1.4632185525985668,
          1.4625641188896032,
          1.462737646184242,
          1.4631439064865681,
          1.462619713120369,
          1.4628369898430065,
          1.4626259690662946,
          1.4630562985883846,
          1.462754530820257,
          1.463159192980988,
          1.4626306686828385,
          1.462767485489469,
          1.4625939561614096,
          1.4627926011583698,
          1.4625119719423973,
          1.462984521633018,
          1.462495570752158,
          1.4626545221058291,
          1.4625432179934943,
          1.4626493675113996,
          1.462350857156172,
          1.4624654210960941,
          1.4629288494968211,
          1.462817332510755,
          1.462856706144459,
          1.4627086788352364,
          1.4626766527131168,
          1.4625459415063675,
          1.4625966890788535,
          1.4625642813090831,
          1.4627696058389221,
          1.4626972000481986,
          1.462683161057389,
          1.462912323759563,
          1.462377142041985,
          1.4625266153675152,
          1.462567374141994,
          1.4630600302966672,
          1.4628590833403663,
          1.4625447453466305,
          1.462262461053283,
          1.4625192687455526,
          1.4630248024265395,
          1.4630858283053074,
          1.4626183203542664,
          1.4626900642665464,
          1.4627720112485418,
          1.4632227990164686,
          1.4628111529451953,
          1.4625172105425202,
          1.4625854123629995,
          1.462868362728721,
          1.462909898015736,
          1.4626990340665968,
          1.4626132543407269,
          1.462515043932746,
          1.462614592967003,
          1.4629318322708358,
          1.4623880838788648,
          1.462372539140014,
          1.4625818270610085,
          1.4627421368668074,
          1.4624348842004724,
          1.4626886619687842,
          1.462593373078019,
          1.4631039695953256,
          1.4632145226128828,
          1.462945446022538,
          1.462576275441184,
          1.4629819147876586,
          1.4625770238670968,
          1.4624153173554426
         ]
        }
       ],
       "layout": {
        "template": {
         "data": {
          "bar": [
           {
            "error_x": {
             "color": "#2a3f5f"
            },
            "error_y": {
             "color": "#2a3f5f"
            },
            "marker": {
             "line": {
              "color": "#E5ECF6",
              "width": 0.5
             },
             "pattern": {
              "fillmode": "overlay",
              "size": 10,
              "solidity": 0.2
             }
            },
            "type": "bar"
           }
          ],
          "barpolar": [
           {
            "marker": {
             "line": {
              "color": "#E5ECF6",
              "width": 0.5
             },
             "pattern": {
              "fillmode": "overlay",
              "size": 10,
              "solidity": 0.2
             }
            },
            "type": "barpolar"
           }
          ],
          "carpet": [
           {
            "aaxis": {
             "endlinecolor": "#2a3f5f",
             "gridcolor": "white",
             "linecolor": "white",
             "minorgridcolor": "white",
             "startlinecolor": "#2a3f5f"
            },
            "baxis": {
             "endlinecolor": "#2a3f5f",
             "gridcolor": "white",
             "linecolor": "white",
             "minorgridcolor": "white",
             "startlinecolor": "#2a3f5f"
            },
            "type": "carpet"
           }
          ],
          "choropleth": [
           {
            "colorbar": {
             "outlinewidth": 0,
             "ticks": ""
            },
            "type": "choropleth"
           }
          ],
          "contour": [
           {
            "colorbar": {
             "outlinewidth": 0,
             "ticks": ""
            },
            "colorscale": [
             [
              0,
              "#0d0887"
             ],
             [
              0.1111111111111111,
              "#46039f"
             ],
             [
              0.2222222222222222,
              "#7201a8"
             ],
             [
              0.3333333333333333,
              "#9c179e"
             ],
             [
              0.4444444444444444,
              "#bd3786"
             ],
             [
              0.5555555555555556,
              "#d8576b"
             ],
             [
              0.6666666666666666,
              "#ed7953"
             ],
             [
              0.7777777777777778,
              "#fb9f3a"
             ],
             [
              0.8888888888888888,
              "#fdca26"
             ],
             [
              1,
              "#f0f921"
             ]
            ],
            "type": "contour"
           }
          ],
          "contourcarpet": [
           {
            "colorbar": {
             "outlinewidth": 0,
             "ticks": ""
            },
            "type": "contourcarpet"
           }
          ],
          "heatmap": [
           {
            "colorbar": {
             "outlinewidth": 0,
             "ticks": ""
            },
            "colorscale": [
             [
              0,
              "#0d0887"
             ],
             [
              0.1111111111111111,
              "#46039f"
             ],
             [
              0.2222222222222222,
              "#7201a8"
             ],
             [
              0.3333333333333333,
              "#9c179e"
             ],
             [
              0.4444444444444444,
              "#bd3786"
             ],
             [
              0.5555555555555556,
              "#d8576b"
             ],
             [
              0.6666666666666666,
              "#ed7953"
             ],
             [
              0.7777777777777778,
              "#fb9f3a"
             ],
             [
              0.8888888888888888,
              "#fdca26"
             ],
             [
              1,
              "#f0f921"
             ]
            ],
            "type": "heatmap"
           }
          ],
          "heatmapgl": [
           {
            "colorbar": {
             "outlinewidth": 0,
             "ticks": ""
            },
            "colorscale": [
             [
              0,
              "#0d0887"
             ],
             [
              0.1111111111111111,
              "#46039f"
             ],
             [
              0.2222222222222222,
              "#7201a8"
             ],
             [
              0.3333333333333333,
              "#9c179e"
             ],
             [
              0.4444444444444444,
              "#bd3786"
             ],
             [
              0.5555555555555556,
              "#d8576b"
             ],
             [
              0.6666666666666666,
              "#ed7953"
             ],
             [
              0.7777777777777778,
              "#fb9f3a"
             ],
             [
              0.8888888888888888,
              "#fdca26"
             ],
             [
              1,
              "#f0f921"
             ]
            ],
            "type": "heatmapgl"
           }
          ],
          "histogram": [
           {
            "marker": {
             "pattern": {
              "fillmode": "overlay",
              "size": 10,
              "solidity": 0.2
             }
            },
            "type": "histogram"
           }
          ],
          "histogram2d": [
           {
            "colorbar": {
             "outlinewidth": 0,
             "ticks": ""
            },
            "colorscale": [
             [
              0,
              "#0d0887"
             ],
             [
              0.1111111111111111,
              "#46039f"
             ],
             [
              0.2222222222222222,
              "#7201a8"
             ],
             [
              0.3333333333333333,
              "#9c179e"
             ],
             [
              0.4444444444444444,
              "#bd3786"
             ],
             [
              0.5555555555555556,
              "#d8576b"
             ],
             [
              0.6666666666666666,
              "#ed7953"
             ],
             [
              0.7777777777777778,
              "#fb9f3a"
             ],
             [
              0.8888888888888888,
              "#fdca26"
             ],
             [
              1,
              "#f0f921"
             ]
            ],
            "type": "histogram2d"
           }
          ],
          "histogram2dcontour": [
           {
            "colorbar": {
             "outlinewidth": 0,
             "ticks": ""
            },
            "colorscale": [
             [
              0,
              "#0d0887"
             ],
             [
              0.1111111111111111,
              "#46039f"
             ],
             [
              0.2222222222222222,
              "#7201a8"
             ],
             [
              0.3333333333333333,
              "#9c179e"
             ],
             [
              0.4444444444444444,
              "#bd3786"
             ],
             [
              0.5555555555555556,
              "#d8576b"
             ],
             [
              0.6666666666666666,
              "#ed7953"
             ],
             [
              0.7777777777777778,
              "#fb9f3a"
             ],
             [
              0.8888888888888888,
              "#fdca26"
             ],
             [
              1,
              "#f0f921"
             ]
            ],
            "type": "histogram2dcontour"
           }
          ],
          "mesh3d": [
           {
            "colorbar": {
             "outlinewidth": 0,
             "ticks": ""
            },
            "type": "mesh3d"
           }
          ],
          "parcoords": [
           {
            "line": {
             "colorbar": {
              "outlinewidth": 0,
              "ticks": ""
             }
            },
            "type": "parcoords"
           }
          ],
          "pie": [
           {
            "automargin": true,
            "type": "pie"
           }
          ],
          "scatter": [
           {
            "fillpattern": {
             "fillmode": "overlay",
             "size": 10,
             "solidity": 0.2
            },
            "type": "scatter"
           }
          ],
          "scatter3d": [
           {
            "line": {
             "colorbar": {
              "outlinewidth": 0,
              "ticks": ""
             }
            },
            "marker": {
             "colorbar": {
              "outlinewidth": 0,
              "ticks": ""
             }
            },
            "type": "scatter3d"
           }
          ],
          "scattercarpet": [
           {
            "marker": {
             "colorbar": {
              "outlinewidth": 0,
              "ticks": ""
             }
            },
            "type": "scattercarpet"
           }
          ],
          "scattergeo": [
           {
            "marker": {
             "colorbar": {
              "outlinewidth": 0,
              "ticks": ""
             }
            },
            "type": "scattergeo"
           }
          ],
          "scattergl": [
           {
            "marker": {
             "colorbar": {
              "outlinewidth": 0,
              "ticks": ""
             }
            },
            "type": "scattergl"
           }
          ],
          "scattermapbox": [
           {
            "marker": {
             "colorbar": {
              "outlinewidth": 0,
              "ticks": ""
             }
            },
            "type": "scattermapbox"
           }
          ],
          "scatterpolar": [
           {
            "marker": {
             "colorbar": {
              "outlinewidth": 0,
              "ticks": ""
             }
            },
            "type": "scatterpolar"
           }
          ],
          "scatterpolargl": [
           {
            "marker": {
             "colorbar": {
              "outlinewidth": 0,
              "ticks": ""
             }
            },
            "type": "scatterpolargl"
           }
          ],
          "scatterternary": [
           {
            "marker": {
             "colorbar": {
              "outlinewidth": 0,
              "ticks": ""
             }
            },
            "type": "scatterternary"
           }
          ],
          "surface": [
           {
            "colorbar": {
             "outlinewidth": 0,
             "ticks": ""
            },
            "colorscale": [
             [
              0,
              "#0d0887"
             ],
             [
              0.1111111111111111,
              "#46039f"
             ],
             [
              0.2222222222222222,
              "#7201a8"
             ],
             [
              0.3333333333333333,
              "#9c179e"
             ],
             [
              0.4444444444444444,
              "#bd3786"
             ],
             [
              0.5555555555555556,
              "#d8576b"
             ],
             [
              0.6666666666666666,
              "#ed7953"
             ],
             [
              0.7777777777777778,
              "#fb9f3a"
             ],
             [
              0.8888888888888888,
              "#fdca26"
             ],
             [
              1,
              "#f0f921"
             ]
            ],
            "type": "surface"
           }
          ],
          "table": [
           {
            "cells": {
             "fill": {
              "color": "#EBF0F8"
             },
             "line": {
              "color": "white"
             }
            },
            "header": {
             "fill": {
              "color": "#C8D4E3"
             },
             "line": {
              "color": "white"
             }
            },
            "type": "table"
           }
          ]
         },
         "layout": {
          "annotationdefaults": {
           "arrowcolor": "#2a3f5f",
           "arrowhead": 0,
           "arrowwidth": 1
          },
          "autotypenumbers": "strict",
          "coloraxis": {
           "colorbar": {
            "outlinewidth": 0,
            "ticks": ""
           }
          },
          "colorscale": {
           "diverging": [
            [
             0,
             "#8e0152"
            ],
            [
             0.1,
             "#c51b7d"
            ],
            [
             0.2,
             "#de77ae"
            ],
            [
             0.3,
             "#f1b6da"
            ],
            [
             0.4,
             "#fde0ef"
            ],
            [
             0.5,
             "#f7f7f7"
            ],
            [
             0.6,
             "#e6f5d0"
            ],
            [
             0.7,
             "#b8e186"
            ],
            [
             0.8,
             "#7fbc41"
            ],
            [
             0.9,
             "#4d9221"
            ],
            [
             1,
             "#276419"
            ]
           ],
           "sequential": [
            [
             0,
             "#0d0887"
            ],
            [
             0.1111111111111111,
             "#46039f"
            ],
            [
             0.2222222222222222,
             "#7201a8"
            ],
            [
             0.3333333333333333,
             "#9c179e"
            ],
            [
             0.4444444444444444,
             "#bd3786"
            ],
            [
             0.5555555555555556,
             "#d8576b"
            ],
            [
             0.6666666666666666,
             "#ed7953"
            ],
            [
             0.7777777777777778,
             "#fb9f3a"
            ],
            [
             0.8888888888888888,
             "#fdca26"
            ],
            [
             1,
             "#f0f921"
            ]
           ],
           "sequentialminus": [
            [
             0,
             "#0d0887"
            ],
            [
             0.1111111111111111,
             "#46039f"
            ],
            [
             0.2222222222222222,
             "#7201a8"
            ],
            [
             0.3333333333333333,
             "#9c179e"
            ],
            [
             0.4444444444444444,
             "#bd3786"
            ],
            [
             0.5555555555555556,
             "#d8576b"
            ],
            [
             0.6666666666666666,
             "#ed7953"
            ],
            [
             0.7777777777777778,
             "#fb9f3a"
            ],
            [
             0.8888888888888888,
             "#fdca26"
            ],
            [
             1,
             "#f0f921"
            ]
           ]
          },
          "colorway": [
           "#636efa",
           "#EF553B",
           "#00cc96",
           "#ab63fa",
           "#FFA15A",
           "#19d3f3",
           "#FF6692",
           "#B6E880",
           "#FF97FF",
           "#FECB52"
          ],
          "font": {
           "color": "#2a3f5f"
          },
          "geo": {
           "bgcolor": "white",
           "lakecolor": "white",
           "landcolor": "#E5ECF6",
           "showlakes": true,
           "showland": true,
           "subunitcolor": "white"
          },
          "hoverlabel": {
           "align": "left"
          },
          "hovermode": "closest",
          "mapbox": {
           "style": "light"
          },
          "paper_bgcolor": "white",
          "plot_bgcolor": "#E5ECF6",
          "polar": {
           "angularaxis": {
            "gridcolor": "white",
            "linecolor": "white",
            "ticks": ""
           },
           "bgcolor": "#E5ECF6",
           "radialaxis": {
            "gridcolor": "white",
            "linecolor": "white",
            "ticks": ""
           }
          },
          "scene": {
           "xaxis": {
            "backgroundcolor": "#E5ECF6",
            "gridcolor": "white",
            "gridwidth": 2,
            "linecolor": "white",
            "showbackground": true,
            "ticks": "",
            "zerolinecolor": "white"
           },
           "yaxis": {
            "backgroundcolor": "#E5ECF6",
            "gridcolor": "white",
            "gridwidth": 2,
            "linecolor": "white",
            "showbackground": true,
            "ticks": "",
            "zerolinecolor": "white"
           },
           "zaxis": {
            "backgroundcolor": "#E5ECF6",
            "gridcolor": "white",
            "gridwidth": 2,
            "linecolor": "white",
            "showbackground": true,
            "ticks": "",
            "zerolinecolor": "white"
           }
          },
          "shapedefaults": {
           "line": {
            "color": "#2a3f5f"
           }
          },
          "ternary": {
           "aaxis": {
            "gridcolor": "white",
            "linecolor": "white",
            "ticks": ""
           },
           "baxis": {
            "gridcolor": "white",
            "linecolor": "white",
            "ticks": ""
           },
           "bgcolor": "#E5ECF6",
           "caxis": {
            "gridcolor": "white",
            "linecolor": "white",
            "ticks": ""
           }
          },
          "title": {
           "x": 0.05
          },
          "xaxis": {
           "automargin": true,
           "gridcolor": "white",
           "linecolor": "white",
           "ticks": "",
           "title": {
            "standoff": 15
           },
           "zerolinecolor": "white",
           "zerolinewidth": 2
          },
          "yaxis": {
           "automargin": true,
           "gridcolor": "white",
           "linecolor": "white",
           "ticks": "",
           "title": {
            "standoff": 15
           },
           "zerolinecolor": "white",
           "zerolinewidth": 2
          }
         }
        },
        "title": {
         "text": "Multiple Plots on the Same Plot"
        }
       }
      },
      "text/html": [
       "<div>                            <div id=\"79e0e102-30a5-4a51-a536-15379c18eb23\" class=\"plotly-graph-div\" style=\"height:525px; width:100%;\"></div>            <script type=\"text/javascript\">                require([\"plotly\"], function(Plotly) {                    window.PLOTLYENV=window.PLOTLYENV || {};                                    if (document.getElementById(\"79e0e102-30a5-4a51-a536-15379c18eb23\")) {                    Plotly.newPlot(                        \"79e0e102-30a5-4a51-a536-15379c18eb23\",                        [{\"name\":\"Dense network\",\"x\":[0,1,2,3,4,5,6,7,8,9,10,11,12,13,14,15,16,17,18,19,20,21,22,23,24,25,26,27,28,29,30,31,32,33,34,35,36,37,38,39,40,41,42,43,44,45,46,47,48,49,50,51,52,53,54,55,56,57,58,59,60,61,62,63,64,65,66,67,68,69,70,71,72,73,74,75,76,77,78,79,80,81,82,83,84,85,86,87,88,89,90,91,92,93,94,95,96,97,98,99,100,101,102,103,104,105,106,107,108,109,110,111,112,113,114,115,116,117,118,119,120,121,122,123,124,125,126,127,128,129,130,131,132,133,134,135,136,137,138,139,140,141,142,143,144,145,146,147,148,149,150,151,152,153,154,155,156,157,158,159,160,161,162,163,164,165,166,167,168,169,170,171,172,173,174,175,176,177,178,179,180,181,182,183,184,185,186,187,188,189,190,191,192,193,194,195,196,197,198,199,200,201,202,203,204,205,206,207,208,209,210,211,212,213,214,215,216,217,218,219,220,221,222,223,224,225,226,227,228,229,230,231,232,233,234,235,236,237,238,239,240,241,242,243,244,245,246,247,248,249,250,251,252,253,254,255,256,257,258,259,260,261,262,263,264,265,266,267,268,269,270,271,272,273,274,275,276,277,278,279,280,281,282,283,284,285,286,287,288,289,290,291,292,293,294,295,296,297,298,299],\"y\":[1.7000184182419198,1.5977501561646776,1.5304801556855632,1.5135071032337035,1.5046250145318412,1.4992376529077478,1.4953341583199085,1.4914459206147996,1.4885778636820535,1.4867041225372346,1.484506061971823,1.4834775759467185,1.4811163589135925,1.4807783184783545,1.4801454709282815,1.4788956774323225,1.4776912370978643,1.477742002208604,1.4770904869667247,1.475894399924573,1.4754001449928609,1.4753743806627513,1.4748565705854502,1.4749581737558979,1.4748583537683304,1.4737388795372774,1.4740393550665394,1.473620418927817,1.4730693189574202,1.4735557126846395,1.4731761789016886,1.472997444016593,1.4727458653927865,1.4723199893162449,1.4733138336047436,1.472421420154287,1.4720070941615968,1.4714547480855669,1.4717319830140072,1.4716227041887069,1.470899641259647,1.471309432978315,1.4720628682230072,1.4717674733224961,1.471998360111261,1.4708490337390128,1.4705761610063663,1.4709921852866215,1.470538528107885,1.4705626170264123,1.4700557214619001,1.470456387696744,1.4698087954317838,1.4702454388522899,1.4709441020036302,1.4704787433782875,1.4697023051888196,1.4700143286414238,1.4697370126303324,1.4702490232646592,1.470152578374216,1.4690037466315573,1.4697615640249841,1.4708340653478464,1.46915217147453,1.4697757979700052,1.4699241314361344,1.4697566658957426,1.469523482231189,1.4695238882798884,1.4695013426005967,1.4705801048258473,1.4685655209555555,1.4693220023915712,1.468489400994803,1.4697110665632462,1.4693173461123061,1.4690599525406924,1.4692932127127007,1.469498848610087,1.4688689460886566,1.4696535821408352,1.4697093019353302,1.4688757200485099,1.4691316646807737,1.4688926346774802,1.4688637152409503,1.4687879850615317,1.4698844147897732,1.4693704950275706,1.4683924280504175,1.4685256270203255,1.4680370603288924,1.4686441164789423,1.4680756427077597,1.4681856913098903,1.4687524149412794,1.4683885734472701,1.4689254211718594,1.4691992332177883,1.4680213818926293,1.4688173556632833,1.4686735000437512,1.468016111901574,1.468556782838378,1.4677943467839694,1.469168517126966,1.4690524367635438,1.4682328770918125,1.4684580085374146,1.4677894246349457,1.4677603721364474,1.4693775920471404,1.4683119854184865,1.4701486725542845,1.4679028309230358,1.4675650379296814,1.4688861254435868,1.4670575163257655,1.4681461182738673,1.4696029174302432,1.4676017135953598,1.4685545005778005,1.4681696182629194,1.4690586345028014,1.4691812163477005,1.468590270608727,1.4688582364430052,1.4674292222014877,1.4688215318010813,1.468378787101713,1.4675877832654696,1.4674955603918796,1.4682567668621982,1.4680473242741403,1.4689786315981004,1.4680374701902557,1.4682701382555687,1.4669576167806124,1.468459437269646,1.4676693090751989,1.4681129046340486,1.4685075495288824,1.468243697558893,1.4681933709044954,1.467232557120862,1.4678349164503215,1.468366222468012,1.467211883586607,1.4692641731772595,1.4681764162425548,1.4704027036105647,1.4693425475661435,1.469233239764598,1.4684713595965777,1.4679684839777347,1.4689112111195317,1.4676335320543887,1.467772504032802,1.4686473710958892,1.4679810020969366,1.4678483994276539,1.4678912687657484,1.4672087367409583,1.4687237520970262,1.4690139821089152,1.4681771341671568,1.4683656925077377,1.4672619767788886,1.4681235542937892,1.4677945844400158,1.4676700217891603,1.466923721690676,1.4677430410374965,1.4670960976879226,1.4678013159522116,1.4679820683719254,1.4674040108347244,1.467304512890163,1.4681385566176637,1.468442287653494,1.468187298347701,1.467744139593039,1.4667685294964674,1.467095221537771,1.4678911824724568,1.4681449962068978,1.4673694287027632,1.468524728502546,1.4687561202150927,1.4675221638893015,1.4675343065882034,1.4678087725059819,1.4691148998894925,1.467642679651663,1.4693871226900421,1.4689089568184892,1.469553268794566,1.4681884260065774,1.4688991140455072,1.46816263930884,1.4691707274552857,1.467343861741552,1.4691564461061442,1.4680092648656637,1.467673169905697,1.4671107322168249,1.468287007005484,1.4684773553917403,1.4689335708679168,1.468557820518388,1.4699372594544629,1.4680996765968388,1.4684676250923416,1.4681927092802296,1.4679876365132931,1.4688139485397826,1.4689168548787326,1.4686858041454225,1.4679022655049876,1.4698044470886686,1.4682707955588157,1.4670405654764886,1.4674533932193765,1.4680280009312416,1.468547848877368,1.467862268500745,1.4683175083162434,1.4697478295389268,1.4677377339365132,1.4696840984480721,1.4694117307662964,1.4676707855928173,1.469740289106552,1.4685671543007466,1.46825677194575,1.4695445226707946,1.4702064158565709,1.4700964494808904,1.4686121175538247,1.4689318231428101,1.4697056806672102,1.4684052691022471,1.4687175746919758,1.469218251928846,1.4694289792575308,1.4689117489593115,1.4691409072133779,1.4680606879150944,1.4692085065058809,1.4677293130329676,1.4680990790253254,1.4678531996985233,1.4677700260554805,1.4671373814662128,1.468049651015796,1.4682520312795253,1.4705438926530037,1.4680458816892303,1.4697619778261002,1.4673185179482644,1.4690839696540507,1.4691709704490612,1.468491878209592,1.4684567121046184,1.468424991249784,1.468406405784428,1.4676373241298488,1.4677508664029493,1.4706737724448573,1.4681256310517854,1.4681727705733862,1.4680956295812562,1.467284310092804,1.46790589808401,1.4673660998659601,1.468440273296096,1.469425160239246,1.4695219641555346,1.4671320322988384,1.4673885356134444,1.46857016566974,1.468458696977416,1.4690806581013238,1.4682959848121284,1.4680226044868356,1.4678668729277815,1.468659238901728,1.4683605088099743,1.4682473103120637,1.4674421228579622,1.4668482900428366,1.4676176999677728,1.4669887654816927,1.4670293760706368,1.46955180257114,1.4698045378300681,1.4680859845584389,1.4688028768181547,1.4687399350758046],\"type\":\"scatter\"},{\"name\":\"CNN\",\"x\":[0,1,2,3,4,5,6,7,8,9,10,11,12,13,14,15,16,17,18,19,20,21,22,23,24,25,26,27,28,29,30,31,32,33,34,35,36,37,38,39,40,41,42,43,44,45,46,47,48,49,50,51,52,53,54,55,56,57,58,59,60,61,62,63,64,65,66,67,68,69,70,71,72,73,74,75,76,77,78,79,80,81,82,83,84,85,86,87,88,89,90,91,92,93,94,95,96,97,98,99,100,101,102,103,104,105,106,107,108,109,110,111,112,113,114,115,116,117,118,119,120,121,122,123,124,125,126,127,128,129,130,131,132,133,134,135,136,137,138,139,140,141,142,143,144,145,146,147,148,149,150,151,152,153,154,155,156,157,158,159,160,161,162,163,164,165,166,167,168,169,170,171,172,173,174,175,176,177,178,179,180,181,182,183,184,185,186,187,188,189,190,191,192,193,194,195,196,197,198,199,200,201,202,203,204,205,206,207,208,209,210,211,212,213,214,215,216,217,218,219,220,221,222,223,224,225,226,227,228,229,230,231,232,233,234,235,236,237,238,239,240,241,242,243,244,245,246,247,248,249,250,251,252,253,254,255,256,257,258,259,260,261,262,263,264,265,266,267,268,269,270,271,272,273,274,275,276,277,278,279,280,281,282,283,284,285,286,287,288,289,290,291,292,293,294,295,296,297,298,299],\"y\":[1.6129431119605677,1.4890446978083043,1.4822788873969366,1.4782983837351362,1.4756496045381022,1.473650854660758,1.4722660473669007,1.4719360125090268,1.4707009843163399,1.4702663893130288,1.4687921018488626,1.4682103431046898,1.4677812773535754,1.4677265217817668,1.467206336541979,1.467350428927936,1.4665912162266306,1.4658463963313397,1.4658353729034537,1.4662689520860277,1.4658094432308222,1.4654579682390827,1.4654040559014279,1.4648447851382338,1.4650850618826046,1.4650390924675378,1.4648574710146451,1.4646988873288576,1.4647968356797436,1.4645212534139913,1.4641028012293997,1.4644852928769614,1.464913620623444,1.4642960529591738,1.4639037907250654,1.4650240282514202,1.4641273067449965,1.4642598886988056,1.4638118948509444,1.4643535929193883,1.4640971494636048,1.4640883920289307,1.463961843488567,1.463890624961365,1.463630774890436,1.463683055662143,1.4635542389680583,1.464140648399589,1.4639364263650452,1.463599073607276,1.4638528657366219,1.463879564423551,1.463338951566326,1.4635327506675395,1.4636748408966227,1.463380910821561,1.4634183753273888,1.463366740675115,1.4637024528436315,1.4634563878401001,1.4633937392915999,1.463251827749362,1.4638367402019785,1.4635261844978658,1.4632095914405545,1.46339398076031,1.4634929191329078,1.4636190226083117,1.4633265703217562,1.4637885722778499,1.4635741400566182,1.4636753544624426,1.46303317427381,1.4631997140994204,1.463027525049791,1.463190525071199,1.4631103452588958,1.4634043440889957,1.4633578595830434,1.4631686122941057,1.4633336514552264,1.4630567742817437,1.4631906616916535,1.4633029482003723,1.4632190936155665,1.4630226977090084,1.463222098248854,1.4630566668917122,1.463288356373305,1.463230397909689,1.462727117131768,1.4627862657819475,1.4633826166073651,1.4631025716185824,1.4628944660046461,1.4632127433697553,1.4629279672464073,1.4629280867098746,1.4633308391072857,1.4633601460375512,1.4633203569505768,1.463034907510794,1.4634471331069718,1.4632037966998654,1.4630369165304626,1.462895044639929,1.4626308069554472,1.4626607723327587,1.463398249800017,1.4631515802350887,1.4627735975708789,1.4630190797451972,1.4631032487476812,1.4629178350922396,1.4629968592861313,1.4633462657806462,1.4631400513750659,1.4628126435696698,1.4631421675305885,1.4631858245650333,1.462910676561693,1.4629546158603515,1.4631560354598805,1.4630234237672932,1.463218358533977,1.463022171434309,1.4627606347679838,1.462665755484404,1.4630218162211275,1.4626882200810447,1.4629850874323327,1.4627743086326859,1.4625563555434822,1.4628097908074922,1.463256985266834,1.4627994493380794,1.4627638919267065,1.4630126714198066,1.4627577039732862,1.4628734828820869,1.4630971014626752,1.4631248438027875,1.46263311399834,1.4626590294370265,1.4631847459624316,1.462751835521096,1.4627631859484511,1.4627126935702652,1.4630595680747205,1.4629641883154667,1.4629610727336615,1.463124491004293,1.4628426224183935,1.4625610176688317,1.4630315109356633,1.4631250087640433,1.4627051034461716,1.4626216807090906,1.4626523108878877,1.46291582721637,1.4626697421328092,1.4628962552877887,1.4627552749251507,1.4626814733181934,1.4624785244591962,1.4626427217841402,1.4631616675269121,1.4629525650284692,1.4626857790865624,1.4628251227997005,1.4629410157071503,1.4629842487733755,1.4625640697062396,1.4625948873410093,1.4630035644909467,1.4632095247189374,1.4628147658254547,1.4627752304077148,1.4627979878169388,1.462473761171166,1.462854642222431,1.4627619101040399,1.4626047195656213,1.462732326501468,1.4632861808673152,1.4630153901033056,1.4625174828938075,1.4634858743468326,1.4630096240846842,1.462884474664863,1.4626937856806366,1.462685268316696,1.4623173182961275,1.4622665248445865,1.4632164041624902,1.4632543022952862,1.462715996989309,1.4631250340547135,1.4627230382168979,1.4632366636414518,1.4627130711510745,1.4628517613736296,1.462918378015571,1.4627790945425216,1.462800191028286,1.46317433370456,1.4629137297429002,1.4630041931992146,1.4628659571920122,1.4625907331895727,1.462782145054864,1.4629588000047435,1.4628419948539246,1.462880975401986,1.4626607217514185,1.4624840885337227,1.4624915280575945,1.4624339653484857,1.4632332626182134,1.4633659345508894,1.463022958113949,1.4629202059337072,1.4623321926415855,1.4623473712376185,1.4630508065732049,1.462606521684732,1.462751183936845,1.4630726953305162,1.4632185525985668,1.4625641188896032,1.462737646184242,1.4631439064865681,1.462619713120369,1.4628369898430065,1.4626259690662946,1.4630562985883846,1.462754530820257,1.463159192980988,1.4626306686828385,1.462767485489469,1.4625939561614096,1.4627926011583698,1.4625119719423973,1.462984521633018,1.462495570752158,1.4626545221058291,1.4625432179934943,1.4626493675113996,1.462350857156172,1.4624654210960941,1.4629288494968211,1.462817332510755,1.462856706144459,1.4627086788352364,1.4626766527131168,1.4625459415063675,1.4625966890788535,1.4625642813090831,1.4627696058389221,1.4626972000481986,1.462683161057389,1.462912323759563,1.462377142041985,1.4625266153675152,1.462567374141994,1.4630600302966672,1.4628590833403663,1.4625447453466305,1.462262461053283,1.4625192687455526,1.4630248024265395,1.4630858283053074,1.4626183203542664,1.4626900642665464,1.4627720112485418,1.4632227990164686,1.4628111529451953,1.4625172105425202,1.4625854123629995,1.462868362728721,1.462909898015736,1.4626990340665968,1.4626132543407269,1.462515043932746,1.462614592967003,1.4629318322708358,1.4623880838788648,1.462372539140014,1.4625818270610085,1.4627421368668074,1.4624348842004724,1.4626886619687842,1.462593373078019,1.4631039695953256,1.4632145226128828,1.462945446022538,1.462576275441184,1.4629819147876586,1.4625770238670968,1.4624153173554426],\"type\":\"scatter\"}],                        {\"template\":{\"data\":{\"histogram2dcontour\":[{\"type\":\"histogram2dcontour\",\"colorbar\":{\"outlinewidth\":0,\"ticks\":\"\"},\"colorscale\":[[0.0,\"#0d0887\"],[0.1111111111111111,\"#46039f\"],[0.2222222222222222,\"#7201a8\"],[0.3333333333333333,\"#9c179e\"],[0.4444444444444444,\"#bd3786\"],[0.5555555555555556,\"#d8576b\"],[0.6666666666666666,\"#ed7953\"],[0.7777777777777778,\"#fb9f3a\"],[0.8888888888888888,\"#fdca26\"],[1.0,\"#f0f921\"]]}],\"choropleth\":[{\"type\":\"choropleth\",\"colorbar\":{\"outlinewidth\":0,\"ticks\":\"\"}}],\"histogram2d\":[{\"type\":\"histogram2d\",\"colorbar\":{\"outlinewidth\":0,\"ticks\":\"\"},\"colorscale\":[[0.0,\"#0d0887\"],[0.1111111111111111,\"#46039f\"],[0.2222222222222222,\"#7201a8\"],[0.3333333333333333,\"#9c179e\"],[0.4444444444444444,\"#bd3786\"],[0.5555555555555556,\"#d8576b\"],[0.6666666666666666,\"#ed7953\"],[0.7777777777777778,\"#fb9f3a\"],[0.8888888888888888,\"#fdca26\"],[1.0,\"#f0f921\"]]}],\"heatmap\":[{\"type\":\"heatmap\",\"colorbar\":{\"outlinewidth\":0,\"ticks\":\"\"},\"colorscale\":[[0.0,\"#0d0887\"],[0.1111111111111111,\"#46039f\"],[0.2222222222222222,\"#7201a8\"],[0.3333333333333333,\"#9c179e\"],[0.4444444444444444,\"#bd3786\"],[0.5555555555555556,\"#d8576b\"],[0.6666666666666666,\"#ed7953\"],[0.7777777777777778,\"#fb9f3a\"],[0.8888888888888888,\"#fdca26\"],[1.0,\"#f0f921\"]]}],\"heatmapgl\":[{\"type\":\"heatmapgl\",\"colorbar\":{\"outlinewidth\":0,\"ticks\":\"\"},\"colorscale\":[[0.0,\"#0d0887\"],[0.1111111111111111,\"#46039f\"],[0.2222222222222222,\"#7201a8\"],[0.3333333333333333,\"#9c179e\"],[0.4444444444444444,\"#bd3786\"],[0.5555555555555556,\"#d8576b\"],[0.6666666666666666,\"#ed7953\"],[0.7777777777777778,\"#fb9f3a\"],[0.8888888888888888,\"#fdca26\"],[1.0,\"#f0f921\"]]}],\"contourcarpet\":[{\"type\":\"contourcarpet\",\"colorbar\":{\"outlinewidth\":0,\"ticks\":\"\"}}],\"contour\":[{\"type\":\"contour\",\"colorbar\":{\"outlinewidth\":0,\"ticks\":\"\"},\"colorscale\":[[0.0,\"#0d0887\"],[0.1111111111111111,\"#46039f\"],[0.2222222222222222,\"#7201a8\"],[0.3333333333333333,\"#9c179e\"],[0.4444444444444444,\"#bd3786\"],[0.5555555555555556,\"#d8576b\"],[0.6666666666666666,\"#ed7953\"],[0.7777777777777778,\"#fb9f3a\"],[0.8888888888888888,\"#fdca26\"],[1.0,\"#f0f921\"]]}],\"surface\":[{\"type\":\"surface\",\"colorbar\":{\"outlinewidth\":0,\"ticks\":\"\"},\"colorscale\":[[0.0,\"#0d0887\"],[0.1111111111111111,\"#46039f\"],[0.2222222222222222,\"#7201a8\"],[0.3333333333333333,\"#9c179e\"],[0.4444444444444444,\"#bd3786\"],[0.5555555555555556,\"#d8576b\"],[0.6666666666666666,\"#ed7953\"],[0.7777777777777778,\"#fb9f3a\"],[0.8888888888888888,\"#fdca26\"],[1.0,\"#f0f921\"]]}],\"mesh3d\":[{\"type\":\"mesh3d\",\"colorbar\":{\"outlinewidth\":0,\"ticks\":\"\"}}],\"scatter\":[{\"fillpattern\":{\"fillmode\":\"overlay\",\"size\":10,\"solidity\":0.2},\"type\":\"scatter\"}],\"parcoords\":[{\"type\":\"parcoords\",\"line\":{\"colorbar\":{\"outlinewidth\":0,\"ticks\":\"\"}}}],\"scatterpolargl\":[{\"type\":\"scatterpolargl\",\"marker\":{\"colorbar\":{\"outlinewidth\":0,\"ticks\":\"\"}}}],\"bar\":[{\"error_x\":{\"color\":\"#2a3f5f\"},\"error_y\":{\"color\":\"#2a3f5f\"},\"marker\":{\"line\":{\"color\":\"#E5ECF6\",\"width\":0.5},\"pattern\":{\"fillmode\":\"overlay\",\"size\":10,\"solidity\":0.2}},\"type\":\"bar\"}],\"scattergeo\":[{\"type\":\"scattergeo\",\"marker\":{\"colorbar\":{\"outlinewidth\":0,\"ticks\":\"\"}}}],\"scatterpolar\":[{\"type\":\"scatterpolar\",\"marker\":{\"colorbar\":{\"outlinewidth\":0,\"ticks\":\"\"}}}],\"histogram\":[{\"marker\":{\"pattern\":{\"fillmode\":\"overlay\",\"size\":10,\"solidity\":0.2}},\"type\":\"histogram\"}],\"scattergl\":[{\"type\":\"scattergl\",\"marker\":{\"colorbar\":{\"outlinewidth\":0,\"ticks\":\"\"}}}],\"scatter3d\":[{\"type\":\"scatter3d\",\"line\":{\"colorbar\":{\"outlinewidth\":0,\"ticks\":\"\"}},\"marker\":{\"colorbar\":{\"outlinewidth\":0,\"ticks\":\"\"}}}],\"scattermapbox\":[{\"type\":\"scattermapbox\",\"marker\":{\"colorbar\":{\"outlinewidth\":0,\"ticks\":\"\"}}}],\"scatterternary\":[{\"type\":\"scatterternary\",\"marker\":{\"colorbar\":{\"outlinewidth\":0,\"ticks\":\"\"}}}],\"scattercarpet\":[{\"type\":\"scattercarpet\",\"marker\":{\"colorbar\":{\"outlinewidth\":0,\"ticks\":\"\"}}}],\"carpet\":[{\"aaxis\":{\"endlinecolor\":\"#2a3f5f\",\"gridcolor\":\"white\",\"linecolor\":\"white\",\"minorgridcolor\":\"white\",\"startlinecolor\":\"#2a3f5f\"},\"baxis\":{\"endlinecolor\":\"#2a3f5f\",\"gridcolor\":\"white\",\"linecolor\":\"white\",\"minorgridcolor\":\"white\",\"startlinecolor\":\"#2a3f5f\"},\"type\":\"carpet\"}],\"table\":[{\"cells\":{\"fill\":{\"color\":\"#EBF0F8\"},\"line\":{\"color\":\"white\"}},\"header\":{\"fill\":{\"color\":\"#C8D4E3\"},\"line\":{\"color\":\"white\"}},\"type\":\"table\"}],\"barpolar\":[{\"marker\":{\"line\":{\"color\":\"#E5ECF6\",\"width\":0.5},\"pattern\":{\"fillmode\":\"overlay\",\"size\":10,\"solidity\":0.2}},\"type\":\"barpolar\"}],\"pie\":[{\"automargin\":true,\"type\":\"pie\"}]},\"layout\":{\"autotypenumbers\":\"strict\",\"colorway\":[\"#636efa\",\"#EF553B\",\"#00cc96\",\"#ab63fa\",\"#FFA15A\",\"#19d3f3\",\"#FF6692\",\"#B6E880\",\"#FF97FF\",\"#FECB52\"],\"font\":{\"color\":\"#2a3f5f\"},\"hovermode\":\"closest\",\"hoverlabel\":{\"align\":\"left\"},\"paper_bgcolor\":\"white\",\"plot_bgcolor\":\"#E5ECF6\",\"polar\":{\"bgcolor\":\"#E5ECF6\",\"angularaxis\":{\"gridcolor\":\"white\",\"linecolor\":\"white\",\"ticks\":\"\"},\"radialaxis\":{\"gridcolor\":\"white\",\"linecolor\":\"white\",\"ticks\":\"\"}},\"ternary\":{\"bgcolor\":\"#E5ECF6\",\"aaxis\":{\"gridcolor\":\"white\",\"linecolor\":\"white\",\"ticks\":\"\"},\"baxis\":{\"gridcolor\":\"white\",\"linecolor\":\"white\",\"ticks\":\"\"},\"caxis\":{\"gridcolor\":\"white\",\"linecolor\":\"white\",\"ticks\":\"\"}},\"coloraxis\":{\"colorbar\":{\"outlinewidth\":0,\"ticks\":\"\"}},\"colorscale\":{\"sequential\":[[0.0,\"#0d0887\"],[0.1111111111111111,\"#46039f\"],[0.2222222222222222,\"#7201a8\"],[0.3333333333333333,\"#9c179e\"],[0.4444444444444444,\"#bd3786\"],[0.5555555555555556,\"#d8576b\"],[0.6666666666666666,\"#ed7953\"],[0.7777777777777778,\"#fb9f3a\"],[0.8888888888888888,\"#fdca26\"],[1.0,\"#f0f921\"]],\"sequentialminus\":[[0.0,\"#0d0887\"],[0.1111111111111111,\"#46039f\"],[0.2222222222222222,\"#7201a8\"],[0.3333333333333333,\"#9c179e\"],[0.4444444444444444,\"#bd3786\"],[0.5555555555555556,\"#d8576b\"],[0.6666666666666666,\"#ed7953\"],[0.7777777777777778,\"#fb9f3a\"],[0.8888888888888888,\"#fdca26\"],[1.0,\"#f0f921\"]],\"diverging\":[[0,\"#8e0152\"],[0.1,\"#c51b7d\"],[0.2,\"#de77ae\"],[0.3,\"#f1b6da\"],[0.4,\"#fde0ef\"],[0.5,\"#f7f7f7\"],[0.6,\"#e6f5d0\"],[0.7,\"#b8e186\"],[0.8,\"#7fbc41\"],[0.9,\"#4d9221\"],[1,\"#276419\"]]},\"xaxis\":{\"gridcolor\":\"white\",\"linecolor\":\"white\",\"ticks\":\"\",\"title\":{\"standoff\":15},\"zerolinecolor\":\"white\",\"automargin\":true,\"zerolinewidth\":2},\"yaxis\":{\"gridcolor\":\"white\",\"linecolor\":\"white\",\"ticks\":\"\",\"title\":{\"standoff\":15},\"zerolinecolor\":\"white\",\"automargin\":true,\"zerolinewidth\":2},\"scene\":{\"xaxis\":{\"backgroundcolor\":\"#E5ECF6\",\"gridcolor\":\"white\",\"linecolor\":\"white\",\"showbackground\":true,\"ticks\":\"\",\"zerolinecolor\":\"white\",\"gridwidth\":2},\"yaxis\":{\"backgroundcolor\":\"#E5ECF6\",\"gridcolor\":\"white\",\"linecolor\":\"white\",\"showbackground\":true,\"ticks\":\"\",\"zerolinecolor\":\"white\",\"gridwidth\":2},\"zaxis\":{\"backgroundcolor\":\"#E5ECF6\",\"gridcolor\":\"white\",\"linecolor\":\"white\",\"showbackground\":true,\"ticks\":\"\",\"zerolinecolor\":\"white\",\"gridwidth\":2}},\"shapedefaults\":{\"line\":{\"color\":\"#2a3f5f\"}},\"annotationdefaults\":{\"arrowcolor\":\"#2a3f5f\",\"arrowhead\":0,\"arrowwidth\":1},\"geo\":{\"bgcolor\":\"white\",\"landcolor\":\"#E5ECF6\",\"subunitcolor\":\"white\",\"showland\":true,\"showlakes\":true,\"lakecolor\":\"white\"},\"title\":{\"x\":0.05},\"mapbox\":{\"style\":\"light\"}}},\"title\":{\"text\":\"Multiple Plots on the Same Plot\"}},                        {\"responsive\": true}                    ).then(function(){\n",
       "                            \n",
       "var gd = document.getElementById('79e0e102-30a5-4a51-a536-15379c18eb23');\n",
       "var x = new MutationObserver(function (mutations, observer) {{\n",
       "        var display = window.getComputedStyle(gd).display;\n",
       "        if (!display || display === 'none') {{\n",
       "            console.log([gd, 'removed!']);\n",
       "            Plotly.purge(gd);\n",
       "            observer.disconnect();\n",
       "        }}\n",
       "}});\n",
       "\n",
       "// Listen for the removal of the full notebook cells\n",
       "var notebookContainer = gd.closest('#notebook-container');\n",
       "if (notebookContainer) {{\n",
       "    x.observe(notebookContainer, {childList: true});\n",
       "}}\n",
       "\n",
       "// Listen for the clearing of the current output cell\n",
       "var outputEl = gd.closest('.output');\n",
       "if (outputEl) {{\n",
       "    x.observe(outputEl, {childList: true});\n",
       "}}\n",
       "\n",
       "                        })                };                });            </script>        </div>"
      ]
     },
     "metadata": {},
     "output_type": "display_data"
    }
   ],
   "source": [
    "import plotly.graph_objects as go\n",
    "\n",
    "fig = go.Figure()\n",
    "trace1 = go.Scatter(x=list(range(300)), y=first_model_epochs_losses, name='Dense network')\n",
    "fig.add_trace(trace1)\n",
    "\n",
    "trace2 = go.Scatter(x=list(range(300)), y=second_model_epochs_losses, name='CNN')\n",
    "fig.add_trace(trace2)\n",
    "\n",
    "fig.update_layout(title=\"Multiple Plots on the Same Plot\")\n",
    "fig.show()"
   ]
  },
  {
   "cell_type": "markdown",
   "metadata": {},
   "source": [
    "We can see that the convolutional model converges faster."
   ]
  },
  {
   "cell_type": "markdown",
   "metadata": {},
   "source": [
    "## 2. Graph Convolutional Network\n",
    "\n",
    "#### Task a\n",
    "\n",
    "Given the following neighborhood aggregation formula of GCN:\n",
    "\n",
    "$$\n",
    "h_v^{l+1} = \\sigma \\left( W_l \\sum_{u \\in N(v)} \\frac{h_u^l}{|N(v)|} + B_lh_u^l \\right)\n",
    "$$\n",
    "\n",
    "derive the matrix formulation of $\\sum_{u \\in N(v)} \\frac{h_u^l}{|N(v)|}$"
   ]
  },
  {
   "cell_type": "markdown",
   "metadata": {},
   "source": [
    "Let's consider matrix $H^l \\in R^{|V| \\times d}$ as the matrix of nodes representations at layer $l$. With ommiting bias for notation simplicity we can write unnormalized convolution result as: \n",
    "\n",
    "$$\n",
    "H^l = \\sigma \\left( AH^{l-1}W_l \\right)\n",
    "$$\n",
    "\n",
    "The sum notation is described by $D^{-\\frac{1}{2}} A D^{-\\frac{1}{2}} H^{l-1}$"
   ]
  }
 ],
 "metadata": {
  "kernelspec": {
   "display_name": "default",
   "language": "python",
   "name": "python3"
  },
  "language_info": {
   "codemirror_mode": {
    "name": "ipython",
    "version": 3
   },
   "file_extension": ".py",
   "mimetype": "text/x-python",
   "name": "python",
   "nbconvert_exporter": "python",
   "pygments_lexer": "ipython3",
   "version": "3.10.9"
  },
  "orig_nbformat": 4
 },
 "nbformat": 4,
 "nbformat_minor": 2
}
