{
 "cells": [
  {
   "attachments": {},
   "cell_type": "markdown",
   "metadata": {},
   "source": [
    "## 1 Laplacian Embeddings, PCA and SVD"
   ]
  },
  {
   "attachments": {},
   "cell_type": "markdown",
   "metadata": {},
   "source": [
    "This exercise guides you through relating Laplacian Embeddings, Principal Component Analysis (PCA), and Singular Value Decomposition (SVD) through pseudoinverses and incidence matrices."
   ]
  },
  {
   "attachments": {},
   "cell_type": "markdown",
   "metadata": {},
   "source": [
    "#### Task a\n",
    "\n",
    "An inverse of a real matrix does not always exists. A generalization of the matrix inverse is known as the pseudoinverse,also known as the Moore-Penrose inverse. One way to calculate the inverse of a real matrix M is to calculate its Singular Value Decomposition (SVD) $M = U \\Sigma V^T$ before taking its inverse $M^+ = V \\Sigma^+ U^T$ , where the pseudoinverse $\\Sigma^+ = \\Sigma^{-1}$ of the diagonal singular value matrix $\\Sigma$ calculated by simply taking the reciprocal of each its elements. Recall that the eigendecomposition of a real symmetric matrix L can be written as:\n",
    "\n",
    "$$\n",
    "\\begin{align*}\n",
    "L = Q \\Delta Q^T = M M ^ T\n",
    "\\end{align*}\n",
    "$$\n",
    "\n",
    "where $M = Q \\sqrt \\Delta$. Show that $L = U \\Sigma^T \\Sigma U^T$. This iss one way eigendecomposition and SVD are related for real symmetric matrices."
   ]
  },
  {
   "attachments": {},
   "cell_type": "markdown",
   "metadata": {},
   "source": [
    "Lets rewrite the formula:\n",
    "\n",
    "$$\n",
    "\\begin{align*}\n",
    "L &= M M^T = \\\\\n",
    "&= U \\Sigma V^T  (U \\Sigma V^T) ^ T\\\\\n",
    "&= U \\Sigma V^T V \\Sigma^T U ^ T\\\\\n",
    "&= U \\Sigma (V^T V) \\Sigma^T U ^ T\n",
    "\\end{align*}\n",
    "$$\n",
    "\n",
    "Considering that fact that\n",
    "\n",
    "$V$ is the orthogonal matrix so the $V^T$ is also orthogonal matrix. And their multiplication is equal to 1-matrix. So, $V^T V = 1$.\n",
    "\n",
    "$\\Sigma$ is the diagonal matrix so $\\Sigma = \\Sigma^T$\n",
    "\n",
    "So at the end of the day:\n",
    "\n",
    "$$\n",
    "\\begin{align*}\n",
    "M M^T &= U \\Sigma (V^T V) \\Sigma^T U ^ T\\\\\n",
    "&= U \\Sigma \\Sigma^T U ^ T\\\\\n",
    "&= U \\Sigma^T \\Sigma U ^ T\n",
    "\\end{align*}\n",
    "$$"
   ]
  },
  {
   "attachments": {},
   "cell_type": "markdown",
   "metadata": {},
   "source": [
    "## Task b\n",
    "\n",
    "We can define $L^+ = (M^T)^+ M^+ = X^TX$ where $X = M^+$. This creates a centered \"data matrix\" X so $L^+$ can be interpreted as a covariance matrix. Now consider when L is the Laplacian of a simple graph G. Argue how the objective of Principal Component Analysis (PCA) of X is equivalent to that of spectral embedding of G via eigendecomposition of its Laplacian L(Laplacian Embedding).\n",
    "\n",
    "First let`s consider a PCA objective for the X. The $L^+ = X^TX$ is a covariance matrix so the objective is:\n",
    "\n",
    "$$\n",
    "\\begin{align*}\n",
    "\\max_{\\vec{u_1}} \\vec{u_1} ^T L^+ \\vec{u_1} &= \\max_{\\vec{u_1}} \\vec{u_1} ^T X^TX \\vec{u_1} \\\\\n",
    "&= \\max_{\\vec{u_1}} \\vec{u_1}^T (M^+)^T M^+ \\vec{u_1} \\\\\n",
    "&= \\max_{\\vec{u_1}} \\vec{u_1}^T (V \\Sigma^+ U^T)^T V \\Sigma^+ U^T \\vec{u_1} \\\\\n",
    "&= \\max_{\\vec{u_1}} U (\\Sigma^+)^T V^T V \\Sigma^+ U^T \\vec{u_1} \\\\\n",
    "&= \\max_{\\vec{u_1}} U (\\Sigma^+)^T \\Sigma^+ U^T \\vec{u_1} \\\\\n",
    "&= \\max_{\\vec{u_1}} U (\\Sigma^{-1})^T \\Sigma^{-1} U^T \\vec{u_1}\n",
    "\\end{align*}\n",
    "$$\n",
    "\n",
    "At the ame time the objective function of the laplacian embeddings for the L Laplacian matrix:\n",
    "\n",
    "$$\n",
    "\\begin{align*}\n",
    "\\min_{\\vec{u_2}} \\vec{u_2}^T L \\vec{u_2} &= \\min_{\\vec{u_2}} \\vec{u_2}^T U \\Sigma^T \\Sigma U^T \\vec{u_2}\n",
    "\\end{align*}\n",
    "$$\n",
    "\n",
    "\n",
    "So, in the PCA case the solution $\\vec{u_1}$ will be the first d eigenvectors of the corressponding d largest eigenvalues. At th same time the eigenvalues of the laplacian matrix will be just inversed eigenvalues of the $L^+$ with the same eigenvectorss whoch also will be the olution in thiss case because we take d eigenvectors which correspond to d lowest eigenvalues in this time. So, both solutions are the same here. "
   ]
  },
  {
   "attachments": {},
   "cell_type": "markdown",
   "metadata": {},
   "source": [
    "#### Task c\n",
    "\n",
    "Consider the following simple graph.\n",
    "\n",
    "![graph](1_c.png)\n",
    "\n",
    "Write down its unnormalized Laplacian L."
   ]
  },
  {
   "cell_type": "code",
   "execution_count": 1,
   "metadata": {},
   "outputs": [
    {
     "data": {
      "text/html": [
       "\n",
       "    <script charset=\"utf-8\">\n",
       "    // Load via requireJS if available (jupyter notebook environment)\n",
       "    try {\n",
       "    require.config({\n",
       "    paths: {\n",
       "    d3: \"https://d3js.org/d3.v5.min.js\".replace(\".js\", \"\")\n",
       "    }\n",
       "    });\n",
       "    console.log(\"OKAY: requireJS was detected\");\n",
       "    }\n",
       "    catch(err){\n",
       "    console.log(err);\n",
       "    console.log(\"ERROR: NO requireJS was detected\");\n",
       "    };\n",
       "    require(['d3'], function(d3){\n",
       "    console.log(\"OKAY: d3js was detected\");\n",
       "    });\n",
       "    </script>\n",
       "    "
      ],
      "text/plain": [
       "<IPython.core.display.HTML object>"
      ]
     },
     "metadata": {},
     "output_type": "display_data"
    }
   ],
   "source": [
    "import scipy as sp\n",
    "import numpy as np\n",
    "import pathpy as pp\n",
    "import pathpyG as ppg\n",
    "from scipy.linalg import svd, inv, eig\n",
    "from sklearn.decomposition import PCA\n",
    "from sklearn.manifold import SpectralEmbedding"
   ]
  },
  {
   "cell_type": "code",
   "execution_count": 2,
   "metadata": {},
   "outputs": [
    {
     "data": {
      "text/html": [
       "<style>\n",
       "svg circle.node {\n",
       "  fill: #3b5998;\n",
       "  stroke: #1b3978;\n",
       "  stroke-width: 2.5px;\n",
       "  r: 15px;\n",
       "  opacity: 1;\n",
       "}\n",
       "\n",
       ".link {\n",
       "  stroke: #969595;\n",
       "  stroke-opacity: .75;\n",
       "  stroke-width: 2.5px;\n",
       "}\n",
       "\n",
       ".arrow {\n",
       "  fill: #969595;\n",
       "}\n",
       "\n",
       "\n",
       ".label-text {\n",
       "    fill: #969595;\n",
       "    font-size: 16px;\n",
       "    font-family: sans-serif;\n",
       "}\n",
       "\n",
       "</style>\n",
       "\n",
       "<div id = \"x287e11c8c9f64cbc8bf9fec3fe87f3e1\"> </div>\n",
       "<script charset=\"utf-8\" src=\"https://d3js.org/d3.v5.min.js\"></script>\n",
       "<script charset=\"utf-8\">\n",
       "// Load via requireJS if available (jupyter notebook environment)\n",
       "try {\n",
       "    // Problem: require.config will raise an exception when called for the second time \n",
       "    require.config({\n",
       "        paths: {\n",
       "            d3: \"https://d3js.org/d3.v5.min.js\".replace(\".js\", \"\")\n",
       "        }\n",
       "    });\n",
       "    console.log(\"OKAY: requireJS was detected.\");\n",
       "}\n",
       "catch(err){\n",
       "    // a reference error indicates that requireJS does not exist. \n",
       "    // other errors may occur due to multiple calls to config\n",
       "    if (err instanceof ReferenceError){\n",
       "        console.log(\"WARNING: NO requireJS was detected!\");\n",
       "\n",
       "        // Helper function that waits for d3js to be loaded\n",
       "        require = function require(symbols, callback) {\n",
       "            var ms = 10;\n",
       "            window.setTimeout(function(t) {\n",
       "                if (window[symbols[0]])\n",
       "                    callback(window[symbols[0]]);\n",
       "                else \n",
       "                    window.setTimeout(arguments.callee, ms);\n",
       "            }, ms);\n",
       "        }\n",
       "    }\n",
       "};\n",
       "require(['d3'], function(d3){ //START\n",
       "const data = {\"edges\": [{\"uid\": \"1-2\", \"source\": \"1\", \"target\": \"2\", \"weight\": 1}, {\"uid\": \"1-3\", \"source\": \"1\", \"target\": \"3\", \"weight\": 1}, {\"uid\": \"2-1\", \"source\": \"2\", \"target\": \"1\", \"weight\": 1}, {\"uid\": \"2-3\", \"source\": \"2\", \"target\": \"3\", \"weight\": 1}, {\"uid\": \"3-1\", \"source\": \"3\", \"target\": \"1\", \"weight\": 1}, {\"uid\": \"3-2\", \"source\": \"3\", \"target\": \"2\", \"weight\": 1}, {\"uid\": \"3-4\", \"source\": \"3\", \"target\": \"4\", \"weight\": 1}, {\"uid\": \"4-3\", \"source\": \"4\", \"target\": \"3\", \"weight\": 1}, {\"uid\": \"4-5\", \"source\": \"4\", \"target\": \"5\", \"weight\": 1}, {\"uid\": \"4-6\", \"source\": \"4\", \"target\": \"6\", \"weight\": 1}, {\"uid\": \"5-4\", \"source\": \"5\", \"target\": \"4\", \"weight\": 1}, {\"uid\": \"5-6\", \"source\": \"5\", \"target\": \"6\", \"weight\": 1}, {\"uid\": \"6-4\", \"source\": \"6\", \"target\": \"4\", \"weight\": 1}, {\"uid\": \"6-5\", \"source\": \"6\", \"target\": \"5\", \"weight\": 1}], \"nodes\": [{\"uid\": \"1\"}, {\"uid\": \"2\"}, {\"uid\": \"3\"}, {\"uid\": \"4\"}, {\"uid\": \"5\"}, {\"uid\": \"6\"}]}\n",
       "const config = {\"directed\": false, \"curved\": false, \"selector\": \"#x287e11c8c9f64cbc8bf9fec3fe87f3e1\"}\n",
       "console.log(\"Static Network Template\");\n",
       "/* Resources\n",
       "   https://bl.ocks.org/mapio/53fed7d84cd1812d6a6639ed7aa83868\n",
       "   https://codepen.io/smlo/pen/JdMOej\n",
       "*/\n",
       "\n",
       "// variables from the config file\n",
       "const selector = config.selector;\n",
       "const width = config.width || 800;\n",
       "const height = config.height || 600;\n",
       "const charge_distance = config.charge_distance || 400;\n",
       "const charge_force = config.charge_force || -3000;\n",
       "const curved = config.curved || false;\n",
       "const directed = config.directed || false;\n",
       "// const weight = false;\n",
       "\n",
       "/* Create a svg element to display the network */\n",
       "var svg = d3.select(selector)\n",
       "    .append('svg')\n",
       "    .attr('width', width)\n",
       "    .attr('height', height)\n",
       "\n",
       "// add container to store the elements\n",
       "var container = svg.append(\"g\");\n",
       "\n",
       "/*Add zoom function to the container */\n",
       "svg.call(\n",
       "    d3.zoom()\n",
       "        .scaleExtent([.1, 4])\n",
       "        .on(\"zoom\", function() { container.attr(\"transform\", d3.event.transform); })\n",
       ");\n",
       "\n",
       "\n",
       "/*Load nodes and links from the data */\n",
       "var nodes = data.nodes\n",
       "var links = data.edges\n",
       "\n",
       "/*Create arrow head with same color as the edge */\n",
       "function marker (color) {\n",
       "       var reference;\n",
       "       svg.append(\"svg:defs\").selectAll(\"marker\")\n",
       "          .data([reference])\n",
       "          .enter().append(\"svg:marker\")\n",
       "          .attr(\"id\", \"arrow\"+color)\n",
       "          .attr(\"viewBox\", \"0 -5 10 10\")\n",
       "          .attr(\"refX\", 10)\n",
       "          .attr(\"refY\", -0)\n",
       "          .attr(\"markerWidth\", 6)\n",
       "          .attr(\"markerHeight\", 6)\n",
       "          .attr(\"orient\", \"auto\")\n",
       "          .append(\"svg:path\")\n",
       "          .attr('class','.arrow')\n",
       "          .attr(\"d\", \"M0,-5L10,0L0,5\")\n",
       "          .style('opacity',1)\n",
       "          .style(\"fill\", color);\n",
       "       return \"url(#\" + \"arrow\"+color + \")\";\n",
       "     };\n",
       "\n",
       "/*Link creation template */\n",
       "var link = container.append(\"g\").attr(\"class\", \"links\")\n",
       "    .selectAll(\".link\")\n",
       "    .data(links)\n",
       "    .enter()\n",
       "    .append(\"path\")\n",
       "    .attr(\"class\", \"link\")\n",
       "    .style(\"stroke\", function(d) { return d.color; })\n",
       "    .style(\"stroke-opacity\", function(d) { return d.opacity; })\n",
       "    .style(\"stroke-width\", function(d){  return d.size })\n",
       "    .style(\"fill\",\"none\")\n",
       "    .attr(\"marker-end\", function (d) {if(directed){return marker(d.color)}else{return null}; });\n",
       "\n",
       "    //.attr(\"marker-end\", function (d) { return marker(d.color); });\n",
       "    //.attr(\"marker-end\", \"url(#arrow)\");\n",
       "\n",
       "/*Node creation template */\n",
       "var node = container.append(\"g\").attr(\"class\", \"nodes\")\n",
       "    .selectAll(\"circle.node\")\n",
       "    .data(nodes)\n",
       "    .enter().append(\"circle\")\n",
       "    .attr(\"class\", \"node\")\n",
       "    .attr(\"x\", function(d) { return d.x; })\n",
       "    .attr(\"y\", function(d) { return d.y; })\n",
       "    .style(\"r\", function(d){  return d.size+\"px\"; })\n",
       "    .style(\"fill\", function(d) { return d.color; })\n",
       "    .style(\"opacity\", function(d) { return d.opacity; });\n",
       "\n",
       "/*Label creation template */\n",
       "var text = container.append(\"g\").attr(\"class\",\"labels\")\n",
       "    .selectAll(\"g\")\n",
       "    .data(nodes)\n",
       "    .enter().append(\"g\")\n",
       "\n",
       "text.append(\"text\")\n",
       "    .attr(\"class\", \"label-text\")\n",
       "    .attr(\"x\", function(d) {\n",
       "        var r = (d.size === undefined) ? 15 : d.size;\n",
       "        return 5 + r; })\n",
       "    .attr(\"dy\", \".31em\")\n",
       "    .text(function(d) { return d.label; });\n",
       "\n",
       "/*Scale weight for d3js */\n",
       "var weightScale = d3.scaleLinear()\n",
       "    .domain(d3.extent(links, function (d) { return d.weight }))\n",
       "    .range([.1, 1]);\n",
       "\n",
       "/*Simulation of the forces*/\n",
       "var simulation = d3.forceSimulation(nodes)\n",
       "    .force(\"links\", d3.forceLink(links)\n",
       "           .id(function(d) {return d.uid; })\n",
       "           .distance(50)\n",
       "           .strength(function(d){return weightScale(d.weight);})\n",
       "          )\n",
       "    .force(\"charge\", d3.forceManyBody()\n",
       "           .strength(charge_force)\n",
       "           .distanceMax(charge_distance)\n",
       "          )\n",
       "    .force(\"center\", d3.forceCenter(width / 2, height / 2))\n",
       "    .on(\"tick\", ticked);\n",
       "\n",
       "/*Update of the node and edge objects*/\n",
       "function ticked() {\n",
       "    node.call(updateNode);\n",
       "    link.call(updateLink);\n",
       "    text.call(updateText);\n",
       "};\n",
       "\n",
       "/*Update link positions */\n",
       "function updateLink(link) {\n",
       "    // link\n",
       "    //     .attr(\"x1\", function(d) { return d.source.x; })\n",
       "    //     .attr(\"y1\", function(d) { return d.source.y; })\n",
       "    //     .attr(\"x2\", function(d) { return d.target.x; })\n",
       "    //     .attr(\"y2\", function(d) { return d.target.y; });\n",
       "\n",
       "\n",
       "    link.attr(\"d\", function(d) {\n",
       "        var dx = d.target.x - d.source.x,\n",
       "            dy = d.target.y - d.source.y,\n",
       "            dr = Math.sqrt(dx * dx + dy * dy);\n",
       "        if(!curved)dr=0;\n",
       "        return \"M\" +\n",
       "            d.source.x + \",\" +\n",
       "            d.source.y + \"A\" +\n",
       "            dr + \",\" + dr + \" 0 0,1 \" +\n",
       "            d.target.x + \",\" +\n",
       "            d.target.y;\n",
       "    });\n",
       "\n",
       "    // recalculate and back off the distance\n",
       "    link.attr(\"d\", function (d, i) {\n",
       "        var pl = this.getTotalLength();\n",
       "        var r = (d.target.size === undefined) ? 15 : d.target.size;\n",
       "        var m = this.getPointAtLength(pl - r);\n",
       "        var dx = d.target.x - d.source.x,\n",
       "            dy = d.target.y - d.source.y,\n",
       "            dr = Math.sqrt(dx * dx + dy * dy);\n",
       "        if(!curved)dr=0;\n",
       "        var result = \"M\" + d.source.x + \",\" + d.source.y + \"A\" + dr + \",\" + dr + \" 0 0,1 \" + m.x + \",\" + m.y;\n",
       "        return result;\n",
       "    });\n",
       "};\n",
       "\n",
       "\n",
       "/*Update node positions */\n",
       "function updateNode(node) {\n",
       "    node.attr(\"transform\", function(d) {\n",
       "        return \"translate(\" + d.x + \",\" + d.y + \")\";\n",
       "    });\n",
       "    // node\n",
       "    //     .attr(\"cx\", function(d) { return d.x; })\n",
       "    //     .attr(\"cy\", function(d) { return d.y; });\n",
       "};\n",
       "\n",
       "/*Update text positions */\n",
       "function updateText(text) {\n",
       "    text.attr(\"transform\", function(d) {\n",
       "        return \"translate(\" + d.x + \",\" + d.y + \")\";\n",
       "    });\n",
       "};\n",
       "\n",
       "/*Add drag functionality to the node objects*/\n",
       "node.call(\n",
       "    d3.drag()\n",
       "        .on(\"start\", dragstarted)\n",
       "        .on(\"drag\", dragged)\n",
       "        .on(\"end\", dragended)\n",
       ");\n",
       "\n",
       "function dragstarted(d) {\n",
       "    d3.event.sourceEvent.stopPropagation();\n",
       "    if (!d3.event.active) simulation.alphaTarget(0.3).restart();\n",
       "    d.fx = d.x;\n",
       "    d.fy = d.y;\n",
       "};\n",
       "\n",
       "function dragged(d) {\n",
       "    d.fx = d3.event.x;\n",
       "    d.fy = d3.event.y;\n",
       "};\n",
       "\n",
       "function dragended(d) {\n",
       "    if (!d3.event.active) simulation.alphaTarget(0);\n",
       "    d.fx = null;\n",
       "    d.fy = null;\n",
       "};\n",
       "\n",
       "}); //END\n",
       "\n",
       "</script>"
      ]
     },
     "metadata": {},
     "output_type": "display_data"
    },
    {
     "data": {
      "text/plain": [
       "<pathpyG.visualisations.network_plots.StaticNetworkPlot at 0x7f1d9dedd600>"
      ]
     },
     "execution_count": 2,
     "metadata": {},
     "output_type": "execute_result"
    }
   ],
   "source": [
    "network = ppg.Graph.from_edge_list([\n",
    "    (\"1\", \"2\"),\n",
    "    (\"1\", \"3\"),\n",
    "    (\"2\", \"3\"),\n",
    "    (\"3\", \"4\"),\n",
    "    (\"4\", \"5\"),\n",
    "    (\"4\", \"6\"),\n",
    "    (\"5\", \"6\")\n",
    "]).to_undirected()\n",
    "ppg.plot(network)"
   ]
  },
  {
   "cell_type": "code",
   "execution_count": 3,
   "metadata": {},
   "outputs": [
    {
     "data": {
      "text/plain": [
       "matrix([[ 2., -1., -1.,  0.,  0.,  0.],\n",
       "        [-1.,  2., -1.,  0.,  0.,  0.],\n",
       "        [-1., -1.,  3., -1.,  0.,  0.],\n",
       "        [ 0.,  0., -1.,  3., -1., -1.],\n",
       "        [ 0.,  0.,  0., -1.,  2., -1.],\n",
       "        [ 0.,  0.,  0., -1., -1.,  2.]], dtype=float32)"
      ]
     },
     "execution_count": 3,
     "metadata": {},
     "output_type": "execute_result"
    }
   ],
   "source": [
    "L = network.get_laplacian().todense()\n",
    "L"
   ]
  },
  {
   "attachments": {},
   "cell_type": "markdown",
   "metadata": {},
   "source": [
    "#### Task d\n",
    "\n",
    "Calculate its “data matrix” X and show that PCA of X is equivalent to that of its spectral embedding via eigendecomposition of its Laplacian L (Laplacian Embedding)"
   ]
  },
  {
   "cell_type": "markdown",
   "metadata": {},
   "source": [
    "So, first we will find $Q$ and $\\sqrt{\\Lambda}$"
   ]
  },
  {
   "cell_type": "code",
   "execution_count": 4,
   "metadata": {},
   "outputs": [],
   "source": [
    "ew, ev = eig(L)\n",
    "Q = ev[:,np.argsort(-ew)]\n",
    "ew = -np.sort(-ew)\n",
    "Lambda = np.diag(ew)"
   ]
  },
  {
   "cell_type": "markdown",
   "metadata": {},
   "source": [
    "Now $M$, SVD of it and then $M^+$, so finally X"
   ]
  },
  {
   "cell_type": "code",
   "execution_count": null,
   "metadata": {},
   "outputs": [],
   "source": [
    "M = Q @ np.sqrt(np.abs(Lambda))"
   ]
  },
  {
   "cell_type": "code",
   "execution_count": null,
   "metadata": {},
   "outputs": [],
   "source": [
    "V, Sigma, U_T = svd(M, full_matrices=True)"
   ]
  },
  {
   "cell_type": "code",
   "execution_count": 11,
   "metadata": {},
   "outputs": [],
   "source": [
    "X = (U_T.T @ np.diag(1 / Sigma) @ V.T)"
   ]
  },
  {
   "cell_type": "code",
   "execution_count": 12,
   "metadata": {},
   "outputs": [
    {
     "data": {
      "text/plain": [
       "array([[ 7.9765765e+02, -3.0008525e-01,  5.0199269e-03],\n",
       "       [ 7.9765723e+02, -3.2437798e-01, -1.2492170e-02],\n",
       "       [ 7.9765723e+02, -3.0209878e-01, -6.0632247e-01],\n",
       "       [ 7.9765723e+02, -2.9833099e-01,  6.1553311e-01],\n",
       "       [ 7.9765729e+02,  1.2246594e+00, -1.7004479e-03],\n",
       "       [-3.9882864e+03, -4.6712586e-05,  7.5817024e-06]], dtype=float32)"
      ]
     },
     "execution_count": 12,
     "metadata": {},
     "output_type": "execute_result"
    }
   ],
   "source": [
    "pca_embedding = PCA(n_components=3).fit_transform(X)\n",
    "pca_embedding"
   ]
  },
  {
   "cell_type": "code",
   "execution_count": 13,
   "metadata": {},
   "outputs": [],
   "source": [
    "def laplacian_embedding(network, d=None, normalization = None):\n",
    "    \"\"\"Function that returns a vector representation of all nodes based on the entries of eigenvectors of the laplacian\"\"\"\n",
    "    \n",
    "    if d is None:\n",
    "        d = network.N - 1\n",
    "    ew, ev = sp.linalg.eig(network.get_laplacian(normalization=normalization).todense())\n",
    "\n",
    "    # indices of non-zero eigenvalues\n",
    "    nonzero_indices = np.where(~np.isclose(ew, 0, atol=1e-5))[0]\n",
    "\n",
    "    # select eigenvectors and eigenvalues corresponding to non-zero eigenvalues\n",
    "    ev = ev[:, nonzero_indices]\n",
    "    ew = ew[nonzero_indices]\n",
    "\n",
    "    # Sort eigenvalues and eigenvectors according to eigenvalue magnitude\n",
    "    sort_indices = np.argsort(ew)\n",
    "    ew = ew[sort_indices]\n",
    "    ev = ev[:, sort_indices]\n",
    "\n",
    "    return ev[:, :d].real"
   ]
  },
  {
   "cell_type": "code",
   "execution_count": 15,
   "metadata": {},
   "outputs": [
    {
     "data": {
      "text/plain": [
       "array([[ 0.46470514,  0.02630652,  0.0131867 ],\n",
       "       [ 0.4647051 , -0.55195224, -0.27667776],\n",
       "       [ 0.26095632,  0.52564585,  0.26349115],\n",
       "       [-0.2609565 ,  0.5256457 ,  0.263491  ],\n",
       "       [-0.46470514, -0.30697098, -0.7439981 ],\n",
       "       [-0.46470514, -0.21867466,  0.48050714]], dtype=float32)"
      ]
     },
     "execution_count": 15,
     "metadata": {},
     "output_type": "execute_result"
    }
   ],
   "source": [
    "l_emb = laplacian_embedding(network, d=3)\n",
    "l_emb"
   ]
  },
  {
   "attachments": {},
   "cell_type": "markdown",
   "metadata": {},
   "source": [
    "#### Task e\n",
    "\n",
    "Instead of constructing the Laplacian as L = D−A where D and A are the degree and adjacency matrices, respectively, the Laplacian can be constructed via incidence matrices. The incidence matrix B describes the connectivity between nodes and edges. For the simple graph above the incidence matrix can be written as:\n",
    "\n",
    "![one_more_graph](1_e.png)\n",
    "\n",
    "\n",
    "where its rows represent nodes and its columns represent edges. Note how every edge is incident to only 2 nodes, and the incidence matrix requires an orientation, labelling one incidence 1 and another −1. The choice of which incidence is labelled 1 or −1 is arbitrary, and is simply a matter of bookkeeping 1. For the simple graph above, calculate L = BB T .\n"
   ]
  },
  {
   "cell_type": "code",
   "execution_count": 16,
   "metadata": {},
   "outputs": [
    {
     "data": {
      "text/plain": [
       "array([[ 1,  1,  0,  0,  0,  0,  0],\n",
       "       [-1,  0,  1,  0,  0,  0,  0],\n",
       "       [ 0, -1, -1,  1,  0,  0,  0],\n",
       "       [ 0,  0,  0, -1,  1,  1,  0],\n",
       "       [ 0,  0,  0,  0, -1,  0,  1],\n",
       "       [ 0,  0,  0,  0,  0, -1, -1]])"
      ]
     },
     "execution_count": 16,
     "metadata": {},
     "output_type": "execute_result"
    }
   ],
   "source": [
    "B = np.array([\n",
    "    [1,  1,  0,  0,  0,  0,  0],\n",
    "    [-1, 0,  1,  0,  0,  0,  0],\n",
    "    [0,  -1, -1, 1,  0,  0,  0],\n",
    "    [0,  0,  0,  -1, 1,  1,  0],\n",
    "    [0,  0,  0,  0,  -1, 0,  1],\n",
    "    [0,  0,  0,  0,  0,  -1, -1]\n",
    "])\n",
    "B"
   ]
  },
  {
   "cell_type": "code",
   "execution_count": 17,
   "metadata": {},
   "outputs": [
    {
     "data": {
      "text/plain": [
       "array([[ 2, -1, -1,  0,  0,  0],\n",
       "       [-1,  2, -1,  0,  0,  0],\n",
       "       [-1, -1,  3, -1,  0,  0],\n",
       "       [ 0,  0, -1,  3, -1, -1],\n",
       "       [ 0,  0,  0, -1,  2, -1],\n",
       "       [ 0,  0,  0, -1, -1,  2]])"
      ]
     },
     "execution_count": 17,
     "metadata": {},
     "output_type": "execute_result"
    }
   ],
   "source": [
    "L2 = B @ B.T\n",
    "L2"
   ]
  },
  {
   "cell_type": "code",
   "execution_count": 18,
   "metadata": {},
   "outputs": [
    {
     "data": {
      "text/plain": [
       "matrix([[ 2., -1., -1.,  0.,  0.,  0.],\n",
       "        [-1.,  2., -1.,  0.,  0.,  0.],\n",
       "        [-1., -1.,  3., -1.,  0.,  0.],\n",
       "        [ 0.,  0., -1.,  3., -1., -1.],\n",
       "        [ 0.,  0.,  0., -1.,  2., -1.],\n",
       "        [ 0.,  0.,  0., -1., -1.,  2.]], dtype=float32)"
      ]
     },
     "execution_count": 18,
     "metadata": {},
     "output_type": "execute_result"
    }
   ],
   "source": [
    "L"
   ]
  },
  {
   "attachments": {},
   "cell_type": "markdown",
   "metadata": {},
   "source": [
    "#### Task f pretty same as g\n",
    "\n",
    "$L = BB^T$ holds more generally than for this example. Show that (generally, for simple graphs) the singular vectors of Singular Value Decompostion (SVD) of B are equivalent to the eigenvectors of eigendecomposition of L."
   ]
  },
  {
   "cell_type": "code",
   "execution_count": 37,
   "metadata": {},
   "outputs": [],
   "source": [
    "u, s, v_t = svd(B, full_matrices=True)"
   ]
  },
  {
   "cell_type": "code",
   "execution_count": 38,
   "metadata": {},
   "outputs": [
    {
     "data": {
      "text/plain": [
       "array([[ 0.1845,  0.    , -0.    , -0.7638,  0.4647, -0.4082],\n",
       "       [ 0.1845, -0.0602, -0.5311,  0.5455,  0.4647, -0.4082],\n",
       "       [-0.6572,  0.0602,  0.5311,  0.2182,  0.261 , -0.4082],\n",
       "       [ 0.6572,  0.0602,  0.5311,  0.2182, -0.261 , -0.4082],\n",
       "       [-0.1845, -0.7327, -0.1859, -0.1091, -0.4647, -0.4082],\n",
       "       [-0.1845,  0.6725, -0.3452, -0.1091, -0.4647, -0.4082]])"
      ]
     },
     "execution_count": 38,
     "metadata": {},
     "output_type": "execute_result"
    }
   ],
   "source": [
    "u.round(4)"
   ]
  },
  {
   "cell_type": "code",
   "execution_count": 39,
   "metadata": {},
   "outputs": [],
   "source": [
    "ew, ev = eig(L)"
   ]
  },
  {
   "cell_type": "code",
   "execution_count": 40,
   "metadata": {},
   "outputs": [
    {
     "data": {
      "text/plain": [
       "array([[ 0.1845, -0.7638, -0.4082,  0.4647,  0.0263,  0.0132],\n",
       "       [ 0.1845,  0.5455, -0.4082,  0.4647, -0.552 , -0.2767],\n",
       "       [-0.6572,  0.2182, -0.4082,  0.261 ,  0.5256,  0.2635],\n",
       "       [ 0.6572,  0.2182, -0.4082, -0.261 ,  0.5256,  0.2635],\n",
       "       [-0.1845, -0.1091, -0.4082, -0.4647, -0.307 , -0.744 ],\n",
       "       [-0.1845, -0.1091, -0.4082, -0.4647, -0.2187,  0.4805]],\n",
       "      dtype=float32)"
      ]
     },
     "execution_count": 40,
     "metadata": {},
     "output_type": "execute_result"
    }
   ],
   "source": [
    "ev.round(4)"
   ]
  }
 ],
 "metadata": {
  "kernelspec": {
   "display_name": "Python 3 (ipykernel)",
   "language": "python",
   "name": "python3"
  },
  "orig_nbformat": 4
 },
 "nbformat": 4,
 "nbformat_minor": 2
}
