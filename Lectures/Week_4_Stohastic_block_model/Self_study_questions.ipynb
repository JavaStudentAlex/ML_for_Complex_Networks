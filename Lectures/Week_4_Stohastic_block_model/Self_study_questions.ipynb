{
 "cells": [
  {
   "cell_type": "markdown",
   "metadata": {},
   "source": [
    "## 1. How can we calculate the maximum likelihood of a block assignment vector $\\vec{z}$ with $B$ blocks for a given network?"
   ]
  },
  {
   "cell_type": "markdown",
   "metadata": {},
   "source": [
    "$$\n",
    "\\begin{align*}\n",
    "\\mathcal{L}(\\hat{M}, \\vec{z}) = \\prod_{0\\leq k \\leq I \\leq B - 1} \\frac{E_{kl}}{N_{kl}} ^ {E_{kl}} \\left( 1 - \\frac{E_{kl}}{N_{kl}} \\right) ^ {N_{kl} - E_{kl}}\n",
    "\\end{align*}\n",
    "$$"
   ]
  },
  {
   "cell_type": "markdown",
   "metadata": {},
   "source": [
    "## 2. Explain how we can use the stochastic block model to infer community structures in networks."
   ]
  },
  {
   "cell_type": "markdown",
   "metadata": {},
   "source": [
    "We can use an assumption how is the SBM is built to estimate the best community assignment by the likelihood."
   ]
  },
  {
   "cell_type": "markdown",
   "metadata": {},
   "source": [
    "## 3. Give an assignment for block assignment vectors where mutual information is smaller than 1 while normalized mutual information is 1."
   ]
  },
  {
   "cell_type": "markdown",
   "metadata": {},
   "source": [
    "It appears for the example 4 at the slide 33:\n",
    "$$\n",
    "\\begin{align*}\n",
    "&[0, 0, 0, 1] \\\\\n",
    "&[1, 1, 1, 0]\n",
    "\\end{align*}\n",
    "$$"
   ]
  },
  {
   "cell_type": "markdown",
   "metadata": {},
   "source": [
    "## 4. Write down a pseudo-code formulation of the simulated annealing algorithm to detect communities based on the stochastic block model."
   ]
  },
  {
   "cell_type": "markdown",
   "metadata": {},
   "source": [
    "```python\n",
    "for i in range(iterations):\n",
    "t = (1+c)/(i+1+c) # cooling param. c>0\n",
    "old_z = z[v]\n",
    "old_L = L(z)\n",
    "z[v] = random.randint(B)\n",
    "p = np.exp(-(old_L-L(z))/t)\n",
    "if L(z)<old_L or rand()>p:\n",
    "z[v] = old_z\n",
    "```"
   ]
  },
  {
   "cell_type": "markdown",
   "metadata": {},
   "source": [
    "## 5. Explain when and why we need the degree-corrected stochastic block model. "
   ]
  },
  {
   "cell_type": "markdown",
   "metadata": {},
   "source": [
    "The SBM model expects homogenious communities, but real-life networks have quite skewed degree distribution that is why for better results we will need a DBSBM. "
   ]
  },
  {
   "cell_type": "markdown",
   "metadata": {},
   "source": [
    "## 6. How can we estimate block matrix entries in the stochastic block model?"
   ]
  },
  {
   "cell_type": "markdown",
   "metadata": {},
   "source": [
    "$E_{kl}$  - number of links between blocks $k$ and $l$\n",
    "\n",
    "$C_k$ - number of nodes in the block $k$\n",
    "\n",
    "$N_{kl}$ - number of possible links between blocks $k$ and $l$\n",
    "$$\n",
    "\\begin{align*}\n",
    "E_{kl} &= |{(i, j) \\in E, where z_i = k, z_j = l}| \\\\\n",
    "N_{kl} &= \\begin{cases}\n",
    "\\binom{C_k}{2}, k = l \\\\\\\n",
    "C_k * C_l\n",
    "\\end{cases} \\\\\n",
    "\\hat{M_{kl}} &= \\frac{E_{kl}}{M_{kl}} \n",
    "\\end{align*}"
   ]
  },
  {
   "cell_type": "markdown",
   "metadata": {},
   "source": [
    "## 7. Consider an example network with five nodes and ten links. Give parameters $B$ and $\\vec{z}$ for the stochastic block model such that the maximum likelihood is one."
   ]
  },
  {
   "cell_type": "markdown",
   "metadata": {},
   "source": [
    "It is a fully connected network with all links in one community."
   ]
  },
  {
   "cell_type": "markdown",
   "metadata": {},
   "source": [
    "## 8. Consider a version of the simulated annealing algorithm where the number of blocks can increase over time."
   ]
  },
  {
   "cell_type": "markdown",
   "metadata": {},
   "source": [
    "Will be implemented in the assignment."
   ]
  },
  {
   "cell_type": "markdown",
   "metadata": {},
   "source": []
  }
 ],
 "metadata": {
  "language_info": {
   "name": "python"
  }
 },
 "nbformat": 4,
 "nbformat_minor": 2
}
