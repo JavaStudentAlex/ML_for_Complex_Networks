{
 "cells": [
  {
   "attachments": {},
   "cell_type": "markdown",
   "metadata": {},
   "source": [
    "# 09-04 - pyTorch, autograd, and Stochastic Gradient Descent\n",
    "\n",
    "*June 26 2024*  \n",
    "\n",
    "For the simple example discussed in the previous notebook, the parameters learned by the perceptron model (using gradient descent minimization of the loss function) are identical to the parameters that we obtained by fitting the logistic regression model (using gradient ascent maximization of the likelihood function). This is one of the simplest possible examples of a neural network, where the \"network\" actually consists of a single neuron that maps one or more inputs to a single output. \n",
    "\n",
    "We now implement this simple perceptron classifier in the popular neural network library `pytorch`. We also introduce the `autograd` feature, which is used to automatically calculate gradients of loss functions."
   ]
  },
  {
   "cell_type": "code",
   "execution_count": 2,
   "metadata": {},
   "outputs": [],
   "source": [
    "import torch\n",
    "import torch.nn.functional as F\n",
    "from torch.nn import Parameter\n",
    "\n",
    "import numpy as np\n",
    "import scipy.stats\n",
    "import seaborn as sns\n",
    "import pandas as pd\n",
    "from scipy.special import expit\n",
    "import matplotlib.pyplot as plt\n",
    "\n",
    "plt.style.use('default')\n",
    "sns.set_style(\"whitegrid\")"
   ]
  },
  {
   "cell_type": "code",
   "execution_count": 3,
   "metadata": {},
   "outputs": [],
   "source": [
    "def response(x, boundary=0.2, prob_1=1):\n",
    "    if x > boundary:\n",
    "        if np.random.random_sample() < prob_1:\n",
    "            return 1\n",
    "        else:\n",
    "            return 0\n",
    "    else:\n",
    "        if np.random.random_sample() < 1-prob_1:\n",
    "            return 1\n",
    "        else:\n",
    "            return 0"
   ]
  },
  {
   "cell_type": "code",
   "execution_count": 4,
   "metadata": {},
   "outputs": [
    {
     "data": {
      "text/plain": [
       "<Axes: xlabel='x', ylabel='y_class'>"
      ]
     },
     "execution_count": 4,
     "metadata": {},
     "output_type": "execute_result"
    },
    {
     "data": {
      "image/png": "[encoded data removed]",
      "text/plain": [
       "<Figure size 640x480 with 1 Axes>"
      ]
     },
     "metadata": {},
     "output_type": "display_data"
    }
   ],
   "source": [
    "x = 2*scipy.stats.uniform.rvs(size=100)-1\n",
    "y = np.array([ response(x[i]) for i in range(len(x)) ])\n",
    "\n",
    "data = pd.DataFrame({'x': x, 'y_class': y})\n",
    "\n",
    "sns.scatterplot(x='x', y=\"y_class\", data=data, hue='y_class')"
   ]
  },
  {
   "attachments": {},
   "cell_type": "markdown",
   "metadata": {},
   "source": [
    "The machine learning library `pytorch` heavily builds on the `torch.tensor` data structure, i.e. all inputs and outputs are assumed to be tensors, i.e. multi-dimensional arrays or higher-dimensional generalizations of vectors and matrices.\n",
    "\n",
    "For our example, we convert our data to a one-dimensional tensor, i.e. a vector."
   ]
  },
  {
   "cell_type": "code",
   "execution_count": 5,
   "metadata": {},
   "outputs": [
    {
     "name": "stdout",
     "output_type": "stream",
     "text": [
      "tensor([ 0.9576, -0.4578, -0.3010,  0.7961, -0.6924,  0.3397,  0.2720,  0.6667,\n",
      "         0.1128, -0.5932,  0.0964, -0.1515, -0.4237,  0.4621,  0.2651,  0.3503,\n",
      "        -0.9683, -0.9694,  0.7880, -0.0656, -0.6200, -0.0894, -0.0903, -0.6926,\n",
      "         0.2321,  0.3013,  0.5020, -0.8655,  0.0860, -0.0922, -0.1059,  0.7358,\n",
      "         0.6612,  0.5313, -0.1463, -0.8996,  0.1280, -0.4630, -0.0138, -0.0959,\n",
      "        -0.4901, -0.8290,  0.6427,  0.3990,  0.8951, -0.9153,  0.1499,  0.0295,\n",
      "         0.3592,  0.5488, -0.4134, -0.3984,  0.5017, -0.8149, -0.5884, -0.8685,\n",
      "        -0.5673,  0.7638,  0.3683, -0.1540, -0.1181,  0.9188, -0.5461,  0.9040,\n",
      "         0.8438, -0.7918,  0.5193, -0.1049,  0.6093, -0.6928, -0.2274, -0.4500,\n",
      "        -0.5622,  0.5006, -0.7509,  0.0108, -0.8327,  0.8509,  0.3861, -0.3533,\n",
      "        -0.1612,  0.2732, -0.8376,  0.1068, -0.0552, -0.6414, -0.7824, -0.9400,\n",
      "         0.4820, -0.9088, -0.2896, -0.4498, -0.3220,  0.1823,  0.9538,  0.7410,\n",
      "        -0.3625, -0.6240, -0.2289, -0.5369])\n",
      "tensor([1., 0., 0., 1., 0., 1., 1., 1., 0., 0., 0., 0., 0., 1., 1., 1., 0., 0.,\n",
      "        1., 0., 0., 0., 0., 0., 1., 1., 1., 0., 0., 0., 0., 1., 1., 1., 0., 0.,\n",
      "        0., 0., 0., 0., 0., 0., 1., 1., 1., 0., 0., 0., 1., 1., 0., 0., 1., 0.,\n",
      "        0., 0., 0., 1., 1., 0., 0., 1., 0., 1., 1., 0., 1., 0., 1., 0., 0., 0.,\n",
      "        0., 1., 0., 0., 0., 1., 1., 0., 0., 1., 0., 0., 0., 0., 0., 0., 1., 0.,\n",
      "        0., 0., 0., 0., 1., 1., 0., 0., 0., 0.])\n"
     ]
    }
   ],
   "source": [
    "train_x = torch.tensor(data['x'].values, dtype=torch.float32)\n",
    "train_y = torch.tensor(data['y_class'].values, dtype=torch.float32)\n",
    "\n",
    "print(train_x)\n",
    "print(train_y)"
   ]
  },
  {
   "attachments": {},
   "cell_type": "markdown",
   "metadata": {},
   "source": [
    "We now implement a simple perceptron model. All models in `pytorch` are derived from the base class `torch.nn.Module`. Such a module can consist of multiple \"layers\" of neural networks and we can control how those layers are interconnected and what activation functions are used as data pass between the layers. By implementing the `forward` function, we control what happens as the data (i.e. our features) are passed through the (possibly multiple) layers of our model.\n",
    "\n",
    "For our example with linearly separable classes, a single layer that consists of a single neuron with one input and one output is sufficient. In the forward function, we apply a linear transformation $f(\\vec{x}) = \\beta_0 + \\beta_1 x_1 + \\ldots$ of our input feature. We further \"forward\" a value that is transformed by a sigmoid \"activation\" function, i.e. we perform a logistic transformation of the linear combination of features which defines the output of our \"network\", i.e. the class probability.\n",
    "\n",
    "Conveniently, we do not need to implement the linear transformation of the feature(s) (based on the slope and the bias parameter) ourselves. We can simply use the `torch.nn.Linear` class, which implements a single layer perceptron model and automatically includes the necessary weight parameters (i.e. the bias and slope parameters for all perceptrons and input dimensions). With this, implementing a perceptron in `pytorch` is as simple as:"
   ]
  },
  {
   "cell_type": "code",
   "execution_count": 6,
   "metadata": {},
   "outputs": [],
   "source": [
    "class Perceptron(torch.nn.Module):\n",
    "    \n",
    "    def __init__(self):\n",
    "        super(Perceptron, self).__init__()\n",
    "        self.linear = torch.nn.Linear(in_features=1, out_features=1, bias=True)\n",
    "        \n",
    "    def forward(self, x):\n",
    "        # we use a logistic transformation to output class probabilities\n",
    "        # Note that torch.sigmoid is an alias for this function \n",
    "        return torch.special.expit(self.linear(x))"
   ]
  },
  {
   "attachments": {},
   "cell_type": "markdown",
   "metadata": {},
   "source": [
    "We can now initialize our model, choose a loss function that is used to optimize the model parameters, and pick one of the optimization algorithms implemented in `pytorch`. To understand how these optimization algorithms work, we need to explain some basics of the `autograd` module in `pytorch`. In our previous notebook, we have implemented a Gradient Descent optimization ourselves. For this, we used the gradients (calculated based on partial derivatives) that we calculated in the lecture based on the L2 loss function. We can only use those gradients for the special case of a model using a single perceptron performing a binary classification based on the logistic activation function and the L2 loss function.\n",
    "\n",
    "However, in `pytorch` we can use arbitrarily complex, multi-layer models with various activation functions, loss functions, etc. How can we compute the gradients that we need to iteratively update the model parameters during the learning step? For this, we can use the `autograd` feature of `pytorch`. A detailed explanation of the fundamental of `autograd` is available [here](https://pytorch.org/tutorials/beginner/introyt/autogradyt_tutorial.html). Simply speaking, thanks to the `autograd` feature all tensors trace the history of all computations, which allows to efficiently and automatically compute the local gradients that are needed by optimization algorithms. In each step of the optimization algorithm, these gradients then allow to nudge model parameters in the right direction. A simple example that illustrates the automatic gradient computation can be found [here](https://pytorch.org/tutorials/beginner/introyt/autogradyt_tutorial.html).\n",
    "\n",
    "We can try this as follows: We create a tensor, specifying that we want `torch` to keep track of all operations that are performed on the tensor."
   ]
  },
  {
   "cell_type": "code",
   "execution_count": 7,
   "metadata": {},
   "outputs": [
    {
     "name": "stdout",
     "output_type": "stream",
     "text": [
      "[42.]\n",
      "None\n",
      "None\n"
     ]
    }
   ],
   "source": [
    "x = torch.tensor([42.0], requires_grad=True)\n",
    "print(x.detach().numpy())\n",
    "print(x.grad)\n",
    "print(x.grad_fn)"
   ]
  },
  {
   "attachments": {},
   "cell_type": "markdown",
   "metadata": {},
   "source": [
    "We can now compute a new tensor `y` by adding a value to the elements of tensor `x`. We find that this lead to the assignment of the `grad_fn` property, which stores that tensor `y` was obtained by adding a value to tensor `x`."
   ]
  },
  {
   "cell_type": "code",
   "execution_count": 8,
   "metadata": {},
   "outputs": [
    {
     "name": "stdout",
     "output_type": "stream",
     "text": [
      "[42.5]\n",
      "None\n",
      "<AddBackward0 object at 0x7f1e093bfa90>\n"
     ]
    },
    {
     "name": "stderr",
     "output_type": "stream",
     "text": [
      "/tmp/ipykernel_1003/3018939081.py:3: UserWarning: The .grad attribute of a Tensor that is not a leaf Tensor is being accessed. Its .grad attribute won't be populated during autograd.backward(). If you indeed want the .grad field to be populated for a non-leaf Tensor, use .retain_grad() on the non-leaf Tensor. If you access the non-leaf Tensor by mistake, make sure you access the leaf Tensor instead. See github.com/pytorch/pytorch/pull/30531 for more informations. (Triggered internally at aten/src/ATen/core/TensorBody.h:489.)\n",
      "  print(y.grad)\n"
     ]
    }
   ],
   "source": [
    "y = x + 0.5\n",
    "print(y.detach().numpy())s\n",
    "print(y.grad)\n",
    "print(y.grad_fn)"
   ]
  },
  {
   "attachments": {},
   "cell_type": "markdown",
   "metadata": {},
   "source": [
    "If we assign a new tensor `z` my multiplying a value to tensor `y`, the `grad_fn` property stores that tensor `z` was obtained by multiplying a value to tensor `y`."
   ]
  },
  {
   "cell_type": "code",
   "execution_count": 9,
   "metadata": {},
   "outputs": [
    {
     "name": "stdout",
     "output_type": "stream",
     "text": [
      "[4.25]\n",
      "<MulBackward0 object at 0x7f1dee555930>\n"
     ]
    }
   ],
   "source": [
    "z = y * 0.1\n",
    "print(z.detach().numpy())\n",
    "print(z.grad_fn)"
   ]
  },
  {
   "attachments": {},
   "cell_type": "markdown",
   "metadata": {},
   "source": [
    "You see that by this calculations we have created a computation graph of tensors connected via the `grad_fn` properties. The output tensor `z` points to `y` and `y` points to `x`, which is our input tensor. We can call the `backward()` function of the output tensor to compute the gradients, i.e. the partial derivative of the input tensor. "
   ]
  },
  {
   "cell_type": "code",
   "execution_count": 10,
   "metadata": {},
   "outputs": [
    {
     "name": "stdout",
     "output_type": "stream",
     "text": [
      "gradient of x = tensor([0.1000])\n"
     ]
    }
   ],
   "source": [
    "z.backward()\n",
    "print('gradient of x =', x.grad)"
   ]
  },
  {
   "attachments": {},
   "cell_type": "markdown",
   "metadata": {},
   "source": [
    "This gradient can be understood if we consider how the output $z=f(x)$ is calculated based on the input $x$. We have implemented the following expression:\n",
    "\n",
    "$ f(x) = 0.1*(x+0.5) = 0.1 x + 0.05$\n",
    "\n",
    "The derivative of this function (i.e. the gradient w.r.t x) is \n",
    "\n",
    "$ f'(x) = 0.1$ \n",
    "\n",
    "and thus $f'(42) = 0.1$\n",
    "\n",
    "For the following example, for $x = 42$ we expect a gradient value of $171$:\n",
    "\n",
    "$ f(x) = 2 \\cdot x^2 + 3 \\cdot x + 5 $\n",
    "\n",
    "$ f'(x) = 4 \\cdot x + 3 $\n",
    "\n",
    "$ f'(42) = 4 \\cdot 42 + 3 = 171 $"
   ]
  },
  {
   "cell_type": "code",
   "execution_count": 11,
   "metadata": {},
   "outputs": [
    {
     "name": "stdout",
     "output_type": "stream",
     "text": [
      "[171.]\n"
     ]
    }
   ],
   "source": [
    "x = torch.tensor([42.0], requires_grad=True)\n",
    "y = 2 * x**2 + 3*x + 5\n",
    "\n",
    "y.backward()\n",
    "print(x.grad.detach().numpy())"
   ]
  },
  {
   "attachments": {},
   "cell_type": "markdown",
   "metadata": {},
   "source": [
    "\n",
    "\n",
    "Using this convenient `autograd` feature, in `pytorch` neural networks can be trained based on backpropagation, i.e. starting from the output that we wish to minimize (i.e. the loss function) we run the backpropagation and obtain gradients for our model parameters, which can be used in the iterative optimization. This works as follows:\n",
    "\n",
    "1.) Using the current parameter values, we calculate a **loss function**, i.e. a function that quantifies the difference between the target variable (i.e. our ground truth in the training data) and the current output of our model. Our goal is to minimize this loss function for our training data.\n",
    "\n",
    "2.) We propagate the loss function backwards through our model, i.e. starting from the output we pass the loss backwards to the inputs. In the process, we calculate the gradients of all model parameters, which will be used in the optimization step. \n",
    "\n",
    "For a single-layer perceptron, the **backpropagation** algorithm corresponds to the [delta rule](https://en.wikipedia.org/wiki/Delta_rule), which yields the partial derivatives (i.e. gradient) for a perceptron with activation function \\sigma(x), i.e.\n",
    "\n",
    "$ \\Delta \\beta_{j}= \\eta (\\hat{y}_{j}-y_{j})\\sigma'(h_{j})x_{i} $\n",
    "\n",
    "where $\\alpha$ is the learning rate $y_i$ is the model output and $\\hat{y}_i$ is the target variable, i.e. the ground truth classes.\n",
    "\n",
    "3.) We finally perform the actual optimization step, i.e. using the learning rate, we nudge the model parameters in the direction of the gradient.\n",
    "\n",
    "For the sigmoid activation function $\\sigma(x) = \\frac{1}{e+e^{-x}}$ we obtain the gradients\n",
    "\n",
    "$ \\Delta \\beta_{j}=  (\\hat{y}_{s}-y_{s})y_s(1-y_s)x_{sj} $\n",
    "\n",
    "We are now ready to train our first `pytorch` model. We follow the same approach as before, i.e. we create the model, set the hyperparameters and initialize an optimizer. Here we use the implementation of stochastic gradient descent included in `pytorch`. This actually follows the same approach as our implementation in the previous notebooks, however here the gradients are (automatically) computed such that we minimize a loss function (rather than maximizing the likelihood function).\n",
    "\n",
    "The name \"stochastic\" gradient descent refers to the fact that - rather than calculating the gradient for the whole data set it is estimated based on a small sample (i.e. for the batch size used in each iteration)."
   ]
  },
  {
   "cell_type": "code",
   "execution_count": 12,
   "metadata": {},
   "outputs": [
    {
     "name": "stdout",
     "output_type": "stream",
     "text": [
      "tensor([0.5228], grad_fn=<SigmoidBackward0>)\n",
      "tensor(0.2277, grad_fn=<MseLossBackward0>)\n",
      "bias gradient = tensor([-0.2381])\n",
      "weight gradients = tensor([[-0.2280]])\n"
     ]
    }
   ],
   "source": [
    "# create perceptron and configure learning process\n",
    "model = Perceptron()\n",
    "\n",
    "# we use the mean absolute diff between target and prediction as loss function\n",
    "loss_func = torch.nn.MSELoss()\n",
    "\n",
    "# input and label \n",
    "x = train_x[0].reshape(1,)\n",
    "label = train_y[0].reshape(1,)\n",
    "\n",
    "# compute output of perceptron (incl. logistic activation function )\n",
    "y = model(x)\n",
    "print(y)\n",
    "\n",
    "# compute loss function \n",
    "loss = loss_func(y, label)\n",
    "print(loss)\n",
    "\n",
    "loss.backward()\n",
    "\n",
    "# output computed parameter gradients\n",
    "print('bias gradient =', model.linear.bias.grad)\n",
    "print('weight gradients =', model.linear.weight.grad)"
   ]
  },
  {
   "attachments": {},
   "cell_type": "markdown",
   "metadata": {},
   "source": [
    "We now compare this to a analytical derivation of the gradient, which we can calculate as (see exercise sheet):\n",
    "\n",
    "$\\nabla L = (\\frac{\\partial L}{\\partial \\beta_0}, \\frac{\\partial L}{\\partial \\beta_1}) = \\left(2 \\cdot (\\hat{y}_i-y_i)\\cdot y_i\\cdot (1-y_i), 2 \\cdot (\\hat{y}_i-y_i)\\cdot y_i\\cdot (1-y_i)\\cdot x_i \\right)$"
   ]
  },
  {
   "cell_type": "code",
   "execution_count": 13,
   "metadata": {},
   "outputs": [
    {
     "name": "stdout",
     "output_type": "stream",
     "text": [
      "-0.23810232961569716\n",
      "-0.22800671928958033\n"
     ]
    }
   ],
   "source": [
    "y_val = y.detach().numpy()[0]\n",
    "x_val = x.detach().numpy()[0]\n",
    "label_val = label.detach().numpy()[0]\n",
    "\n",
    "beta_0_grad = -2*(label_val - y_val)*y_val*(1-y_val)\n",
    "print(beta_0_grad)\n",
    "\n",
    "beta_1_grad = -2*(label_val - y_val)*y_val*(1-y_val)*x_val\n",
    "print(beta_1_grad)"
   ]
  },
  {
   "cell_type": "code",
   "execution_count": 14,
   "metadata": {},
   "outputs": [],
   "source": [
    "# the number of epochs gives the number of times we run the \n",
    "# optimization algorithm on all examples in our training set\n",
    "epochs = 500\n",
    "\n",
    "# the learning rate controls how much parameters are \n",
    "# changed (based on the gradients) for each training sample\n",
    "learning_rate = 0.1\n",
    "\n",
    "optimizer = torch.optim.SGD(model.parameters(), lr=learning_rate)"
   ]
  },
  {
   "cell_type": "code",
   "execution_count": 15,
   "metadata": {},
   "outputs": [],
   "source": [
    "# Set network to training mode\n",
    "model.train()\n",
    "\n",
    "errors = []\n",
    "\n",
    "for epoch in range(epochs):\n",
    "\n",
    "    error = 0 \n",
    "    for i in range(len(train_x)):\n",
    "        x = train_x[i].reshape(1,)\n",
    "        label = train_y[i].reshape(1,)\n",
    "\n",
    "        # set gradients to zero\n",
    "        optimizer.zero_grad()\n",
    "\n",
    "        # compute output and loss function\n",
    "        output = model(x)\n",
    "        loss = loss_func(output, label)\n",
    "\n",
    "        # apply backpropagation to output tensor, which \n",
    "        # automatically computes gradients for model parameters\n",
    "        loss.backward()\n",
    "\n",
    "        # update model parameters based on computed gradients\n",
    "        optimizer.step()\n",
    "\n",
    "        error += loss\n",
    "\n",
    "    errors.append(error.detach().numpy())\n",
    "\n",
    "plt.plot(range(epochs), errors)\n",
    "\n",
    "print('bias =', model.linear.bias.data)\n",
    "print('weight =', model.linear.weight.data)"
   ]
  },
  {
   "attachments": {},
   "cell_type": "markdown",
   "metadata": {},
   "source": [
    "We see that the loss function decreases as the SGD optimizer moves the model parameters along the automatically calculated gradients. Note that those gradients are calculated when we call the `backward` function of the tensor `loss` (the output we wish to minimize). Using `autograd`, this will calculate the gradients of the model parameters. Note that we have to reset the previously calculated gradients for each iteration of the algorithm, i.e. we use gradients calculated for each data point separately."
   ]
  },
  {
   "cell_type": "code",
   "execution_count": 16,
   "metadata": {},
   "outputs": [
    {
     "name": "stdout",
     "output_type": "stream",
     "text": [
      "[array([13.955381], dtype=float32), -2.8154037]\n"
     ]
    }
   ],
   "source": [
    "params = [x.detach().numpy()[0] for x in model.parameters()]\n",
    "print(params)"
   ]
  },
  {
   "cell_type": "code",
   "execution_count": 17,
   "metadata": {},
   "outputs": [],
   "source": [
    "def decision(output):\n",
    "    if output>0.5:\n",
    "        return 1\n",
    "    else:\n",
    "        return 0"
   ]
  },
  {
   "cell_type": "code",
   "execution_count": 18,
   "metadata": {},
   "outputs": [
    {
     "name": "stdout",
     "output_type": "stream",
     "text": [
      "           x  y_class  prediction\n",
      "0   0.110956        0           0\n",
      "1   0.638992        1           1\n",
      "2  -0.230952        0           0\n",
      "3   0.413732        1           1\n",
      "4  -0.768777        0           0\n",
      "..       ...      ...         ...\n",
      "95  0.952566        1           1\n",
      "96 -0.564877        0           0\n",
      "97 -0.563177        0           0\n",
      "98 -0.146379        0           0\n",
      "99 -0.453292        0           0\n",
      "\n",
      "[100 rows x 3 columns]\n"
     ]
    },
    {
     "data": {
      "text/plain": [
       "<AxesSubplot:xlabel='x', ylabel='y_class'>"
      ]
     },
     "execution_count": 18,
     "metadata": {},
     "output_type": "execute_result"
    },
    {
     "data": {
      "image/png": "[encoded data removed]",
      "text/plain": [
       "<Figure size 571.361x500 with 1 Axes>"
      ]
     },
     "metadata": {},
     "output_type": "display_data"
    }
   ],
   "source": [
    "model.eval()\n",
    "\n",
    "xx = data['x'].values\n",
    "data['prediction'] = [ decision(model.forward(torch.tensor([x], dtype=torch.float32)).detach().numpy()[0]) for x in xx]\n",
    "print(data)\n",
    "sns.relplot(x='x', y=\"y_class\", hue='prediction', data=data, alpha=0.5)\n",
    "sns.lineplot(x=xx, y=expit(params[1] + xx * params[0][0]).ravel(), color='red', linewidth=1)"
   ]
  }
 ],
 "metadata": {
  "kernelspec": {
   "display_name": "Python 3.9.7 ('base')",
   "language": "python",
   "name": "python3"
  },
  "language_info": {
   "codemirror_mode": {
    "name": "ipython",
    "version": 3
   },
   "file_extension": ".py",
   "mimetype": "text/x-python",
   "name": "python",
   "nbconvert_exporter": "python",
   "pygments_lexer": "ipython3",
   "version": "3.10.13"
  },
  "orig_nbformat": 4,
  "vscode": {
   "interpreter": {
    "hash": "ad2bdc8ecc057115af97d19610ffacc2b4e99fae6737bb82f5d7fb13d2f2c186"
   }
  }
 },
 "nbformat": 4,
 "nbformat_minor": 2
}
