{
 "cells": [
  {
   "cell_type": "markdown",
   "metadata": {
    "pycharm": {
     "name": "#%% md\n"
    }
   },
   "source": [
    "## 1. Molloy-Reed model"
   ]
  },
  {
   "cell_type": "markdown",
   "metadata": {
    "pycharm": {
     "name": "#%% md\n"
    }
   },
   "source": [
    "### (a) Given a random microstate generated based on the configuration model with degree distribution P(k), consider a random a random node v and followe a edge to a neighbour v of node v. What is the probability that node w has degree k?"
   ]
  },
  {
   "cell_type": "markdown",
   "metadata": {
    "pycharm": {
     "name": "#%% md\n"
    }
   },
   "source": [
    "Given random node v with degree distribution p(k) and his randomly chosen neighbour. And wee need to find the probability that the chosen node also has degree k?\n",
    "\n",
    "First of all the probability is not p(k), because for the k=0 there will be npo neighbour to choose. So, we have k possible nodes which start from node v and we can choose every stub from 2m possible stubs in the networks excluding just one starting. So the probability of choosing the node is\n",
    "\n",
    "$$k / (2m - 1)$$\n",
    "\n",
    "For the big m values we can ignore the **-1** and define it just as\n",
    "\n",
    "$$k / 2m$$\n",
    "\n",
    "The p(k) degree distribution means fraction number of nodes with k degree to the whole number of nodes. It means the the number of n with degree k is\n",
    "\n",
    "$$n * p(k)$$\n",
    "\n",
    "So the probability that the degree of the neighbour w will be k is:\n",
    "\n",
    "$$(k / 2m) * n * p(k)$$\n",
    "\n",
    "As you know for the model G(n, p)\n",
    "\n",
    "$$<k> = 2m / n$$\n",
    "\n",
    "So \n",
    "\n",
    "$$(k / 2m) * n * p(k) = k * p(k) / <k>$$"
   ]
  },
  {
   "cell_type": "markdown",
   "metadata": {
    "pycharm": {
     "name": "#%% md\n"
    }
   },
   "source": [
    "### (b) Using the expression obtained above compute the expected degree of the neighbours of a random node v. What do we see when calculate the difference between the expected degree of a random node and the expected degree of a random neighbout of such a node?"
   ]
  },
  {
   "cell_type": "markdown",
   "metadata": {
    "pycharm": {
     "name": "#%% md\n"
    }
   },
   "source": [
    "The mean degree in the G(n, p) model is calculated by the formula: \n",
    "\n",
    "$$<k> = \\sum \\limits _{k} k_{i} * p(k_{i})$$\n",
    "\n",
    "And now we have the same situation but the degree distribution is calculated by formula:\n",
    "\n",
    "$$k * p(k) / <k>$$\n",
    "\n",
    "So the mean degree of the neighbour is: \n",
    "\n",
    "$$\\sum \\limits _{k} (ki * p(k) / <k>) = <k^{2}> / <k> $$\n",
    "\n",
    "And now let`s compare this two values:\n",
    "\n",
    "$$<k^{2}> / <k> - <k>^{2} / <k> = (<k^{2}> - <k>^{2}) / <k> = \\sigma^{2}_{k} / <k>$$\n",
    "\n",
    "As a result we got the square of the variance which is bigger than 0 and <k> is also bigger than 0, so the \n",
    "\n",
    "$$(\\sigma^{2})_{k} / <k>$$\n",
    "\n",
    "bigger than 0 and the mean degree of the neighbour is bigger than mean degree of the random node. It is called **Friendship paradox**"
   ]
  },
  {
   "cell_type": "markdown",
   "metadata": {
    "pycharm": {
     "name": "#%% md\n"
    }
   },
   "source": [
    "### (c) Often, rather than the degree of a node at the end of an edge, we are interested in the number of edges attached to the node other than the one we arrived through. This number is called the excess degree of a node. What is the probability that the node at which you arrive has excess degree k?"
   ]
  },
  {
   "cell_type": "markdown",
   "metadata": {
    "pycharm": {
     "name": "#%% md\n"
    }
   },
   "source": [
    "As we know the mean degree of the neighbout should be at least 1, because we came there along the link to this node. So the access degree distribution will be neighbout degree distribution minus 1. Let`s decide the k - 1 -> k and k -> k + 1. So the degree distribution is:\n",
    "\n",
    "$$q_{k} = (k + 1) * p_{k} / <k>$$"
   ]
  },
  {
   "cell_type": "markdown",
   "metadata": {
    "pycharm": {
     "name": "#%% md\n"
    }
   },
   "source": [
    "### (d) Consider a Molloy-Reed model with no self-loops and where we allowe for the craetion of multiple edges between a single pair of nodes. What is the probability that two nodes v and w with degrees dv and dw are connected?"
   ]
  },
  {
   "cell_type": "markdown",
   "metadata": {
    "pycharm": {
     "name": "#%% md\n"
    }
   },
   "source": [
    "So we start from the node we and need to calculate probability of the link between these two nodes. The v node has dv stubs and the w node has dw stubs. There are 2m stubs in the graph exclusing 1 stub already busy in the v node. So the probability that node in the same time will choose one stub from v and one stub from w nodes is:\n",
    "\n",
    "$$p_{v,w} = d_{v} * d_{w} / (2m - 1)$$\n",
    "\n",
    "But for the big m we can ignore -1 and the formula is:\n",
    "\n",
    "$$p_{v,w} = d_{v} * d_{w} / 2m$$"
   ]
  },
  {
   "cell_type": "markdown",
   "metadata": {
    "pycharm": {
     "name": "#%% md\n"
    }
   },
   "source": [
    "## 2. Inference and Statistical Ensembles "
   ]
  },
  {
   "cell_type": "markdown",
   "metadata": {
    "pycharm": {
     "name": "#%% md\n"
    }
   },
   "source": [
    "### (a) Consider the G(n, p) model for undirected random graphs with no self-lops. Show that for a given network Ge with n nodes and m links, a maximum likelihood estimate of parameter is given as\n",
    "$$\\hat p = m / (\\binom{n}{2})$$"
   ]
  },
  {
   "cell_type": "code",
   "execution_count": 7,
   "metadata": {
    "collapsed": false,
    "pycharm": {
     "name": "#%%\n"
    }
   },
   "outputs": [],
   "source": [
    "from typing import Set\n",
    "from tqdm import tqdm\n",
    "from itertools import product\n",
    "from collections import defaultdict\n",
    "\n",
    "import scipy as sp\n",
    "import numpy as np\n",
    "import pandas as pd\n",
    "import pathpy as pp\n",
    "import seaborn as sns\n",
    "import plotly.express as px\n",
    "from scipy.spatial import KDTree\n",
    "from matplotlib import pyplot as plt\n",
    "from sklearn.datasets import make_moons\n",
    "\n",
    "plt.style.use('default')\n",
    "sns.set_style(\"whitegrid\")"
   ]
  },
  {
   "cell_type": "code",
   "execution_count": 18,
   "metadata": {
    "collapsed": false,
    "pycharm": {
     "name": "#%%\n"
    }
   },
   "outputs": [],
   "source": [
    "n_range = np.arange(20, 120, 20)\n",
    "p_range = np.arange(0.1, 1.0, 0.1)"
   ]
  },
  {
   "cell_type": "code",
   "execution_count": 23,
   "metadata": {},
   "outputs": [
    {
     "name": "stderr",
     "output_type": "stream",
     "text": [
      "45it [00:20,  2.18it/s]\n"
     ]
    }
   ],
   "source": [
    "measuremenst = []\n",
    "\n",
    "for n, p in tqdm(product(n_range, p_range)):\n",
    "    network = pp.generators.ER_np(n=n, p=p, directed=False)\n",
    "    m = len(network.edges)\n",
    "    calculated_p = m / sp.special.binom(n, 2)\n",
    "    measuremenst.append((n, m, p, calculated_p, np.abs(calculated_p - p)))"
   ]
  },
  {
   "cell_type": "code",
   "execution_count": 24,
   "metadata": {
    "collapsed": false,
    "pycharm": {
     "name": "#%%\n"
    }
   },
   "outputs": [
    {
     "data": {
      "text/html": [
       "<div>\n",
       "<style scoped>\n",
       "    .dataframe tbody tr th:only-of-type {\n",
       "        vertical-align: middle;\n",
       "    }\n",
       "\n",
       "    .dataframe tbody tr th {\n",
       "        vertical-align: top;\n",
       "    }\n",
       "\n",
       "    .dataframe thead th {\n",
       "        text-align: right;\n",
       "    }\n",
       "</style>\n",
       "<table border=\"1\" class=\"dataframe\">\n",
       "  <thead>\n",
       "    <tr style=\"text-align: right;\">\n",
       "      <th></th>\n",
       "      <th>n nodes</th>\n",
       "      <th>m links</th>\n",
       "      <th>p</th>\n",
       "      <th>p^</th>\n",
       "      <th>p delta</th>\n",
       "    </tr>\n",
       "  </thead>\n",
       "  <tbody>\n",
       "    <tr>\n",
       "      <th>0</th>\n",
       "      <td>20</td>\n",
       "      <td>10</td>\n",
       "      <td>0.1</td>\n",
       "      <td>0.052632</td>\n",
       "      <td>0.047368</td>\n",
       "    </tr>\n",
       "    <tr>\n",
       "      <th>1</th>\n",
       "      <td>20</td>\n",
       "      <td>31</td>\n",
       "      <td>0.2</td>\n",
       "      <td>0.163158</td>\n",
       "      <td>0.036842</td>\n",
       "    </tr>\n",
       "    <tr>\n",
       "      <th>2</th>\n",
       "      <td>20</td>\n",
       "      <td>56</td>\n",
       "      <td>0.3</td>\n",
       "      <td>0.294737</td>\n",
       "      <td>0.005263</td>\n",
       "    </tr>\n",
       "    <tr>\n",
       "      <th>3</th>\n",
       "      <td>20</td>\n",
       "      <td>76</td>\n",
       "      <td>0.4</td>\n",
       "      <td>0.400000</td>\n",
       "      <td>0.000000</td>\n",
       "    </tr>\n",
       "    <tr>\n",
       "      <th>4</th>\n",
       "      <td>20</td>\n",
       "      <td>91</td>\n",
       "      <td>0.5</td>\n",
       "      <td>0.478947</td>\n",
       "      <td>0.021053</td>\n",
       "    </tr>\n",
       "    <tr>\n",
       "      <th>5</th>\n",
       "      <td>20</td>\n",
       "      <td>111</td>\n",
       "      <td>0.6</td>\n",
       "      <td>0.584211</td>\n",
       "      <td>0.015789</td>\n",
       "    </tr>\n",
       "    <tr>\n",
       "      <th>6</th>\n",
       "      <td>20</td>\n",
       "      <td>137</td>\n",
       "      <td>0.7</td>\n",
       "      <td>0.721053</td>\n",
       "      <td>0.021053</td>\n",
       "    </tr>\n",
       "    <tr>\n",
       "      <th>7</th>\n",
       "      <td>20</td>\n",
       "      <td>149</td>\n",
       "      <td>0.8</td>\n",
       "      <td>0.784211</td>\n",
       "      <td>0.015789</td>\n",
       "    </tr>\n",
       "    <tr>\n",
       "      <th>8</th>\n",
       "      <td>20</td>\n",
       "      <td>169</td>\n",
       "      <td>0.9</td>\n",
       "      <td>0.889474</td>\n",
       "      <td>0.010526</td>\n",
       "    </tr>\n",
       "    <tr>\n",
       "      <th>9</th>\n",
       "      <td>40</td>\n",
       "      <td>90</td>\n",
       "      <td>0.1</td>\n",
       "      <td>0.115385</td>\n",
       "      <td>0.015385</td>\n",
       "    </tr>\n",
       "    <tr>\n",
       "      <th>10</th>\n",
       "      <td>40</td>\n",
       "      <td>150</td>\n",
       "      <td>0.2</td>\n",
       "      <td>0.192308</td>\n",
       "      <td>0.007692</td>\n",
       "    </tr>\n",
       "    <tr>\n",
       "      <th>11</th>\n",
       "      <td>40</td>\n",
       "      <td>237</td>\n",
       "      <td>0.3</td>\n",
       "      <td>0.303846</td>\n",
       "      <td>0.003846</td>\n",
       "    </tr>\n",
       "    <tr>\n",
       "      <th>12</th>\n",
       "      <td>40</td>\n",
       "      <td>316</td>\n",
       "      <td>0.4</td>\n",
       "      <td>0.405128</td>\n",
       "      <td>0.005128</td>\n",
       "    </tr>\n",
       "    <tr>\n",
       "      <th>13</th>\n",
       "      <td>40</td>\n",
       "      <td>407</td>\n",
       "      <td>0.5</td>\n",
       "      <td>0.521795</td>\n",
       "      <td>0.021795</td>\n",
       "    </tr>\n",
       "    <tr>\n",
       "      <th>14</th>\n",
       "      <td>40</td>\n",
       "      <td>463</td>\n",
       "      <td>0.6</td>\n",
       "      <td>0.593590</td>\n",
       "      <td>0.006410</td>\n",
       "    </tr>\n",
       "    <tr>\n",
       "      <th>15</th>\n",
       "      <td>40</td>\n",
       "      <td>565</td>\n",
       "      <td>0.7</td>\n",
       "      <td>0.724359</td>\n",
       "      <td>0.024359</td>\n",
       "    </tr>\n",
       "    <tr>\n",
       "      <th>16</th>\n",
       "      <td>40</td>\n",
       "      <td>617</td>\n",
       "      <td>0.8</td>\n",
       "      <td>0.791026</td>\n",
       "      <td>0.008974</td>\n",
       "    </tr>\n",
       "    <tr>\n",
       "      <th>17</th>\n",
       "      <td>40</td>\n",
       "      <td>706</td>\n",
       "      <td>0.9</td>\n",
       "      <td>0.905128</td>\n",
       "      <td>0.005128</td>\n",
       "    </tr>\n",
       "    <tr>\n",
       "      <th>18</th>\n",
       "      <td>60</td>\n",
       "      <td>181</td>\n",
       "      <td>0.1</td>\n",
       "      <td>0.102260</td>\n",
       "      <td>0.002260</td>\n",
       "    </tr>\n",
       "    <tr>\n",
       "      <th>19</th>\n",
       "      <td>60</td>\n",
       "      <td>375</td>\n",
       "      <td>0.2</td>\n",
       "      <td>0.211864</td>\n",
       "      <td>0.011864</td>\n",
       "    </tr>\n",
       "    <tr>\n",
       "      <th>20</th>\n",
       "      <td>60</td>\n",
       "      <td>567</td>\n",
       "      <td>0.3</td>\n",
       "      <td>0.320339</td>\n",
       "      <td>0.020339</td>\n",
       "    </tr>\n",
       "    <tr>\n",
       "      <th>21</th>\n",
       "      <td>60</td>\n",
       "      <td>708</td>\n",
       "      <td>0.4</td>\n",
       "      <td>0.400000</td>\n",
       "      <td>0.000000</td>\n",
       "    </tr>\n",
       "    <tr>\n",
       "      <th>22</th>\n",
       "      <td>60</td>\n",
       "      <td>884</td>\n",
       "      <td>0.5</td>\n",
       "      <td>0.499435</td>\n",
       "      <td>0.000565</td>\n",
       "    </tr>\n",
       "    <tr>\n",
       "      <th>23</th>\n",
       "      <td>60</td>\n",
       "      <td>1108</td>\n",
       "      <td>0.6</td>\n",
       "      <td>0.625989</td>\n",
       "      <td>0.025989</td>\n",
       "    </tr>\n",
       "    <tr>\n",
       "      <th>24</th>\n",
       "      <td>60</td>\n",
       "      <td>1260</td>\n",
       "      <td>0.7</td>\n",
       "      <td>0.711864</td>\n",
       "      <td>0.011864</td>\n",
       "    </tr>\n",
       "    <tr>\n",
       "      <th>25</th>\n",
       "      <td>60</td>\n",
       "      <td>1389</td>\n",
       "      <td>0.8</td>\n",
       "      <td>0.784746</td>\n",
       "      <td>0.015254</td>\n",
       "    </tr>\n",
       "    <tr>\n",
       "      <th>26</th>\n",
       "      <td>60</td>\n",
       "      <td>1590</td>\n",
       "      <td>0.9</td>\n",
       "      <td>0.898305</td>\n",
       "      <td>0.001695</td>\n",
       "    </tr>\n",
       "    <tr>\n",
       "      <th>27</th>\n",
       "      <td>80</td>\n",
       "      <td>334</td>\n",
       "      <td>0.1</td>\n",
       "      <td>0.105696</td>\n",
       "      <td>0.005696</td>\n",
       "    </tr>\n",
       "    <tr>\n",
       "      <th>28</th>\n",
       "      <td>80</td>\n",
       "      <td>647</td>\n",
       "      <td>0.2</td>\n",
       "      <td>0.204747</td>\n",
       "      <td>0.004747</td>\n",
       "    </tr>\n",
       "    <tr>\n",
       "      <th>29</th>\n",
       "      <td>80</td>\n",
       "      <td>915</td>\n",
       "      <td>0.3</td>\n",
       "      <td>0.289557</td>\n",
       "      <td>0.010443</td>\n",
       "    </tr>\n",
       "    <tr>\n",
       "      <th>30</th>\n",
       "      <td>80</td>\n",
       "      <td>1271</td>\n",
       "      <td>0.4</td>\n",
       "      <td>0.402215</td>\n",
       "      <td>0.002215</td>\n",
       "    </tr>\n",
       "    <tr>\n",
       "      <th>31</th>\n",
       "      <td>80</td>\n",
       "      <td>1598</td>\n",
       "      <td>0.5</td>\n",
       "      <td>0.505696</td>\n",
       "      <td>0.005696</td>\n",
       "    </tr>\n",
       "    <tr>\n",
       "      <th>32</th>\n",
       "      <td>80</td>\n",
       "      <td>1877</td>\n",
       "      <td>0.6</td>\n",
       "      <td>0.593987</td>\n",
       "      <td>0.006013</td>\n",
       "    </tr>\n",
       "    <tr>\n",
       "      <th>33</th>\n",
       "      <td>80</td>\n",
       "      <td>2189</td>\n",
       "      <td>0.7</td>\n",
       "      <td>0.692722</td>\n",
       "      <td>0.007278</td>\n",
       "    </tr>\n",
       "    <tr>\n",
       "      <th>34</th>\n",
       "      <td>80</td>\n",
       "      <td>2521</td>\n",
       "      <td>0.8</td>\n",
       "      <td>0.797785</td>\n",
       "      <td>0.002215</td>\n",
       "    </tr>\n",
       "    <tr>\n",
       "      <th>35</th>\n",
       "      <td>80</td>\n",
       "      <td>2851</td>\n",
       "      <td>0.9</td>\n",
       "      <td>0.902215</td>\n",
       "      <td>0.002215</td>\n",
       "    </tr>\n",
       "    <tr>\n",
       "      <th>36</th>\n",
       "      <td>100</td>\n",
       "      <td>489</td>\n",
       "      <td>0.1</td>\n",
       "      <td>0.098788</td>\n",
       "      <td>0.001212</td>\n",
       "    </tr>\n",
       "    <tr>\n",
       "      <th>37</th>\n",
       "      <td>100</td>\n",
       "      <td>1011</td>\n",
       "      <td>0.2</td>\n",
       "      <td>0.204242</td>\n",
       "      <td>0.004242</td>\n",
       "    </tr>\n",
       "    <tr>\n",
       "      <th>38</th>\n",
       "      <td>100</td>\n",
       "      <td>1474</td>\n",
       "      <td>0.3</td>\n",
       "      <td>0.297778</td>\n",
       "      <td>0.002222</td>\n",
       "    </tr>\n",
       "    <tr>\n",
       "      <th>39</th>\n",
       "      <td>100</td>\n",
       "      <td>1953</td>\n",
       "      <td>0.4</td>\n",
       "      <td>0.394545</td>\n",
       "      <td>0.005455</td>\n",
       "    </tr>\n",
       "    <tr>\n",
       "      <th>40</th>\n",
       "      <td>100</td>\n",
       "      <td>2501</td>\n",
       "      <td>0.5</td>\n",
       "      <td>0.505253</td>\n",
       "      <td>0.005253</td>\n",
       "    </tr>\n",
       "    <tr>\n",
       "      <th>41</th>\n",
       "      <td>100</td>\n",
       "      <td>3010</td>\n",
       "      <td>0.6</td>\n",
       "      <td>0.608081</td>\n",
       "      <td>0.008081</td>\n",
       "    </tr>\n",
       "    <tr>\n",
       "      <th>42</th>\n",
       "      <td>100</td>\n",
       "      <td>3469</td>\n",
       "      <td>0.7</td>\n",
       "      <td>0.700808</td>\n",
       "      <td>0.000808</td>\n",
       "    </tr>\n",
       "    <tr>\n",
       "      <th>43</th>\n",
       "      <td>100</td>\n",
       "      <td>3956</td>\n",
       "      <td>0.8</td>\n",
       "      <td>0.799192</td>\n",
       "      <td>0.000808</td>\n",
       "    </tr>\n",
       "    <tr>\n",
       "      <th>44</th>\n",
       "      <td>100</td>\n",
       "      <td>4463</td>\n",
       "      <td>0.9</td>\n",
       "      <td>0.901616</td>\n",
       "      <td>0.001616</td>\n",
       "    </tr>\n",
       "  </tbody>\n",
       "</table>\n",
       "</div>"
      ],
      "text/plain": [
       "    n nodes  m links    p        p^   p delta\n",
       "0        20       10  0.1  0.052632  0.047368\n",
       "1        20       31  0.2  0.163158  0.036842\n",
       "2        20       56  0.3  0.294737  0.005263\n",
       "3        20       76  0.4  0.400000  0.000000\n",
       "4        20       91  0.5  0.478947  0.021053\n",
       "5        20      111  0.6  0.584211  0.015789\n",
       "6        20      137  0.7  0.721053  0.021053\n",
       "7        20      149  0.8  0.784211  0.015789\n",
       "8        20      169  0.9  0.889474  0.010526\n",
       "9        40       90  0.1  0.115385  0.015385\n",
       "10       40      150  0.2  0.192308  0.007692\n",
       "11       40      237  0.3  0.303846  0.003846\n",
       "12       40      316  0.4  0.405128  0.005128\n",
       "13       40      407  0.5  0.521795  0.021795\n",
       "14       40      463  0.6  0.593590  0.006410\n",
       "15       40      565  0.7  0.724359  0.024359\n",
       "16       40      617  0.8  0.791026  0.008974\n",
       "17       40      706  0.9  0.905128  0.005128\n",
       "18       60      181  0.1  0.102260  0.002260\n",
       "19       60      375  0.2  0.211864  0.011864\n",
       "20       60      567  0.3  0.320339  0.020339\n",
       "21       60      708  0.4  0.400000  0.000000\n",
       "22       60      884  0.5  0.499435  0.000565\n",
       "23       60     1108  0.6  0.625989  0.025989\n",
       "24       60     1260  0.7  0.711864  0.011864\n",
       "25       60     1389  0.8  0.784746  0.015254\n",
       "26       60     1590  0.9  0.898305  0.001695\n",
       "27       80      334  0.1  0.105696  0.005696\n",
       "28       80      647  0.2  0.204747  0.004747\n",
       "29       80      915  0.3  0.289557  0.010443\n",
       "30       80     1271  0.4  0.402215  0.002215\n",
       "31       80     1598  0.5  0.505696  0.005696\n",
       "32       80     1877  0.6  0.593987  0.006013\n",
       "33       80     2189  0.7  0.692722  0.007278\n",
       "34       80     2521  0.8  0.797785  0.002215\n",
       "35       80     2851  0.9  0.902215  0.002215\n",
       "36      100      489  0.1  0.098788  0.001212\n",
       "37      100     1011  0.2  0.204242  0.004242\n",
       "38      100     1474  0.3  0.297778  0.002222\n",
       "39      100     1953  0.4  0.394545  0.005455\n",
       "40      100     2501  0.5  0.505253  0.005253\n",
       "41      100     3010  0.6  0.608081  0.008081\n",
       "42      100     3469  0.7  0.700808  0.000808\n",
       "43      100     3956  0.8  0.799192  0.000808\n",
       "44      100     4463  0.9  0.901616  0.001616"
      ]
     },
     "execution_count": 24,
     "metadata": {},
     "output_type": "execute_result"
    }
   ],
   "source": [
    "df = pd.DataFrame.from_records(\n",
    "    measuremenst,\n",
    "    columns=[\"n nodes\", \"m links\", \"p\", \"p^\", \"p delta\"]\n",
    ")\n",
    "df"
   ]
  },
  {
   "cell_type": "markdown",
   "metadata": {},
   "source": [
    "As you see the delta between real p and calculated p is very small that is why the calculated value of p is close to predefined p value."
   ]
  },
  {
   "cell_type": "markdown",
   "metadata": {},
   "source": [
    "From anther facet lets consider the G(n, m) model with n nodes and m generated links. For the undirected graph with no self-lops the maximum number of possible links is $\\binom{n}{2}$. So the probability of the link is \n",
    "\n",
    "$$p = m / \\binom{n}{2}$$\n",
    "\n",
    "As you see the formula is identical to the formula in the task."
   ]
  },
  {
   "cell_type": "markdown",
   "metadata": {},
   "source": [
    "### (b) Consider the microstates G1 and G2 with n = 100 and m1 = 300 and m2 = 350 edges respectively. What is the probability of these microstate within:  "
   ]
  },
  {
   "cell_type": "markdown",
   "metadata": {},
   "source": [
    "#### - a G(n, p) model with n = 100 and p = 5 / 99? What is the expected number of edges in this model?"
   ]
  },
  {
   "cell_type": "markdown",
   "metadata": {},
   "source": [
    "The evaluated \n",
    "\n",
    "The expected number of links is\n",
    "$$<m> = p * (\\binom{n + 1}{2})$$\n",
    "\n",
    "ans by calculating it will be almost **255**\n",
    "\n",
    "So as you see the expected number of links is pretty lower than actual number of links of G1 and G2. It means that microstates G1 and G2 are not part of probabilistic space of the G(100, 5/99) macrostate that is why the probability of the G1 and G2 microstates is **0**."
   ]
  },
  {
   "cell_type": "markdown",
   "metadata": {},
   "source": [
    "#### - a G(n, m) model with n = 100 and m = 300?"
   ]
  },
  {
   "cell_type": "markdown",
   "metadata": {},
   "source": [
    "First, let`s define the formula for calculating probability of the microstate:\n",
    "\n",
    "$$P(G) = 1/ \\binom{\\binom{n + 1}{2}}{m}$$\n",
    "\n",
    "The G1 microstate is the part of the G(100, 300) macrostate so the probability is\n",
    "\n",
    "$$P(G) = 1/ \\binom{\\binom{101}{2}}{300}$$\n",
    "\n",
    "The G2 microstate is not the part of the G(100, 300) macrostate so the probability is **0**."
   ]
  }
 ],
 "metadata": {
  "interpreter": {
   "hash": "c2b2b72c904d5685e508ac1c269fcc0e24aa7421211b310f55c4b4b8564e2077"
  },
  "kernelspec": {
   "display_name": "Python 3.8.10 ('.venv': poetry)",
   "language": "python",
   "name": "python3"
  },
  "language_info": {
   "codemirror_mode": {
    "name": "ipython",
    "version": 3
   },
   "file_extension": ".py",
   "mimetype": "text/x-python",
   "name": "python",
   "nbconvert_exporter": "python",
   "pygments_lexer": "ipython3",
   "version": "3.8.10"
  },
  "orig_nbformat": 4
 },
 "nbformat": 4,
 "nbformat_minor": 2
}
